{
 "cells": [
  {
   "cell_type": "code",
   "execution_count": 3,
   "metadata": {},
   "outputs": [
    {
     "data": {
      "text/plain": [
       "<earthaccess.auth.Auth at 0x1ac85baffa0>"
      ]
     },
     "execution_count": 3,
     "metadata": {},
     "output_type": "execute_result"
    }
   ],
   "source": [
    "import os\n",
    "import shutil\n",
    "import earthaccess\n",
    "import Feature as F\n",
    "earthaccess.login()"
   ]
  },
  {
   "cell_type": "code",
   "execution_count": 4,
   "metadata": {},
   "outputs": [
    {
     "name": "stdout",
     "output_type": "stream",
     "text": [
      "处理ID= 1 的 extent...\n",
      "查询结果的总大小：121.90 GB\n",
      "文件数量为: 76\n",
      "G:\\ICE\\数据下载测试\\2019\\ATL03\\extent_1\\ATL03_20190101171428_00650207_006_02.h5\n",
      "文件 ATL03_20190101171428_00650207_006_02.h5 已存在，大小匹配，跳过下载。\n",
      "G:\\ICE\\数据下载测试\\2019\\ATL03\\extent_1\\ATL03_20190105170607_01260207_006_02.h5\n",
      "文件 ATL03_20190105170607_01260207_006_02.h5 已存在，大小匹配，跳过下载。\n",
      "G:\\ICE\\数据下载测试\\2019\\ATL03\\extent_1\\ATL03_20190123040127_03930201_006_02.h5\n",
      "文件 ATL03_20190123040127_03930201_006_02.h5 已存在，大小匹配，跳过下载。\n",
      "G:\\ICE\\数据下载测试\\2019\\ATL03\\extent_1\\ATL03_20190203154220_05680207_006_02.h5\n",
      "文件 ATL03_20190203154220_05680207_006_02.h5 已存在，大小匹配，跳过下载。\n",
      "G:\\ICE\\数据下载测试\\2019\\ATL03\\extent_1\\ATL03_20190221023734_08350201_006_02.h5\n",
      "正在下载 ATL03_20190221023734_08350201_006_02.h5 到 G:\\ICE\\数据下载测试\\2019\\ATL03\\extent_1...\n"
     ]
    },
    {
     "data": {
      "application/vnd.jupyter.widget-view+json": {
       "model_id": "d32c949ff88e4598a59f197254b20416",
       "version_major": 2,
       "version_minor": 0
      },
      "text/plain": [
       "QUEUEING TASKS | :   0%|          | 0/1 [00:00<?, ?it/s]"
      ]
     },
     "metadata": {},
     "output_type": "display_data"
    },
    {
     "data": {
      "application/vnd.jupyter.widget-view+json": {
       "model_id": "4533ec5e51e14727a1ed67d07e42713b",
       "version_major": 2,
       "version_minor": 0
      },
      "text/plain": [
       "PROCESSING TASKS | :   0%|          | 0/1 [00:00<?, ?it/s]"
      ]
     },
     "metadata": {},
     "output_type": "display_data"
    },
    {
     "data": {
      "application/vnd.jupyter.widget-view+json": {
       "model_id": "f33b2c716be64f7c84c5574db7db4f97",
       "version_major": 2,
       "version_minor": 0
      },
      "text/plain": [
       "COLLECTING RESULTS | :   0%|          | 0/1 [00:00<?, ?it/s]"
      ]
     },
     "metadata": {},
     "output_type": "display_data"
    },
    {
     "name": "stdout",
     "output_type": "stream",
     "text": [
      "G:\\ICE\\数据下载测试\\2019\\ATL03\\extent_1\\ATL03_20190225022916_08960201_006_02.h5\n",
      "文件 ATL03_20190225022916_08960201_006_02.h5 已存在，大小匹配，跳过下载。\n",
      "G:\\ICE\\数据下载测试\\2019\\ATL03\\extent_1\\ATL03_20190304141820_10100207_006_02.h5\n",
      "正在下载 ATL03_20190304141820_10100207_006_02.h5 到 G:\\ICE\\数据下载测试\\2019\\ATL03\\extent_1...\n"
     ]
    },
    {
     "data": {
      "application/vnd.jupyter.widget-view+json": {
       "model_id": "a18a16623cda47ffbb34495ea73ba039",
       "version_major": 2,
       "version_minor": 0
      },
      "text/plain": [
       "QUEUEING TASKS | :   0%|          | 0/1 [00:00<?, ?it/s]"
      ]
     },
     "metadata": {},
     "output_type": "display_data"
    },
    {
     "data": {
      "application/vnd.jupyter.widget-view+json": {
       "model_id": "7cf7dc3d2ce14163a69117f02ca54503",
       "version_major": 2,
       "version_minor": 0
      },
      "text/plain": [
       "PROCESSING TASKS | :   0%|          | 0/1 [00:00<?, ?it/s]"
      ]
     },
     "metadata": {},
     "output_type": "display_data"
    },
    {
     "data": {
      "application/vnd.jupyter.widget-view+json": {
       "model_id": "02604239a0bb4f8c8c6996edc9f41f4d",
       "version_major": 2,
       "version_minor": 0
      },
      "text/plain": [
       "COLLECTING RESULTS | :   0%|          | 0/1 [00:00<?, ?it/s]"
      ]
     },
     "metadata": {},
     "output_type": "display_data"
    },
    {
     "name": "stdout",
     "output_type": "stream",
     "text": [
      "G:\\ICE\\数据下载测试\\2019\\ATL03\\extent_1\\ATL03_20190308141000_10710207_006_02.h5\n",
      "文件 ATL03_20190308141000_10710207_006_02.h5 已存在，大小匹配，跳过下载。\n",
      "G:\\ICE\\数据下载测试\\2019\\ATL03\\extent_1\\ATL03_20190322011336_12770201_006_02.h5\n",
      "文件 ATL03_20190322011336_12770201_006_02.h5 已存在，大小匹配，跳过下载。\n",
      "G:\\ICE\\数据下载测试\\2019\\ATL03\\extent_1\\ATL03_20190326010515_13380201_006_02.h5\n",
      "文件 ATL03_20190326010515_13380201_006_02.h5 已存在，大小匹配，跳过下载。\n",
      "G:\\ICE\\数据下载测试\\2019\\ATL03\\extent_1\\ATL03_20190402125419_00650307_006_02.h5\n",
      "文件 ATL03_20190402125419_00650307_006_02.h5 已存在，大小匹配，跳过下载。\n",
      "G:\\ICE\\数据下载测试\\2019\\ATL03\\extent_1\\ATL03_20190406124559_01260307_006_02.h5\n",
      "文件 ATL03_20190406124559_01260307_006_02.h5 已存在，大小匹配，跳过下载。\n",
      "G:\\ICE\\数据下载测试\\2019\\ATL03\\extent_1\\ATL03_20190423234115_03930301_006_02.h5\n",
      "文件 ATL03_20190423234115_03930301_006_02.h5 已存在，大小匹配，跳过下载。\n",
      "G:\\ICE\\数据下载测试\\2019\\ATL03\\extent_1\\ATL03_20190505112157_05680307_006_02.h5\n",
      "文件 ATL03_20190505112157_05680307_006_02.h5 已存在，大小匹配，跳过下载。\n",
      "G:\\ICE\\数据下载测试\\2019\\ATL03\\extent_1\\ATL03_20190522221711_08350301_006_02.h5\n",
      "文件 ATL03_20190522221711_08350301_006_02.h5 已存在，大小匹配，跳过下载。\n",
      "G:\\ICE\\数据下载测试\\2019\\ATL03\\extent_1\\ATL03_20190526220852_08960301_006_02.h5\n",
      "文件 ATL03_20190526220852_08960301_006_02.h5 已存在，大小匹配，跳过下载。\n",
      "G:\\ICE\\数据下载测试\\2019\\ATL03\\extent_1\\ATL03_20190603095754_10100307_006_02.h5\n",
      "文件 ATL03_20190603095754_10100307_006_02.h5 已存在，大小匹配，跳过下载。\n",
      "G:\\ICE\\数据下载测试\\2019\\ATL03\\extent_1\\ATL03_20190607094934_10710307_006_02.h5\n",
      "文件 ATL03_20190607094934_10710307_006_02.h5 已存在，大小匹配，跳过下载。\n",
      "G:\\ICE\\数据下载测试\\2019\\ATL03\\extent_1\\ATL03_20190620205312_12770301_006_02.h5\n",
      "文件 ATL03_20190620205312_12770301_006_02.h5 已存在，大小匹配，跳过下载。\n",
      "G:\\ICE\\数据下载测试\\2019\\ATL03\\extent_1\\ATL03_20190624204452_13380301_006_02.h5\n",
      "文件 ATL03_20190624204452_13380301_006_02.h5 已存在，大小匹配，跳过下载。\n",
      "G:\\ICE\\数据下载测试\\2019\\ATL03\\extent_1\\ATL03_20190723192049_03930401_006_02.h5\n",
      "文件 ATL03_20190723192049_03930401_006_02.h5 已存在，大小匹配，跳过下载。\n",
      "G:\\ICE\\数据下载测试\\2019\\ATL03\\extent_1\\ATL03_20190804070138_05680407_006_02.h5\n",
      "文件 ATL03_20190804070138_05680407_006_02.h5 已存在，大小匹配，跳过下载。\n",
      "G:\\ICE\\数据下载测试\\2019\\ATL03\\extent_1\\ATL03_20190821175700_08350401_006_02.h5\n",
      "文件 ATL03_20190821175700_08350401_006_02.h5 已存在，大小匹配，跳过下载。\n",
      "G:\\ICE\\数据下载测试\\2019\\ATL03\\extent_1\\ATL03_20190902053744_10100407_006_02.h5\n",
      "文件 ATL03_20190902053744_10100407_006_02.h5 已存在，大小匹配，跳过下载。\n",
      "G:\\ICE\\数据下载测试\\2019\\ATL03\\extent_1\\ATL03_20190906052923_10710407_006_02.h5\n",
      "正在下载 ATL03_20190906052923_10710407_006_02.h5 到 G:\\ICE\\数据下载测试\\2019\\ATL03\\extent_1...\n"
     ]
    },
    {
     "data": {
      "application/vnd.jupyter.widget-view+json": {
       "model_id": "aa707f115e5f43f9a450d8fc6193fa07",
       "version_major": 2,
       "version_minor": 0
      },
      "text/plain": [
       "QUEUEING TASKS | :   0%|          | 0/1 [00:00<?, ?it/s]"
      ]
     },
     "metadata": {},
     "output_type": "display_data"
    },
    {
     "data": {
      "application/vnd.jupyter.widget-view+json": {
       "model_id": "781a1e2f5cf34c2e9fff0dccbf3f1c8c",
       "version_major": 2,
       "version_minor": 0
      },
      "text/plain": [
       "PROCESSING TASKS | :   0%|          | 0/1 [00:00<?, ?it/s]"
      ]
     },
     "metadata": {},
     "output_type": "display_data"
    },
    {
     "data": {
      "application/vnd.jupyter.widget-view+json": {
       "model_id": "8b0f47838df948a7aad3dfd231bdbfb5",
       "version_major": 2,
       "version_minor": 0
      },
      "text/plain": [
       "COLLECTING RESULTS | :   0%|          | 0/1 [00:00<?, ?it/s]"
      ]
     },
     "metadata": {},
     "output_type": "display_data"
    },
    {
     "name": "stdout",
     "output_type": "stream",
     "text": [
      "G:\\ICE\\数据下载测试\\2019\\ATL03\\extent_1\\ATL03_20190919163303_12770401_006_02.h5\n",
      "文件 ATL03_20190919163303_12770401_006_02.h5 已存在，大小匹配，跳过下载。\n",
      "G:\\ICE\\数据下载测试\\2019\\ATL03\\extent_1\\ATL03_20190923162446_13380401_006_02.h5\n",
      "文件 ATL03_20190923162446_13380401_006_02.h5 已存在，大小匹配，跳过下载。\n",
      "G:\\ICE\\数据下载测试\\2019\\ATL03\\extent_1\\ATL03_20191001041349_00650507_006_03.h5\n",
      "文件 ATL03_20191001041349_00650507_006_03.h5 已存在，大小匹配，跳过下载。\n",
      "G:\\ICE\\数据下载测试\\2019\\ATL03\\extent_1\\ATL03_20191005040530_01260507_006_02.h5\n",
      "文件 ATL03_20191005040530_01260507_006_02.h5 已存在，大小匹配，跳过下载。\n",
      "G:\\ICE\\数据下载测试\\2019\\ATL03\\extent_1\\ATL03_20191022150051_03930501_006_02.h5\n",
      "文件 ATL03_20191022150051_03930501_006_02.h5 已存在，大小匹配，跳过下载。\n",
      "G:\\ICE\\数据下载测试\\2019\\ATL03\\extent_1\\ATL03_20191103024132_05680507_006_01.h5\n",
      "文件 ATL03_20191103024132_05680507_006_01.h5 已存在，大小匹配，跳过下载。\n",
      "G:\\ICE\\数据下载测试\\2019\\ATL03\\extent_1\\ATL03_20191107023313_06290507_006_01.h5\n",
      "文件 ATL03_20191107023313_06290507_006_01.h5 已存在，大小匹配，跳过下载。\n",
      "G:\\ICE\\数据下载测试\\2019\\ATL03\\extent_1\\ATL03_20191120133652_08350501_006_01.h5\n",
      "文件 ATL03_20191120133652_08350501_006_01.h5 已存在，大小匹配，跳过下载。\n",
      "G:\\ICE\\数据下载测试\\2019\\ATL03\\extent_1\\ATL03_20191202011733_10100507_006_01.h5\n",
      "文件 ATL03_20191202011733_10100507_006_01.h5 已存在，大小匹配，跳过下载。\n",
      "G:\\ICE\\数据下载测试\\2019\\ATL03\\extent_1\\ATL03_20191206010913_10710507_006_01.h5\n",
      "文件 ATL03_20191206010913_10710507_006_01.h5 已存在，大小匹配，跳过下载。\n",
      "G:\\ICE\\数据下载测试\\2019\\ATL03\\extent_1\\ATL03_20191219121252_12770501_006_01.h5\n",
      "文件 ATL03_20191219121252_12770501_006_01.h5 已存在，大小匹配，跳过下载。\n",
      "G:\\ICE\\数据下载测试\\2019\\ATL03\\extent_1\\ATL03_20191223120433_13380501_006_01.h5\n",
      "文件 ATL03_20191223120433_13380501_006_01.h5 已存在，大小匹配，跳过下载。\n",
      "G:\\ICE\\数据下载测试\\2019\\ATL03\\extent_1\\ATL03_20191230235335_00650607_006_01.h5\n",
      "文件 ATL03_20191230235335_00650607_006_01.h5 已存在，大小匹配，跳过下载。\n",
      "G:\\ICE\\数据下载测试\\2019\\ATL03\\extent_1\\ATL03_20190101171428_00650207_006_02.h5\n",
      "文件 ATL03_20190101171428_00650207_006_02.h5 已存在，大小匹配，跳过下载。\n",
      "G:\\ICE\\数据下载测试\\2019\\ATL03\\extent_1\\ATL03_20190105170607_01260207_006_02.h5\n",
      "文件 ATL03_20190105170607_01260207_006_02.h5 已存在，大小匹配，跳过下载。\n",
      "G:\\ICE\\数据下载测试\\2019\\ATL03\\extent_1\\ATL03_20190123040127_03930201_006_02.h5\n",
      "文件 ATL03_20190123040127_03930201_006_02.h5 已存在，大小匹配，跳过下载。\n",
      "G:\\ICE\\数据下载测试\\2019\\ATL03\\extent_1\\ATL03_20190203154220_05680207_006_02.h5\n",
      "文件 ATL03_20190203154220_05680207_006_02.h5 已存在，大小匹配，跳过下载。\n",
      "G:\\ICE\\数据下载测试\\2019\\ATL03\\extent_1\\ATL03_20190221023734_08350201_006_02.h5\n",
      "文件 ATL03_20190221023734_08350201_006_02.h5 已存在，大小匹配，跳过下载。\n",
      "G:\\ICE\\数据下载测试\\2019\\ATL03\\extent_1\\ATL03_20190225022916_08960201_006_02.h5\n",
      "文件 ATL03_20190225022916_08960201_006_02.h5 已存在，大小匹配，跳过下载。\n",
      "G:\\ICE\\数据下载测试\\2019\\ATL03\\extent_1\\ATL03_20190304141820_10100207_006_02.h5\n",
      "文件 ATL03_20190304141820_10100207_006_02.h5 已存在，大小匹配，跳过下载。\n",
      "G:\\ICE\\数据下载测试\\2019\\ATL03\\extent_1\\ATL03_20190308141000_10710207_006_02.h5\n",
      "文件 ATL03_20190308141000_10710207_006_02.h5 已存在，大小匹配，跳过下载。\n",
      "G:\\ICE\\数据下载测试\\2019\\ATL03\\extent_1\\ATL03_20190322011336_12770201_006_02.h5\n",
      "文件 ATL03_20190322011336_12770201_006_02.h5 已存在，大小匹配，跳过下载。\n",
      "G:\\ICE\\数据下载测试\\2019\\ATL03\\extent_1\\ATL03_20190326010515_13380201_006_02.h5\n",
      "文件 ATL03_20190326010515_13380201_006_02.h5 已存在，大小匹配，跳过下载。\n",
      "G:\\ICE\\数据下载测试\\2019\\ATL03\\extent_1\\ATL03_20190402125419_00650307_006_02.h5\n",
      "文件 ATL03_20190402125419_00650307_006_02.h5 已存在，大小匹配，跳过下载。\n",
      "G:\\ICE\\数据下载测试\\2019\\ATL03\\extent_1\\ATL03_20190406124559_01260307_006_02.h5\n",
      "文件 ATL03_20190406124559_01260307_006_02.h5 已存在，大小匹配，跳过下载。\n",
      "G:\\ICE\\数据下载测试\\2019\\ATL03\\extent_1\\ATL03_20190423234115_03930301_006_02.h5\n",
      "文件 ATL03_20190423234115_03930301_006_02.h5 已存在，大小匹配，跳过下载。\n",
      "G:\\ICE\\数据下载测试\\2019\\ATL03\\extent_1\\ATL03_20190505112157_05680307_006_02.h5\n",
      "文件 ATL03_20190505112157_05680307_006_02.h5 已存在，大小匹配，跳过下载。\n",
      "G:\\ICE\\数据下载测试\\2019\\ATL03\\extent_1\\ATL03_20190522221711_08350301_006_02.h5\n",
      "文件 ATL03_20190522221711_08350301_006_02.h5 已存在，大小匹配，跳过下载。\n",
      "G:\\ICE\\数据下载测试\\2019\\ATL03\\extent_1\\ATL03_20190526220852_08960301_006_02.h5\n",
      "文件 ATL03_20190526220852_08960301_006_02.h5 已存在，大小匹配，跳过下载。\n",
      "G:\\ICE\\数据下载测试\\2019\\ATL03\\extent_1\\ATL03_20190603095754_10100307_006_02.h5\n",
      "文件 ATL03_20190603095754_10100307_006_02.h5 已存在，大小匹配，跳过下载。\n",
      "G:\\ICE\\数据下载测试\\2019\\ATL03\\extent_1\\ATL03_20190607094934_10710307_006_02.h5\n",
      "文件 ATL03_20190607094934_10710307_006_02.h5 已存在，大小匹配，跳过下载。\n",
      "G:\\ICE\\数据下载测试\\2019\\ATL03\\extent_1\\ATL03_20190620205312_12770301_006_02.h5\n",
      "文件 ATL03_20190620205312_12770301_006_02.h5 已存在，大小匹配，跳过下载。\n",
      "G:\\ICE\\数据下载测试\\2019\\ATL03\\extent_1\\ATL03_20190624204452_13380301_006_02.h5\n",
      "文件 ATL03_20190624204452_13380301_006_02.h5 已存在，大小匹配，跳过下载。\n",
      "G:\\ICE\\数据下载测试\\2019\\ATL03\\extent_1\\ATL03_20190723192049_03930401_006_02.h5\n",
      "文件 ATL03_20190723192049_03930401_006_02.h5 已存在，大小匹配，跳过下载。\n",
      "G:\\ICE\\数据下载测试\\2019\\ATL03\\extent_1\\ATL03_20190804070138_05680407_006_02.h5\n",
      "文件 ATL03_20190804070138_05680407_006_02.h5 已存在，大小匹配，跳过下载。\n",
      "G:\\ICE\\数据下载测试\\2019\\ATL03\\extent_1\\ATL03_20190821175700_08350401_006_02.h5\n",
      "文件 ATL03_20190821175700_08350401_006_02.h5 已存在，大小匹配，跳过下载。\n",
      "G:\\ICE\\数据下载测试\\2019\\ATL03\\extent_1\\ATL03_20190902053744_10100407_006_02.h5\n",
      "文件 ATL03_20190902053744_10100407_006_02.h5 已存在，大小匹配，跳过下载。\n",
      "G:\\ICE\\数据下载测试\\2019\\ATL03\\extent_1\\ATL03_20190906052923_10710407_006_02.h5\n",
      "文件 ATL03_20190906052923_10710407_006_02.h5 已存在，大小匹配，跳过下载。\n",
      "G:\\ICE\\数据下载测试\\2019\\ATL03\\extent_1\\ATL03_20190919163303_12770401_006_02.h5\n",
      "文件 ATL03_20190919163303_12770401_006_02.h5 已存在，大小匹配，跳过下载。\n",
      "G:\\ICE\\数据下载测试\\2019\\ATL03\\extent_1\\ATL03_20190923162446_13380401_006_02.h5\n",
      "文件 ATL03_20190923162446_13380401_006_02.h5 已存在，大小匹配，跳过下载。\n",
      "G:\\ICE\\数据下载测试\\2019\\ATL03\\extent_1\\ATL03_20191001041349_00650507_006_03.h5\n",
      "文件 ATL03_20191001041349_00650507_006_03.h5 已存在，大小匹配，跳过下载。\n",
      "G:\\ICE\\数据下载测试\\2019\\ATL03\\extent_1\\ATL03_20191005040530_01260507_006_02.h5\n",
      "文件 ATL03_20191005040530_01260507_006_02.h5 已存在，大小匹配，跳过下载。\n",
      "G:\\ICE\\数据下载测试\\2019\\ATL03\\extent_1\\ATL03_20191022150051_03930501_006_02.h5\n",
      "文件 ATL03_20191022150051_03930501_006_02.h5 已存在，大小匹配，跳过下载。\n",
      "G:\\ICE\\数据下载测试\\2019\\ATL03\\extent_1\\ATL03_20191103024132_05680507_006_01.h5\n",
      "文件 ATL03_20191103024132_05680507_006_01.h5 已存在，大小匹配，跳过下载。\n",
      "G:\\ICE\\数据下载测试\\2019\\ATL03\\extent_1\\ATL03_20191107023313_06290507_006_01.h5\n",
      "文件 ATL03_20191107023313_06290507_006_01.h5 已存在，大小匹配，跳过下载。\n",
      "G:\\ICE\\数据下载测试\\2019\\ATL03\\extent_1\\ATL03_20191120133652_08350501_006_01.h5\n",
      "文件 ATL03_20191120133652_08350501_006_01.h5 已存在，大小匹配，跳过下载。\n",
      "G:\\ICE\\数据下载测试\\2019\\ATL03\\extent_1\\ATL03_20191202011733_10100507_006_01.h5\n",
      "文件 ATL03_20191202011733_10100507_006_01.h5 已存在，大小匹配，跳过下载。\n",
      "G:\\ICE\\数据下载测试\\2019\\ATL03\\extent_1\\ATL03_20191206010913_10710507_006_01.h5\n",
      "文件 ATL03_20191206010913_10710507_006_01.h5 已存在，大小匹配，跳过下载。\n",
      "G:\\ICE\\数据下载测试\\2019\\ATL03\\extent_1\\ATL03_20191219121252_12770501_006_01.h5\n",
      "文件 ATL03_20191219121252_12770501_006_01.h5 已存在，大小匹配，跳过下载。\n",
      "G:\\ICE\\数据下载测试\\2019\\ATL03\\extent_1\\ATL03_20191223120433_13380501_006_01.h5\n",
      "文件 ATL03_20191223120433_13380501_006_01.h5 已存在，大小匹配，跳过下载。\n",
      "G:\\ICE\\数据下载测试\\2019\\ATL03\\extent_1\\ATL03_20191230235335_00650607_006_01.h5\n",
      "文件 ATL03_20191230235335_00650607_006_01.h5 已存在，大小匹配，跳过下载。\n",
      "处理ID= 2 的 extent...\n",
      "查询结果的总大小：132.86 GB\n",
      "文件数量为: 72\n",
      "G:\\ICE\\数据下载测试\\2019\\ATL03\\extent_2\\ATL03_20190101171428_00650207_006_02.h5\n",
      "正在下载 ATL03_20190101171428_00650207_006_02.h5 到 G:\\ICE\\数据下载测试\\2019\\ATL03\\extent_2...\n"
     ]
    },
    {
     "data": {
      "application/vnd.jupyter.widget-view+json": {
       "model_id": "78b2d0cffe2a4b9ab7aea0a95060deb9",
       "version_major": 2,
       "version_minor": 0
      },
      "text/plain": [
       "QUEUEING TASKS | :   0%|          | 0/1 [00:00<?, ?it/s]"
      ]
     },
     "metadata": {},
     "output_type": "display_data"
    },
    {
     "data": {
      "application/vnd.jupyter.widget-view+json": {
       "model_id": "42afb27de08b4804ab86236b6bfbee39",
       "version_major": 2,
       "version_minor": 0
      },
      "text/plain": [
       "PROCESSING TASKS | :   0%|          | 0/1 [00:00<?, ?it/s]"
      ]
     },
     "metadata": {},
     "output_type": "display_data"
    },
    {
     "data": {
      "application/vnd.jupyter.widget-view+json": {
       "model_id": "d41e9f44720b463998dd84732df26122",
       "version_major": 2,
       "version_minor": 0
      },
      "text/plain": [
       "COLLECTING RESULTS | :   0%|          | 0/1 [00:00<?, ?it/s]"
      ]
     },
     "metadata": {},
     "output_type": "display_data"
    },
    {
     "name": "stdout",
     "output_type": "stream",
     "text": [
      "G:\\ICE\\数据下载测试\\2019\\ATL03\\extent_2\\ATL03_20190115041758_02710201_006_02.h5\n",
      "正在下载 ATL03_20190115041758_02710201_006_02.h5 到 G:\\ICE\\数据下载测试\\2019\\ATL03\\extent_2...\n"
     ]
    },
    {
     "data": {
      "application/vnd.jupyter.widget-view+json": {
       "model_id": "318a2d070a1f4957b4acdae1295d80a4",
       "version_major": 2,
       "version_minor": 0
      },
      "text/plain": [
       "QUEUEING TASKS | :   0%|          | 0/1 [00:00<?, ?it/s]"
      ]
     },
     "metadata": {},
     "output_type": "display_data"
    },
    {
     "data": {
      "application/vnd.jupyter.widget-view+json": {
       "model_id": "548444b63d764300bc7f59146718cff3",
       "version_major": 2,
       "version_minor": 0
      },
      "text/plain": [
       "PROCESSING TASKS | :   0%|          | 0/1 [00:00<?, ?it/s]"
      ]
     },
     "metadata": {},
     "output_type": "display_data"
    },
    {
     "data": {
      "application/vnd.jupyter.widget-view+json": {
       "model_id": "c79a06d8500b43f59954ddb6ba4eb6c4",
       "version_major": 2,
       "version_minor": 0
      },
      "text/plain": [
       "COLLECTING RESULTS | :   0%|          | 0/1 [00:00<?, ?it/s]"
      ]
     },
     "metadata": {},
     "output_type": "display_data"
    },
    {
     "name": "stdout",
     "output_type": "stream",
     "text": [
      "G:\\ICE\\数据下载测试\\2019\\ATL03\\extent_2\\ATL03_20190119040939_03320201_006_02.h5\n",
      "文件 ATL03_20190119040939_03320201_006_02.h5 已存在，大小匹配，跳过下载。\n",
      "G:\\ICE\\数据下载测试\\2019\\ATL03\\extent_2\\ATL03_20190130155038_05070207_006_02.h5\n",
      "文件 ATL03_20190130155038_05070207_006_02.h5 已存在，大小匹配，跳过下载。\n",
      "G:\\ICE\\数据下载测试\\2019\\ATL03\\extent_2\\ATL03_20190217024554_07740201_006_02.h5\n",
      "文件 ATL03_20190217024554_07740201_006_02.h5 已存在，大小匹配，跳过下载。\n",
      "G:\\ICE\\数据下载测试\\2019\\ATL03\\extent_2\\ATL03_20190228142639_09490207_006_02.h5\n",
      "文件 ATL03_20190228142639_09490207_006_02.h5 已存在，大小匹配，跳过下载。\n",
      "G:\\ICE\\数据下载测试\\2019\\ATL03\\extent_2\\ATL03_20190318012157_12160201_006_02.h5\n",
      "文件 ATL03_20190318012157_12160201_006_02.h5 已存在，大小匹配，跳过下载。\n",
      "G:\\ICE\\数据下载测试\\2019\\ATL03\\extent_2\\ATL03_20190322011336_12770201_006_02.h5\n",
      "正在下载 ATL03_20190322011336_12770201_006_02.h5 到 G:\\ICE\\数据下载测试\\2019\\ATL03\\extent_2...\n"
     ]
    },
    {
     "data": {
      "application/vnd.jupyter.widget-view+json": {
       "model_id": "afc8153aed91464fb4dae9883629a9a5",
       "version_major": 2,
       "version_minor": 0
      },
      "text/plain": [
       "QUEUEING TASKS | :   0%|          | 0/1 [00:00<?, ?it/s]"
      ]
     },
     "metadata": {},
     "output_type": "display_data"
    },
    {
     "data": {
      "application/vnd.jupyter.widget-view+json": {
       "model_id": "b73f08ed7b10454f8f66e487a1bffc1b",
       "version_major": 2,
       "version_minor": 0
      },
      "text/plain": [
       "PROCESSING TASKS | :   0%|          | 0/1 [00:00<?, ?it/s]"
      ]
     },
     "metadata": {},
     "output_type": "display_data"
    },
    {
     "data": {
      "application/vnd.jupyter.widget-view+json": {
       "model_id": "31bc6c84e40a470f85dbde5e01cd70db",
       "version_major": 2,
       "version_minor": 0
      },
      "text/plain": [
       "COLLECTING RESULTS | :   0%|          | 0/1 [00:00<?, ?it/s]"
      ]
     },
     "metadata": {},
     "output_type": "display_data"
    },
    {
     "name": "stdout",
     "output_type": "stream",
     "text": [
      "G:\\ICE\\数据下载测试\\2019\\ATL03\\extent_2\\ATL03_20190329130238_00040307_006_02.h5\n",
      "文件 ATL03_20190329130238_00040307_006_02.h5 已存在，大小匹配，跳过下载。\n",
      "G:\\ICE\\数据下载测试\\2019\\ATL03\\extent_2\\ATL03_20190402125419_00650307_006_02.h5\n",
      "正在下载 ATL03_20190402125419_00650307_006_02.h5 到 G:\\ICE\\数据下载测试\\2019\\ATL03\\extent_2...\n"
     ]
    },
    {
     "data": {
      "application/vnd.jupyter.widget-view+json": {
       "model_id": "aed580347f98432f9e56de23c215c7db",
       "version_major": 2,
       "version_minor": 0
      },
      "text/plain": [
       "QUEUEING TASKS | :   0%|          | 0/1 [00:00<?, ?it/s]"
      ]
     },
     "metadata": {},
     "output_type": "display_data"
    },
    {
     "data": {
      "application/vnd.jupyter.widget-view+json": {
       "model_id": "79c8018b5fa54d64af8efb79a118327b",
       "version_major": 2,
       "version_minor": 0
      },
      "text/plain": [
       "PROCESSING TASKS | :   0%|          | 0/1 [00:00<?, ?it/s]"
      ]
     },
     "metadata": {},
     "output_type": "display_data"
    },
    {
     "data": {
      "application/vnd.jupyter.widget-view+json": {
       "model_id": "27edbcac3b094983bdc00b49e18ede07",
       "version_major": 2,
       "version_minor": 0
      },
      "text/plain": [
       "COLLECTING RESULTS | :   0%|          | 0/1 [00:00<?, ?it/s]"
      ]
     },
     "metadata": {},
     "output_type": "display_data"
    },
    {
     "name": "stdout",
     "output_type": "stream",
     "text": [
      "G:\\ICE\\数据下载测试\\2019\\ATL03\\extent_2\\ATL03_20190415235755_02710301_006_02.h5\n",
      "文件 ATL03_20190415235755_02710301_006_02.h5 已存在，大小匹配，跳过下载。\n",
      "G:\\ICE\\数据下载测试\\2019\\ATL03\\extent_2\\ATL03_20190419234935_03320301_006_02.h5\n",
      "文件 ATL03_20190419234935_03320301_006_02.h5 已存在，大小匹配，跳过下载。\n",
      "G:\\ICE\\数据下载测试\\2019\\ATL03\\extent_2\\ATL03_20190427113838_04460307_006_02.h5\n",
      "文件 ATL03_20190427113838_04460307_006_02.h5 已存在，大小匹配，跳过下载。\n",
      "G:\\ICE\\数据下载测试\\2019\\ATL03\\extent_2\\ATL03_20190501113017_05070307_006_02.h5\n",
      "文件 ATL03_20190501113017_05070307_006_02.h5 已存在，大小匹配，跳过下载。\n",
      "G:\\ICE\\数据下载测试\\2019\\ATL03\\extent_2\\ATL03_20190518222532_07740301_006_02.h5\n",
      "文件 ATL03_20190518222532_07740301_006_02.h5 已存在，大小匹配，跳过下载。\n",
      "G:\\ICE\\数据下载测试\\2019\\ATL03\\extent_2\\ATL03_20190530100614_09490307_006_02.h5\n",
      "正在下载 ATL03_20190530100614_09490307_006_02.h5 到 G:\\ICE\\数据下载测试\\2019\\ATL03\\extent_2...\n"
     ]
    },
    {
     "data": {
      "application/vnd.jupyter.widget-view+json": {
       "model_id": "2743cbf640f54706aed5dfad021f8d48",
       "version_major": 2,
       "version_minor": 0
      },
      "text/plain": [
       "QUEUEING TASKS | :   0%|          | 0/1 [00:00<?, ?it/s]"
      ]
     },
     "metadata": {},
     "output_type": "display_data"
    },
    {
     "data": {
      "application/vnd.jupyter.widget-view+json": {
       "model_id": "7b2ddb6e153843239461bad107bf4b33",
       "version_major": 2,
       "version_minor": 0
      },
      "text/plain": [
       "PROCESSING TASKS | :   0%|          | 0/1 [00:00<?, ?it/s]"
      ]
     },
     "metadata": {},
     "output_type": "display_data"
    },
    {
     "data": {
      "application/vnd.jupyter.widget-view+json": {
       "model_id": "e15223f2b8bd4997b4c069e444375a01",
       "version_major": 2,
       "version_minor": 0
      },
      "text/plain": [
       "COLLECTING RESULTS | :   0%|          | 0/1 [00:00<?, ?it/s]"
      ]
     },
     "metadata": {},
     "output_type": "display_data"
    },
    {
     "name": "stdout",
     "output_type": "stream",
     "text": [
      "G:\\ICE\\数据下载测试\\2019\\ATL03\\extent_2\\ATL03_20190616210133_12160301_006_02.h5\n",
      "文件 ATL03_20190616210133_12160301_006_02.h5 已存在，大小匹配，跳过下载。\n",
      "G:\\ICE\\数据下载测试\\2019\\ATL03\\extent_2\\ATL03_20190620205312_12770301_006_02.h5\n",
      "正在下载 ATL03_20190620205312_12770301_006_02.h5 到 G:\\ICE\\数据下载测试\\2019\\ATL03\\extent_2...\n"
     ]
    },
    {
     "data": {
      "application/vnd.jupyter.widget-view+json": {
       "model_id": "ec83edf8c4b442a79ceeccfc7c570d04",
       "version_major": 2,
       "version_minor": 0
      },
      "text/plain": [
       "QUEUEING TASKS | :   0%|          | 0/1 [00:00<?, ?it/s]"
      ]
     },
     "metadata": {},
     "output_type": "display_data"
    },
    {
     "data": {
      "application/vnd.jupyter.widget-view+json": {
       "model_id": "b7a2c6c238124d2387a9c7d9a77e88f5",
       "version_major": 2,
       "version_minor": 0
      },
      "text/plain": [
       "PROCESSING TASKS | :   0%|          | 0/1 [00:00<?, ?it/s]"
      ]
     },
     "metadata": {},
     "output_type": "display_data"
    },
    {
     "data": {
      "application/vnd.jupyter.widget-view+json": {
       "model_id": "a81a3730a95f4218b4e654e21673cfda",
       "version_major": 2,
       "version_minor": 0
      },
      "text/plain": [
       "COLLECTING RESULTS | :   0%|          | 0/1 [00:00<?, ?it/s]"
      ]
     },
     "metadata": {},
     "output_type": "display_data"
    },
    {
     "name": "stdout",
     "output_type": "stream",
     "text": [
      "G:\\ICE\\数据下载测试\\2019\\ATL03\\extent_2\\ATL03_20190719192906_03320401_006_02.h5\n",
      "文件 ATL03_20190719192906_03320401_006_02.h5 已存在，大小匹配，跳过下载。\n",
      "G:\\ICE\\数据下载测试\\2019\\ATL03\\extent_2\\ATL03_20190727071815_04460407_006_02.h5\n",
      "正在下载 ATL03_20190727071815_04460407_006_02.h5 到 G:\\ICE\\数据下载测试\\2019\\ATL03\\extent_2...\n"
     ]
    },
    {
     "data": {
      "application/vnd.jupyter.widget-view+json": {
       "model_id": "bde58b783cd44ab1b2dd21dece0afaef",
       "version_major": 2,
       "version_minor": 0
      },
      "text/plain": [
       "QUEUEING TASKS | :   0%|          | 0/1 [00:00<?, ?it/s]"
      ]
     },
     "metadata": {},
     "output_type": "display_data"
    },
    {
     "data": {
      "application/vnd.jupyter.widget-view+json": {
       "model_id": "0cf9d6993e9e45b0a9f1610ec77c6f05",
       "version_major": 2,
       "version_minor": 0
      },
      "text/plain": [
       "PROCESSING TASKS | :   0%|          | 0/1 [00:00<?, ?it/s]"
      ]
     },
     "metadata": {},
     "output_type": "display_data"
    },
    {
     "data": {
      "application/vnd.jupyter.widget-view+json": {
       "model_id": "3670caa177984df6921627b8e1330029",
       "version_major": 2,
       "version_minor": 0
      },
      "text/plain": [
       "COLLECTING RESULTS | :   0%|          | 0/1 [00:00<?, ?it/s]"
      ]
     },
     "metadata": {},
     "output_type": "display_data"
    },
    {
     "name": "stdout",
     "output_type": "stream",
     "text": [
      "G:\\ICE\\数据下载测试\\2019\\ATL03\\extent_2\\ATL03_20190731070957_05070407_006_02.h5\n",
      "正在下载 ATL03_20190731070957_05070407_006_02.h5 到 G:\\ICE\\数据下载测试\\2019\\ATL03\\extent_2...\n"
     ]
    },
    {
     "data": {
      "application/vnd.jupyter.widget-view+json": {
       "model_id": "ac7c092794594024adb0dafa991bcbf8",
       "version_major": 2,
       "version_minor": 0
      },
      "text/plain": [
       "QUEUEING TASKS | :   0%|          | 0/1 [00:00<?, ?it/s]"
      ]
     },
     "metadata": {},
     "output_type": "display_data"
    },
    {
     "data": {
      "application/vnd.jupyter.widget-view+json": {
       "model_id": "3da7bec08a69432f9f0f98464c840a61",
       "version_major": 2,
       "version_minor": 0
      },
      "text/plain": [
       "PROCESSING TASKS | :   0%|          | 0/1 [00:00<?, ?it/s]"
      ]
     },
     "metadata": {},
     "output_type": "display_data"
    },
    {
     "data": {
      "application/vnd.jupyter.widget-view+json": {
       "model_id": "fe4177e597014edea20bfa48cdc850fd",
       "version_major": 2,
       "version_minor": 0
      },
      "text/plain": [
       "COLLECTING RESULTS | :   0%|          | 0/1 [00:00<?, ?it/s]"
      ]
     },
     "metadata": {},
     "output_type": "display_data"
    },
    {
     "name": "stdout",
     "output_type": "stream",
     "text": [
      "G:\\ICE\\数据下载测试\\2019\\ATL03\\extent_2\\ATL03_20190817180518_07740401_006_02.h5\n",
      "文件 ATL03_20190817180518_07740401_006_02.h5 已存在，大小匹配，跳过下载。\n",
      "G:\\ICE\\数据下载测试\\2019\\ATL03\\extent_2\\ATL03_20190829054603_09490407_006_02.h5\n",
      "正在下载 ATL03_20190829054603_09490407_006_02.h5 到 G:\\ICE\\数据下载测试\\2019\\ATL03\\extent_2...\n"
     ]
    },
    {
     "data": {
      "application/vnd.jupyter.widget-view+json": {
       "model_id": "b15af996633d44858ecae51556e03168",
       "version_major": 2,
       "version_minor": 0
      },
      "text/plain": [
       "QUEUEING TASKS | :   0%|          | 0/1 [00:00<?, ?it/s]"
      ]
     },
     "metadata": {},
     "output_type": "display_data"
    },
    {
     "data": {
      "application/vnd.jupyter.widget-view+json": {
       "model_id": "45f2a6afa89a42798ea5d2ca2d77d52c",
       "version_major": 2,
       "version_minor": 0
      },
      "text/plain": [
       "PROCESSING TASKS | :   0%|          | 0/1 [00:00<?, ?it/s]"
      ]
     },
     "metadata": {},
     "output_type": "display_data"
    },
    {
     "data": {
      "application/vnd.jupyter.widget-view+json": {
       "model_id": "1c1cf6d888464c80b7c0c4a27d577b0a",
       "version_major": 2,
       "version_minor": 0
      },
      "text/plain": [
       "COLLECTING RESULTS | :   0%|          | 0/1 [00:00<?, ?it/s]"
      ]
     },
     "metadata": {},
     "output_type": "display_data"
    },
    {
     "name": "stdout",
     "output_type": "stream",
     "text": [
      "G:\\ICE\\数据下载测试\\2019\\ATL03\\extent_2\\ATL03_20190915164123_12160401_006_02.h5\n",
      "正在下载 ATL03_20190915164123_12160401_006_02.h5 到 G:\\ICE\\数据下载测试\\2019\\ATL03\\extent_2...\n"
     ]
    },
    {
     "data": {
      "application/vnd.jupyter.widget-view+json": {
       "model_id": "ab2035245d644c299845ce277ebca615",
       "version_major": 2,
       "version_minor": 0
      },
      "text/plain": [
       "QUEUEING TASKS | :   0%|          | 0/1 [00:00<?, ?it/s]"
      ]
     },
     "metadata": {},
     "output_type": "display_data"
    },
    {
     "data": {
      "application/vnd.jupyter.widget-view+json": {
       "model_id": "87a7048f59544b7daed6dfb5f56b4fc4",
       "version_major": 2,
       "version_minor": 0
      },
      "text/plain": [
       "PROCESSING TASKS | :   0%|          | 0/1 [00:00<?, ?it/s]"
      ]
     },
     "metadata": {},
     "output_type": "display_data"
    },
    {
     "data": {
      "application/vnd.jupyter.widget-view+json": {
       "model_id": "ffdfff2085a34d179c84acbafa32b4e5",
       "version_major": 2,
       "version_minor": 0
      },
      "text/plain": [
       "COLLECTING RESULTS | :   0%|          | 0/1 [00:00<?, ?it/s]"
      ]
     },
     "metadata": {},
     "output_type": "display_data"
    },
    {
     "name": "stdout",
     "output_type": "stream",
     "text": [
      "G:\\ICE\\数据下载测试\\2019\\ATL03\\extent_2\\ATL03_20190927042209_00040507_006_02.h5\n",
      "正在下载 ATL03_20190927042209_00040507_006_02.h5 到 G:\\ICE\\数据下载测试\\2019\\ATL03\\extent_2...\n"
     ]
    },
    {
     "data": {
      "application/vnd.jupyter.widget-view+json": {
       "model_id": "b6c7dc60c0c446bea5ddf5003845f25a",
       "version_major": 2,
       "version_minor": 0
      },
      "text/plain": [
       "QUEUEING TASKS | :   0%|          | 0/1 [00:00<?, ?it/s]"
      ]
     },
     "metadata": {},
     "output_type": "display_data"
    },
    {
     "data": {
      "application/vnd.jupyter.widget-view+json": {
       "model_id": "5a47469a236f48a1943568adf05d8571",
       "version_major": 2,
       "version_minor": 0
      },
      "text/plain": [
       "PROCESSING TASKS | :   0%|          | 0/1 [00:00<?, ?it/s]"
      ]
     },
     "metadata": {},
     "output_type": "display_data"
    },
    {
     "data": {
      "application/vnd.jupyter.widget-view+json": {
       "model_id": "5a9d500e44a2435290ae11f7d2465b3e",
       "version_major": 2,
       "version_minor": 0
      },
      "text/plain": [
       "COLLECTING RESULTS | :   0%|          | 0/1 [00:00<?, ?it/s]"
      ]
     },
     "metadata": {},
     "output_type": "display_data"
    },
    {
     "name": "stdout",
     "output_type": "stream",
     "text": [
      "G:\\ICE\\数据下载测试\\2019\\ATL03\\extent_2\\ATL03_20191001041349_00650507_006_03.h5\n",
      "正在下载 ATL03_20191001041349_00650507_006_03.h5 到 G:\\ICE\\数据下载测试\\2019\\ATL03\\extent_2...\n"
     ]
    },
    {
     "data": {
      "application/vnd.jupyter.widget-view+json": {
       "model_id": "34eec643c1d84e7fb1831a641e28a258",
       "version_major": 2,
       "version_minor": 0
      },
      "text/plain": [
       "QUEUEING TASKS | :   0%|          | 0/1 [00:00<?, ?it/s]"
      ]
     },
     "metadata": {},
     "output_type": "display_data"
    },
    {
     "data": {
      "application/vnd.jupyter.widget-view+json": {
       "model_id": "7530919b95c643009f4a24fe494f1c56",
       "version_major": 2,
       "version_minor": 0
      },
      "text/plain": [
       "PROCESSING TASKS | :   0%|          | 0/1 [00:00<?, ?it/s]"
      ]
     },
     "metadata": {},
     "output_type": "display_data"
    },
    {
     "data": {
      "application/vnd.jupyter.widget-view+json": {
       "model_id": "d492bdde86de4d5989239efe80e2587c",
       "version_major": 2,
       "version_minor": 0
      },
      "text/plain": [
       "COLLECTING RESULTS | :   0%|          | 0/1 [00:00<?, ?it/s]"
      ]
     },
     "metadata": {},
     "output_type": "display_data"
    },
    {
     "name": "stdout",
     "output_type": "stream",
     "text": [
      "G:\\ICE\\数据下载测试\\2019\\ATL03\\extent_2\\ATL03_20191014151728_02710501_006_02.h5\n",
      "正在下载 ATL03_20191014151728_02710501_006_02.h5 到 G:\\ICE\\数据下载测试\\2019\\ATL03\\extent_2...\n"
     ]
    },
    {
     "data": {
      "application/vnd.jupyter.widget-view+json": {
       "model_id": "78d2b5f1e2c04f5a8b4682fc1b5563ad",
       "version_major": 2,
       "version_minor": 0
      },
      "text/plain": [
       "QUEUEING TASKS | :   0%|          | 0/1 [00:00<?, ?it/s]"
      ]
     },
     "metadata": {},
     "output_type": "display_data"
    },
    {
     "data": {
      "application/vnd.jupyter.widget-view+json": {
       "model_id": "479e8a9bc94b4fe1a9a1d5a3f3ca4860",
       "version_major": 2,
       "version_minor": 0
      },
      "text/plain": [
       "PROCESSING TASKS | :   0%|          | 0/1 [00:00<?, ?it/s]"
      ]
     },
     "metadata": {},
     "output_type": "display_data"
    },
    {
     "data": {
      "application/vnd.jupyter.widget-view+json": {
       "model_id": "2fcc2126f6e24be2b1b21fce2ce58369",
       "version_major": 2,
       "version_minor": 0
      },
      "text/plain": [
       "COLLECTING RESULTS | :   0%|          | 0/1 [00:00<?, ?it/s]"
      ]
     },
     "metadata": {},
     "output_type": "display_data"
    },
    {
     "name": "stdout",
     "output_type": "stream",
     "text": [
      "G:\\ICE\\数据下载测试\\2019\\ATL03\\extent_2\\ATL03_20191018150908_03320501_006_02.h5\n",
      "正在下载 ATL03_20191018150908_03320501_006_02.h5 到 G:\\ICE\\数据下载测试\\2019\\ATL03\\extent_2...\n"
     ]
    },
    {
     "data": {
      "application/vnd.jupyter.widget-view+json": {
       "model_id": "942b52938ed04af896ab695d39ed7fac",
       "version_major": 2,
       "version_minor": 0
      },
      "text/plain": [
       "QUEUEING TASKS | :   0%|          | 0/1 [00:00<?, ?it/s]"
      ]
     },
     "metadata": {},
     "output_type": "display_data"
    },
    {
     "data": {
      "application/vnd.jupyter.widget-view+json": {
       "model_id": "e5cdccf425ac4e5abcd03ab6a990923d",
       "version_major": 2,
       "version_minor": 0
      },
      "text/plain": [
       "PROCESSING TASKS | :   0%|          | 0/1 [00:00<?, ?it/s]"
      ]
     },
     "metadata": {},
     "output_type": "display_data"
    },
    {
     "data": {
      "application/vnd.jupyter.widget-view+json": {
       "model_id": "351e94567289432b83c970cb71aae72d",
       "version_major": 2,
       "version_minor": 0
      },
      "text/plain": [
       "COLLECTING RESULTS | :   0%|          | 0/1 [00:00<?, ?it/s]"
      ]
     },
     "metadata": {},
     "output_type": "display_data"
    },
    {
     "name": "stdout",
     "output_type": "stream",
     "text": [
      "G:\\ICE\\数据下载测试\\2019\\ATL03\\extent_2\\ATL03_20191030024953_05070507_006_01.h5\n",
      "正在下载 ATL03_20191030024953_05070507_006_01.h5 到 G:\\ICE\\数据下载测试\\2019\\ATL03\\extent_2...\n"
     ]
    },
    {
     "data": {
      "application/vnd.jupyter.widget-view+json": {
       "model_id": "ab3d6e7b64c64867a0aa83e392b9ec34",
       "version_major": 2,
       "version_minor": 0
      },
      "text/plain": [
       "QUEUEING TASKS | :   0%|          | 0/1 [00:00<?, ?it/s]"
      ]
     },
     "metadata": {},
     "output_type": "display_data"
    },
    {
     "data": {
      "application/vnd.jupyter.widget-view+json": {
       "model_id": "c80cecb76b344a589389dc878701947a",
       "version_major": 2,
       "version_minor": 0
      },
      "text/plain": [
       "PROCESSING TASKS | :   0%|          | 0/1 [00:00<?, ?it/s]"
      ]
     },
     "metadata": {},
     "output_type": "display_data"
    },
    {
     "data": {
      "application/vnd.jupyter.widget-view+json": {
       "model_id": "122e9ca4fb62460cafe3bdf56130229d",
       "version_major": 2,
       "version_minor": 0
      },
      "text/plain": [
       "COLLECTING RESULTS | :   0%|          | 0/1 [00:00<?, ?it/s]"
      ]
     },
     "metadata": {},
     "output_type": "display_data"
    },
    {
     "name": "stdout",
     "output_type": "stream",
     "text": [
      "G:\\ICE\\数据下载测试\\2019\\ATL03\\extent_2\\ATL03_20191116134513_07740501_006_01.h5\n",
      "正在下载 ATL03_20191116134513_07740501_006_01.h5 到 G:\\ICE\\数据下载测试\\2019\\ATL03\\extent_2...\n"
     ]
    },
    {
     "data": {
      "application/vnd.jupyter.widget-view+json": {
       "model_id": "65065f8cb1cb46baa2c37a0bcb7e924d",
       "version_major": 2,
       "version_minor": 0
      },
      "text/plain": [
       "QUEUEING TASKS | :   0%|          | 0/1 [00:00<?, ?it/s]"
      ]
     },
     "metadata": {},
     "output_type": "display_data"
    },
    {
     "data": {
      "application/vnd.jupyter.widget-view+json": {
       "model_id": "aa480eff37794236ad46d06c79b2d973",
       "version_major": 2,
       "version_minor": 0
      },
      "text/plain": [
       "PROCESSING TASKS | :   0%|          | 0/1 [00:00<?, ?it/s]"
      ]
     },
     "metadata": {},
     "output_type": "display_data"
    },
    {
     "data": {
      "application/vnd.jupyter.widget-view+json": {
       "model_id": "7e3af42c84b44e56af45428e07e7842e",
       "version_major": 2,
       "version_minor": 0
      },
      "text/plain": [
       "COLLECTING RESULTS | :   0%|          | 0/1 [00:00<?, ?it/s]"
      ]
     },
     "metadata": {},
     "output_type": "display_data"
    },
    {
     "name": "stdout",
     "output_type": "stream",
     "text": [
      "G:\\ICE\\数据下载测试\\2019\\ATL03\\extent_2\\ATL03_20191128012554_09490507_006_01.h5\n",
      "正在下载 ATL03_20191128012554_09490507_006_01.h5 到 G:\\ICE\\数据下载测试\\2019\\ATL03\\extent_2...\n"
     ]
    },
    {
     "data": {
      "application/vnd.jupyter.widget-view+json": {
       "model_id": "1565f17b544e40f2858ec71fca7fd1a3",
       "version_major": 2,
       "version_minor": 0
      },
      "text/plain": [
       "QUEUEING TASKS | :   0%|          | 0/1 [00:00<?, ?it/s]"
      ]
     },
     "metadata": {},
     "output_type": "display_data"
    },
    {
     "data": {
      "application/vnd.jupyter.widget-view+json": {
       "model_id": "d9e08b36bdb14f9f9da771ca33fff3da",
       "version_major": 2,
       "version_minor": 0
      },
      "text/plain": [
       "PROCESSING TASKS | :   0%|          | 0/1 [00:00<?, ?it/s]"
      ]
     },
     "metadata": {},
     "output_type": "display_data"
    },
    {
     "data": {
      "application/vnd.jupyter.widget-view+json": {
       "model_id": "8019eb46c67546aeaa9e430d5996e6db",
       "version_major": 2,
       "version_minor": 0
      },
      "text/plain": [
       "COLLECTING RESULTS | :   0%|          | 0/1 [00:00<?, ?it/s]"
      ]
     },
     "metadata": {},
     "output_type": "display_data"
    },
    {
     "name": "stdout",
     "output_type": "stream",
     "text": [
      "G:\\ICE\\数据下载测试\\2019\\ATL03\\extent_2\\ATL03_20191202011733_10100507_006_01.h5\n",
      "正在下载 ATL03_20191202011733_10100507_006_01.h5 到 G:\\ICE\\数据下载测试\\2019\\ATL03\\extent_2...\n"
     ]
    },
    {
     "data": {
      "application/vnd.jupyter.widget-view+json": {
       "model_id": "8e2a27d6dff642b1a22b356d7b032d61",
       "version_major": 2,
       "version_minor": 0
      },
      "text/plain": [
       "QUEUEING TASKS | :   0%|          | 0/1 [00:00<?, ?it/s]"
      ]
     },
     "metadata": {},
     "output_type": "display_data"
    },
    {
     "data": {
      "application/vnd.jupyter.widget-view+json": {
       "model_id": "1882df83c6894a8498b19d464be6d9a5",
       "version_major": 2,
       "version_minor": 0
      },
      "text/plain": [
       "PROCESSING TASKS | :   0%|          | 0/1 [00:00<?, ?it/s]"
      ]
     },
     "metadata": {},
     "output_type": "display_data"
    },
    {
     "data": {
      "application/vnd.jupyter.widget-view+json": {
       "model_id": "52cbbcab1d8a41c7957bf7d6a80dd17d",
       "version_major": 2,
       "version_minor": 0
      },
      "text/plain": [
       "COLLECTING RESULTS | :   0%|          | 0/1 [00:00<?, ?it/s]"
      ]
     },
     "metadata": {},
     "output_type": "display_data"
    },
    {
     "name": "stdout",
     "output_type": "stream",
     "text": [
      "G:\\ICE\\数据下载测试\\2019\\ATL03\\extent_2\\ATL03_20191215122111_12160501_006_01.h5\n",
      "正在下载 ATL03_20191215122111_12160501_006_01.h5 到 G:\\ICE\\数据下载测试\\2019\\ATL03\\extent_2...\n"
     ]
    },
    {
     "data": {
      "application/vnd.jupyter.widget-view+json": {
       "model_id": "697d32eb58704a9d8e0ee9375398cf54",
       "version_major": 2,
       "version_minor": 0
      },
      "text/plain": [
       "QUEUEING TASKS | :   0%|          | 0/1 [00:00<?, ?it/s]"
      ]
     },
     "metadata": {},
     "output_type": "display_data"
    },
    {
     "data": {
      "application/vnd.jupyter.widget-view+json": {
       "model_id": "818a0814cbbd49318da48b85faef32b6",
       "version_major": 2,
       "version_minor": 0
      },
      "text/plain": [
       "PROCESSING TASKS | :   0%|          | 0/1 [00:00<?, ?it/s]"
      ]
     },
     "metadata": {},
     "output_type": "display_data"
    },
    {
     "data": {
      "application/vnd.jupyter.widget-view+json": {
       "model_id": "3fed7052586648e881130adaea6652d2",
       "version_major": 2,
       "version_minor": 0
      },
      "text/plain": [
       "COLLECTING RESULTS | :   0%|          | 0/1 [00:00<?, ?it/s]"
      ]
     },
     "metadata": {},
     "output_type": "display_data"
    },
    {
     "name": "stdout",
     "output_type": "stream",
     "text": [
      "G:\\ICE\\数据下载测试\\2019\\ATL03\\extent_2\\ATL03_20191219121252_12770501_006_01.h5\n",
      "正在下载 ATL03_20191219121252_12770501_006_01.h5 到 G:\\ICE\\数据下载测试\\2019\\ATL03\\extent_2...\n"
     ]
    },
    {
     "data": {
      "application/vnd.jupyter.widget-view+json": {
       "model_id": "f5ddc64d3a834d70ab725b2c7cfb3fb9",
       "version_major": 2,
       "version_minor": 0
      },
      "text/plain": [
       "QUEUEING TASKS | :   0%|          | 0/1 [00:00<?, ?it/s]"
      ]
     },
     "metadata": {},
     "output_type": "display_data"
    },
    {
     "data": {
      "application/vnd.jupyter.widget-view+json": {
       "model_id": "345d6b184a8f4b84b943c68e1aa4ddc7",
       "version_major": 2,
       "version_minor": 0
      },
      "text/plain": [
       "PROCESSING TASKS | :   0%|          | 0/1 [00:00<?, ?it/s]"
      ]
     },
     "metadata": {},
     "output_type": "display_data"
    },
    {
     "data": {
      "application/vnd.jupyter.widget-view+json": {
       "model_id": "a86bd1860b8f4385acbc4172790998b9",
       "version_major": 2,
       "version_minor": 0
      },
      "text/plain": [
       "COLLECTING RESULTS | :   0%|          | 0/1 [00:00<?, ?it/s]"
      ]
     },
     "metadata": {},
     "output_type": "display_data"
    },
    {
     "name": "stdout",
     "output_type": "stream",
     "text": [
      "G:\\ICE\\数据下载测试\\2019\\ATL03\\extent_2\\ATL03_20191227000156_00040607_006_01.h5\n",
      "正在下载 ATL03_20191227000156_00040607_006_01.h5 到 G:\\ICE\\数据下载测试\\2019\\ATL03\\extent_2...\n"
     ]
    },
    {
     "data": {
      "application/vnd.jupyter.widget-view+json": {
       "model_id": "fbcd69a9007241c5aea80144d475f6fa",
       "version_major": 2,
       "version_minor": 0
      },
      "text/plain": [
       "QUEUEING TASKS | :   0%|          | 0/1 [00:00<?, ?it/s]"
      ]
     },
     "metadata": {},
     "output_type": "display_data"
    },
    {
     "data": {
      "application/vnd.jupyter.widget-view+json": {
       "model_id": "f5fa92fc233243b2bc880febdb7ab28b",
       "version_major": 2,
       "version_minor": 0
      },
      "text/plain": [
       "PROCESSING TASKS | :   0%|          | 0/1 [00:00<?, ?it/s]"
      ]
     },
     "metadata": {},
     "output_type": "display_data"
    },
    {
     "data": {
      "application/vnd.jupyter.widget-view+json": {
       "model_id": "4564ec2872d7444da43a48f69a983d08",
       "version_major": 2,
       "version_minor": 0
      },
      "text/plain": [
       "COLLECTING RESULTS | :   0%|          | 0/1 [00:00<?, ?it/s]"
      ]
     },
     "metadata": {},
     "output_type": "display_data"
    },
    {
     "name": "stdout",
     "output_type": "stream",
     "text": [
      "G:\\ICE\\数据下载测试\\2019\\ATL03\\extent_2\\ATL03_20191230235335_00650607_006_01.h5\n",
      "正在下载 ATL03_20191230235335_00650607_006_01.h5 到 G:\\ICE\\数据下载测试\\2019\\ATL03\\extent_2...\n"
     ]
    },
    {
     "data": {
      "application/vnd.jupyter.widget-view+json": {
       "model_id": "6ddc5bfc2c9e49ce98f0b4c2f065b1ab",
       "version_major": 2,
       "version_minor": 0
      },
      "text/plain": [
       "QUEUEING TASKS | :   0%|          | 0/1 [00:00<?, ?it/s]"
      ]
     },
     "metadata": {},
     "output_type": "display_data"
    },
    {
     "data": {
      "application/vnd.jupyter.widget-view+json": {
       "model_id": "0cbcf6647d7647cbbfb5a2f168058730",
       "version_major": 2,
       "version_minor": 0
      },
      "text/plain": [
       "PROCESSING TASKS | :   0%|          | 0/1 [00:00<?, ?it/s]"
      ]
     },
     "metadata": {},
     "output_type": "display_data"
    },
    {
     "data": {
      "application/vnd.jupyter.widget-view+json": {
       "model_id": "40845eabb2c84afe95740c47e4478a21",
       "version_major": 2,
       "version_minor": 0
      },
      "text/plain": [
       "COLLECTING RESULTS | :   0%|          | 0/1 [00:00<?, ?it/s]"
      ]
     },
     "metadata": {},
     "output_type": "display_data"
    },
    {
     "name": "stdout",
     "output_type": "stream",
     "text": [
      "G:\\ICE\\数据下载测试\\2019\\ATL03\\extent_2\\ATL03_20190101171428_00650207_006_02.h5\n",
      "文件 ATL03_20190101171428_00650207_006_02.h5 已存在，大小匹配，跳过下载。\n",
      "G:\\ICE\\数据下载测试\\2019\\ATL03\\extent_2\\ATL03_20190115041758_02710201_006_02.h5\n",
      "文件 ATL03_20190115041758_02710201_006_02.h5 已存在，大小匹配，跳过下载。\n",
      "G:\\ICE\\数据下载测试\\2019\\ATL03\\extent_2\\ATL03_20190119040939_03320201_006_02.h5\n",
      "文件 ATL03_20190119040939_03320201_006_02.h5 已存在，大小匹配，跳过下载。\n",
      "G:\\ICE\\数据下载测试\\2019\\ATL03\\extent_2\\ATL03_20190130155038_05070207_006_02.h5\n",
      "文件 ATL03_20190130155038_05070207_006_02.h5 已存在，大小匹配，跳过下载。\n",
      "G:\\ICE\\数据下载测试\\2019\\ATL03\\extent_2\\ATL03_20190217024554_07740201_006_02.h5\n",
      "文件 ATL03_20190217024554_07740201_006_02.h5 已存在，大小匹配，跳过下载。\n",
      "G:\\ICE\\数据下载测试\\2019\\ATL03\\extent_2\\ATL03_20190228142639_09490207_006_02.h5\n",
      "文件 ATL03_20190228142639_09490207_006_02.h5 已存在，大小匹配，跳过下载。\n",
      "G:\\ICE\\数据下载测试\\2019\\ATL03\\extent_2\\ATL03_20190318012157_12160201_006_02.h5\n",
      "文件 ATL03_20190318012157_12160201_006_02.h5 已存在，大小匹配，跳过下载。\n",
      "G:\\ICE\\数据下载测试\\2019\\ATL03\\extent_2\\ATL03_20190322011336_12770201_006_02.h5\n",
      "文件 ATL03_20190322011336_12770201_006_02.h5 已存在，大小匹配，跳过下载。\n",
      "G:\\ICE\\数据下载测试\\2019\\ATL03\\extent_2\\ATL03_20190329130238_00040307_006_02.h5\n",
      "文件 ATL03_20190329130238_00040307_006_02.h5 已存在，大小匹配，跳过下载。\n",
      "G:\\ICE\\数据下载测试\\2019\\ATL03\\extent_2\\ATL03_20190402125419_00650307_006_02.h5\n",
      "文件 ATL03_20190402125419_00650307_006_02.h5 已存在，大小匹配，跳过下载。\n",
      "G:\\ICE\\数据下载测试\\2019\\ATL03\\extent_2\\ATL03_20190415235755_02710301_006_02.h5\n",
      "文件 ATL03_20190415235755_02710301_006_02.h5 已存在，大小匹配，跳过下载。\n",
      "G:\\ICE\\数据下载测试\\2019\\ATL03\\extent_2\\ATL03_20190419234935_03320301_006_02.h5\n",
      "文件 ATL03_20190419234935_03320301_006_02.h5 已存在，大小匹配，跳过下载。\n",
      "G:\\ICE\\数据下载测试\\2019\\ATL03\\extent_2\\ATL03_20190427113838_04460307_006_02.h5\n",
      "文件 ATL03_20190427113838_04460307_006_02.h5 已存在，大小匹配，跳过下载。\n",
      "G:\\ICE\\数据下载测试\\2019\\ATL03\\extent_2\\ATL03_20190501113017_05070307_006_02.h5\n",
      "文件 ATL03_20190501113017_05070307_006_02.h5 已存在，大小匹配，跳过下载。\n",
      "G:\\ICE\\数据下载测试\\2019\\ATL03\\extent_2\\ATL03_20190518222532_07740301_006_02.h5\n",
      "文件 ATL03_20190518222532_07740301_006_02.h5 已存在，大小匹配，跳过下载。\n",
      "G:\\ICE\\数据下载测试\\2019\\ATL03\\extent_2\\ATL03_20190530100614_09490307_006_02.h5\n",
      "文件 ATL03_20190530100614_09490307_006_02.h5 已存在，大小匹配，跳过下载。\n",
      "G:\\ICE\\数据下载测试\\2019\\ATL03\\extent_2\\ATL03_20190616210133_12160301_006_02.h5\n",
      "文件 ATL03_20190616210133_12160301_006_02.h5 已存在，大小匹配，跳过下载。\n",
      "G:\\ICE\\数据下载测试\\2019\\ATL03\\extent_2\\ATL03_20190620205312_12770301_006_02.h5\n",
      "文件 ATL03_20190620205312_12770301_006_02.h5 已存在，大小匹配，跳过下载。\n",
      "G:\\ICE\\数据下载测试\\2019\\ATL03\\extent_2\\ATL03_20190719192906_03320401_006_02.h5\n",
      "文件 ATL03_20190719192906_03320401_006_02.h5 已存在，大小匹配，跳过下载。\n",
      "G:\\ICE\\数据下载测试\\2019\\ATL03\\extent_2\\ATL03_20190727071815_04460407_006_02.h5\n",
      "文件 ATL03_20190727071815_04460407_006_02.h5 已存在，大小匹配，跳过下载。\n",
      "G:\\ICE\\数据下载测试\\2019\\ATL03\\extent_2\\ATL03_20190731070957_05070407_006_02.h5\n",
      "文件 ATL03_20190731070957_05070407_006_02.h5 已存在，大小匹配，跳过下载。\n",
      "G:\\ICE\\数据下载测试\\2019\\ATL03\\extent_2\\ATL03_20190817180518_07740401_006_02.h5\n",
      "文件 ATL03_20190817180518_07740401_006_02.h5 已存在，大小匹配，跳过下载。\n",
      "G:\\ICE\\数据下载测试\\2019\\ATL03\\extent_2\\ATL03_20190829054603_09490407_006_02.h5\n",
      "文件 ATL03_20190829054603_09490407_006_02.h5 已存在，大小匹配，跳过下载。\n",
      "G:\\ICE\\数据下载测试\\2019\\ATL03\\extent_2\\ATL03_20190915164123_12160401_006_02.h5\n",
      "文件 ATL03_20190915164123_12160401_006_02.h5 已存在，大小匹配，跳过下载。\n",
      "G:\\ICE\\数据下载测试\\2019\\ATL03\\extent_2\\ATL03_20190927042209_00040507_006_02.h5\n",
      "文件 ATL03_20190927042209_00040507_006_02.h5 已存在，大小匹配，跳过下载。\n",
      "G:\\ICE\\数据下载测试\\2019\\ATL03\\extent_2\\ATL03_20191001041349_00650507_006_03.h5\n",
      "文件 ATL03_20191001041349_00650507_006_03.h5 已存在，大小匹配，跳过下载。\n",
      "G:\\ICE\\数据下载测试\\2019\\ATL03\\extent_2\\ATL03_20191014151728_02710501_006_02.h5\n",
      "文件 ATL03_20191014151728_02710501_006_02.h5 已存在，大小匹配，跳过下载。\n",
      "G:\\ICE\\数据下载测试\\2019\\ATL03\\extent_2\\ATL03_20191018150908_03320501_006_02.h5\n",
      "文件 ATL03_20191018150908_03320501_006_02.h5 已存在，大小匹配，跳过下载。\n",
      "G:\\ICE\\数据下载测试\\2019\\ATL03\\extent_2\\ATL03_20191030024953_05070507_006_01.h5\n",
      "文件 ATL03_20191030024953_05070507_006_01.h5 已存在，大小匹配，跳过下载。\n",
      "G:\\ICE\\数据下载测试\\2019\\ATL03\\extent_2\\ATL03_20191116134513_07740501_006_01.h5\n",
      "文件 ATL03_20191116134513_07740501_006_01.h5 已存在，大小匹配，跳过下载。\n",
      "G:\\ICE\\数据下载测试\\2019\\ATL03\\extent_2\\ATL03_20191128012554_09490507_006_01.h5\n",
      "文件 ATL03_20191128012554_09490507_006_01.h5 已存在，大小匹配，跳过下载。\n",
      "G:\\ICE\\数据下载测试\\2019\\ATL03\\extent_2\\ATL03_20191202011733_10100507_006_01.h5\n",
      "文件 ATL03_20191202011733_10100507_006_01.h5 已存在，大小匹配，跳过下载。\n",
      "G:\\ICE\\数据下载测试\\2019\\ATL03\\extent_2\\ATL03_20191215122111_12160501_006_01.h5\n",
      "文件 ATL03_20191215122111_12160501_006_01.h5 已存在，大小匹配，跳过下载。\n",
      "G:\\ICE\\数据下载测试\\2019\\ATL03\\extent_2\\ATL03_20191219121252_12770501_006_01.h5\n",
      "文件 ATL03_20191219121252_12770501_006_01.h5 已存在，大小匹配，跳过下载。\n",
      "G:\\ICE\\数据下载测试\\2019\\ATL03\\extent_2\\ATL03_20191227000156_00040607_006_01.h5\n",
      "文件 ATL03_20191227000156_00040607_006_01.h5 已存在，大小匹配，跳过下载。\n",
      "G:\\ICE\\数据下载测试\\2019\\ATL03\\extent_2\\ATL03_20191230235335_00650607_006_01.h5\n",
      "文件 ATL03_20191230235335_00650607_006_01.h5 已存在，大小匹配，跳过下载。\n",
      "处理ID= 3 的 extent...\n",
      "查询结果的总大小：287.04 GB\n",
      "文件数量为: 148\n",
      "G:\\ICE\\数据下载测试\\2019\\ATL03\\extent_3\\ATL03_20190104172317_01110206_006_02.h5\n",
      "正在下载 ATL03_20190104172317_01110206_006_02.h5 到 G:\\ICE\\数据下载测试\\2019\\ATL03\\extent_3...\n"
     ]
    },
    {
     "data": {
      "application/vnd.jupyter.widget-view+json": {
       "model_id": "d49b57dd4420401fb61c7516d62074be",
       "version_major": 2,
       "version_minor": 0
      },
      "text/plain": [
       "QUEUEING TASKS | :   0%|          | 0/1 [00:00<?, ?it/s]"
      ]
     },
     "metadata": {},
     "output_type": "display_data"
    },
    {
     "data": {
      "application/vnd.jupyter.widget-view+json": {
       "model_id": "1a48bc72e1444ddf89947430c08a1a7a",
       "version_major": 2,
       "version_minor": 0
      },
      "text/plain": [
       "PROCESSING TASKS | :   0%|          | 0/1 [00:00<?, ?it/s]"
      ]
     },
     "metadata": {},
     "output_type": "display_data"
    },
    {
     "data": {
      "application/vnd.jupyter.widget-view+json": {
       "model_id": "71fc3fc2690b4d7a867fc4b5eed0f475",
       "version_major": 2,
       "version_minor": 0
      },
      "text/plain": [
       "COLLECTING RESULTS | :   0%|          | 0/1 [00:00<?, ?it/s]"
      ]
     },
     "metadata": {},
     "output_type": "display_data"
    },
    {
     "name": "stdout",
     "output_type": "stream",
     "text": [
      "G:\\ICE\\数据下载测试\\2019\\ATL03\\extent_3\\ATL03_20190104173147_01110207_006_02.h5\n",
      "正在下载 ATL03_20190104173147_01110207_006_02.h5 到 G:\\ICE\\数据下载测试\\2019\\ATL03\\extent_3...\n"
     ]
    },
    {
     "data": {
      "application/vnd.jupyter.widget-view+json": {
       "model_id": "38042d82c3ab49bb8812e822268c5581",
       "version_major": 2,
       "version_minor": 0
      },
      "text/plain": [
       "QUEUEING TASKS | :   0%|          | 0/1 [00:00<?, ?it/s]"
      ]
     },
     "metadata": {},
     "output_type": "display_data"
    },
    {
     "data": {
      "application/vnd.jupyter.widget-view+json": {
       "model_id": "a8dbfb0c777c491abf64a12bcf48c662",
       "version_major": 2,
       "version_minor": 0
      },
      "text/plain": [
       "PROCESSING TASKS | :   0%|          | 0/1 [00:00<?, ?it/s]"
      ]
     },
     "metadata": {},
     "output_type": "display_data"
    },
    {
     "data": {
      "application/vnd.jupyter.widget-view+json": {
       "model_id": "3f323acd5662477391b28ee36c2bcace",
       "version_major": 2,
       "version_minor": 0
      },
      "text/plain": [
       "COLLECTING RESULTS | :   0%|          | 0/1 [00:00<?, ?it/s]"
      ]
     },
     "metadata": {},
     "output_type": "display_data"
    },
    {
     "name": "stdout",
     "output_type": "stream",
     "text": [
      "G:\\ICE\\数据下载测试\\2019\\ATL03\\extent_3\\ATL03_20190108171456_01720206_006_02.h5\n",
      "正在下载 ATL03_20190108171456_01720206_006_02.h5 到 G:\\ICE\\数据下载测试\\2019\\ATL03\\extent_3...\n"
     ]
    },
    {
     "data": {
      "application/vnd.jupyter.widget-view+json": {
       "model_id": "67d212e96a3d43b19caea83d627f5d17",
       "version_major": 2,
       "version_minor": 0
      },
      "text/plain": [
       "QUEUEING TASKS | :   0%|          | 0/1 [00:00<?, ?it/s]"
      ]
     },
     "metadata": {},
     "output_type": "display_data"
    },
    {
     "data": {
      "application/vnd.jupyter.widget-view+json": {
       "model_id": "cb556486fef548c1aecb8bc079d90d21",
       "version_major": 2,
       "version_minor": 0
      },
      "text/plain": [
       "PROCESSING TASKS | :   0%|          | 0/1 [00:00<?, ?it/s]"
      ]
     },
     "metadata": {},
     "output_type": "display_data"
    },
    {
     "data": {
      "application/vnd.jupyter.widget-view+json": {
       "model_id": "b1bede8071c549fab91cb742055988b6",
       "version_major": 2,
       "version_minor": 0
      },
      "text/plain": [
       "COLLECTING RESULTS | :   0%|          | 0/1 [00:00<?, ?it/s]"
      ]
     },
     "metadata": {},
     "output_type": "display_data"
    },
    {
     "name": "stdout",
     "output_type": "stream",
     "text": [
      "G:\\ICE\\数据下载测试\\2019\\ATL03\\extent_3\\ATL03_20190108172326_01720207_006_02.h5\n",
      "正在下载 ATL03_20190108172326_01720207_006_02.h5 到 G:\\ICE\\数据下载测试\\2019\\ATL03\\extent_3...\n"
     ]
    },
    {
     "data": {
      "application/vnd.jupyter.widget-view+json": {
       "model_id": "0c4f4b8403d34fc59ba414970f3ec947",
       "version_major": 2,
       "version_minor": 0
      },
      "text/plain": [
       "QUEUEING TASKS | :   0%|          | 0/1 [00:00<?, ?it/s]"
      ]
     },
     "metadata": {},
     "output_type": "display_data"
    },
    {
     "data": {
      "application/vnd.jupyter.widget-view+json": {
       "model_id": "0a4a6f6c796649bca3029b97d2e95eb6",
       "version_major": 2,
       "version_minor": 0
      },
      "text/plain": [
       "PROCESSING TASKS | :   0%|          | 0/1 [00:00<?, ?it/s]"
      ]
     },
     "metadata": {},
     "output_type": "display_data"
    },
    {
     "data": {
      "application/vnd.jupyter.widget-view+json": {
       "model_id": "fc90e2dc3c9a424f997e5eb96c842cf3",
       "version_major": 2,
       "version_minor": 0
      },
      "text/plain": [
       "COLLECTING RESULTS | :   0%|          | 0/1 [00:00<?, ?it/s]"
      ]
     },
     "metadata": {},
     "output_type": "display_data"
    },
    {
     "name": "stdout",
     "output_type": "stream",
     "text": [
      "G:\\ICE\\数据下载测试\\2019\\ATL03\\extent_3\\ATL03_20190122042705_03780201_006_02.h5\n",
      "正在下载 ATL03_20190122042705_03780201_006_02.h5 到 G:\\ICE\\数据下载测试\\2019\\ATL03\\extent_3...\n"
     ]
    },
    {
     "data": {
      "application/vnd.jupyter.widget-view+json": {
       "model_id": "0db59c2bd67b4c50a8104d2839ace087",
       "version_major": 2,
       "version_minor": 0
      },
      "text/plain": [
       "QUEUEING TASKS | :   0%|          | 0/1 [00:00<?, ?it/s]"
      ]
     },
     "metadata": {},
     "output_type": "display_data"
    },
    {
     "data": {
      "application/vnd.jupyter.widget-view+json": {
       "model_id": "c69529f0c9524236bde247330dd0673e",
       "version_major": 2,
       "version_minor": 0
      },
      "text/plain": [
       "PROCESSING TASKS | :   0%|          | 0/1 [00:00<?, ?it/s]"
      ]
     },
     "metadata": {},
     "output_type": "display_data"
    },
    {
     "data": {
      "application/vnd.jupyter.widget-view+json": {
       "model_id": "6e9c20c67c63436e89d46646ccd8562f",
       "version_major": 2,
       "version_minor": 0
      },
      "text/plain": [
       "COLLECTING RESULTS | :   0%|          | 0/1 [00:00<?, ?it/s]"
      ]
     },
     "metadata": {},
     "output_type": "display_data"
    },
    {
     "name": "stdout",
     "output_type": "stream",
     "text": [
      "G:\\ICE\\数据下载测试\\2019\\ATL03\\extent_3\\ATL03_20190122043407_03780202_006_02.h5\n",
      "正在下载 ATL03_20190122043407_03780202_006_02.h5 到 G:\\ICE\\数据下载测试\\2019\\ATL03\\extent_3...\n"
     ]
    },
    {
     "data": {
      "application/vnd.jupyter.widget-view+json": {
       "model_id": "28938cba6ef84dc9a2faaffebef27895",
       "version_major": 2,
       "version_minor": 0
      },
      "text/plain": [
       "QUEUEING TASKS | :   0%|          | 0/1 [00:00<?, ?it/s]"
      ]
     },
     "metadata": {},
     "output_type": "display_data"
    },
    {
     "data": {
      "application/vnd.jupyter.widget-view+json": {
       "model_id": "6478d4d664eb4e78b137e25e1d3a1fa8",
       "version_major": 2,
       "version_minor": 0
      },
      "text/plain": [
       "PROCESSING TASKS | :   0%|          | 0/1 [00:00<?, ?it/s]"
      ]
     },
     "metadata": {},
     "output_type": "display_data"
    },
    {
     "data": {
      "application/vnd.jupyter.widget-view+json": {
       "model_id": "885f3deafb814e419600331aa84cc16d",
       "version_major": 2,
       "version_minor": 0
      },
      "text/plain": [
       "COLLECTING RESULTS | :   0%|          | 0/1 [00:00<?, ?it/s]"
      ]
     },
     "metadata": {},
     "output_type": "display_data"
    },
    {
     "name": "stdout",
     "output_type": "stream",
     "text": [
      "G:\\ICE\\数据下载测试\\2019\\ATL03\\extent_3\\ATL03_20190126041850_04390201_006_02.h5\n",
      "正在下载 ATL03_20190126041850_04390201_006_02.h5 到 G:\\ICE\\数据下载测试\\2019\\ATL03\\extent_3...\n"
     ]
    },
    {
     "data": {
      "application/vnd.jupyter.widget-view+json": {
       "model_id": "36f934e8e26a40e19d6aed4e83703cbc",
       "version_major": 2,
       "version_minor": 0
      },
      "text/plain": [
       "QUEUEING TASKS | :   0%|          | 0/1 [00:00<?, ?it/s]"
      ]
     },
     "metadata": {},
     "output_type": "display_data"
    },
    {
     "data": {
      "application/vnd.jupyter.widget-view+json": {
       "model_id": "2ce936faba8843be823a90605793c383",
       "version_major": 2,
       "version_minor": 0
      },
      "text/plain": [
       "PROCESSING TASKS | :   0%|          | 0/1 [00:00<?, ?it/s]"
      ]
     },
     "metadata": {},
     "output_type": "display_data"
    },
    {
     "data": {
      "application/vnd.jupyter.widget-view+json": {
       "model_id": "0543f6ad62b649828e4d59cd0f9a8cae",
       "version_major": 2,
       "version_minor": 0
      },
      "text/plain": [
       "COLLECTING RESULTS | :   0%|          | 0/1 [00:00<?, ?it/s]"
      ]
     },
     "metadata": {},
     "output_type": "display_data"
    },
    {
     "name": "stdout",
     "output_type": "stream",
     "text": [
      "G:\\ICE\\数据下载测试\\2019\\ATL03\\extent_3\\ATL03_20190202155929_05530206_006_02.h5\n",
      "正在下载 ATL03_20190202155929_05530206_006_02.h5 到 G:\\ICE\\数据下载测试\\2019\\ATL03\\extent_3...\n"
     ]
    },
    {
     "data": {
      "application/vnd.jupyter.widget-view+json": {
       "model_id": "74103feda39b4c3888934f61d642b4b5",
       "version_major": 2,
       "version_minor": 0
      },
      "text/plain": [
       "QUEUEING TASKS | :   0%|          | 0/1 [00:00<?, ?it/s]"
      ]
     },
     "metadata": {},
     "output_type": "display_data"
    },
    {
     "data": {
      "application/vnd.jupyter.widget-view+json": {
       "model_id": "33f0a92c0f984006b0d8a130240dbe44",
       "version_major": 2,
       "version_minor": 0
      },
      "text/plain": [
       "PROCESSING TASKS | :   0%|          | 0/1 [00:00<?, ?it/s]"
      ]
     },
     "metadata": {},
     "output_type": "display_data"
    },
    {
     "data": {
      "application/vnd.jupyter.widget-view+json": {
       "model_id": "1b7a2ed4fb3e45ce8db72f5073a2eae0",
       "version_major": 2,
       "version_minor": 0
      },
      "text/plain": [
       "COLLECTING RESULTS | :   0%|          | 0/1 [00:00<?, ?it/s]"
      ]
     },
     "metadata": {},
     "output_type": "display_data"
    },
    {
     "name": "stdout",
     "output_type": "stream",
     "text": [
      "G:\\ICE\\数据下载测试\\2019\\ATL03\\extent_3\\ATL03_20190202160759_05530207_006_02.h5\n",
      "正在下载 ATL03_20190202160759_05530207_006_02.h5 到 G:\\ICE\\数据下载测试\\2019\\ATL03\\extent_3...\n"
     ]
    },
    {
     "data": {
      "application/vnd.jupyter.widget-view+json": {
       "model_id": "9e5c760d14794eda90e6a8a0b12b5f71",
       "version_major": 2,
       "version_minor": 0
      },
      "text/plain": [
       "QUEUEING TASKS | :   0%|          | 0/1 [00:00<?, ?it/s]"
      ]
     },
     "metadata": {},
     "output_type": "display_data"
    },
    {
     "data": {
      "application/vnd.jupyter.widget-view+json": {
       "model_id": "dfd0b1cd9446465c8e610d108c1f8264",
       "version_major": 2,
       "version_minor": 0
      },
      "text/plain": [
       "PROCESSING TASKS | :   0%|          | 0/1 [00:00<?, ?it/s]"
      ]
     },
     "metadata": {},
     "output_type": "display_data"
    },
    {
     "data": {
      "application/vnd.jupyter.widget-view+json": {
       "model_id": "c46a0fb9d3374a94bf06a0886d927013",
       "version_major": 2,
       "version_minor": 0
      },
      "text/plain": [
       "COLLECTING RESULTS | :   0%|          | 0/1 [00:00<?, ?it/s]"
      ]
     },
     "metadata": {},
     "output_type": "display_data"
    },
    {
     "name": "stdout",
     "output_type": "stream",
     "text": [
      "G:\\ICE\\数据下载测试\\2019\\ATL03\\extent_3\\ATL03_20190206155109_06140206_006_02.h5\n",
      "正在下载 ATL03_20190206155109_06140206_006_02.h5 到 G:\\ICE\\数据下载测试\\2019\\ATL03\\extent_3...\n"
     ]
    },
    {
     "data": {
      "application/vnd.jupyter.widget-view+json": {
       "model_id": "24dbeb881f3647cc8854f9b9c84ad636",
       "version_major": 2,
       "version_minor": 0
      },
      "text/plain": [
       "QUEUEING TASKS | :   0%|          | 0/1 [00:00<?, ?it/s]"
      ]
     },
     "metadata": {},
     "output_type": "display_data"
    },
    {
     "data": {
      "application/vnd.jupyter.widget-view+json": {
       "model_id": "1a7602367e0a4ccca45c8913c357b496",
       "version_major": 2,
       "version_minor": 0
      },
      "text/plain": [
       "PROCESSING TASKS | :   0%|          | 0/1 [00:00<?, ?it/s]"
      ]
     },
     "metadata": {},
     "output_type": "display_data"
    },
    {
     "data": {
      "application/vnd.jupyter.widget-view+json": {
       "model_id": "c020487caa2a498087b67c618219a9cf",
       "version_major": 2,
       "version_minor": 0
      },
      "text/plain": [
       "COLLECTING RESULTS | :   0%|          | 0/1 [00:00<?, ?it/s]"
      ]
     },
     "metadata": {},
     "output_type": "display_data"
    },
    {
     "name": "stdout",
     "output_type": "stream",
     "text": [
      "G:\\ICE\\数据下载测试\\2019\\ATL03\\extent_3\\ATL03_20190206155939_06140207_006_02.h5\n",
      "正在下载 ATL03_20190206155939_06140207_006_02.h5 到 G:\\ICE\\数据下载测试\\2019\\ATL03\\extent_3...\n"
     ]
    },
    {
     "data": {
      "application/vnd.jupyter.widget-view+json": {
       "model_id": "aefb8149adab4f8483982aa07293e210",
       "version_major": 2,
       "version_minor": 0
      },
      "text/plain": [
       "QUEUEING TASKS | :   0%|          | 0/1 [00:00<?, ?it/s]"
      ]
     },
     "metadata": {},
     "output_type": "display_data"
    },
    {
     "data": {
      "application/vnd.jupyter.widget-view+json": {
       "model_id": "f046b37b7f884270a31d5bc569d6e4ff",
       "version_major": 2,
       "version_minor": 0
      },
      "text/plain": [
       "PROCESSING TASKS | :   0%|          | 0/1 [00:00<?, ?it/s]"
      ]
     },
     "metadata": {},
     "output_type": "display_data"
    },
    {
     "data": {
      "application/vnd.jupyter.widget-view+json": {
       "model_id": "61238c4c37dc4e5ea239b22e02a16bbd",
       "version_major": 2,
       "version_minor": 0
      },
      "text/plain": [
       "COLLECTING RESULTS | :   0%|          | 0/1 [00:00<?, ?it/s]"
      ]
     },
     "metadata": {},
     "output_type": "display_data"
    },
    {
     "name": "stdout",
     "output_type": "stream",
     "text": [
      "G:\\ICE\\数据下载测试\\2019\\ATL03\\extent_3\\ATL03_20190220030312_08200201_006_02.h5\n",
      "正在下载 ATL03_20190220030312_08200201_006_02.h5 到 G:\\ICE\\数据下载测试\\2019\\ATL03\\extent_3...\n"
     ]
    },
    {
     "data": {
      "application/vnd.jupyter.widget-view+json": {
       "model_id": "9185e7f4a2d64693b2593e6d78100842",
       "version_major": 2,
       "version_minor": 0
      },
      "text/plain": [
       "QUEUEING TASKS | :   0%|          | 0/1 [00:00<?, ?it/s]"
      ]
     },
     "metadata": {},
     "output_type": "display_data"
    },
    {
     "data": {
      "application/vnd.jupyter.widget-view+json": {
       "model_id": "049111a4b08b4b3799c8402379dfe7db",
       "version_major": 2,
       "version_minor": 0
      },
      "text/plain": [
       "PROCESSING TASKS | :   0%|          | 0/1 [00:00<?, ?it/s]"
      ]
     },
     "metadata": {},
     "output_type": "display_data"
    },
    {
     "data": {
      "application/vnd.jupyter.widget-view+json": {
       "model_id": "06db612716e04a3b929453cf82bfff89",
       "version_major": 2,
       "version_minor": 0
      },
      "text/plain": [
       "COLLECTING RESULTS | :   0%|          | 0/1 [00:00<?, ?it/s]"
      ]
     },
     "metadata": {},
     "output_type": "display_data"
    },
    {
     "name": "stdout",
     "output_type": "stream",
     "text": [
      "G:\\ICE\\数据下载测试\\2019\\ATL03\\extent_3\\ATL03_20190220031014_08200202_006_02.h5\n",
      "正在下载 ATL03_20190220031014_08200202_006_02.h5 到 G:\\ICE\\数据下载测试\\2019\\ATL03\\extent_3...\n"
     ]
    },
    {
     "data": {
      "application/vnd.jupyter.widget-view+json": {
       "model_id": "a4717c8c54804f02a6f34e556c98ada5",
       "version_major": 2,
       "version_minor": 0
      },
      "text/plain": [
       "QUEUEING TASKS | :   0%|          | 0/1 [00:00<?, ?it/s]"
      ]
     },
     "metadata": {},
     "output_type": "display_data"
    },
    {
     "data": {
      "application/vnd.jupyter.widget-view+json": {
       "model_id": "aa3b2ced85314c1c8fd0c39af73d9a50",
       "version_major": 2,
       "version_minor": 0
      },
      "text/plain": [
       "PROCESSING TASKS | :   0%|          | 0/1 [00:00<?, ?it/s]"
      ]
     },
     "metadata": {},
     "output_type": "display_data"
    },
    {
     "data": {
      "application/vnd.jupyter.widget-view+json": {
       "model_id": "b6a66984e89a42568ccd6bc5f79a7c9f",
       "version_major": 2,
       "version_minor": 0
      },
      "text/plain": [
       "COLLECTING RESULTS | :   0%|          | 0/1 [00:00<?, ?it/s]"
      ]
     },
     "metadata": {},
     "output_type": "display_data"
    },
    {
     "name": "stdout",
     "output_type": "stream",
     "text": [
      "G:\\ICE\\数据下载测试\\2019\\ATL03\\extent_3\\ATL03_20190224025455_08810201_006_02.h5\n",
      "正在下载 ATL03_20190224025455_08810201_006_02.h5 到 G:\\ICE\\数据下载测试\\2019\\ATL03\\extent_3...\n"
     ]
    },
    {
     "data": {
      "application/vnd.jupyter.widget-view+json": {
       "model_id": "506d74fd20894e81b994e5a52919be20",
       "version_major": 2,
       "version_minor": 0
      },
      "text/plain": [
       "QUEUEING TASKS | :   0%|          | 0/1 [00:00<?, ?it/s]"
      ]
     },
     "metadata": {},
     "output_type": "display_data"
    },
    {
     "data": {
      "application/vnd.jupyter.widget-view+json": {
       "model_id": "4939cc19dbf042a4841f47fd4ca60064",
       "version_major": 2,
       "version_minor": 0
      },
      "text/plain": [
       "PROCESSING TASKS | :   0%|          | 0/1 [00:00<?, ?it/s]"
      ]
     },
     "metadata": {},
     "output_type": "display_data"
    },
    {
     "data": {
      "application/vnd.jupyter.widget-view+json": {
       "model_id": "cfd3b16d782e47d6aae46e36b4ec1d53",
       "version_major": 2,
       "version_minor": 0
      },
      "text/plain": [
       "COLLECTING RESULTS | :   0%|          | 0/1 [00:00<?, ?it/s]"
      ]
     },
     "metadata": {},
     "output_type": "display_data"
    },
    {
     "name": "stdout",
     "output_type": "stream",
     "text": [
      "G:\\ICE\\数据下载测试\\2019\\ATL03\\extent_3\\ATL03_20190224030157_08810202_006_02.h5\n",
      "正在下载 ATL03_20190224030157_08810202_006_02.h5 到 G:\\ICE\\数据下载测试\\2019\\ATL03\\extent_3...\n"
     ]
    },
    {
     "data": {
      "application/vnd.jupyter.widget-view+json": {
       "model_id": "ba20070ec3b4464294e5ef396b281b37",
       "version_major": 2,
       "version_minor": 0
      },
      "text/plain": [
       "QUEUEING TASKS | :   0%|          | 0/1 [00:00<?, ?it/s]"
      ]
     },
     "metadata": {},
     "output_type": "display_data"
    },
    {
     "data": {
      "application/vnd.jupyter.widget-view+json": {
       "model_id": "5f4816f9022340078549261bc99730fd",
       "version_major": 2,
       "version_minor": 0
      },
      "text/plain": [
       "PROCESSING TASKS | :   0%|          | 0/1 [00:00<?, ?it/s]"
      ]
     },
     "metadata": {},
     "output_type": "display_data"
    },
    {
     "data": {
      "application/vnd.jupyter.widget-view+json": {
       "model_id": "84a664067b4b438686fc51e8e0915abd",
       "version_major": 2,
       "version_minor": 0
      },
      "text/plain": [
       "COLLECTING RESULTS | :   0%|          | 0/1 [00:00<?, ?it/s]"
      ]
     },
     "metadata": {},
     "output_type": "display_data"
    },
    {
     "name": "stdout",
     "output_type": "stream",
     "text": [
      "G:\\ICE\\数据下载测试\\2019\\ATL03\\extent_3\\ATL03_20190307142709_10560206_006_02.h5\n",
      "正在下载 ATL03_20190307142709_10560206_006_02.h5 到 G:\\ICE\\数据下载测试\\2019\\ATL03\\extent_3...\n"
     ]
    },
    {
     "data": {
      "application/vnd.jupyter.widget-view+json": {
       "model_id": "fde4d78d2fdc4bd585d615aa1c937c74",
       "version_major": 2,
       "version_minor": 0
      },
      "text/plain": [
       "QUEUEING TASKS | :   0%|          | 0/1 [00:00<?, ?it/s]"
      ]
     },
     "metadata": {},
     "output_type": "display_data"
    },
    {
     "data": {
      "application/vnd.jupyter.widget-view+json": {
       "model_id": "7bd74b7015304e1ba85dc6b38648a58d",
       "version_major": 2,
       "version_minor": 0
      },
      "text/plain": [
       "PROCESSING TASKS | :   0%|          | 0/1 [00:00<?, ?it/s]"
      ]
     },
     "metadata": {},
     "output_type": "display_data"
    },
    {
     "data": {
      "application/vnd.jupyter.widget-view+json": {
       "model_id": "22ed801e800b422eb092e5d16a0ec267",
       "version_major": 2,
       "version_minor": 0
      },
      "text/plain": [
       "COLLECTING RESULTS | :   0%|          | 0/1 [00:00<?, ?it/s]"
      ]
     },
     "metadata": {},
     "output_type": "display_data"
    },
    {
     "name": "stdout",
     "output_type": "stream",
     "text": [
      "G:\\ICE\\数据下载测试\\2019\\ATL03\\extent_3\\ATL03_20190307143539_10560207_006_02.h5\n",
      "正在下载 ATL03_20190307143539_10560207_006_02.h5 到 G:\\ICE\\数据下载测试\\2019\\ATL03\\extent_3...\n"
     ]
    },
    {
     "data": {
      "application/vnd.jupyter.widget-view+json": {
       "model_id": "6ac59285d99f40f3bff1987621821cb3",
       "version_major": 2,
       "version_minor": 0
      },
      "text/plain": [
       "QUEUEING TASKS | :   0%|          | 0/1 [00:00<?, ?it/s]"
      ]
     },
     "metadata": {},
     "output_type": "display_data"
    },
    {
     "data": {
      "application/vnd.jupyter.widget-view+json": {
       "model_id": "42f7e6f08d4247ef866c505391f2b35b",
       "version_major": 2,
       "version_minor": 0
      },
      "text/plain": [
       "PROCESSING TASKS | :   0%|          | 0/1 [00:00<?, ?it/s]"
      ]
     },
     "metadata": {},
     "output_type": "display_data"
    },
    {
     "data": {
      "application/vnd.jupyter.widget-view+json": {
       "model_id": "d8d7c1b18375455986cff1778c85c574",
       "version_major": 2,
       "version_minor": 0
      },
      "text/plain": [
       "COLLECTING RESULTS | :   0%|          | 0/1 [00:00<?, ?it/s]"
      ]
     },
     "metadata": {},
     "output_type": "display_data"
    },
    {
     "name": "stdout",
     "output_type": "stream",
     "text": [
      "G:\\ICE\\数据下载测试\\2019\\ATL03\\extent_3\\ATL03_20190325013055_13230201_006_02.h5\n",
      "正在下载 ATL03_20190325013055_13230201_006_02.h5 到 G:\\ICE\\数据下载测试\\2019\\ATL03\\extent_3...\n"
     ]
    },
    {
     "data": {
      "application/vnd.jupyter.widget-view+json": {
       "model_id": "67cf718b22b548cca05de4940def62aa",
       "version_major": 2,
       "version_minor": 0
      },
      "text/plain": [
       "QUEUEING TASKS | :   0%|          | 0/1 [00:00<?, ?it/s]"
      ]
     },
     "metadata": {},
     "output_type": "display_data"
    },
    {
     "data": {
      "application/vnd.jupyter.widget-view+json": {
       "model_id": "657ab233beeb404fbe0d9e9efd0e26a0",
       "version_major": 2,
       "version_minor": 0
      },
      "text/plain": [
       "PROCESSING TASKS | :   0%|          | 0/1 [00:00<?, ?it/s]"
      ]
     },
     "metadata": {},
     "output_type": "display_data"
    },
    {
     "data": {
      "application/vnd.jupyter.widget-view+json": {
       "model_id": "fe916aff4b46444699ef439fb873d91e",
       "version_major": 2,
       "version_minor": 0
      },
      "text/plain": [
       "COLLECTING RESULTS | :   0%|          | 0/1 [00:00<?, ?it/s]"
      ]
     },
     "metadata": {},
     "output_type": "display_data"
    },
    {
     "name": "stdout",
     "output_type": "stream",
     "text": [
      "G:\\ICE\\数据下载测试\\2019\\ATL03\\extent_3\\ATL03_20190325013757_13230202_006_02.h5\n",
      "正在下载 ATL03_20190325013757_13230202_006_02.h5 到 G:\\ICE\\数据下载测试\\2019\\ATL03\\extent_3...\n"
     ]
    },
    {
     "data": {
      "application/vnd.jupyter.widget-view+json": {
       "model_id": "81ee31812693473381f63e3d52309579",
       "version_major": 2,
       "version_minor": 0
      },
      "text/plain": [
       "QUEUEING TASKS | :   0%|          | 0/1 [00:00<?, ?it/s]"
      ]
     },
     "metadata": {},
     "output_type": "display_data"
    },
    {
     "data": {
      "application/vnd.jupyter.widget-view+json": {
       "model_id": "5a870e752b074e7b8e2ec782b342873e",
       "version_major": 2,
       "version_minor": 0
      },
      "text/plain": [
       "PROCESSING TASKS | :   0%|          | 0/1 [00:00<?, ?it/s]"
      ]
     },
     "metadata": {},
     "output_type": "display_data"
    },
    {
     "data": {
      "application/vnd.jupyter.widget-view+json": {
       "model_id": "cb2bb5b99a0f4f50a9348aec4c7cd226",
       "version_major": 2,
       "version_minor": 0
      },
      "text/plain": [
       "COLLECTING RESULTS | :   0%|          | 0/1 [00:00<?, ?it/s]"
      ]
     },
     "metadata": {},
     "output_type": "display_data"
    },
    {
     "name": "stdout",
     "output_type": "stream",
     "text": [
      "G:\\ICE\\数据下载测试\\2019\\ATL03\\extent_3\\ATL03_20190405130309_01110306_006_02.h5\n",
      "正在下载 ATL03_20190405130309_01110306_006_02.h5 到 G:\\ICE\\数据下载测试\\2019\\ATL03\\extent_3...\n"
     ]
    },
    {
     "data": {
      "application/vnd.jupyter.widget-view+json": {
       "model_id": "b69704eeca464df698ccb3520a1bdc1f",
       "version_major": 2,
       "version_minor": 0
      },
      "text/plain": [
       "QUEUEING TASKS | :   0%|          | 0/1 [00:00<?, ?it/s]"
      ]
     },
     "metadata": {},
     "output_type": "display_data"
    },
    {
     "data": {
      "application/vnd.jupyter.widget-view+json": {
       "model_id": "d8fb1196cd124c61887638d26318c340",
       "version_major": 2,
       "version_minor": 0
      },
      "text/plain": [
       "PROCESSING TASKS | :   0%|          | 0/1 [00:00<?, ?it/s]"
      ]
     },
     "metadata": {},
     "output_type": "display_data"
    },
    {
     "data": {
      "application/vnd.jupyter.widget-view+json": {
       "model_id": "65ace3e9d7454366a44601f0e9a86de8",
       "version_major": 2,
       "version_minor": 0
      },
      "text/plain": [
       "COLLECTING RESULTS | :   0%|          | 0/1 [00:00<?, ?it/s]"
      ]
     },
     "metadata": {},
     "output_type": "display_data"
    },
    {
     "name": "stdout",
     "output_type": "stream",
     "text": [
      "G:\\ICE\\数据下载测试\\2019\\ATL03\\extent_3\\ATL03_20190405131139_01110307_006_02.h5\n",
      "正在下载 ATL03_20190405131139_01110307_006_02.h5 到 G:\\ICE\\数据下载测试\\2019\\ATL03\\extent_3...\n"
     ]
    },
    {
     "data": {
      "application/vnd.jupyter.widget-view+json": {
       "model_id": "39463cd9175042adb9c62e0308343b16",
       "version_major": 2,
       "version_minor": 0
      },
      "text/plain": [
       "QUEUEING TASKS | :   0%|          | 0/1 [00:00<?, ?it/s]"
      ]
     },
     "metadata": {},
     "output_type": "display_data"
    },
    {
     "data": {
      "application/vnd.jupyter.widget-view+json": {
       "model_id": "51bf02610eb44a239feeda3eea19a453",
       "version_major": 2,
       "version_minor": 0
      },
      "text/plain": [
       "PROCESSING TASKS | :   0%|          | 0/1 [00:00<?, ?it/s]"
      ]
     },
     "metadata": {},
     "output_type": "display_data"
    },
    {
     "data": {
      "application/vnd.jupyter.widget-view+json": {
       "model_id": "9cc463e0d3764b89a45c3fa813d5abb5",
       "version_major": 2,
       "version_minor": 0
      },
      "text/plain": [
       "COLLECTING RESULTS | :   0%|          | 0/1 [00:00<?, ?it/s]"
      ]
     },
     "metadata": {},
     "output_type": "display_data"
    },
    {
     "name": "stdout",
     "output_type": "stream",
     "text": [
      "G:\\ICE\\数据下载测试\\2019\\ATL03\\extent_3\\ATL03_20190409125448_01720306_006_02.h5\n",
      "正在下载 ATL03_20190409125448_01720306_006_02.h5 到 G:\\ICE\\数据下载测试\\2019\\ATL03\\extent_3...\n"
     ]
    },
    {
     "data": {
      "application/vnd.jupyter.widget-view+json": {
       "model_id": "c447563d659d4271b2836320d5f77116",
       "version_major": 2,
       "version_minor": 0
      },
      "text/plain": [
       "QUEUEING TASKS | :   0%|          | 0/1 [00:00<?, ?it/s]"
      ]
     },
     "metadata": {},
     "output_type": "display_data"
    },
    {
     "data": {
      "application/vnd.jupyter.widget-view+json": {
       "model_id": "12bdf84d695a42fdac4292079d526574",
       "version_major": 2,
       "version_minor": 0
      },
      "text/plain": [
       "PROCESSING TASKS | :   0%|          | 0/1 [00:00<?, ?it/s]"
      ]
     },
     "metadata": {},
     "output_type": "display_data"
    },
    {
     "data": {
      "application/vnd.jupyter.widget-view+json": {
       "model_id": "ba17eb09063c4ad2af1cb336ad589659",
       "version_major": 2,
       "version_minor": 0
      },
      "text/plain": [
       "COLLECTING RESULTS | :   0%|          | 0/1 [00:00<?, ?it/s]"
      ]
     },
     "metadata": {},
     "output_type": "display_data"
    },
    {
     "name": "stdout",
     "output_type": "stream",
     "text": [
      "G:\\ICE\\数据下载测试\\2019\\ATL03\\extent_3\\ATL03_20190409130319_01720307_006_02.h5\n",
      "正在下载 ATL03_20190409130319_01720307_006_02.h5 到 G:\\ICE\\数据下载测试\\2019\\ATL03\\extent_3...\n"
     ]
    },
    {
     "data": {
      "application/vnd.jupyter.widget-view+json": {
       "model_id": "dbde2c3f8ac24a55865898aa32186e4a",
       "version_major": 2,
       "version_minor": 0
      },
      "text/plain": [
       "QUEUEING TASKS | :   0%|          | 0/1 [00:00<?, ?it/s]"
      ]
     },
     "metadata": {},
     "output_type": "display_data"
    },
    {
     "data": {
      "application/vnd.jupyter.widget-view+json": {
       "model_id": "8bf1dce3b8dd4bad9c2fa4583ee2f000",
       "version_major": 2,
       "version_minor": 0
      },
      "text/plain": [
       "PROCESSING TASKS | :   0%|          | 0/1 [00:00<?, ?it/s]"
      ]
     },
     "metadata": {},
     "output_type": "display_data"
    },
    {
     "data": {
      "application/vnd.jupyter.widget-view+json": {
       "model_id": "433a017e675e48d68ced12a19aa7705d",
       "version_major": 2,
       "version_minor": 0
      },
      "text/plain": [
       "COLLECTING RESULTS | :   0%|          | 0/1 [00:00<?, ?it/s]"
      ]
     },
     "metadata": {},
     "output_type": "display_data"
    },
    {
     "name": "stdout",
     "output_type": "stream",
     "text": [
      "G:\\ICE\\数据下载测试\\2019\\ATL03\\extent_3\\ATL03_20190423000655_03780301_006_02.h5\n",
      "正在下载 ATL03_20190423000655_03780301_006_02.h5 到 G:\\ICE\\数据下载测试\\2019\\ATL03\\extent_3...\n"
     ]
    },
    {
     "data": {
      "application/vnd.jupyter.widget-view+json": {
       "model_id": "89015b5755124beaad506c80e6819adb",
       "version_major": 2,
       "version_minor": 0
      },
      "text/plain": [
       "QUEUEING TASKS | :   0%|          | 0/1 [00:00<?, ?it/s]"
      ]
     },
     "metadata": {},
     "output_type": "display_data"
    },
    {
     "data": {
      "application/vnd.jupyter.widget-view+json": {
       "model_id": "eb7f7f2327484049bc72c3381ec1d376",
       "version_major": 2,
       "version_minor": 0
      },
      "text/plain": [
       "PROCESSING TASKS | :   0%|          | 0/1 [00:00<?, ?it/s]"
      ]
     },
     "metadata": {},
     "output_type": "display_data"
    },
    {
     "data": {
      "application/vnd.jupyter.widget-view+json": {
       "model_id": "20d2cdbd48b24a6db8bdafa745068c02",
       "version_major": 2,
       "version_minor": 0
      },
      "text/plain": [
       "COLLECTING RESULTS | :   0%|          | 0/1 [00:00<?, ?it/s]"
      ]
     },
     "metadata": {},
     "output_type": "display_data"
    },
    {
     "name": "stdout",
     "output_type": "stream",
     "text": [
      "G:\\ICE\\数据下载测试\\2019\\ATL03\\extent_3\\ATL03_20190423001356_03780302_006_02.h5\n",
      "正在下载 ATL03_20190423001356_03780302_006_02.h5 到 G:\\ICE\\数据下载测试\\2019\\ATL03\\extent_3...\n"
     ]
    },
    {
     "data": {
      "application/vnd.jupyter.widget-view+json": {
       "model_id": "fe188de8df544e6ea873ec20368dcfa7",
       "version_major": 2,
       "version_minor": 0
      },
      "text/plain": [
       "QUEUEING TASKS | :   0%|          | 0/1 [00:00<?, ?it/s]"
      ]
     },
     "metadata": {},
     "output_type": "display_data"
    },
    {
     "data": {
      "application/vnd.jupyter.widget-view+json": {
       "model_id": "35e35357b3d84d4780e4f75638cc09f7",
       "version_major": 2,
       "version_minor": 0
      },
      "text/plain": [
       "PROCESSING TASKS | :   0%|          | 0/1 [00:00<?, ?it/s]"
      ]
     },
     "metadata": {},
     "output_type": "display_data"
    },
    {
     "data": {
      "application/vnd.jupyter.widget-view+json": {
       "model_id": "d168a1616ea14b4aabad97072651accd",
       "version_major": 2,
       "version_minor": 0
      },
      "text/plain": [
       "COLLECTING RESULTS | :   0%|          | 0/1 [00:00<?, ?it/s]"
      ]
     },
     "metadata": {},
     "output_type": "display_data"
    },
    {
     "name": "stdout",
     "output_type": "stream",
     "text": [
      "G:\\ICE\\数据下载测试\\2019\\ATL03\\extent_3\\ATL03_20190426235834_04390301_006_02.h5\n",
      "正在下载 ATL03_20190426235834_04390301_006_02.h5 到 G:\\ICE\\数据下载测试\\2019\\ATL03\\extent_3...\n"
     ]
    },
    {
     "data": {
      "application/vnd.jupyter.widget-view+json": {
       "model_id": "cf8fc9980a50430c9b1e68ccbf2e78b1",
       "version_major": 2,
       "version_minor": 0
      },
      "text/plain": [
       "QUEUEING TASKS | :   0%|          | 0/1 [00:00<?, ?it/s]"
      ]
     },
     "metadata": {},
     "output_type": "display_data"
    },
    {
     "data": {
      "application/vnd.jupyter.widget-view+json": {
       "model_id": "6ea486de3e944539b39b0f1dd8b17b0f",
       "version_major": 2,
       "version_minor": 0
      },
      "text/plain": [
       "PROCESSING TASKS | :   0%|          | 0/1 [00:00<?, ?it/s]"
      ]
     },
     "metadata": {},
     "output_type": "display_data"
    },
    {
     "data": {
      "application/vnd.jupyter.widget-view+json": {
       "model_id": "03ee3a613493484389d6d7076d8e356b",
       "version_major": 2,
       "version_minor": 0
      },
      "text/plain": [
       "COLLECTING RESULTS | :   0%|          | 0/1 [00:00<?, ?it/s]"
      ]
     },
     "metadata": {},
     "output_type": "display_data"
    },
    {
     "name": "stdout",
     "output_type": "stream",
     "text": [
      "G:\\ICE\\数据下载测试\\2019\\ATL03\\extent_3\\ATL03_20190504113906_05530306_006_02.h5\n",
      "正在下载 ATL03_20190504113906_05530306_006_02.h5 到 G:\\ICE\\数据下载测试\\2019\\ATL03\\extent_3...\n"
     ]
    },
    {
     "data": {
      "application/vnd.jupyter.widget-view+json": {
       "model_id": "347fb5b4d9c847f0b7315f039e48dd3f",
       "version_major": 2,
       "version_minor": 0
      },
      "text/plain": [
       "QUEUEING TASKS | :   0%|          | 0/1 [00:00<?, ?it/s]"
      ]
     },
     "metadata": {},
     "output_type": "display_data"
    },
    {
     "data": {
      "application/vnd.jupyter.widget-view+json": {
       "model_id": "b0bf33f85ae244c6bff125b86c422e03",
       "version_major": 2,
       "version_minor": 0
      },
      "text/plain": [
       "PROCESSING TASKS | :   0%|          | 0/1 [00:00<?, ?it/s]"
      ]
     },
     "metadata": {},
     "output_type": "display_data"
    },
    {
     "data": {
      "application/vnd.jupyter.widget-view+json": {
       "model_id": "5702919f1b2d47e3bc88cf21b90fbb29",
       "version_major": 2,
       "version_minor": 0
      },
      "text/plain": [
       "COLLECTING RESULTS | :   0%|          | 0/1 [00:00<?, ?it/s]"
      ]
     },
     "metadata": {},
     "output_type": "display_data"
    },
    {
     "name": "stdout",
     "output_type": "stream",
     "text": [
      "G:\\ICE\\数据下载测试\\2019\\ATL03\\extent_3\\ATL03_20190504114736_05530307_006_02.h5\n",
      "正在下载 ATL03_20190504114736_05530307_006_02.h5 到 G:\\ICE\\数据下载测试\\2019\\ATL03\\extent_3...\n"
     ]
    },
    {
     "data": {
      "application/vnd.jupyter.widget-view+json": {
       "model_id": "e7851a712db94438ba4541b4c3c739b3",
       "version_major": 2,
       "version_minor": 0
      },
      "text/plain": [
       "QUEUEING TASKS | :   0%|          | 0/1 [00:00<?, ?it/s]"
      ]
     },
     "metadata": {},
     "output_type": "display_data"
    },
    {
     "data": {
      "application/vnd.jupyter.widget-view+json": {
       "model_id": "71c701d44bf64d6a865a0e911ef70c38",
       "version_major": 2,
       "version_minor": 0
      },
      "text/plain": [
       "PROCESSING TASKS | :   0%|          | 0/1 [00:00<?, ?it/s]"
      ]
     },
     "metadata": {},
     "output_type": "display_data"
    },
    {
     "data": {
      "application/vnd.jupyter.widget-view+json": {
       "model_id": "a3892c2bcfb5410a9f4678a53d6db8cc",
       "version_major": 2,
       "version_minor": 0
      },
      "text/plain": [
       "COLLECTING RESULTS | :   0%|          | 0/1 [00:00<?, ?it/s]"
      ]
     },
     "metadata": {},
     "output_type": "display_data"
    },
    {
     "name": "stdout",
     "output_type": "stream",
     "text": [
      "G:\\ICE\\数据下载测试\\2019\\ATL03\\extent_3\\ATL03_20190508113046_06140306_006_02.h5\n",
      "正在下载 ATL03_20190508113046_06140306_006_02.h5 到 G:\\ICE\\数据下载测试\\2019\\ATL03\\extent_3...\n"
     ]
    },
    {
     "data": {
      "application/vnd.jupyter.widget-view+json": {
       "model_id": "34755ac0f3164d278d9b9cade0c9991a",
       "version_major": 2,
       "version_minor": 0
      },
      "text/plain": [
       "QUEUEING TASKS | :   0%|          | 0/1 [00:00<?, ?it/s]"
      ]
     },
     "metadata": {},
     "output_type": "display_data"
    },
    {
     "data": {
      "application/vnd.jupyter.widget-view+json": {
       "model_id": "7216825b89e444e0ad454a574da180d8",
       "version_major": 2,
       "version_minor": 0
      },
      "text/plain": [
       "PROCESSING TASKS | :   0%|          | 0/1 [00:00<?, ?it/s]"
      ]
     },
     "metadata": {},
     "output_type": "display_data"
    },
    {
     "data": {
      "application/vnd.jupyter.widget-view+json": {
       "model_id": "15b2b32c738347959e22a00878133c8f",
       "version_major": 2,
       "version_minor": 0
      },
      "text/plain": [
       "COLLECTING RESULTS | :   0%|          | 0/1 [00:00<?, ?it/s]"
      ]
     },
     "metadata": {},
     "output_type": "display_data"
    },
    {
     "name": "stdout",
     "output_type": "stream",
     "text": [
      "G:\\ICE\\数据下载测试\\2019\\ATL03\\extent_3\\ATL03_20190508113916_06140307_006_02.h5\n",
      "正在下载 ATL03_20190508113916_06140307_006_02.h5 到 G:\\ICE\\数据下载测试\\2019\\ATL03\\extent_3...\n"
     ]
    },
    {
     "data": {
      "application/vnd.jupyter.widget-view+json": {
       "model_id": "baa249900b464491ab75c3f56dbe1453",
       "version_major": 2,
       "version_minor": 0
      },
      "text/plain": [
       "QUEUEING TASKS | :   0%|          | 0/1 [00:00<?, ?it/s]"
      ]
     },
     "metadata": {},
     "output_type": "display_data"
    },
    {
     "data": {
      "application/vnd.jupyter.widget-view+json": {
       "model_id": "98ef080252f5471bae8c2ff202fa2f8b",
       "version_major": 2,
       "version_minor": 0
      },
      "text/plain": [
       "PROCESSING TASKS | :   0%|          | 0/1 [00:00<?, ?it/s]"
      ]
     },
     "metadata": {},
     "output_type": "display_data"
    },
    {
     "data": {
      "application/vnd.jupyter.widget-view+json": {
       "model_id": "bac5532cdbcb48ce85ff23ad7a445434",
       "version_major": 2,
       "version_minor": 0
      },
      "text/plain": [
       "COLLECTING RESULTS | :   0%|          | 0/1 [00:00<?, ?it/s]"
      ]
     },
     "metadata": {},
     "output_type": "display_data"
    },
    {
     "name": "stdout",
     "output_type": "stream",
     "text": [
      "G:\\ICE\\数据下载测试\\2019\\ATL03\\extent_3\\ATL03_20190521224251_08200301_006_02.h5\n",
      "正在下载 ATL03_20190521224251_08200301_006_02.h5 到 G:\\ICE\\数据下载测试\\2019\\ATL03\\extent_3...\n"
     ]
    },
    {
     "data": {
      "application/vnd.jupyter.widget-view+json": {
       "model_id": "f8b037a500fa4a34a98ab47c7135d6d5",
       "version_major": 2,
       "version_minor": 0
      },
      "text/plain": [
       "QUEUEING TASKS | :   0%|          | 0/1 [00:00<?, ?it/s]"
      ]
     },
     "metadata": {},
     "output_type": "display_data"
    },
    {
     "data": {
      "application/vnd.jupyter.widget-view+json": {
       "model_id": "57ddfd8c7f1844f4a183df2d2b1be763",
       "version_major": 2,
       "version_minor": 0
      },
      "text/plain": [
       "PROCESSING TASKS | :   0%|          | 0/1 [00:00<?, ?it/s]"
      ]
     },
     "metadata": {},
     "output_type": "display_data"
    },
    {
     "data": {
      "application/vnd.jupyter.widget-view+json": {
       "model_id": "d6fc68e553314717a4633029acc8bdbe",
       "version_major": 2,
       "version_minor": 0
      },
      "text/plain": [
       "COLLECTING RESULTS | :   0%|          | 0/1 [00:00<?, ?it/s]"
      ]
     },
     "metadata": {},
     "output_type": "display_data"
    },
    {
     "name": "stdout",
     "output_type": "stream",
     "text": [
      "G:\\ICE\\数据下载测试\\2019\\ATL03\\extent_3\\ATL03_20190521224953_08200302_006_02.h5\n",
      "正在下载 ATL03_20190521224953_08200302_006_02.h5 到 G:\\ICE\\数据下载测试\\2019\\ATL03\\extent_3...\n"
     ]
    },
    {
     "data": {
      "application/vnd.jupyter.widget-view+json": {
       "model_id": "164624e5bc9c4807be2af6769b6f2efe",
       "version_major": 2,
       "version_minor": 0
      },
      "text/plain": [
       "QUEUEING TASKS | :   0%|          | 0/1 [00:00<?, ?it/s]"
      ]
     },
     "metadata": {},
     "output_type": "display_data"
    },
    {
     "data": {
      "application/vnd.jupyter.widget-view+json": {
       "model_id": "2152ffa8f95a4817a22d05f9d7985d1a",
       "version_major": 2,
       "version_minor": 0
      },
      "text/plain": [
       "PROCESSING TASKS | :   0%|          | 0/1 [00:00<?, ?it/s]"
      ]
     },
     "metadata": {},
     "output_type": "display_data"
    },
    {
     "data": {
      "application/vnd.jupyter.widget-view+json": {
       "model_id": "45e7fb6b2e4844e298f60b007d2419ce",
       "version_major": 2,
       "version_minor": 0
      },
      "text/plain": [
       "COLLECTING RESULTS | :   0%|          | 0/1 [00:00<?, ?it/s]"
      ]
     },
     "metadata": {},
     "output_type": "display_data"
    },
    {
     "name": "stdout",
     "output_type": "stream",
     "text": [
      "G:\\ICE\\数据下载测试\\2019\\ATL03\\extent_3\\ATL03_20190525223431_08810301_006_02.h5\n",
      "正在下载 ATL03_20190525223431_08810301_006_02.h5 到 G:\\ICE\\数据下载测试\\2019\\ATL03\\extent_3...\n"
     ]
    },
    {
     "data": {
      "application/vnd.jupyter.widget-view+json": {
       "model_id": "b3034b897fe54965bf3a9f58fe61e8c8",
       "version_major": 2,
       "version_minor": 0
      },
      "text/plain": [
       "QUEUEING TASKS | :   0%|          | 0/1 [00:00<?, ?it/s]"
      ]
     },
     "metadata": {},
     "output_type": "display_data"
    },
    {
     "data": {
      "application/vnd.jupyter.widget-view+json": {
       "model_id": "40fad88725a74ed185238b60d59f0c23",
       "version_major": 2,
       "version_minor": 0
      },
      "text/plain": [
       "PROCESSING TASKS | :   0%|          | 0/1 [00:00<?, ?it/s]"
      ]
     },
     "metadata": {},
     "output_type": "display_data"
    },
    {
     "data": {
      "application/vnd.jupyter.widget-view+json": {
       "model_id": "721977f3443e4fdea6e556ea8247cab0",
       "version_major": 2,
       "version_minor": 0
      },
      "text/plain": [
       "COLLECTING RESULTS | :   0%|          | 0/1 [00:00<?, ?it/s]"
      ]
     },
     "metadata": {},
     "output_type": "display_data"
    },
    {
     "name": "stdout",
     "output_type": "stream",
     "text": [
      "G:\\ICE\\数据下载测试\\2019\\ATL03\\extent_3\\ATL03_20190525224133_08810302_006_02.h5\n",
      "正在下载 ATL03_20190525224133_08810302_006_02.h5 到 G:\\ICE\\数据下载测试\\2019\\ATL03\\extent_3...\n"
     ]
    },
    {
     "data": {
      "application/vnd.jupyter.widget-view+json": {
       "model_id": "0575113785254840a3b86810c2b26c29",
       "version_major": 2,
       "version_minor": 0
      },
      "text/plain": [
       "QUEUEING TASKS | :   0%|          | 0/1 [00:00<?, ?it/s]"
      ]
     },
     "metadata": {},
     "output_type": "display_data"
    },
    {
     "data": {
      "application/vnd.jupyter.widget-view+json": {
       "model_id": "84845a2e3b244157ba19424a35875abf",
       "version_major": 2,
       "version_minor": 0
      },
      "text/plain": [
       "PROCESSING TASKS | :   0%|          | 0/1 [00:00<?, ?it/s]"
      ]
     },
     "metadata": {},
     "output_type": "display_data"
    },
    {
     "data": {
      "application/vnd.jupyter.widget-view+json": {
       "model_id": "ae19b7d2306944298f303816d0493d71",
       "version_major": 2,
       "version_minor": 0
      },
      "text/plain": [
       "COLLECTING RESULTS | :   0%|          | 0/1 [00:00<?, ?it/s]"
      ]
     },
     "metadata": {},
     "output_type": "display_data"
    },
    {
     "name": "stdout",
     "output_type": "stream",
     "text": [
      "G:\\ICE\\数据下载测试\\2019\\ATL03\\extent_3\\ATL03_20190606100643_10560306_006_02.h5\n",
      "正在下载 ATL03_20190606100643_10560306_006_02.h5 到 G:\\ICE\\数据下载测试\\2019\\ATL03\\extent_3...\n"
     ]
    },
    {
     "data": {
      "application/vnd.jupyter.widget-view+json": {
       "model_id": "0853888c0d7e4b55bdb78e6412b4de97",
       "version_major": 2,
       "version_minor": 0
      },
      "text/plain": [
       "QUEUEING TASKS | :   0%|          | 0/1 [00:00<?, ?it/s]"
      ]
     },
     "metadata": {},
     "output_type": "display_data"
    },
    {
     "data": {
      "application/vnd.jupyter.widget-view+json": {
       "model_id": "05f685c3cd55402489571c863ced0a5e",
       "version_major": 2,
       "version_minor": 0
      },
      "text/plain": [
       "PROCESSING TASKS | :   0%|          | 0/1 [00:00<?, ?it/s]"
      ]
     },
     "metadata": {},
     "output_type": "display_data"
    },
    {
     "data": {
      "application/vnd.jupyter.widget-view+json": {
       "model_id": "ec2688a6de7941b9ac464c3fd75af6ae",
       "version_major": 2,
       "version_minor": 0
      },
      "text/plain": [
       "COLLECTING RESULTS | :   0%|          | 0/1 [00:00<?, ?it/s]"
      ]
     },
     "metadata": {},
     "output_type": "display_data"
    },
    {
     "name": "stdout",
     "output_type": "stream",
     "text": [
      "G:\\ICE\\数据下载测试\\2019\\ATL03\\extent_3\\ATL03_20190606101513_10560307_006_02.h5\n",
      "正在下载 ATL03_20190606101513_10560307_006_02.h5 到 G:\\ICE\\数据下载测试\\2019\\ATL03\\extent_3...\n"
     ]
    },
    {
     "data": {
      "application/vnd.jupyter.widget-view+json": {
       "model_id": "9792151887f54a7f88079702cdccf74c",
       "version_major": 2,
       "version_minor": 0
      },
      "text/plain": [
       "QUEUEING TASKS | :   0%|          | 0/1 [00:00<?, ?it/s]"
      ]
     },
     "metadata": {},
     "output_type": "display_data"
    },
    {
     "data": {
      "application/vnd.jupyter.widget-view+json": {
       "model_id": "95c38a0f4d8e49b387a60ed992ed1256",
       "version_major": 2,
       "version_minor": 0
      },
      "text/plain": [
       "PROCESSING TASKS | :   0%|          | 0/1 [00:00<?, ?it/s]"
      ]
     },
     "metadata": {},
     "output_type": "display_data"
    },
    {
     "data": {
      "application/vnd.jupyter.widget-view+json": {
       "model_id": "6dba5f4ac8534eaca412d545f0cef377",
       "version_major": 2,
       "version_minor": 0
      },
      "text/plain": [
       "COLLECTING RESULTS | :   0%|          | 0/1 [00:00<?, ?it/s]"
      ]
     },
     "metadata": {},
     "output_type": "display_data"
    },
    {
     "name": "stdout",
     "output_type": "stream",
     "text": [
      "G:\\ICE\\数据下载测试\\2019\\ATL03\\extent_3\\ATL03_20190623211032_13230301_006_02.h5\n",
      "正在下载 ATL03_20190623211032_13230301_006_02.h5 到 G:\\ICE\\数据下载测试\\2019\\ATL03\\extent_3...\n"
     ]
    },
    {
     "data": {
      "application/vnd.jupyter.widget-view+json": {
       "model_id": "8f5ffea4af70444ca91fd29fbf709531",
       "version_major": 2,
       "version_minor": 0
      },
      "text/plain": [
       "QUEUEING TASKS | :   0%|          | 0/1 [00:00<?, ?it/s]"
      ]
     },
     "metadata": {},
     "output_type": "display_data"
    },
    {
     "data": {
      "application/vnd.jupyter.widget-view+json": {
       "model_id": "5fca7d58972d4d3cb77278c4819cb711",
       "version_major": 2,
       "version_minor": 0
      },
      "text/plain": [
       "PROCESSING TASKS | :   0%|          | 0/1 [00:00<?, ?it/s]"
      ]
     },
     "metadata": {},
     "output_type": "display_data"
    },
    {
     "data": {
      "application/vnd.jupyter.widget-view+json": {
       "model_id": "23ee398271fa490d88cfc2f96511d1d5",
       "version_major": 2,
       "version_minor": 0
      },
      "text/plain": [
       "COLLECTING RESULTS | :   0%|          | 0/1 [00:00<?, ?it/s]"
      ]
     },
     "metadata": {},
     "output_type": "display_data"
    },
    {
     "name": "stdout",
     "output_type": "stream",
     "text": [
      "G:\\ICE\\数据下载测试\\2019\\ATL03\\extent_3\\ATL03_20190623211734_13230302_006_02.h5\n",
      "正在下载 ATL03_20190623211734_13230302_006_02.h5 到 G:\\ICE\\数据下载测试\\2019\\ATL03\\extent_3...\n"
     ]
    },
    {
     "data": {
      "application/vnd.jupyter.widget-view+json": {
       "model_id": "3149e49df2864768a589221054f96e47",
       "version_major": 2,
       "version_minor": 0
      },
      "text/plain": [
       "QUEUEING TASKS | :   0%|          | 0/1 [00:00<?, ?it/s]"
      ]
     },
     "metadata": {},
     "output_type": "display_data"
    },
    {
     "data": {
      "application/vnd.jupyter.widget-view+json": {
       "model_id": "09ccdddb52474dc58ba60929942c8b30",
       "version_major": 2,
       "version_minor": 0
      },
      "text/plain": [
       "PROCESSING TASKS | :   0%|          | 0/1 [00:00<?, ?it/s]"
      ]
     },
     "metadata": {},
     "output_type": "display_data"
    },
    {
     "data": {
      "application/vnd.jupyter.widget-view+json": {
       "model_id": "fff44818652842b1aa15e804dfb21131",
       "version_major": 2,
       "version_minor": 0
      },
      "text/plain": [
       "COLLECTING RESULTS | :   0%|          | 0/1 [00:00<?, ?it/s]"
      ]
     },
     "metadata": {},
     "output_type": "display_data"
    },
    {
     "name": "stdout",
     "output_type": "stream",
     "text": [
      "G:\\ICE\\数据下载测试\\2019\\ATL03\\extent_3\\ATL03_20190722194628_03780401_006_02.h5\n",
      "正在下载 ATL03_20190722194628_03780401_006_02.h5 到 G:\\ICE\\数据下载测试\\2019\\ATL03\\extent_3...\n"
     ]
    },
    {
     "data": {
      "application/vnd.jupyter.widget-view+json": {
       "model_id": "bca382c726ce4a1a88b9933ab53a0072",
       "version_major": 2,
       "version_minor": 0
      },
      "text/plain": [
       "QUEUEING TASKS | :   0%|          | 0/1 [00:00<?, ?it/s]"
      ]
     },
     "metadata": {},
     "output_type": "display_data"
    },
    {
     "data": {
      "application/vnd.jupyter.widget-view+json": {
       "model_id": "12be92ee796a4a2e9cc79c0acd9f751c",
       "version_major": 2,
       "version_minor": 0
      },
      "text/plain": [
       "PROCESSING TASKS | :   0%|          | 0/1 [00:00<?, ?it/s]"
      ]
     },
     "metadata": {},
     "output_type": "display_data"
    },
    {
     "data": {
      "application/vnd.jupyter.widget-view+json": {
       "model_id": "755783e846234bfe922875a63f1eaee4",
       "version_major": 2,
       "version_minor": 0
      },
      "text/plain": [
       "COLLECTING RESULTS | :   0%|          | 0/1 [00:00<?, ?it/s]"
      ]
     },
     "metadata": {},
     "output_type": "display_data"
    },
    {
     "name": "stdout",
     "output_type": "stream",
     "text": [
      "G:\\ICE\\数据下载测试\\2019\\ATL03\\extent_3\\ATL03_20190722195330_03780402_006_02.h5\n",
      "正在下载 ATL03_20190722195330_03780402_006_02.h5 到 G:\\ICE\\数据下载测试\\2019\\ATL03\\extent_3...\n"
     ]
    },
    {
     "data": {
      "application/vnd.jupyter.widget-view+json": {
       "model_id": "59e233e5cdae4527aff112075eb2473b",
       "version_major": 2,
       "version_minor": 0
      },
      "text/plain": [
       "QUEUEING TASKS | :   0%|          | 0/1 [00:00<?, ?it/s]"
      ]
     },
     "metadata": {},
     "output_type": "display_data"
    },
    {
     "data": {
      "application/vnd.jupyter.widget-view+json": {
       "model_id": "4af8217101a84188b6c9867951c64e43",
       "version_major": 2,
       "version_minor": 0
      },
      "text/plain": [
       "PROCESSING TASKS | :   0%|          | 0/1 [00:00<?, ?it/s]"
      ]
     },
     "metadata": {},
     "output_type": "display_data"
    },
    {
     "data": {
      "application/vnd.jupyter.widget-view+json": {
       "model_id": "dff24fb5f2be4c35bde144ac91d7c8c7",
       "version_major": 2,
       "version_minor": 0
      },
      "text/plain": [
       "COLLECTING RESULTS | :   0%|          | 0/1 [00:00<?, ?it/s]"
      ]
     },
     "metadata": {},
     "output_type": "display_data"
    },
    {
     "name": "stdout",
     "output_type": "stream",
     "text": [
      "G:\\ICE\\数据下载测试\\2019\\ATL03\\extent_3\\ATL03_20190726193811_04390401_006_02.h5\n",
      "正在下载 ATL03_20190726193811_04390401_006_02.h5 到 G:\\ICE\\数据下载测试\\2019\\ATL03\\extent_3...\n"
     ]
    },
    {
     "data": {
      "application/vnd.jupyter.widget-view+json": {
       "model_id": "5f998fa28fd247c18510dd09fc1f1136",
       "version_major": 2,
       "version_minor": 0
      },
      "text/plain": [
       "QUEUEING TASKS | :   0%|          | 0/1 [00:00<?, ?it/s]"
      ]
     },
     "metadata": {},
     "output_type": "display_data"
    },
    {
     "data": {
      "application/vnd.jupyter.widget-view+json": {
       "model_id": "e7347b993cd74366b9a2f71b1735fd42",
       "version_major": 2,
       "version_minor": 0
      },
      "text/plain": [
       "PROCESSING TASKS | :   0%|          | 0/1 [00:00<?, ?it/s]"
      ]
     },
     "metadata": {},
     "output_type": "display_data"
    },
    {
     "data": {
      "application/vnd.jupyter.widget-view+json": {
       "model_id": "a8125e2f69e746ea9f18927a00330c16",
       "version_major": 2,
       "version_minor": 0
      },
      "text/plain": [
       "COLLECTING RESULTS | :   0%|          | 0/1 [00:00<?, ?it/s]"
      ]
     },
     "metadata": {},
     "output_type": "display_data"
    },
    {
     "name": "stdout",
     "output_type": "stream",
     "text": [
      "G:\\ICE\\数据下载测试\\2019\\ATL03\\extent_3\\ATL03_20190803071847_05530406_006_02.h5\n",
      "正在下载 ATL03_20190803071847_05530406_006_02.h5 到 G:\\ICE\\数据下载测试\\2019\\ATL03\\extent_3...\n"
     ]
    },
    {
     "data": {
      "application/vnd.jupyter.widget-view+json": {
       "model_id": "a8c98dd993634e73bac0f76a7f13716b",
       "version_major": 2,
       "version_minor": 0
      },
      "text/plain": [
       "QUEUEING TASKS | :   0%|          | 0/1 [00:00<?, ?it/s]"
      ]
     },
     "metadata": {},
     "output_type": "display_data"
    },
    {
     "data": {
      "application/vnd.jupyter.widget-view+json": {
       "model_id": "4a074d5e498c423db8907ef47162addf",
       "version_major": 2,
       "version_minor": 0
      },
      "text/plain": [
       "PROCESSING TASKS | :   0%|          | 0/1 [00:00<?, ?it/s]"
      ]
     },
     "metadata": {},
     "output_type": "display_data"
    },
    {
     "data": {
      "application/vnd.jupyter.widget-view+json": {
       "model_id": "486c666cecaa433fa94d987297922d75",
       "version_major": 2,
       "version_minor": 0
      },
      "text/plain": [
       "COLLECTING RESULTS | :   0%|          | 0/1 [00:00<?, ?it/s]"
      ]
     },
     "metadata": {},
     "output_type": "display_data"
    },
    {
     "name": "stdout",
     "output_type": "stream",
     "text": [
      "G:\\ICE\\数据下载测试\\2019\\ATL03\\extent_3\\ATL03_20190803072717_05530407_006_02.h5\n",
      "正在下载 ATL03_20190803072717_05530407_006_02.h5 到 G:\\ICE\\数据下载测试\\2019\\ATL03\\extent_3...\n"
     ]
    },
    {
     "data": {
      "application/vnd.jupyter.widget-view+json": {
       "model_id": "276d9a192f784cfd8e2a2cd48fd01943",
       "version_major": 2,
       "version_minor": 0
      },
      "text/plain": [
       "QUEUEING TASKS | :   0%|          | 0/1 [00:00<?, ?it/s]"
      ]
     },
     "metadata": {},
     "output_type": "display_data"
    },
    {
     "data": {
      "application/vnd.jupyter.widget-view+json": {
       "model_id": "2e380652b1414840985082f1360ec71a",
       "version_major": 2,
       "version_minor": 0
      },
      "text/plain": [
       "PROCESSING TASKS | :   0%|          | 0/1 [00:00<?, ?it/s]"
      ]
     },
     "metadata": {},
     "output_type": "display_data"
    },
    {
     "data": {
      "application/vnd.jupyter.widget-view+json": {
       "model_id": "638c8af6949143de9b9525ac56c165ea",
       "version_major": 2,
       "version_minor": 0
      },
      "text/plain": [
       "COLLECTING RESULTS | :   0%|          | 0/1 [00:00<?, ?it/s]"
      ]
     },
     "metadata": {},
     "output_type": "display_data"
    },
    {
     "name": "stdout",
     "output_type": "stream",
     "text": [
      "G:\\ICE\\数据下载测试\\2019\\ATL03\\extent_3\\ATL03_20190807071027_06140406_006_02.h5\n",
      "正在下载 ATL03_20190807071027_06140406_006_02.h5 到 G:\\ICE\\数据下载测试\\2019\\ATL03\\extent_3...\n"
     ]
    },
    {
     "data": {
      "application/vnd.jupyter.widget-view+json": {
       "model_id": "ecb8a9abcf9848e989d9a4093e4057ad",
       "version_major": 2,
       "version_minor": 0
      },
      "text/plain": [
       "QUEUEING TASKS | :   0%|          | 0/1 [00:00<?, ?it/s]"
      ]
     },
     "metadata": {},
     "output_type": "display_data"
    },
    {
     "data": {
      "application/vnd.jupyter.widget-view+json": {
       "model_id": "696cd66704224a69be32845991cd53f3",
       "version_major": 2,
       "version_minor": 0
      },
      "text/plain": [
       "PROCESSING TASKS | :   0%|          | 0/1 [00:00<?, ?it/s]"
      ]
     },
     "metadata": {},
     "output_type": "display_data"
    },
    {
     "data": {
      "application/vnd.jupyter.widget-view+json": {
       "model_id": "709c0ef1d54c4540b07056ecede2586b",
       "version_major": 2,
       "version_minor": 0
      },
      "text/plain": [
       "COLLECTING RESULTS | :   0%|          | 0/1 [00:00<?, ?it/s]"
      ]
     },
     "metadata": {},
     "output_type": "display_data"
    },
    {
     "name": "stdout",
     "output_type": "stream",
     "text": [
      "G:\\ICE\\数据下载测试\\2019\\ATL03\\extent_3\\ATL03_20190807071857_06140407_006_02.h5\n",
      "正在下载 ATL03_20190807071857_06140407_006_02.h5 到 G:\\ICE\\数据下载测试\\2019\\ATL03\\extent_3...\n"
     ]
    },
    {
     "data": {
      "application/vnd.jupyter.widget-view+json": {
       "model_id": "b4126e02b5aa410bbb0091989e1911be",
       "version_major": 2,
       "version_minor": 0
      },
      "text/plain": [
       "QUEUEING TASKS | :   0%|          | 0/1 [00:00<?, ?it/s]"
      ]
     },
     "metadata": {},
     "output_type": "display_data"
    },
    {
     "data": {
      "application/vnd.jupyter.widget-view+json": {
       "model_id": "d2afbdb4d6b14333a8c486516f933185",
       "version_major": 2,
       "version_minor": 0
      },
      "text/plain": [
       "PROCESSING TASKS | :   0%|          | 0/1 [00:00<?, ?it/s]"
      ]
     },
     "metadata": {},
     "output_type": "display_data"
    },
    {
     "data": {
      "application/vnd.jupyter.widget-view+json": {
       "model_id": "c414fe88b39f4d33b95feab48601a4d6",
       "version_major": 2,
       "version_minor": 0
      },
      "text/plain": [
       "COLLECTING RESULTS | :   0%|          | 0/1 [00:00<?, ?it/s]"
      ]
     },
     "metadata": {},
     "output_type": "display_data"
    },
    {
     "name": "stdout",
     "output_type": "stream",
     "text": [
      "G:\\ICE\\数据下载测试\\2019\\ATL03\\extent_3\\ATL03_20190820182239_08200401_006_02.h5\n",
      "正在下载 ATL03_20190820182239_08200401_006_02.h5 到 G:\\ICE\\数据下载测试\\2019\\ATL03\\extent_3...\n"
     ]
    },
    {
     "data": {
      "application/vnd.jupyter.widget-view+json": {
       "model_id": "1a9081bb10a5461d83876597b85b8a54",
       "version_major": 2,
       "version_minor": 0
      },
      "text/plain": [
       "QUEUEING TASKS | :   0%|          | 0/1 [00:00<?, ?it/s]"
      ]
     },
     "metadata": {},
     "output_type": "display_data"
    },
    {
     "data": {
      "application/vnd.jupyter.widget-view+json": {
       "model_id": "788429e3682e44db982c40d69fa03c20",
       "version_major": 2,
       "version_minor": 0
      },
      "text/plain": [
       "PROCESSING TASKS | :   0%|          | 0/1 [00:00<?, ?it/s]"
      ]
     },
     "metadata": {},
     "output_type": "display_data"
    },
    {
     "data": {
      "application/vnd.jupyter.widget-view+json": {
       "model_id": "a71ec309b91542f49defd70732b43f55",
       "version_major": 2,
       "version_minor": 0
      },
      "text/plain": [
       "COLLECTING RESULTS | :   0%|          | 0/1 [00:00<?, ?it/s]"
      ]
     },
     "metadata": {},
     "output_type": "display_data"
    },
    {
     "name": "stdout",
     "output_type": "stream",
     "text": [
      "G:\\ICE\\数据下载测试\\2019\\ATL03\\extent_3\\ATL03_20190820182941_08200402_006_02.h5\n",
      "正在下载 ATL03_20190820182941_08200402_006_02.h5 到 G:\\ICE\\数据下载测试\\2019\\ATL03\\extent_3...\n"
     ]
    },
    {
     "data": {
      "application/vnd.jupyter.widget-view+json": {
       "model_id": "d14ab0cea7bd496d85723d43175cf90c",
       "version_major": 2,
       "version_minor": 0
      },
      "text/plain": [
       "QUEUEING TASKS | :   0%|          | 0/1 [00:00<?, ?it/s]"
      ]
     },
     "metadata": {},
     "output_type": "display_data"
    },
    {
     "data": {
      "application/vnd.jupyter.widget-view+json": {
       "model_id": "f0fd02a1c77247018622252ad5251505",
       "version_major": 2,
       "version_minor": 0
      },
      "text/plain": [
       "PROCESSING TASKS | :   0%|          | 0/1 [00:00<?, ?it/s]"
      ]
     },
     "metadata": {},
     "output_type": "display_data"
    },
    {
     "data": {
      "application/vnd.jupyter.widget-view+json": {
       "model_id": "631265dc980f4096a5a663cea29c5750",
       "version_major": 2,
       "version_minor": 0
      },
      "text/plain": [
       "COLLECTING RESULTS | :   0%|          | 0/1 [00:00<?, ?it/s]"
      ]
     },
     "metadata": {},
     "output_type": "display_data"
    },
    {
     "name": "stdout",
     "output_type": "stream",
     "text": [
      "G:\\ICE\\数据下载测试\\2019\\ATL03\\extent_3\\ATL03_20190824181420_08810401_006_02.h5\n",
      "正在下载 ATL03_20190824181420_08810401_006_02.h5 到 G:\\ICE\\数据下载测试\\2019\\ATL03\\extent_3...\n"
     ]
    },
    {
     "data": {
      "application/vnd.jupyter.widget-view+json": {
       "model_id": "573e35786cb04e2da13be3bfc90cc9a4",
       "version_major": 2,
       "version_minor": 0
      },
      "text/plain": [
       "QUEUEING TASKS | :   0%|          | 0/1 [00:00<?, ?it/s]"
      ]
     },
     "metadata": {},
     "output_type": "display_data"
    },
    {
     "data": {
      "application/vnd.jupyter.widget-view+json": {
       "model_id": "26facf8139da4bb0a98b3ccca9d93d2f",
       "version_major": 2,
       "version_minor": 0
      },
      "text/plain": [
       "PROCESSING TASKS | :   0%|          | 0/1 [00:00<?, ?it/s]"
      ]
     },
     "metadata": {},
     "output_type": "display_data"
    },
    {
     "data": {
      "application/vnd.jupyter.widget-view+json": {
       "model_id": "849f251cca3f4830825b5ceba235f350",
       "version_major": 2,
       "version_minor": 0
      },
      "text/plain": [
       "COLLECTING RESULTS | :   0%|          | 0/1 [00:00<?, ?it/s]"
      ]
     },
     "metadata": {},
     "output_type": "display_data"
    },
    {
     "name": "stdout",
     "output_type": "stream",
     "text": [
      "G:\\ICE\\数据下载测试\\2019\\ATL03\\extent_3\\ATL03_20190824182122_08810402_006_02.h5\n",
      "正在下载 ATL03_20190824182122_08810402_006_02.h5 到 G:\\ICE\\数据下载测试\\2019\\ATL03\\extent_3...\n"
     ]
    },
    {
     "data": {
      "application/vnd.jupyter.widget-view+json": {
       "model_id": "667d9bb5c1004d28855968a9be783fc3",
       "version_major": 2,
       "version_minor": 0
      },
      "text/plain": [
       "QUEUEING TASKS | :   0%|          | 0/1 [00:00<?, ?it/s]"
      ]
     },
     "metadata": {},
     "output_type": "display_data"
    },
    {
     "data": {
      "application/vnd.jupyter.widget-view+json": {
       "model_id": "5e8b8d9ab44448b5a31a2e70209a758b",
       "version_major": 2,
       "version_minor": 0
      },
      "text/plain": [
       "PROCESSING TASKS | :   0%|          | 0/1 [00:00<?, ?it/s]"
      ]
     },
     "metadata": {},
     "output_type": "display_data"
    },
    {
     "data": {
      "application/vnd.jupyter.widget-view+json": {
       "model_id": "b32b2bb713d6434f98aef66ec2b176cb",
       "version_major": 2,
       "version_minor": 0
      },
      "text/plain": [
       "COLLECTING RESULTS | :   0%|          | 0/1 [00:00<?, ?it/s]"
      ]
     },
     "metadata": {},
     "output_type": "display_data"
    },
    {
     "name": "stdout",
     "output_type": "stream",
     "text": [
      "G:\\ICE\\数据下载测试\\2019\\ATL03\\extent_3\\ATL03_20190901060323_09950407_006_02.h5\n",
      "正在下载 ATL03_20190901060323_09950407_006_02.h5 到 G:\\ICE\\数据下载测试\\2019\\ATL03\\extent_3...\n"
     ]
    },
    {
     "data": {
      "application/vnd.jupyter.widget-view+json": {
       "model_id": "c0d6ae267fcb4631884728100c2ba45a",
       "version_major": 2,
       "version_minor": 0
      },
      "text/plain": [
       "QUEUEING TASKS | :   0%|          | 0/1 [00:00<?, ?it/s]"
      ]
     },
     "metadata": {},
     "output_type": "display_data"
    },
    {
     "data": {
      "application/vnd.jupyter.widget-view+json": {
       "model_id": "51e658643ff9487393fb7a9e3d05da3e",
       "version_major": 2,
       "version_minor": 0
      },
      "text/plain": [
       "PROCESSING TASKS | :   0%|          | 0/1 [00:00<?, ?it/s]"
      ]
     },
     "metadata": {},
     "output_type": "display_data"
    },
    {
     "data": {
      "application/vnd.jupyter.widget-view+json": {
       "model_id": "155094a36c2045a8aea699ed8ac14c13",
       "version_major": 2,
       "version_minor": 0
      },
      "text/plain": [
       "COLLECTING RESULTS | :   0%|          | 0/1 [00:00<?, ?it/s]"
      ]
     },
     "metadata": {},
     "output_type": "display_data"
    },
    {
     "name": "stdout",
     "output_type": "stream",
     "text": [
      "G:\\ICE\\数据下载测试\\2019\\ATL03\\extent_3\\ATL03_20190905054632_10560406_006_02.h5\n",
      "正在下载 ATL03_20190905054632_10560406_006_02.h5 到 G:\\ICE\\数据下载测试\\2019\\ATL03\\extent_3...\n"
     ]
    },
    {
     "data": {
      "application/vnd.jupyter.widget-view+json": {
       "model_id": "e51292944b114aceaeb4589e9d88116c",
       "version_major": 2,
       "version_minor": 0
      },
      "text/plain": [
       "QUEUEING TASKS | :   0%|          | 0/1 [00:00<?, ?it/s]"
      ]
     },
     "metadata": {},
     "output_type": "display_data"
    },
    {
     "data": {
      "application/vnd.jupyter.widget-view+json": {
       "model_id": "8a2b28af8a124bd7a4dd3a0f5ccdb964",
       "version_major": 2,
       "version_minor": 0
      },
      "text/plain": [
       "PROCESSING TASKS | :   0%|          | 0/1 [00:00<?, ?it/s]"
      ]
     },
     "metadata": {},
     "output_type": "display_data"
    },
    {
     "data": {
      "application/vnd.jupyter.widget-view+json": {
       "model_id": "9444684c919d44e6a1dd6a49a5deab17",
       "version_major": 2,
       "version_minor": 0
      },
      "text/plain": [
       "COLLECTING RESULTS | :   0%|          | 0/1 [00:00<?, ?it/s]"
      ]
     },
     "metadata": {},
     "output_type": "display_data"
    },
    {
     "name": "stdout",
     "output_type": "stream",
     "text": [
      "G:\\ICE\\数据下载测试\\2019\\ATL03\\extent_3\\ATL03_20190905055502_10560407_006_02.h5\n",
      "正在下载 ATL03_20190905055502_10560407_006_02.h5 到 G:\\ICE\\数据下载测试\\2019\\ATL03\\extent_3...\n"
     ]
    },
    {
     "data": {
      "application/vnd.jupyter.widget-view+json": {
       "model_id": "e4623f3d20be482ea0df2b0890373c6c",
       "version_major": 2,
       "version_minor": 0
      },
      "text/plain": [
       "QUEUEING TASKS | :   0%|          | 0/1 [00:00<?, ?it/s]"
      ]
     },
     "metadata": {},
     "output_type": "display_data"
    },
    {
     "data": {
      "application/vnd.jupyter.widget-view+json": {
       "model_id": "17f54c3e5eab48ebb6eea5a18e9afb58",
       "version_major": 2,
       "version_minor": 0
      },
      "text/plain": [
       "PROCESSING TASKS | :   0%|          | 0/1 [00:00<?, ?it/s]"
      ]
     },
     "metadata": {},
     "output_type": "display_data"
    },
    {
     "data": {
      "application/vnd.jupyter.widget-view+json": {
       "model_id": "4653235e3815493ba26e3d9942a814ac",
       "version_major": 2,
       "version_minor": 0
      },
      "text/plain": [
       "COLLECTING RESULTS | :   0%|          | 0/1 [00:00<?, ?it/s]"
      ]
     },
     "metadata": {},
     "output_type": "display_data"
    },
    {
     "name": "stdout",
     "output_type": "stream",
     "text": [
      "G:\\ICE\\数据下载测试\\2019\\ATL03\\extent_3\\ATL03_20190918165843_12620401_006_02.h5\n",
      "正在下载 ATL03_20190918165843_12620401_006_02.h5 到 G:\\ICE\\数据下载测试\\2019\\ATL03\\extent_3...\n"
     ]
    },
    {
     "data": {
      "application/vnd.jupyter.widget-view+json": {
       "model_id": "0bcb7b759ede4ae5a22e2df4cb65087a",
       "version_major": 2,
       "version_minor": 0
      },
      "text/plain": [
       "QUEUEING TASKS | :   0%|          | 0/1 [00:00<?, ?it/s]"
      ]
     },
     "metadata": {},
     "output_type": "display_data"
    },
    {
     "data": {
      "application/vnd.jupyter.widget-view+json": {
       "model_id": "7df9ffa76cda45a88f8c8ca1a4c1eb0f",
       "version_major": 2,
       "version_minor": 0
      },
      "text/plain": [
       "PROCESSING TASKS | :   0%|          | 0/1 [00:00<?, ?it/s]"
      ]
     },
     "metadata": {},
     "output_type": "display_data"
    },
    {
     "data": {
      "application/vnd.jupyter.widget-view+json": {
       "model_id": "1a0bbdd2ab844dd7ad6b718d39a98d3f",
       "version_major": 2,
       "version_minor": 0
      },
      "text/plain": [
       "COLLECTING RESULTS | :   0%|          | 0/1 [00:00<?, ?it/s]"
      ]
     },
     "metadata": {},
     "output_type": "display_data"
    },
    {
     "name": "stdout",
     "output_type": "stream",
     "text": [
      "G:\\ICE\\数据下载测试\\2019\\ATL03\\extent_3\\ATL03_20190918170545_12620402_006_02.h5\n",
      "正在下载 ATL03_20190918170545_12620402_006_02.h5 到 G:\\ICE\\数据下载测试\\2019\\ATL03\\extent_3...\n"
     ]
    },
    {
     "data": {
      "application/vnd.jupyter.widget-view+json": {
       "model_id": "f66478c5adcb443b90dd1228a6d4150e",
       "version_major": 2,
       "version_minor": 0
      },
      "text/plain": [
       "QUEUEING TASKS | :   0%|          | 0/1 [00:00<?, ?it/s]"
      ]
     },
     "metadata": {},
     "output_type": "display_data"
    },
    {
     "data": {
      "application/vnd.jupyter.widget-view+json": {
       "model_id": "b4dbd030e4e4456bbbd6c712e6bb8821",
       "version_major": 2,
       "version_minor": 0
      },
      "text/plain": [
       "PROCESSING TASKS | :   0%|          | 0/1 [00:00<?, ?it/s]"
      ]
     },
     "metadata": {},
     "output_type": "display_data"
    },
    {
     "data": {
      "application/vnd.jupyter.widget-view+json": {
       "model_id": "d2922495f90a47188f9a715f921ad4d2",
       "version_major": 2,
       "version_minor": 0
      },
      "text/plain": [
       "COLLECTING RESULTS | :   0%|          | 0/1 [00:00<?, ?it/s]"
      ]
     },
     "metadata": {},
     "output_type": "display_data"
    },
    {
     "name": "stdout",
     "output_type": "stream",
     "text": [
      "G:\\ICE\\数据下载测试\\2019\\ATL03\\extent_3\\ATL03_20190922165025_13230401_006_02.h5\n",
      "正在下载 ATL03_20190922165025_13230401_006_02.h5 到 G:\\ICE\\数据下载测试\\2019\\ATL03\\extent_3...\n"
     ]
    },
    {
     "data": {
      "application/vnd.jupyter.widget-view+json": {
       "model_id": "c2854568bf8143dda0c86f68a67554c5",
       "version_major": 2,
       "version_minor": 0
      },
      "text/plain": [
       "QUEUEING TASKS | :   0%|          | 0/1 [00:00<?, ?it/s]"
      ]
     },
     "metadata": {},
     "output_type": "display_data"
    },
    {
     "data": {
      "application/vnd.jupyter.widget-view+json": {
       "model_id": "ecedb03b14a849c094c715e99fa4c34f",
       "version_major": 2,
       "version_minor": 0
      },
      "text/plain": [
       "PROCESSING TASKS | :   0%|          | 0/1 [00:00<?, ?it/s]"
      ]
     },
     "metadata": {},
     "output_type": "display_data"
    },
    {
     "data": {
      "application/vnd.jupyter.widget-view+json": {
       "model_id": "6ea4d333dfdd4725b928a782391c7866",
       "version_major": 2,
       "version_minor": 0
      },
      "text/plain": [
       "COLLECTING RESULTS | :   0%|          | 0/1 [00:00<?, ?it/s]"
      ]
     },
     "metadata": {},
     "output_type": "display_data"
    },
    {
     "name": "stdout",
     "output_type": "stream",
     "text": [
      "G:\\ICE\\数据下载测试\\2019\\ATL03\\extent_3\\ATL03_20190922165727_13230402_006_02.h5\n",
      "正在下载 ATL03_20190922165727_13230402_006_02.h5 到 G:\\ICE\\数据下载测试\\2019\\ATL03\\extent_3...\n"
     ]
    },
    {
     "data": {
      "application/vnd.jupyter.widget-view+json": {
       "model_id": "ad765cffccb3458d8ae3b7c5c51970f3",
       "version_major": 2,
       "version_minor": 0
      },
      "text/plain": [
       "QUEUEING TASKS | :   0%|          | 0/1 [00:00<?, ?it/s]"
      ]
     },
     "metadata": {},
     "output_type": "display_data"
    },
    {
     "data": {
      "application/vnd.jupyter.widget-view+json": {
       "model_id": "219f5e99a0284848addc001d91c353b8",
       "version_major": 2,
       "version_minor": 0
      },
      "text/plain": [
       "PROCESSING TASKS | :   0%|          | 0/1 [00:00<?, ?it/s]"
      ]
     },
     "metadata": {},
     "output_type": "display_data"
    },
    {
     "data": {
      "application/vnd.jupyter.widget-view+json": {
       "model_id": "59487c85eba6406ea3022f5252f12cb4",
       "version_major": 2,
       "version_minor": 0
      },
      "text/plain": [
       "COLLECTING RESULTS | :   0%|          | 0/1 [00:00<?, ?it/s]"
      ]
     },
     "metadata": {},
     "output_type": "display_data"
    },
    {
     "name": "stdout",
     "output_type": "stream",
     "text": [
      "G:\\ICE\\数据下载测试\\2019\\ATL03\\extent_3\\ATL03_20191004042239_01110506_006_02.h5\n",
      "正在下载 ATL03_20191004042239_01110506_006_02.h5 到 G:\\ICE\\数据下载测试\\2019\\ATL03\\extent_3...\n"
     ]
    },
    {
     "data": {
      "application/vnd.jupyter.widget-view+json": {
       "model_id": "5d2799e5346b4754aaaae05a83feab92",
       "version_major": 2,
       "version_minor": 0
      },
      "text/plain": [
       "QUEUEING TASKS | :   0%|          | 0/1 [00:00<?, ?it/s]"
      ]
     },
     "metadata": {},
     "output_type": "display_data"
    },
    {
     "data": {
      "application/vnd.jupyter.widget-view+json": {
       "model_id": "8d6fef6d08b3469382a7f4f5702223ce",
       "version_major": 2,
       "version_minor": 0
      },
      "text/plain": [
       "PROCESSING TASKS | :   0%|          | 0/1 [00:00<?, ?it/s]"
      ]
     },
     "metadata": {},
     "output_type": "display_data"
    },
    {
     "data": {
      "application/vnd.jupyter.widget-view+json": {
       "model_id": "f60520c7874049eaa570b31dc455bdbe",
       "version_major": 2,
       "version_minor": 0
      },
      "text/plain": [
       "COLLECTING RESULTS | :   0%|          | 0/1 [00:00<?, ?it/s]"
      ]
     },
     "metadata": {},
     "output_type": "display_data"
    },
    {
     "name": "stdout",
     "output_type": "stream",
     "text": [
      "G:\\ICE\\数据下载测试\\2019\\ATL03\\extent_3\\ATL03_20191004043110_01110507_006_02.h5\n",
      "正在下载 ATL03_20191004043110_01110507_006_02.h5 到 G:\\ICE\\数据下载测试\\2019\\ATL03\\extent_3...\n"
     ]
    },
    {
     "data": {
      "application/vnd.jupyter.widget-view+json": {
       "model_id": "f3a4d91ccbd049928a6edf88ee3a745e",
       "version_major": 2,
       "version_minor": 0
      },
      "text/plain": [
       "QUEUEING TASKS | :   0%|          | 0/1 [00:00<?, ?it/s]"
      ]
     },
     "metadata": {},
     "output_type": "display_data"
    },
    {
     "data": {
      "application/vnd.jupyter.widget-view+json": {
       "model_id": "83769d5a355043e38e40664b890f9ad9",
       "version_major": 2,
       "version_minor": 0
      },
      "text/plain": [
       "PROCESSING TASKS | :   0%|          | 0/1 [00:00<?, ?it/s]"
      ]
     },
     "metadata": {},
     "output_type": "display_data"
    },
    {
     "data": {
      "application/vnd.jupyter.widget-view+json": {
       "model_id": "bb21febea04c444983c1d279e688a75b",
       "version_major": 2,
       "version_minor": 0
      },
      "text/plain": [
       "COLLECTING RESULTS | :   0%|          | 0/1 [00:00<?, ?it/s]"
      ]
     },
     "metadata": {},
     "output_type": "display_data"
    },
    {
     "name": "stdout",
     "output_type": "stream",
     "text": [
      "G:\\ICE\\数据下载测试\\2019\\ATL03\\extent_3\\ATL03_20191021152630_03780501_006_02.h5\n",
      "正在下载 ATL03_20191021152630_03780501_006_02.h5 到 G:\\ICE\\数据下载测试\\2019\\ATL03\\extent_3...\n"
     ]
    },
    {
     "data": {
      "application/vnd.jupyter.widget-view+json": {
       "model_id": "bcb4db63963940cc9be3c26336e01ec9",
       "version_major": 2,
       "version_minor": 0
      },
      "text/plain": [
       "QUEUEING TASKS | :   0%|          | 0/1 [00:00<?, ?it/s]"
      ]
     },
     "metadata": {},
     "output_type": "display_data"
    },
    {
     "data": {
      "application/vnd.jupyter.widget-view+json": {
       "model_id": "65683676042f4d45a122d2d3e9ef5072",
       "version_major": 2,
       "version_minor": 0
      },
      "text/plain": [
       "PROCESSING TASKS | :   0%|          | 0/1 [00:00<?, ?it/s]"
      ]
     },
     "metadata": {},
     "output_type": "display_data"
    },
    {
     "data": {
      "application/vnd.jupyter.widget-view+json": {
       "model_id": "a13a880918ef458eaa64c09b08e7c3fd",
       "version_major": 2,
       "version_minor": 0
      },
      "text/plain": [
       "COLLECTING RESULTS | :   0%|          | 0/1 [00:00<?, ?it/s]"
      ]
     },
     "metadata": {},
     "output_type": "display_data"
    },
    {
     "name": "stdout",
     "output_type": "stream",
     "text": [
      "G:\\ICE\\数据下载测试\\2019\\ATL03\\extent_3\\ATL03_20191021153332_03780502_006_02.h5\n",
      "正在下载 ATL03_20191021153332_03780502_006_02.h5 到 G:\\ICE\\数据下载测试\\2019\\ATL03\\extent_3...\n"
     ]
    },
    {
     "data": {
      "application/vnd.jupyter.widget-view+json": {
       "model_id": "0844c1f91ec74621ab316efa44cbeeb9",
       "version_major": 2,
       "version_minor": 0
      },
      "text/plain": [
       "QUEUEING TASKS | :   0%|          | 0/1 [00:00<?, ?it/s]"
      ]
     },
     "metadata": {},
     "output_type": "display_data"
    },
    {
     "data": {
      "application/vnd.jupyter.widget-view+json": {
       "model_id": "7a5a5109ade74ebd88bba94c84c28a32",
       "version_major": 2,
       "version_minor": 0
      },
      "text/plain": [
       "PROCESSING TASKS | :   0%|          | 0/1 [00:00<?, ?it/s]"
      ]
     },
     "metadata": {},
     "output_type": "display_data"
    },
    {
     "data": {
      "application/vnd.jupyter.widget-view+json": {
       "model_id": "23e966a898c54498b997ac375abd81b2",
       "version_major": 2,
       "version_minor": 0
      },
      "text/plain": [
       "COLLECTING RESULTS | :   0%|          | 0/1 [00:00<?, ?it/s]"
      ]
     },
     "metadata": {},
     "output_type": "display_data"
    },
    {
     "name": "stdout",
     "output_type": "stream",
     "text": [
      "G:\\ICE\\数据下载测试\\2019\\ATL03\\extent_3\\ATL03_20191025151810_04390501_006_02.h5\n",
      "正在下载 ATL03_20191025151810_04390501_006_02.h5 到 G:\\ICE\\数据下载测试\\2019\\ATL03\\extent_3...\n"
     ]
    },
    {
     "data": {
      "application/vnd.jupyter.widget-view+json": {
       "model_id": "dd421eff415b455d878888d73777085e",
       "version_major": 2,
       "version_minor": 0
      },
      "text/plain": [
       "QUEUEING TASKS | :   0%|          | 0/1 [00:00<?, ?it/s]"
      ]
     },
     "metadata": {},
     "output_type": "display_data"
    },
    {
     "data": {
      "application/vnd.jupyter.widget-view+json": {
       "model_id": "152bc421d95646db959ce6f0d8dd4133",
       "version_major": 2,
       "version_minor": 0
      },
      "text/plain": [
       "PROCESSING TASKS | :   0%|          | 0/1 [00:00<?, ?it/s]"
      ]
     },
     "metadata": {},
     "output_type": "display_data"
    },
    {
     "data": {
      "application/vnd.jupyter.widget-view+json": {
       "model_id": "2fd871d35da347589fb8ef0f5f68d487",
       "version_major": 2,
       "version_minor": 0
      },
      "text/plain": [
       "COLLECTING RESULTS | :   0%|          | 0/1 [00:00<?, ?it/s]"
      ]
     },
     "metadata": {},
     "output_type": "display_data"
    },
    {
     "name": "stdout",
     "output_type": "stream",
     "text": [
      "G:\\ICE\\数据下载测试\\2019\\ATL03\\extent_3\\ATL03_20191102030711_05530507_006_01.h5\n",
      "正在下载 ATL03_20191102030711_05530507_006_01.h5 到 G:\\ICE\\数据下载测试\\2019\\ATL03\\extent_3...\n"
     ]
    },
    {
     "data": {
      "application/vnd.jupyter.widget-view+json": {
       "model_id": "eb0689f18e23409888973e0aa16debc3",
       "version_major": 2,
       "version_minor": 0
      },
      "text/plain": [
       "QUEUEING TASKS | :   0%|          | 0/1 [00:00<?, ?it/s]"
      ]
     },
     "metadata": {},
     "output_type": "display_data"
    },
    {
     "data": {
      "application/vnd.jupyter.widget-view+json": {
       "model_id": "4a489e804dae45d3ae304345f6bf93a5",
       "version_major": 2,
       "version_minor": 0
      },
      "text/plain": [
       "PROCESSING TASKS | :   0%|          | 0/1 [00:00<?, ?it/s]"
      ]
     },
     "metadata": {},
     "output_type": "display_data"
    },
    {
     "data": {
      "application/vnd.jupyter.widget-view+json": {
       "model_id": "ae1854fcdf2440d7ab8e1d94b2d38d93",
       "version_major": 2,
       "version_minor": 0
      },
      "text/plain": [
       "COLLECTING RESULTS | :   0%|          | 0/1 [00:00<?, ?it/s]"
      ]
     },
     "metadata": {},
     "output_type": "display_data"
    },
    {
     "name": "stdout",
     "output_type": "stream",
     "text": [
      "G:\\ICE\\数据下载测试\\2019\\ATL03\\extent_3\\ATL03_20191106025022_06140506_006_01.h5\n",
      "正在下载 ATL03_20191106025022_06140506_006_01.h5 到 G:\\ICE\\数据下载测试\\2019\\ATL03\\extent_3...\n"
     ]
    },
    {
     "data": {
      "application/vnd.jupyter.widget-view+json": {
       "model_id": "38d6cf93e7864ff192b9c08e8b3b5b10",
       "version_major": 2,
       "version_minor": 0
      },
      "text/plain": [
       "QUEUEING TASKS | :   0%|          | 0/1 [00:00<?, ?it/s]"
      ]
     },
     "metadata": {},
     "output_type": "display_data"
    },
    {
     "data": {
      "application/vnd.jupyter.widget-view+json": {
       "model_id": "04b3c8f090f6492db30ad5c4ecf72381",
       "version_major": 2,
       "version_minor": 0
      },
      "text/plain": [
       "PROCESSING TASKS | :   0%|          | 0/1 [00:00<?, ?it/s]"
      ]
     },
     "metadata": {},
     "output_type": "display_data"
    },
    {
     "data": {
      "application/vnd.jupyter.widget-view+json": {
       "model_id": "f0cff33034fa4069b982f016448dfa9c",
       "version_major": 2,
       "version_minor": 0
      },
      "text/plain": [
       "COLLECTING RESULTS | :   0%|          | 0/1 [00:00<?, ?it/s]"
      ]
     },
     "metadata": {},
     "output_type": "display_data"
    },
    {
     "name": "stdout",
     "output_type": "stream",
     "text": [
      "G:\\ICE\\数据下载测试\\2019\\ATL03\\extent_3\\ATL03_20191106025852_06140507_006_01.h5\n",
      "正在下载 ATL03_20191106025852_06140507_006_01.h5 到 G:\\ICE\\数据下载测试\\2019\\ATL03\\extent_3...\n"
     ]
    },
    {
     "data": {
      "application/vnd.jupyter.widget-view+json": {
       "model_id": "4a50f0175ec648e78310c882ec1adf18",
       "version_major": 2,
       "version_minor": 0
      },
      "text/plain": [
       "QUEUEING TASKS | :   0%|          | 0/1 [00:00<?, ?it/s]"
      ]
     },
     "metadata": {},
     "output_type": "display_data"
    },
    {
     "data": {
      "application/vnd.jupyter.widget-view+json": {
       "model_id": "806563389fce419b92dc50193063ac8b",
       "version_major": 2,
       "version_minor": 0
      },
      "text/plain": [
       "PROCESSING TASKS | :   0%|          | 0/1 [00:00<?, ?it/s]"
      ]
     },
     "metadata": {},
     "output_type": "display_data"
    },
    {
     "data": {
      "application/vnd.jupyter.widget-view+json": {
       "model_id": "30244136f4c947a882a719d720315783",
       "version_major": 2,
       "version_minor": 0
      },
      "text/plain": [
       "COLLECTING RESULTS | :   0%|          | 0/1 [00:00<?, ?it/s]"
      ]
     },
     "metadata": {},
     "output_type": "display_data"
    },
    {
     "name": "stdout",
     "output_type": "stream",
     "text": [
      "G:\\ICE\\数据下载测试\\2019\\ATL03\\extent_3\\ATL03_20191119140232_08200501_006_01.h5\n",
      "正在下载 ATL03_20191119140232_08200501_006_01.h5 到 G:\\ICE\\数据下载测试\\2019\\ATL03\\extent_3...\n"
     ]
    },
    {
     "data": {
      "application/vnd.jupyter.widget-view+json": {
       "model_id": "446b7eef0c7c4d399deb72a66fd67d10",
       "version_major": 2,
       "version_minor": 0
      },
      "text/plain": [
       "QUEUEING TASKS | :   0%|          | 0/1 [00:00<?, ?it/s]"
      ]
     },
     "metadata": {},
     "output_type": "display_data"
    },
    {
     "data": {
      "application/vnd.jupyter.widget-view+json": {
       "model_id": "9d680cbe22f44085ba687016840818fa",
       "version_major": 2,
       "version_minor": 0
      },
      "text/plain": [
       "PROCESSING TASKS | :   0%|          | 0/1 [00:00<?, ?it/s]"
      ]
     },
     "metadata": {},
     "output_type": "display_data"
    },
    {
     "data": {
      "application/vnd.jupyter.widget-view+json": {
       "model_id": "38da6f6f21e3476e813e37def7ff4930",
       "version_major": 2,
       "version_minor": 0
      },
      "text/plain": [
       "COLLECTING RESULTS | :   0%|          | 0/1 [00:00<?, ?it/s]"
      ]
     },
     "metadata": {},
     "output_type": "display_data"
    },
    {
     "name": "stdout",
     "output_type": "stream",
     "text": [
      "G:\\ICE\\数据下载测试\\2019\\ATL03\\extent_3\\ATL03_20191119140934_08200502_006_01.h5\n",
      "正在下载 ATL03_20191119140934_08200502_006_01.h5 到 G:\\ICE\\数据下载测试\\2019\\ATL03\\extent_3...\n"
     ]
    },
    {
     "data": {
      "application/vnd.jupyter.widget-view+json": {
       "model_id": "9808d294231f49e1bbe6230a747ecd7e",
       "version_major": 2,
       "version_minor": 0
      },
      "text/plain": [
       "QUEUEING TASKS | :   0%|          | 0/1 [00:00<?, ?it/s]"
      ]
     },
     "metadata": {},
     "output_type": "display_data"
    },
    {
     "data": {
      "application/vnd.jupyter.widget-view+json": {
       "model_id": "73c712e312d348b69f14951a4952c766",
       "version_major": 2,
       "version_minor": 0
      },
      "text/plain": [
       "PROCESSING TASKS | :   0%|          | 0/1 [00:00<?, ?it/s]"
      ]
     },
     "metadata": {},
     "output_type": "display_data"
    },
    {
     "data": {
      "application/vnd.jupyter.widget-view+json": {
       "model_id": "8d70f2d94af7449da73c67ceafdb81e3",
       "version_major": 2,
       "version_minor": 0
      },
      "text/plain": [
       "COLLECTING RESULTS | :   0%|          | 0/1 [00:00<?, ?it/s]"
      ]
     },
     "metadata": {},
     "output_type": "display_data"
    },
    {
     "name": "stdout",
     "output_type": "stream",
     "text": [
      "G:\\ICE\\数据下载测试\\2019\\ATL03\\extent_3\\ATL03_20191123135411_08810501_006_01.h5\n",
      "正在下载 ATL03_20191123135411_08810501_006_01.h5 到 G:\\ICE\\数据下载测试\\2019\\ATL03\\extent_3...\n"
     ]
    },
    {
     "data": {
      "application/vnd.jupyter.widget-view+json": {
       "model_id": "55637de2d70945bcb088c9d21c4e9491",
       "version_major": 2,
       "version_minor": 0
      },
      "text/plain": [
       "QUEUEING TASKS | :   0%|          | 0/1 [00:00<?, ?it/s]"
      ]
     },
     "metadata": {},
     "output_type": "display_data"
    },
    {
     "data": {
      "application/vnd.jupyter.widget-view+json": {
       "model_id": "c2a79f421ddb468c8b4b88a296168895",
       "version_major": 2,
       "version_minor": 0
      },
      "text/plain": [
       "PROCESSING TASKS | :   0%|          | 0/1 [00:00<?, ?it/s]"
      ]
     },
     "metadata": {},
     "output_type": "display_data"
    },
    {
     "data": {
      "application/vnd.jupyter.widget-view+json": {
       "model_id": "2a7302fd96b2415486581bf5ba0f6d72",
       "version_major": 2,
       "version_minor": 0
      },
      "text/plain": [
       "COLLECTING RESULTS | :   0%|          | 0/1 [00:00<?, ?it/s]"
      ]
     },
     "metadata": {},
     "output_type": "display_data"
    },
    {
     "name": "stdout",
     "output_type": "stream",
     "text": [
      "G:\\ICE\\数据下载测试\\2019\\ATL03\\extent_3\\ATL03_20191123140113_08810502_006_01.h5\n",
      "正在下载 ATL03_20191123140113_08810502_006_01.h5 到 G:\\ICE\\数据下载测试\\2019\\ATL03\\extent_3...\n"
     ]
    },
    {
     "data": {
      "application/vnd.jupyter.widget-view+json": {
       "model_id": "d5e60c3667f141a69b0bf45121c5df55",
       "version_major": 2,
       "version_minor": 0
      },
      "text/plain": [
       "QUEUEING TASKS | :   0%|          | 0/1 [00:00<?, ?it/s]"
      ]
     },
     "metadata": {},
     "output_type": "display_data"
    },
    {
     "data": {
      "application/vnd.jupyter.widget-view+json": {
       "model_id": "0066479e3b7842ba953f599044384a92",
       "version_major": 2,
       "version_minor": 0
      },
      "text/plain": [
       "PROCESSING TASKS | :   0%|          | 0/1 [00:00<?, ?it/s]"
      ]
     },
     "metadata": {},
     "output_type": "display_data"
    },
    {
     "data": {
      "application/vnd.jupyter.widget-view+json": {
       "model_id": "e41d2618109042c19030028d88de27b1",
       "version_major": 2,
       "version_minor": 0
      },
      "text/plain": [
       "COLLECTING RESULTS | :   0%|          | 0/1 [00:00<?, ?it/s]"
      ]
     },
     "metadata": {},
     "output_type": "display_data"
    },
    {
     "name": "stdout",
     "output_type": "stream",
     "text": [
      "G:\\ICE\\数据下载测试\\2019\\ATL03\\extent_3\\ATL03_20191205012622_10560506_006_01.h5\n",
      "正在下载 ATL03_20191205012622_10560506_006_01.h5 到 G:\\ICE\\数据下载测试\\2019\\ATL03\\extent_3...\n"
     ]
    },
    {
     "data": {
      "application/vnd.jupyter.widget-view+json": {
       "model_id": "3011da9d5afb40e995ea157002ae0c62",
       "version_major": 2,
       "version_minor": 0
      },
      "text/plain": [
       "QUEUEING TASKS | :   0%|          | 0/1 [00:00<?, ?it/s]"
      ]
     },
     "metadata": {},
     "output_type": "display_data"
    },
    {
     "data": {
      "application/vnd.jupyter.widget-view+json": {
       "model_id": "aed631f38ba841e2aec8646513d5939b",
       "version_major": 2,
       "version_minor": 0
      },
      "text/plain": [
       "PROCESSING TASKS | :   0%|          | 0/1 [00:00<?, ?it/s]"
      ]
     },
     "metadata": {},
     "output_type": "display_data"
    },
    {
     "data": {
      "application/vnd.jupyter.widget-view+json": {
       "model_id": "66f0b183508648d4b24efede671cbf48",
       "version_major": 2,
       "version_minor": 0
      },
      "text/plain": [
       "COLLECTING RESULTS | :   0%|          | 0/1 [00:00<?, ?it/s]"
      ]
     },
     "metadata": {},
     "output_type": "display_data"
    },
    {
     "name": "stdout",
     "output_type": "stream",
     "text": [
      "G:\\ICE\\数据下载测试\\2019\\ATL03\\extent_3\\ATL03_20191205013453_10560507_006_01.h5\n",
      "正在下载 ATL03_20191205013453_10560507_006_01.h5 到 G:\\ICE\\数据下载测试\\2019\\ATL03\\extent_3...\n"
     ]
    },
    {
     "data": {
      "application/vnd.jupyter.widget-view+json": {
       "model_id": "47ce3dfce2a84a5aa6249b8a6924abf8",
       "version_major": 2,
       "version_minor": 0
      },
      "text/plain": [
       "QUEUEING TASKS | :   0%|          | 0/1 [00:00<?, ?it/s]"
      ]
     },
     "metadata": {},
     "output_type": "display_data"
    },
    {
     "data": {
      "application/vnd.jupyter.widget-view+json": {
       "model_id": "74b0a777836a4af9bc481fb75f574961",
       "version_major": 2,
       "version_minor": 0
      },
      "text/plain": [
       "PROCESSING TASKS | :   0%|          | 0/1 [00:00<?, ?it/s]"
      ]
     },
     "metadata": {},
     "output_type": "display_data"
    },
    {
     "data": {
      "application/vnd.jupyter.widget-view+json": {
       "model_id": "01cae2e9a75c49488a1a2f24a58d3dde",
       "version_major": 2,
       "version_minor": 0
      },
      "text/plain": [
       "COLLECTING RESULTS | :   0%|          | 0/1 [00:00<?, ?it/s]"
      ]
     },
     "metadata": {},
     "output_type": "display_data"
    },
    {
     "name": "stdout",
     "output_type": "stream",
     "text": [
      "G:\\ICE\\数据下载测试\\2019\\ATL03\\extent_3\\ATL03_20191218123832_12620501_006_01.h5\n",
      "正在下载 ATL03_20191218123832_12620501_006_01.h5 到 G:\\ICE\\数据下载测试\\2019\\ATL03\\extent_3...\n"
     ]
    },
    {
     "data": {
      "application/vnd.jupyter.widget-view+json": {
       "model_id": "e0703a23efe64d2ead3ef2966d86c46c",
       "version_major": 2,
       "version_minor": 0
      },
      "text/plain": [
       "QUEUEING TASKS | :   0%|          | 0/1 [00:00<?, ?it/s]"
      ]
     },
     "metadata": {},
     "output_type": "display_data"
    },
    {
     "data": {
      "application/vnd.jupyter.widget-view+json": {
       "model_id": "f7b5ee66fdd14a53a98917bde6f16520",
       "version_major": 2,
       "version_minor": 0
      },
      "text/plain": [
       "PROCESSING TASKS | :   0%|          | 0/1 [00:00<?, ?it/s]"
      ]
     },
     "metadata": {},
     "output_type": "display_data"
    },
    {
     "data": {
      "application/vnd.jupyter.widget-view+json": {
       "model_id": "037bdbcd26fd4a38a20f30550d4c7f35",
       "version_major": 2,
       "version_minor": 0
      },
      "text/plain": [
       "COLLECTING RESULTS | :   0%|          | 0/1 [00:00<?, ?it/s]"
      ]
     },
     "metadata": {},
     "output_type": "display_data"
    },
    {
     "name": "stdout",
     "output_type": "stream",
     "text": [
      "G:\\ICE\\数据下载测试\\2019\\ATL03\\extent_3\\ATL03_20191218124534_12620502_006_01.h5\n",
      "正在下载 ATL03_20191218124534_12620502_006_01.h5 到 G:\\ICE\\数据下载测试\\2019\\ATL03\\extent_3...\n"
     ]
    },
    {
     "data": {
      "application/vnd.jupyter.widget-view+json": {
       "model_id": "56802d94ff2b4a5e8c727afe3e6612e2",
       "version_major": 2,
       "version_minor": 0
      },
      "text/plain": [
       "QUEUEING TASKS | :   0%|          | 0/1 [00:00<?, ?it/s]"
      ]
     },
     "metadata": {},
     "output_type": "display_data"
    },
    {
     "data": {
      "application/vnd.jupyter.widget-view+json": {
       "model_id": "2b8b8ae0e75a498e9ca55ab69a2db785",
       "version_major": 2,
       "version_minor": 0
      },
      "text/plain": [
       "PROCESSING TASKS | :   0%|          | 0/1 [00:00<?, ?it/s]"
      ]
     },
     "metadata": {},
     "output_type": "display_data"
    },
    {
     "data": {
      "application/vnd.jupyter.widget-view+json": {
       "model_id": "8a761dc475ba49c883bf4f2bee300589",
       "version_major": 2,
       "version_minor": 0
      },
      "text/plain": [
       "COLLECTING RESULTS | :   0%|          | 0/1 [00:00<?, ?it/s]"
      ]
     },
     "metadata": {},
     "output_type": "display_data"
    },
    {
     "name": "stdout",
     "output_type": "stream",
     "text": [
      "G:\\ICE\\数据下载测试\\2019\\ATL03\\extent_3\\ATL03_20191222123012_13230501_006_01.h5\n",
      "正在下载 ATL03_20191222123012_13230501_006_01.h5 到 G:\\ICE\\数据下载测试\\2019\\ATL03\\extent_3...\n"
     ]
    },
    {
     "data": {
      "application/vnd.jupyter.widget-view+json": {
       "model_id": "12cf0e2f01cc4bd9ba7ff6449c79ba4e",
       "version_major": 2,
       "version_minor": 0
      },
      "text/plain": [
       "QUEUEING TASKS | :   0%|          | 0/1 [00:00<?, ?it/s]"
      ]
     },
     "metadata": {},
     "output_type": "display_data"
    },
    {
     "data": {
      "application/vnd.jupyter.widget-view+json": {
       "model_id": "1ac2051f1c174c67952a70b9dcd7c784",
       "version_major": 2,
       "version_minor": 0
      },
      "text/plain": [
       "PROCESSING TASKS | :   0%|          | 0/1 [00:00<?, ?it/s]"
      ]
     },
     "metadata": {},
     "output_type": "display_data"
    },
    {
     "data": {
      "application/vnd.jupyter.widget-view+json": {
       "model_id": "43ff18139fff4beb9b6b530e500a4ee1",
       "version_major": 2,
       "version_minor": 0
      },
      "text/plain": [
       "COLLECTING RESULTS | :   0%|          | 0/1 [00:00<?, ?it/s]"
      ]
     },
     "metadata": {},
     "output_type": "display_data"
    },
    {
     "name": "stdout",
     "output_type": "stream",
     "text": [
      "G:\\ICE\\数据下载测试\\2019\\ATL03\\extent_3\\ATL03_20191222123714_13230502_006_01.h5\n",
      "正在下载 ATL03_20191222123714_13230502_006_01.h5 到 G:\\ICE\\数据下载测试\\2019\\ATL03\\extent_3...\n"
     ]
    },
    {
     "data": {
      "application/vnd.jupyter.widget-view+json": {
       "model_id": "dd4389d6c19247139583a64a4a440516",
       "version_major": 2,
       "version_minor": 0
      },
      "text/plain": [
       "QUEUEING TASKS | :   0%|          | 0/1 [00:00<?, ?it/s]"
      ]
     },
     "metadata": {},
     "output_type": "display_data"
    },
    {
     "data": {
      "application/vnd.jupyter.widget-view+json": {
       "model_id": "2e5fab9840514370976f31e0504aa37d",
       "version_major": 2,
       "version_minor": 0
      },
      "text/plain": [
       "PROCESSING TASKS | :   0%|          | 0/1 [00:00<?, ?it/s]"
      ]
     },
     "metadata": {},
     "output_type": "display_data"
    },
    {
     "data": {
      "application/vnd.jupyter.widget-view+json": {
       "model_id": "b23e243f8dd84b7c984fa57f422a0b7b",
       "version_major": 2,
       "version_minor": 0
      },
      "text/plain": [
       "COLLECTING RESULTS | :   0%|          | 0/1 [00:00<?, ?it/s]"
      ]
     },
     "metadata": {},
     "output_type": "display_data"
    },
    {
     "name": "stdout",
     "output_type": "stream",
     "text": [
      "G:\\ICE\\数据下载测试\\2019\\ATL03\\extent_3\\ATL03_20190104172317_01110206_006_02.h5\n",
      "文件 ATL03_20190104172317_01110206_006_02.h5 已存在，大小匹配，跳过下载。\n",
      "G:\\ICE\\数据下载测试\\2019\\ATL03\\extent_3\\ATL03_20190104173147_01110207_006_02.h5\n",
      "文件 ATL03_20190104173147_01110207_006_02.h5 已存在，大小匹配，跳过下载。\n",
      "G:\\ICE\\数据下载测试\\2019\\ATL03\\extent_3\\ATL03_20190108171456_01720206_006_02.h5\n",
      "文件 ATL03_20190108171456_01720206_006_02.h5 已存在，大小匹配，跳过下载。\n",
      "G:\\ICE\\数据下载测试\\2019\\ATL03\\extent_3\\ATL03_20190108172326_01720207_006_02.h5\n",
      "文件 ATL03_20190108172326_01720207_006_02.h5 已存在，大小匹配，跳过下载。\n",
      "G:\\ICE\\数据下载测试\\2019\\ATL03\\extent_3\\ATL03_20190122042705_03780201_006_02.h5\n",
      "文件 ATL03_20190122042705_03780201_006_02.h5 已存在，大小匹配，跳过下载。\n",
      "G:\\ICE\\数据下载测试\\2019\\ATL03\\extent_3\\ATL03_20190122043407_03780202_006_02.h5\n",
      "文件 ATL03_20190122043407_03780202_006_02.h5 已存在，大小匹配，跳过下载。\n",
      "G:\\ICE\\数据下载测试\\2019\\ATL03\\extent_3\\ATL03_20190126041850_04390201_006_02.h5\n",
      "文件 ATL03_20190126041850_04390201_006_02.h5 已存在，大小匹配，跳过下载。\n",
      "G:\\ICE\\数据下载测试\\2019\\ATL03\\extent_3\\ATL03_20190202155929_05530206_006_02.h5\n",
      "文件 ATL03_20190202155929_05530206_006_02.h5 已存在，大小匹配，跳过下载。\n",
      "G:\\ICE\\数据下载测试\\2019\\ATL03\\extent_3\\ATL03_20190202160759_05530207_006_02.h5\n",
      "文件 ATL03_20190202160759_05530207_006_02.h5 已存在，大小匹配，跳过下载。\n",
      "G:\\ICE\\数据下载测试\\2019\\ATL03\\extent_3\\ATL03_20190206155109_06140206_006_02.h5\n",
      "文件 ATL03_20190206155109_06140206_006_02.h5 已存在，大小匹配，跳过下载。\n",
      "G:\\ICE\\数据下载测试\\2019\\ATL03\\extent_3\\ATL03_20190206155939_06140207_006_02.h5\n",
      "文件 ATL03_20190206155939_06140207_006_02.h5 已存在，大小匹配，跳过下载。\n",
      "G:\\ICE\\数据下载测试\\2019\\ATL03\\extent_3\\ATL03_20190220030312_08200201_006_02.h5\n",
      "文件 ATL03_20190220030312_08200201_006_02.h5 已存在，大小匹配，跳过下载。\n",
      "G:\\ICE\\数据下载测试\\2019\\ATL03\\extent_3\\ATL03_20190220031014_08200202_006_02.h5\n",
      "文件 ATL03_20190220031014_08200202_006_02.h5 已存在，大小匹配，跳过下载。\n",
      "G:\\ICE\\数据下载测试\\2019\\ATL03\\extent_3\\ATL03_20190224025455_08810201_006_02.h5\n",
      "文件 ATL03_20190224025455_08810201_006_02.h5 已存在，大小匹配，跳过下载。\n",
      "G:\\ICE\\数据下载测试\\2019\\ATL03\\extent_3\\ATL03_20190224030157_08810202_006_02.h5\n",
      "文件 ATL03_20190224030157_08810202_006_02.h5 已存在，大小匹配，跳过下载。\n",
      "G:\\ICE\\数据下载测试\\2019\\ATL03\\extent_3\\ATL03_20190307142709_10560206_006_02.h5\n",
      "文件 ATL03_20190307142709_10560206_006_02.h5 已存在，大小匹配，跳过下载。\n",
      "G:\\ICE\\数据下载测试\\2019\\ATL03\\extent_3\\ATL03_20190307143539_10560207_006_02.h5\n",
      "文件 ATL03_20190307143539_10560207_006_02.h5 已存在，大小匹配，跳过下载。\n",
      "G:\\ICE\\数据下载测试\\2019\\ATL03\\extent_3\\ATL03_20190325013055_13230201_006_02.h5\n",
      "文件 ATL03_20190325013055_13230201_006_02.h5 已存在，大小匹配，跳过下载。\n",
      "G:\\ICE\\数据下载测试\\2019\\ATL03\\extent_3\\ATL03_20190325013757_13230202_006_02.h5\n",
      "文件 ATL03_20190325013757_13230202_006_02.h5 已存在，大小匹配，跳过下载。\n",
      "G:\\ICE\\数据下载测试\\2019\\ATL03\\extent_3\\ATL03_20190405130309_01110306_006_02.h5\n",
      "文件 ATL03_20190405130309_01110306_006_02.h5 已存在，大小匹配，跳过下载。\n",
      "G:\\ICE\\数据下载测试\\2019\\ATL03\\extent_3\\ATL03_20190405131139_01110307_006_02.h5\n",
      "文件 ATL03_20190405131139_01110307_006_02.h5 已存在，大小匹配，跳过下载。\n",
      "G:\\ICE\\数据下载测试\\2019\\ATL03\\extent_3\\ATL03_20190409125448_01720306_006_02.h5\n",
      "文件 ATL03_20190409125448_01720306_006_02.h5 已存在，大小匹配，跳过下载。\n",
      "G:\\ICE\\数据下载测试\\2019\\ATL03\\extent_3\\ATL03_20190409130319_01720307_006_02.h5\n",
      "文件 ATL03_20190409130319_01720307_006_02.h5 已存在，大小匹配，跳过下载。\n",
      "G:\\ICE\\数据下载测试\\2019\\ATL03\\extent_3\\ATL03_20190423000655_03780301_006_02.h5\n",
      "文件 ATL03_20190423000655_03780301_006_02.h5 已存在，大小匹配，跳过下载。\n",
      "G:\\ICE\\数据下载测试\\2019\\ATL03\\extent_3\\ATL03_20190423001356_03780302_006_02.h5\n",
      "文件 ATL03_20190423001356_03780302_006_02.h5 已存在，大小匹配，跳过下载。\n",
      "G:\\ICE\\数据下载测试\\2019\\ATL03\\extent_3\\ATL03_20190426235834_04390301_006_02.h5\n",
      "文件 ATL03_20190426235834_04390301_006_02.h5 已存在，大小匹配，跳过下载。\n",
      "G:\\ICE\\数据下载测试\\2019\\ATL03\\extent_3\\ATL03_20190504113906_05530306_006_02.h5\n",
      "文件 ATL03_20190504113906_05530306_006_02.h5 已存在，大小匹配，跳过下载。\n",
      "G:\\ICE\\数据下载测试\\2019\\ATL03\\extent_3\\ATL03_20190504114736_05530307_006_02.h5\n",
      "文件 ATL03_20190504114736_05530307_006_02.h5 已存在，大小匹配，跳过下载。\n",
      "G:\\ICE\\数据下载测试\\2019\\ATL03\\extent_3\\ATL03_20190508113046_06140306_006_02.h5\n",
      "文件 ATL03_20190508113046_06140306_006_02.h5 已存在，大小匹配，跳过下载。\n",
      "G:\\ICE\\数据下载测试\\2019\\ATL03\\extent_3\\ATL03_20190508113916_06140307_006_02.h5\n",
      "文件 ATL03_20190508113916_06140307_006_02.h5 已存在，大小匹配，跳过下载。\n",
      "G:\\ICE\\数据下载测试\\2019\\ATL03\\extent_3\\ATL03_20190521224251_08200301_006_02.h5\n",
      "文件 ATL03_20190521224251_08200301_006_02.h5 已存在，大小匹配，跳过下载。\n",
      "G:\\ICE\\数据下载测试\\2019\\ATL03\\extent_3\\ATL03_20190521224953_08200302_006_02.h5\n",
      "文件 ATL03_20190521224953_08200302_006_02.h5 已存在，大小匹配，跳过下载。\n",
      "G:\\ICE\\数据下载测试\\2019\\ATL03\\extent_3\\ATL03_20190525223431_08810301_006_02.h5\n",
      "文件 ATL03_20190525223431_08810301_006_02.h5 已存在，大小匹配，跳过下载。\n",
      "G:\\ICE\\数据下载测试\\2019\\ATL03\\extent_3\\ATL03_20190525224133_08810302_006_02.h5\n",
      "文件 ATL03_20190525224133_08810302_006_02.h5 已存在，大小匹配，跳过下载。\n",
      "G:\\ICE\\数据下载测试\\2019\\ATL03\\extent_3\\ATL03_20190606100643_10560306_006_02.h5\n",
      "文件 ATL03_20190606100643_10560306_006_02.h5 已存在，大小匹配，跳过下载。\n",
      "G:\\ICE\\数据下载测试\\2019\\ATL03\\extent_3\\ATL03_20190606101513_10560307_006_02.h5\n",
      "文件 ATL03_20190606101513_10560307_006_02.h5 已存在，大小匹配，跳过下载。\n",
      "G:\\ICE\\数据下载测试\\2019\\ATL03\\extent_3\\ATL03_20190623211032_13230301_006_02.h5\n",
      "文件 ATL03_20190623211032_13230301_006_02.h5 已存在，大小匹配，跳过下载。\n",
      "G:\\ICE\\数据下载测试\\2019\\ATL03\\extent_3\\ATL03_20190623211734_13230302_006_02.h5\n",
      "文件 ATL03_20190623211734_13230302_006_02.h5 已存在，大小匹配，跳过下载。\n",
      "G:\\ICE\\数据下载测试\\2019\\ATL03\\extent_3\\ATL03_20190722194628_03780401_006_02.h5\n",
      "文件 ATL03_20190722194628_03780401_006_02.h5 已存在，大小匹配，跳过下载。\n",
      "G:\\ICE\\数据下载测试\\2019\\ATL03\\extent_3\\ATL03_20190722195330_03780402_006_02.h5\n",
      "文件 ATL03_20190722195330_03780402_006_02.h5 已存在，大小匹配，跳过下载。\n",
      "G:\\ICE\\数据下载测试\\2019\\ATL03\\extent_3\\ATL03_20190726193811_04390401_006_02.h5\n",
      "文件 ATL03_20190726193811_04390401_006_02.h5 已存在，大小匹配，跳过下载。\n",
      "G:\\ICE\\数据下载测试\\2019\\ATL03\\extent_3\\ATL03_20190803071847_05530406_006_02.h5\n",
      "文件 ATL03_20190803071847_05530406_006_02.h5 已存在，大小匹配，跳过下载。\n",
      "G:\\ICE\\数据下载测试\\2019\\ATL03\\extent_3\\ATL03_20190803072717_05530407_006_02.h5\n",
      "文件 ATL03_20190803072717_05530407_006_02.h5 已存在，大小匹配，跳过下载。\n",
      "G:\\ICE\\数据下载测试\\2019\\ATL03\\extent_3\\ATL03_20190807071027_06140406_006_02.h5\n",
      "文件 ATL03_20190807071027_06140406_006_02.h5 已存在，大小匹配，跳过下载。\n",
      "G:\\ICE\\数据下载测试\\2019\\ATL03\\extent_3\\ATL03_20190807071857_06140407_006_02.h5\n",
      "文件 ATL03_20190807071857_06140407_006_02.h5 已存在，大小匹配，跳过下载。\n",
      "G:\\ICE\\数据下载测试\\2019\\ATL03\\extent_3\\ATL03_20190820182239_08200401_006_02.h5\n",
      "文件 ATL03_20190820182239_08200401_006_02.h5 已存在，大小匹配，跳过下载。\n",
      "G:\\ICE\\数据下载测试\\2019\\ATL03\\extent_3\\ATL03_20190820182941_08200402_006_02.h5\n",
      "文件 ATL03_20190820182941_08200402_006_02.h5 已存在，大小匹配，跳过下载。\n",
      "G:\\ICE\\数据下载测试\\2019\\ATL03\\extent_3\\ATL03_20190824181420_08810401_006_02.h5\n",
      "文件 ATL03_20190824181420_08810401_006_02.h5 已存在，大小匹配，跳过下载。\n",
      "G:\\ICE\\数据下载测试\\2019\\ATL03\\extent_3\\ATL03_20190824182122_08810402_006_02.h5\n",
      "文件 ATL03_20190824182122_08810402_006_02.h5 已存在，大小匹配，跳过下载。\n",
      "G:\\ICE\\数据下载测试\\2019\\ATL03\\extent_3\\ATL03_20190901060323_09950407_006_02.h5\n",
      "文件 ATL03_20190901060323_09950407_006_02.h5 已存在，大小匹配，跳过下载。\n",
      "G:\\ICE\\数据下载测试\\2019\\ATL03\\extent_3\\ATL03_20190905054632_10560406_006_02.h5\n",
      "文件 ATL03_20190905054632_10560406_006_02.h5 已存在，大小匹配，跳过下载。\n",
      "G:\\ICE\\数据下载测试\\2019\\ATL03\\extent_3\\ATL03_20190905055502_10560407_006_02.h5\n",
      "文件 ATL03_20190905055502_10560407_006_02.h5 已存在，大小匹配，跳过下载。\n",
      "G:\\ICE\\数据下载测试\\2019\\ATL03\\extent_3\\ATL03_20190918165843_12620401_006_02.h5\n",
      "文件 ATL03_20190918165843_12620401_006_02.h5 已存在，大小匹配，跳过下载。\n",
      "G:\\ICE\\数据下载测试\\2019\\ATL03\\extent_3\\ATL03_20190918170545_12620402_006_02.h5\n",
      "文件 ATL03_20190918170545_12620402_006_02.h5 已存在，大小匹配，跳过下载。\n",
      "G:\\ICE\\数据下载测试\\2019\\ATL03\\extent_3\\ATL03_20190922165025_13230401_006_02.h5\n",
      "文件 ATL03_20190922165025_13230401_006_02.h5 已存在，大小匹配，跳过下载。\n",
      "G:\\ICE\\数据下载测试\\2019\\ATL03\\extent_3\\ATL03_20190922165727_13230402_006_02.h5\n",
      "文件 ATL03_20190922165727_13230402_006_02.h5 已存在，大小匹配，跳过下载。\n",
      "G:\\ICE\\数据下载测试\\2019\\ATL03\\extent_3\\ATL03_20191004042239_01110506_006_02.h5\n",
      "文件 ATL03_20191004042239_01110506_006_02.h5 已存在，大小匹配，跳过下载。\n",
      "G:\\ICE\\数据下载测试\\2019\\ATL03\\extent_3\\ATL03_20191004043110_01110507_006_02.h5\n",
      "文件 ATL03_20191004043110_01110507_006_02.h5 已存在，大小匹配，跳过下载。\n",
      "G:\\ICE\\数据下载测试\\2019\\ATL03\\extent_3\\ATL03_20191021152630_03780501_006_02.h5\n",
      "文件 ATL03_20191021152630_03780501_006_02.h5 已存在，大小匹配，跳过下载。\n",
      "G:\\ICE\\数据下载测试\\2019\\ATL03\\extent_3\\ATL03_20191021153332_03780502_006_02.h5\n",
      "文件 ATL03_20191021153332_03780502_006_02.h5 已存在，大小匹配，跳过下载。\n",
      "G:\\ICE\\数据下载测试\\2019\\ATL03\\extent_3\\ATL03_20191025151810_04390501_006_02.h5\n",
      "文件 ATL03_20191025151810_04390501_006_02.h5 已存在，大小匹配，跳过下载。\n",
      "G:\\ICE\\数据下载测试\\2019\\ATL03\\extent_3\\ATL03_20191102030711_05530507_006_01.h5\n",
      "文件 ATL03_20191102030711_05530507_006_01.h5 已存在，大小匹配，跳过下载。\n",
      "G:\\ICE\\数据下载测试\\2019\\ATL03\\extent_3\\ATL03_20191106025022_06140506_006_01.h5\n",
      "文件 ATL03_20191106025022_06140506_006_01.h5 已存在，大小匹配，跳过下载。\n",
      "G:\\ICE\\数据下载测试\\2019\\ATL03\\extent_3\\ATL03_20191106025852_06140507_006_01.h5\n",
      "文件 ATL03_20191106025852_06140507_006_01.h5 已存在，大小匹配，跳过下载。\n",
      "G:\\ICE\\数据下载测试\\2019\\ATL03\\extent_3\\ATL03_20191119140232_08200501_006_01.h5\n",
      "文件 ATL03_20191119140232_08200501_006_01.h5 已存在，大小匹配，跳过下载。\n",
      "G:\\ICE\\数据下载测试\\2019\\ATL03\\extent_3\\ATL03_20191119140934_08200502_006_01.h5\n",
      "文件 ATL03_20191119140934_08200502_006_01.h5 已存在，大小匹配，跳过下载。\n",
      "G:\\ICE\\数据下载测试\\2019\\ATL03\\extent_3\\ATL03_20191123135411_08810501_006_01.h5\n",
      "文件 ATL03_20191123135411_08810501_006_01.h5 已存在，大小匹配，跳过下载。\n",
      "G:\\ICE\\数据下载测试\\2019\\ATL03\\extent_3\\ATL03_20191123140113_08810502_006_01.h5\n",
      "文件 ATL03_20191123140113_08810502_006_01.h5 已存在，大小匹配，跳过下载。\n",
      "G:\\ICE\\数据下载测试\\2019\\ATL03\\extent_3\\ATL03_20191205012622_10560506_006_01.h5\n",
      "文件 ATL03_20191205012622_10560506_006_01.h5 已存在，大小匹配，跳过下载。\n",
      "G:\\ICE\\数据下载测试\\2019\\ATL03\\extent_3\\ATL03_20191205013453_10560507_006_01.h5\n",
      "文件 ATL03_20191205013453_10560507_006_01.h5 已存在，大小匹配，跳过下载。\n",
      "G:\\ICE\\数据下载测试\\2019\\ATL03\\extent_3\\ATL03_20191218123832_12620501_006_01.h5\n",
      "文件 ATL03_20191218123832_12620501_006_01.h5 已存在，大小匹配，跳过下载。\n",
      "G:\\ICE\\数据下载测试\\2019\\ATL03\\extent_3\\ATL03_20191218124534_12620502_006_01.h5\n",
      "文件 ATL03_20191218124534_12620502_006_01.h5 已存在，大小匹配，跳过下载。\n",
      "G:\\ICE\\数据下载测试\\2019\\ATL03\\extent_3\\ATL03_20191222123012_13230501_006_01.h5\n",
      "文件 ATL03_20191222123012_13230501_006_01.h5 已存在，大小匹配，跳过下载。\n",
      "G:\\ICE\\数据下载测试\\2019\\ATL03\\extent_3\\ATL03_20191222123714_13230502_006_01.h5\n",
      "文件 ATL03_20191222123714_13230502_006_01.h5 已存在，大小匹配，跳过下载。\n",
      "处理ID= 4 的 extent...\n",
      "查询结果的总大小：316.27 GB\n",
      "文件数量为: 138\n",
      "G:\\ICE\\数据下载测试\\2019\\ATL03\\extent_4\\ATL03_20190118043517_03170201_006_02.h5\n",
      "正在下载 ATL03_20190118043517_03170201_006_02.h5 到 G:\\ICE\\数据下载测试\\2019\\ATL03\\extent_4...\n"
     ]
    },
    {
     "data": {
      "application/vnd.jupyter.widget-view+json": {
       "model_id": "d25ed3b13eec4f08b1ff4dda60dc3b0b",
       "version_major": 2,
       "version_minor": 0
      },
      "text/plain": [
       "QUEUEING TASKS | :   0%|          | 0/1 [00:00<?, ?it/s]"
      ]
     },
     "metadata": {},
     "output_type": "display_data"
    },
    {
     "data": {
      "application/vnd.jupyter.widget-view+json": {
       "model_id": "ed86e14bc1fa4ebea057b4ca3a30d800",
       "version_major": 2,
       "version_minor": 0
      },
      "text/plain": [
       "PROCESSING TASKS | :   0%|          | 0/1 [00:00<?, ?it/s]"
      ]
     },
     "metadata": {},
     "output_type": "display_data"
    },
    {
     "data": {
      "application/vnd.jupyter.widget-view+json": {
       "model_id": "e1ac929189b74a51bb93f21dccfa0277",
       "version_major": 2,
       "version_minor": 0
      },
      "text/plain": [
       "COLLECTING RESULTS | :   0%|          | 0/1 [00:00<?, ?it/s]"
      ]
     },
     "metadata": {},
     "output_type": "display_data"
    },
    {
     "name": "stdout",
     "output_type": "stream",
     "text": [
      "G:\\ICE\\数据下载测试\\2019\\ATL03\\extent_4\\ATL03_20190118044219_03170202_006_02.h5\n",
      "正在下载 ATL03_20190118044219_03170202_006_02.h5 到 G:\\ICE\\数据下载测试\\2019\\ATL03\\extent_4...\n"
     ]
    },
    {
     "data": {
      "application/vnd.jupyter.widget-view+json": {
       "model_id": "0d1a2ade4dd2403fbf32fc9ab65976ae",
       "version_major": 2,
       "version_minor": 0
      },
      "text/plain": [
       "QUEUEING TASKS | :   0%|          | 0/1 [00:00<?, ?it/s]"
      ]
     },
     "metadata": {},
     "output_type": "display_data"
    },
    {
     "data": {
      "application/vnd.jupyter.widget-view+json": {
       "model_id": "f5a9dc92d1654294ad0410be3888ad23",
       "version_major": 2,
       "version_minor": 0
      },
      "text/plain": [
       "PROCESSING TASKS | :   0%|          | 0/1 [00:00<?, ?it/s]"
      ]
     },
     "metadata": {},
     "output_type": "display_data"
    },
    {
     "data": {
      "application/vnd.jupyter.widget-view+json": {
       "model_id": "f4b3042498da430a892391e4eef88964",
       "version_major": 2,
       "version_minor": 0
      },
      "text/plain": [
       "COLLECTING RESULTS | :   0%|          | 0/1 [00:00<?, ?it/s]"
      ]
     },
     "metadata": {},
     "output_type": "display_data"
    },
    {
     "name": "stdout",
     "output_type": "stream",
     "text": [
      "G:\\ICE\\数据下载测试\\2019\\ATL03\\extent_4\\ATL03_20190129160746_04920206_006_02.h5\n",
      "正在下载 ATL03_20190129160746_04920206_006_02.h5 到 G:\\ICE\\数据下载测试\\2019\\ATL03\\extent_4...\n"
     ]
    },
    {
     "data": {
      "application/vnd.jupyter.widget-view+json": {
       "model_id": "0e832cdaf83e40c19b45600d5a765de9",
       "version_major": 2,
       "version_minor": 0
      },
      "text/plain": [
       "QUEUEING TASKS | :   0%|          | 0/1 [00:00<?, ?it/s]"
      ]
     },
     "metadata": {},
     "output_type": "display_data"
    },
    {
     "data": {
      "application/vnd.jupyter.widget-view+json": {
       "model_id": "c8de4fb457e944bda8e92cf1ac0ef3c2",
       "version_major": 2,
       "version_minor": 0
      },
      "text/plain": [
       "PROCESSING TASKS | :   0%|          | 0/1 [00:00<?, ?it/s]"
      ]
     },
     "metadata": {},
     "output_type": "display_data"
    },
    {
     "data": {
      "application/vnd.jupyter.widget-view+json": {
       "model_id": "1775e9be118447f58d2a7abc9412d463",
       "version_major": 2,
       "version_minor": 0
      },
      "text/plain": [
       "COLLECTING RESULTS | :   0%|          | 0/1 [00:00<?, ?it/s]"
      ]
     },
     "metadata": {},
     "output_type": "display_data"
    },
    {
     "name": "stdout",
     "output_type": "stream",
     "text": [
      "G:\\ICE\\数据下载测试\\2019\\ATL03\\extent_4\\ATL03_20190129161617_04920207_006_02.h5\n",
      "正在下载 ATL03_20190129161617_04920207_006_02.h5 到 G:\\ICE\\数据下载测试\\2019\\ATL03\\extent_4...\n"
     ]
    },
    {
     "data": {
      "application/vnd.jupyter.widget-view+json": {
       "model_id": "75e514f6aa68486193490f3c760f3421",
       "version_major": 2,
       "version_minor": 0
      },
      "text/plain": [
       "QUEUEING TASKS | :   0%|          | 0/1 [00:00<?, ?it/s]"
      ]
     },
     "metadata": {},
     "output_type": "display_data"
    },
    {
     "data": {
      "application/vnd.jupyter.widget-view+json": {
       "model_id": "e6084e7c21084c8ea99533ccb3ef9c82",
       "version_major": 2,
       "version_minor": 0
      },
      "text/plain": [
       "PROCESSING TASKS | :   0%|          | 0/1 [00:00<?, ?it/s]"
      ]
     },
     "metadata": {},
     "output_type": "display_data"
    },
    {
     "data": {
      "application/vnd.jupyter.widget-view+json": {
       "model_id": "d32c6e8e0f8d4e68898d1873e8b430cb",
       "version_major": 2,
       "version_minor": 0
      },
      "text/plain": [
       "COLLECTING RESULTS | :   0%|          | 0/1 [00:00<?, ?it/s]"
      ]
     },
     "metadata": {},
     "output_type": "display_data"
    },
    {
     "name": "stdout",
     "output_type": "stream",
     "text": [
      "G:\\ICE\\数据下载测试\\2019\\ATL03\\extent_4\\ATL03_20190202155929_05530206_006_02.h5\n",
      "正在下载 ATL03_20190202155929_05530206_006_02.h5 到 G:\\ICE\\数据下载测试\\2019\\ATL03\\extent_4...\n"
     ]
    },
    {
     "data": {
      "application/vnd.jupyter.widget-view+json": {
       "model_id": "1facfa6e79714321a17c7bc3c91ee48c",
       "version_major": 2,
       "version_minor": 0
      },
      "text/plain": [
       "QUEUEING TASKS | :   0%|          | 0/1 [00:00<?, ?it/s]"
      ]
     },
     "metadata": {},
     "output_type": "display_data"
    },
    {
     "data": {
      "application/vnd.jupyter.widget-view+json": {
       "model_id": "4c5009e6348e4c979759a399a90823d0",
       "version_major": 2,
       "version_minor": 0
      },
      "text/plain": [
       "PROCESSING TASKS | :   0%|          | 0/1 [00:00<?, ?it/s]"
      ]
     },
     "metadata": {},
     "output_type": "display_data"
    },
    {
     "data": {
      "application/vnd.jupyter.widget-view+json": {
       "model_id": "dab5a77ae7a4450c8d742865007f0975",
       "version_major": 2,
       "version_minor": 0
      },
      "text/plain": [
       "COLLECTING RESULTS | :   0%|          | 0/1 [00:00<?, ?it/s]"
      ]
     },
     "metadata": {},
     "output_type": "display_data"
    },
    {
     "name": "stdout",
     "output_type": "stream",
     "text": [
      "G:\\ICE\\数据下载测试\\2019\\ATL03\\extent_4\\ATL03_20190202160759_05530207_006_02.h5\n",
      "正在下载 ATL03_20190202160759_05530207_006_02.h5 到 G:\\ICE\\数据下载测试\\2019\\ATL03\\extent_4...\n"
     ]
    },
    {
     "data": {
      "application/vnd.jupyter.widget-view+json": {
       "model_id": "b933c079839642deadbb8f90a689092f",
       "version_major": 2,
       "version_minor": 0
      },
      "text/plain": [
       "QUEUEING TASKS | :   0%|          | 0/1 [00:00<?, ?it/s]"
      ]
     },
     "metadata": {},
     "output_type": "display_data"
    },
    {
     "data": {
      "application/vnd.jupyter.widget-view+json": {
       "model_id": "4167cc4c39724903b3775ba56181954b",
       "version_major": 2,
       "version_minor": 0
      },
      "text/plain": [
       "PROCESSING TASKS | :   0%|          | 0/1 [00:00<?, ?it/s]"
      ]
     },
     "metadata": {},
     "output_type": "display_data"
    },
    {
     "data": {
      "application/vnd.jupyter.widget-view+json": {
       "model_id": "8a9d3e905ee5433bbf807b0106b9f7e2",
       "version_major": 2,
       "version_minor": 0
      },
      "text/plain": [
       "COLLECTING RESULTS | :   0%|          | 0/1 [00:00<?, ?it/s]"
      ]
     },
     "metadata": {},
     "output_type": "display_data"
    },
    {
     "name": "stdout",
     "output_type": "stream",
     "text": [
      "G:\\ICE\\数据下载测试\\2019\\ATL03\\extent_4\\ATL03_20190216031134_07590201_006_02.h5\n",
      "正在下载 ATL03_20190216031134_07590201_006_02.h5 到 G:\\ICE\\数据下载测试\\2019\\ATL03\\extent_4...\n"
     ]
    },
    {
     "data": {
      "application/vnd.jupyter.widget-view+json": {
       "model_id": "10f1c411f7bf4af7af01e3da222c113b",
       "version_major": 2,
       "version_minor": 0
      },
      "text/plain": [
       "QUEUEING TASKS | :   0%|          | 0/1 [00:00<?, ?it/s]"
      ]
     },
     "metadata": {},
     "output_type": "display_data"
    },
    {
     "data": {
      "application/vnd.jupyter.widget-view+json": {
       "model_id": "0843e78b916344f5a8352e6a9fa0f8f2",
       "version_major": 2,
       "version_minor": 0
      },
      "text/plain": [
       "PROCESSING TASKS | :   0%|          | 0/1 [00:00<?, ?it/s]"
      ]
     },
     "metadata": {},
     "output_type": "display_data"
    },
    {
     "data": {
      "application/vnd.jupyter.widget-view+json": {
       "model_id": "6fef1ddaee61456c8f433ef6225760eb",
       "version_major": 2,
       "version_minor": 0
      },
      "text/plain": [
       "COLLECTING RESULTS | :   0%|          | 0/1 [00:00<?, ?it/s]"
      ]
     },
     "metadata": {},
     "output_type": "display_data"
    },
    {
     "name": "stdout",
     "output_type": "stream",
     "text": [
      "G:\\ICE\\数据下载测试\\2019\\ATL03\\extent_4\\ATL03_20190216031836_07590202_006_02.h5\n",
      "正在下载 ATL03_20190216031836_07590202_006_02.h5 到 G:\\ICE\\数据下载测试\\2019\\ATL03\\extent_4...\n"
     ]
    },
    {
     "data": {
      "application/vnd.jupyter.widget-view+json": {
       "model_id": "46d49fbe663c47ed86da3dad990f026a",
       "version_major": 2,
       "version_minor": 0
      },
      "text/plain": [
       "QUEUEING TASKS | :   0%|          | 0/1 [00:00<?, ?it/s]"
      ]
     },
     "metadata": {},
     "output_type": "display_data"
    },
    {
     "data": {
      "application/vnd.jupyter.widget-view+json": {
       "model_id": "b755741baa824a259a478d70a832bd96",
       "version_major": 2,
       "version_minor": 0
      },
      "text/plain": [
       "PROCESSING TASKS | :   0%|          | 0/1 [00:00<?, ?it/s]"
      ]
     },
     "metadata": {},
     "output_type": "display_data"
    },
    {
     "data": {
      "application/vnd.jupyter.widget-view+json": {
       "model_id": "339e3b7888784a60ab74911cd706392e",
       "version_major": 2,
       "version_minor": 0
      },
      "text/plain": [
       "COLLECTING RESULTS | :   0%|          | 0/1 [00:00<?, ?it/s]"
      ]
     },
     "metadata": {},
     "output_type": "display_data"
    },
    {
     "name": "stdout",
     "output_type": "stream",
     "text": [
      "G:\\ICE\\数据下载测试\\2019\\ATL03\\extent_4\\ATL03_20190220030312_08200201_006_02.h5\n",
      "正在下载 ATL03_20190220030312_08200201_006_02.h5 到 G:\\ICE\\数据下载测试\\2019\\ATL03\\extent_4...\n"
     ]
    },
    {
     "data": {
      "application/vnd.jupyter.widget-view+json": {
       "model_id": "ddbed4e0284a4b04b7d94c4bb033b2d9",
       "version_major": 2,
       "version_minor": 0
      },
      "text/plain": [
       "QUEUEING TASKS | :   0%|          | 0/1 [00:00<?, ?it/s]"
      ]
     },
     "metadata": {},
     "output_type": "display_data"
    },
    {
     "data": {
      "application/vnd.jupyter.widget-view+json": {
       "model_id": "142ca9293e094a80b563cbe254e0ee6d",
       "version_major": 2,
       "version_minor": 0
      },
      "text/plain": [
       "PROCESSING TASKS | :   0%|          | 0/1 [00:00<?, ?it/s]"
      ]
     },
     "metadata": {},
     "output_type": "display_data"
    },
    {
     "data": {
      "application/vnd.jupyter.widget-view+json": {
       "model_id": "841f4e2ee93d4937b789aa8ad60ac419",
       "version_major": 2,
       "version_minor": 0
      },
      "text/plain": [
       "COLLECTING RESULTS | :   0%|          | 0/1 [00:00<?, ?it/s]"
      ]
     },
     "metadata": {},
     "output_type": "display_data"
    },
    {
     "name": "stdout",
     "output_type": "stream",
     "text": [
      "G:\\ICE\\数据下载测试\\2019\\ATL03\\extent_4\\ATL03_20190227145218_09340207_006_02.h5\n",
      "正在下载 ATL03_20190227145218_09340207_006_02.h5 到 G:\\ICE\\数据下载测试\\2019\\ATL03\\extent_4...\n"
     ]
    },
    {
     "data": {
      "application/vnd.jupyter.widget-view+json": {
       "model_id": "6bfe64cd3a5740fc98b03442566be728",
       "version_major": 2,
       "version_minor": 0
      },
      "text/plain": [
       "QUEUEING TASKS | :   0%|          | 0/1 [00:00<?, ?it/s]"
      ]
     },
     "metadata": {},
     "output_type": "display_data"
    },
    {
     "data": {
      "application/vnd.jupyter.widget-view+json": {
       "model_id": "a042bae2114e4304993320285edcc709",
       "version_major": 2,
       "version_minor": 0
      },
      "text/plain": [
       "PROCESSING TASKS | :   0%|          | 0/1 [00:00<?, ?it/s]"
      ]
     },
     "metadata": {},
     "output_type": "display_data"
    },
    {
     "data": {
      "application/vnd.jupyter.widget-view+json": {
       "model_id": "401c30bce8f54bebb38b451873e81e3b",
       "version_major": 2,
       "version_minor": 0
      },
      "text/plain": [
       "COLLECTING RESULTS | :   0%|          | 0/1 [00:00<?, ?it/s]"
      ]
     },
     "metadata": {},
     "output_type": "display_data"
    },
    {
     "name": "stdout",
     "output_type": "stream",
     "text": [
      "G:\\ICE\\数据下载测试\\2019\\ATL03\\extent_4\\ATL03_20190303143529_09950206_006_02.h5\n",
      "正在下载 ATL03_20190303143529_09950206_006_02.h5 到 G:\\ICE\\数据下载测试\\2019\\ATL03\\extent_4...\n"
     ]
    },
    {
     "data": {
      "application/vnd.jupyter.widget-view+json": {
       "model_id": "067e460e43f14fe88d913f243d13f0da",
       "version_major": 2,
       "version_minor": 0
      },
      "text/plain": [
       "QUEUEING TASKS | :   0%|          | 0/1 [00:00<?, ?it/s]"
      ]
     },
     "metadata": {},
     "output_type": "display_data"
    },
    {
     "data": {
      "application/vnd.jupyter.widget-view+json": {
       "model_id": "c48f9586b1474e28b653e36114ee001b",
       "version_major": 2,
       "version_minor": 0
      },
      "text/plain": [
       "PROCESSING TASKS | :   0%|          | 0/1 [00:00<?, ?it/s]"
      ]
     },
     "metadata": {},
     "output_type": "display_data"
    },
    {
     "data": {
      "application/vnd.jupyter.widget-view+json": {
       "model_id": "3f4427fc4d3740d08619b01100843e7a",
       "version_major": 2,
       "version_minor": 0
      },
      "text/plain": [
       "COLLECTING RESULTS | :   0%|          | 0/1 [00:00<?, ?it/s]"
      ]
     },
     "metadata": {},
     "output_type": "display_data"
    },
    {
     "name": "stdout",
     "output_type": "stream",
     "text": [
      "G:\\ICE\\数据下载测试\\2019\\ATL03\\extent_4\\ATL03_20190303144359_09950207_006_02.h5\n",
      "正在下载 ATL03_20190303144359_09950207_006_02.h5 到 G:\\ICE\\数据下载测试\\2019\\ATL03\\extent_4...\n"
     ]
    },
    {
     "data": {
      "application/vnd.jupyter.widget-view+json": {
       "model_id": "535efb1190144d3688391ed03ac99461",
       "version_major": 2,
       "version_minor": 0
      },
      "text/plain": [
       "QUEUEING TASKS | :   0%|          | 0/1 [00:00<?, ?it/s]"
      ]
     },
     "metadata": {},
     "output_type": "display_data"
    },
    {
     "data": {
      "application/vnd.jupyter.widget-view+json": {
       "model_id": "d313f6fa55df4244a3fb66263dc5de1b",
       "version_major": 2,
       "version_minor": 0
      },
      "text/plain": [
       "PROCESSING TASKS | :   0%|          | 0/1 [00:00<?, ?it/s]"
      ]
     },
     "metadata": {},
     "output_type": "display_data"
    },
    {
     "data": {
      "application/vnd.jupyter.widget-view+json": {
       "model_id": "e3ee712345284760967bad3a069337d2",
       "version_major": 2,
       "version_minor": 0
      },
      "text/plain": [
       "COLLECTING RESULTS | :   0%|          | 0/1 [00:00<?, ?it/s]"
      ]
     },
     "metadata": {},
     "output_type": "display_data"
    },
    {
     "name": "stdout",
     "output_type": "stream",
     "text": [
      "G:\\ICE\\数据下载测试\\2019\\ATL03\\extent_4\\ATL03_20190317014737_12010201_006_02.h5\n",
      "正在下载 ATL03_20190317014737_12010201_006_02.h5 到 G:\\ICE\\数据下载测试\\2019\\ATL03\\extent_4...\n"
     ]
    },
    {
     "data": {
      "application/vnd.jupyter.widget-view+json": {
       "model_id": "d4c68bdc1e414de8a023edc846026a6f",
       "version_major": 2,
       "version_minor": 0
      },
      "text/plain": [
       "QUEUEING TASKS | :   0%|          | 0/1 [00:00<?, ?it/s]"
      ]
     },
     "metadata": {},
     "output_type": "display_data"
    },
    {
     "data": {
      "application/vnd.jupyter.widget-view+json": {
       "model_id": "db224104eddf429aae13c6949cd86803",
       "version_major": 2,
       "version_minor": 0
      },
      "text/plain": [
       "PROCESSING TASKS | :   0%|          | 0/1 [00:00<?, ?it/s]"
      ]
     },
     "metadata": {},
     "output_type": "display_data"
    },
    {
     "data": {
      "application/vnd.jupyter.widget-view+json": {
       "model_id": "4c5b94c412814f3ebe945131ab0763ea",
       "version_major": 2,
       "version_minor": 0
      },
      "text/plain": [
       "COLLECTING RESULTS | :   0%|          | 0/1 [00:00<?, ?it/s]"
      ]
     },
     "metadata": {},
     "output_type": "display_data"
    },
    {
     "name": "stdout",
     "output_type": "stream",
     "text": [
      "G:\\ICE\\数据下载测试\\2019\\ATL03\\extent_4\\ATL03_20190317015439_12010202_006_02.h5\n",
      "正在下载 ATL03_20190317015439_12010202_006_02.h5 到 G:\\ICE\\数据下载测试\\2019\\ATL03\\extent_4...\n"
     ]
    },
    {
     "data": {
      "application/vnd.jupyter.widget-view+json": {
       "model_id": "c35bb7ef200a4a558ccb301b81e39d64",
       "version_major": 2,
       "version_minor": 0
      },
      "text/plain": [
       "QUEUEING TASKS | :   0%|          | 0/1 [00:00<?, ?it/s]"
      ]
     },
     "metadata": {},
     "output_type": "display_data"
    },
    {
     "data": {
      "application/vnd.jupyter.widget-view+json": {
       "model_id": "88d4985c74294fa585cd9d04d0a49fa4",
       "version_major": 2,
       "version_minor": 0
      },
      "text/plain": [
       "PROCESSING TASKS | :   0%|          | 0/1 [00:00<?, ?it/s]"
      ]
     },
     "metadata": {},
     "output_type": "display_data"
    },
    {
     "data": {
      "application/vnd.jupyter.widget-view+json": {
       "model_id": "ba95d31e97c54e7290da7e5d37c03b87",
       "version_major": 2,
       "version_minor": 0
      },
      "text/plain": [
       "COLLECTING RESULTS | :   0%|          | 0/1 [00:00<?, ?it/s]"
      ]
     },
     "metadata": {},
     "output_type": "display_data"
    },
    {
     "name": "stdout",
     "output_type": "stream",
     "text": [
      "G:\\ICE\\数据下载测试\\2019\\ATL03\\extent_4\\ATL03_20190321013916_12620201_006_02.h5\n",
      "正在下载 ATL03_20190321013916_12620201_006_02.h5 到 G:\\ICE\\数据下载测试\\2019\\ATL03\\extent_4...\n"
     ]
    },
    {
     "data": {
      "application/vnd.jupyter.widget-view+json": {
       "model_id": "faeafdd7c6b44d52a3c19ecf7b06c972",
       "version_major": 2,
       "version_minor": 0
      },
      "text/plain": [
       "QUEUEING TASKS | :   0%|          | 0/1 [00:00<?, ?it/s]"
      ]
     },
     "metadata": {},
     "output_type": "display_data"
    },
    {
     "data": {
      "application/vnd.jupyter.widget-view+json": {
       "model_id": "1409229d580c4592b4cbe06e7ae01442",
       "version_major": 2,
       "version_minor": 0
      },
      "text/plain": [
       "PROCESSING TASKS | :   0%|          | 0/1 [00:00<?, ?it/s]"
      ]
     },
     "metadata": {},
     "output_type": "display_data"
    },
    {
     "data": {
      "application/vnd.jupyter.widget-view+json": {
       "model_id": "0fb398216b984c29b0a0258570fe99d1",
       "version_major": 2,
       "version_minor": 0
      },
      "text/plain": [
       "COLLECTING RESULTS | :   0%|          | 0/1 [00:00<?, ?it/s]"
      ]
     },
     "metadata": {},
     "output_type": "display_data"
    },
    {
     "name": "stdout",
     "output_type": "stream",
     "text": [
      "G:\\ICE\\数据下载测试\\2019\\ATL03\\extent_4\\ATL03_20190321014618_12620202_006_02.h5\n",
      "正在下载 ATL03_20190321014618_12620202_006_02.h5 到 G:\\ICE\\数据下载测试\\2019\\ATL03\\extent_4...\n"
     ]
    },
    {
     "data": {
      "application/vnd.jupyter.widget-view+json": {
       "model_id": "4fc47a192bbb4cfe94d180b0c3f6add6",
       "version_major": 2,
       "version_minor": 0
      },
      "text/plain": [
       "QUEUEING TASKS | :   0%|          | 0/1 [00:00<?, ?it/s]"
      ]
     },
     "metadata": {},
     "output_type": "display_data"
    },
    {
     "data": {
      "application/vnd.jupyter.widget-view+json": {
       "model_id": "ec506141b0714779b9dca86c2f00114b",
       "version_major": 2,
       "version_minor": 0
      },
      "text/plain": [
       "PROCESSING TASKS | :   0%|          | 0/1 [00:00<?, ?it/s]"
      ]
     },
     "metadata": {},
     "output_type": "display_data"
    },
    {
     "data": {
      "application/vnd.jupyter.widget-view+json": {
       "model_id": "58ca701c693947b498a20aec70eef1f2",
       "version_major": 2,
       "version_minor": 0
      },
      "text/plain": [
       "COLLECTING RESULTS | :   0%|          | 0/1 [00:00<?, ?it/s]"
      ]
     },
     "metadata": {},
     "output_type": "display_data"
    },
    {
     "name": "stdout",
     "output_type": "stream",
     "text": [
      "G:\\ICE\\数据下载测试\\2019\\ATL03\\extent_4\\ATL03_20190401131128_00500306_006_02.h5\n",
      "正在下载 ATL03_20190401131128_00500306_006_02.h5 到 G:\\ICE\\数据下载测试\\2019\\ATL03\\extent_4...\n"
     ]
    },
    {
     "data": {
      "application/vnd.jupyter.widget-view+json": {
       "model_id": "85c758a9ed6543f6964cc2a130823230",
       "version_major": 2,
       "version_minor": 0
      },
      "text/plain": [
       "QUEUEING TASKS | :   0%|          | 0/1 [00:00<?, ?it/s]"
      ]
     },
     "metadata": {},
     "output_type": "display_data"
    },
    {
     "data": {
      "application/vnd.jupyter.widget-view+json": {
       "model_id": "f8149c0ad227445cadf6f90326d94725",
       "version_major": 2,
       "version_minor": 0
      },
      "text/plain": [
       "PROCESSING TASKS | :   0%|          | 0/1 [00:00<?, ?it/s]"
      ]
     },
     "metadata": {},
     "output_type": "display_data"
    },
    {
     "data": {
      "application/vnd.jupyter.widget-view+json": {
       "model_id": "7f4e54f3f4924f868b2ceefc587ac7b0",
       "version_major": 2,
       "version_minor": 0
      },
      "text/plain": [
       "COLLECTING RESULTS | :   0%|          | 0/1 [00:00<?, ?it/s]"
      ]
     },
     "metadata": {},
     "output_type": "display_data"
    },
    {
     "name": "stdout",
     "output_type": "stream",
     "text": [
      "G:\\ICE\\数据下载测试\\2019\\ATL03\\extent_4\\ATL03_20190401131958_00500307_006_02.h5\n",
      "正在下载 ATL03_20190401131958_00500307_006_02.h5 到 G:\\ICE\\数据下载测试\\2019\\ATL03\\extent_4...\n"
     ]
    },
    {
     "data": {
      "application/vnd.jupyter.widget-view+json": {
       "model_id": "3544a21e22e448e7bf295914ca74a6fe",
       "version_major": 2,
       "version_minor": 0
      },
      "text/plain": [
       "QUEUEING TASKS | :   0%|          | 0/1 [00:00<?, ?it/s]"
      ]
     },
     "metadata": {},
     "output_type": "display_data"
    },
    {
     "data": {
      "application/vnd.jupyter.widget-view+json": {
       "model_id": "ff26f3236e5845789f3dcfbf2f13360e",
       "version_major": 2,
       "version_minor": 0
      },
      "text/plain": [
       "PROCESSING TASKS | :   0%|          | 0/1 [00:00<?, ?it/s]"
      ]
     },
     "metadata": {},
     "output_type": "display_data"
    },
    {
     "data": {
      "application/vnd.jupyter.widget-view+json": {
       "model_id": "5032531841674c7a9c3598f0ccbe4683",
       "version_major": 2,
       "version_minor": 0
      },
      "text/plain": [
       "COLLECTING RESULTS | :   0%|          | 0/1 [00:00<?, ?it/s]"
      ]
     },
     "metadata": {},
     "output_type": "display_data"
    },
    {
     "name": "stdout",
     "output_type": "stream",
     "text": [
      "G:\\ICE\\数据下载测试\\2019\\ATL03\\extent_4\\ATL03_20190419001514_03170301_006_02.h5\n",
      "正在下载 ATL03_20190419001514_03170301_006_02.h5 到 G:\\ICE\\数据下载测试\\2019\\ATL03\\extent_4...\n"
     ]
    },
    {
     "data": {
      "application/vnd.jupyter.widget-view+json": {
       "model_id": "42b7980c56ab4d249f4409152cc5a727",
       "version_major": 2,
       "version_minor": 0
      },
      "text/plain": [
       "QUEUEING TASKS | :   0%|          | 0/1 [00:00<?, ?it/s]"
      ]
     },
     "metadata": {},
     "output_type": "display_data"
    },
    {
     "data": {
      "application/vnd.jupyter.widget-view+json": {
       "model_id": "45a1a4f6056b4da6afc73539430e52e9",
       "version_major": 2,
       "version_minor": 0
      },
      "text/plain": [
       "PROCESSING TASKS | :   0%|          | 0/1 [00:00<?, ?it/s]"
      ]
     },
     "metadata": {},
     "output_type": "display_data"
    },
    {
     "data": {
      "application/vnd.jupyter.widget-view+json": {
       "model_id": "dce0277a43b0451fa1c5ae14b2337edc",
       "version_major": 2,
       "version_minor": 0
      },
      "text/plain": [
       "COLLECTING RESULTS | :   0%|          | 0/1 [00:00<?, ?it/s]"
      ]
     },
     "metadata": {},
     "output_type": "display_data"
    },
    {
     "name": "stdout",
     "output_type": "stream",
     "text": [
      "G:\\ICE\\数据下载测试\\2019\\ATL03\\extent_4\\ATL03_20190419002216_03170302_006_02.h5\n",
      "正在下载 ATL03_20190419002216_03170302_006_02.h5 到 G:\\ICE\\数据下载测试\\2019\\ATL03\\extent_4...\n"
     ]
    },
    {
     "data": {
      "application/vnd.jupyter.widget-view+json": {
       "model_id": "26f43e313e734cb388e8ed8a9a22b56a",
       "version_major": 2,
       "version_minor": 0
      },
      "text/plain": [
       "QUEUEING TASKS | :   0%|          | 0/1 [00:00<?, ?it/s]"
      ]
     },
     "metadata": {},
     "output_type": "display_data"
    },
    {
     "data": {
      "application/vnd.jupyter.widget-view+json": {
       "model_id": "b02baadfb1004070b62404f1f70beebb",
       "version_major": 2,
       "version_minor": 0
      },
      "text/plain": [
       "PROCESSING TASKS | :   0%|          | 0/1 [00:00<?, ?it/s]"
      ]
     },
     "metadata": {},
     "output_type": "display_data"
    },
    {
     "data": {
      "application/vnd.jupyter.widget-view+json": {
       "model_id": "0b5f6be4bb1248efb95973258ae2c24d",
       "version_major": 2,
       "version_minor": 0
      },
      "text/plain": [
       "COLLECTING RESULTS | :   0%|          | 0/1 [00:00<?, ?it/s]"
      ]
     },
     "metadata": {},
     "output_type": "display_data"
    },
    {
     "name": "stdout",
     "output_type": "stream",
     "text": [
      "G:\\ICE\\数据下载测试\\2019\\ATL03\\extent_4\\ATL03_20190430114726_04920306_006_02.h5\n",
      "正在下载 ATL03_20190430114726_04920306_006_02.h5 到 G:\\ICE\\数据下载测试\\2019\\ATL03\\extent_4...\n"
     ]
    },
    {
     "data": {
      "application/vnd.jupyter.widget-view+json": {
       "model_id": "2fe41bb8087447878f772268c5af12c1",
       "version_major": 2,
       "version_minor": 0
      },
      "text/plain": [
       "QUEUEING TASKS | :   0%|          | 0/1 [00:00<?, ?it/s]"
      ]
     },
     "metadata": {},
     "output_type": "display_data"
    },
    {
     "data": {
      "application/vnd.jupyter.widget-view+json": {
       "model_id": "23d1a3952a494b93afd374fe01c01d4c",
       "version_major": 2,
       "version_minor": 0
      },
      "text/plain": [
       "PROCESSING TASKS | :   0%|          | 0/1 [00:00<?, ?it/s]"
      ]
     },
     "metadata": {},
     "output_type": "display_data"
    },
    {
     "data": {
      "application/vnd.jupyter.widget-view+json": {
       "model_id": "0d8b1af9a7004d7e8d38ac09e266f91e",
       "version_major": 2,
       "version_minor": 0
      },
      "text/plain": [
       "COLLECTING RESULTS | :   0%|          | 0/1 [00:00<?, ?it/s]"
      ]
     },
     "metadata": {},
     "output_type": "display_data"
    },
    {
     "name": "stdout",
     "output_type": "stream",
     "text": [
      "G:\\ICE\\数据下载测试\\2019\\ATL03\\extent_4\\ATL03_20190430115556_04920307_006_02.h5\n",
      "正在下载 ATL03_20190430115556_04920307_006_02.h5 到 G:\\ICE\\数据下载测试\\2019\\ATL03\\extent_4...\n"
     ]
    },
    {
     "data": {
      "application/vnd.jupyter.widget-view+json": {
       "model_id": "0ff299d89ec94851835f69df9dfc1028",
       "version_major": 2,
       "version_minor": 0
      },
      "text/plain": [
       "QUEUEING TASKS | :   0%|          | 0/1 [00:00<?, ?it/s]"
      ]
     },
     "metadata": {},
     "output_type": "display_data"
    },
    {
     "data": {
      "application/vnd.jupyter.widget-view+json": {
       "model_id": "756b686104e2406b99e8cc713462fa82",
       "version_major": 2,
       "version_minor": 0
      },
      "text/plain": [
       "PROCESSING TASKS | :   0%|          | 0/1 [00:00<?, ?it/s]"
      ]
     },
     "metadata": {},
     "output_type": "display_data"
    },
    {
     "data": {
      "application/vnd.jupyter.widget-view+json": {
       "model_id": "d5de6c5e6b1f45888b338259cf3b1806",
       "version_major": 2,
       "version_minor": 0
      },
      "text/plain": [
       "COLLECTING RESULTS | :   0%|          | 0/1 [00:00<?, ?it/s]"
      ]
     },
     "metadata": {},
     "output_type": "display_data"
    },
    {
     "name": "stdout",
     "output_type": "stream",
     "text": [
      "G:\\ICE\\数据下载测试\\2019\\ATL03\\extent_4\\ATL03_20190504113906_05530306_006_02.h5\n",
      "正在下载 ATL03_20190504113906_05530306_006_02.h5 到 G:\\ICE\\数据下载测试\\2019\\ATL03\\extent_4...\n"
     ]
    },
    {
     "data": {
      "application/vnd.jupyter.widget-view+json": {
       "model_id": "9648b2e6cc194c56b8e73b66c02c422f",
       "version_major": 2,
       "version_minor": 0
      },
      "text/plain": [
       "QUEUEING TASKS | :   0%|          | 0/1 [00:00<?, ?it/s]"
      ]
     },
     "metadata": {},
     "output_type": "display_data"
    },
    {
     "data": {
      "application/vnd.jupyter.widget-view+json": {
       "model_id": "5094213409e840839620ddc8411f7616",
       "version_major": 2,
       "version_minor": 0
      },
      "text/plain": [
       "PROCESSING TASKS | :   0%|          | 0/1 [00:00<?, ?it/s]"
      ]
     },
     "metadata": {},
     "output_type": "display_data"
    },
    {
     "data": {
      "application/vnd.jupyter.widget-view+json": {
       "model_id": "67733f25c8f94cfcb5581388ee6b0396",
       "version_major": 2,
       "version_minor": 0
      },
      "text/plain": [
       "COLLECTING RESULTS | :   0%|          | 0/1 [00:00<?, ?it/s]"
      ]
     },
     "metadata": {},
     "output_type": "display_data"
    },
    {
     "name": "stdout",
     "output_type": "stream",
     "text": [
      "G:\\ICE\\数据下载测试\\2019\\ATL03\\extent_4\\ATL03_20190504114736_05530307_006_02.h5\n",
      "正在下载 ATL03_20190504114736_05530307_006_02.h5 到 G:\\ICE\\数据下载测试\\2019\\ATL03\\extent_4...\n"
     ]
    },
    {
     "data": {
      "application/vnd.jupyter.widget-view+json": {
       "model_id": "9a72631b89804a7784fe52c99e40c39b",
       "version_major": 2,
       "version_minor": 0
      },
      "text/plain": [
       "QUEUEING TASKS | :   0%|          | 0/1 [00:00<?, ?it/s]"
      ]
     },
     "metadata": {},
     "output_type": "display_data"
    },
    {
     "data": {
      "application/vnd.jupyter.widget-view+json": {
       "model_id": "93e1dbfae1c34f31a513709c455d2d16",
       "version_major": 2,
       "version_minor": 0
      },
      "text/plain": [
       "PROCESSING TASKS | :   0%|          | 0/1 [00:00<?, ?it/s]"
      ]
     },
     "metadata": {},
     "output_type": "display_data"
    },
    {
     "data": {
      "application/vnd.jupyter.widget-view+json": {
       "model_id": "f50c8f612c3542f58c02256fb835bf38",
       "version_major": 2,
       "version_minor": 0
      },
      "text/plain": [
       "COLLECTING RESULTS | :   0%|          | 0/1 [00:00<?, ?it/s]"
      ]
     },
     "metadata": {},
     "output_type": "display_data"
    },
    {
     "name": "stdout",
     "output_type": "stream",
     "text": [
      "G:\\ICE\\数据下载测试\\2019\\ATL03\\extent_4\\ATL03_20190517225112_07590301_006_02.h5\n",
      "正在下载 ATL03_20190517225112_07590301_006_02.h5 到 G:\\ICE\\数据下载测试\\2019\\ATL03\\extent_4...\n"
     ]
    },
    {
     "data": {
      "application/vnd.jupyter.widget-view+json": {
       "model_id": "f0b032e97d6841f0a110e1ceeb3ac99c",
       "version_major": 2,
       "version_minor": 0
      },
      "text/plain": [
       "QUEUEING TASKS | :   0%|          | 0/1 [00:00<?, ?it/s]"
      ]
     },
     "metadata": {},
     "output_type": "display_data"
    },
    {
     "data": {
      "application/vnd.jupyter.widget-view+json": {
       "model_id": "d3c72df7c769454ca105f4d5207d8085",
       "version_major": 2,
       "version_minor": 0
      },
      "text/plain": [
       "PROCESSING TASKS | :   0%|          | 0/1 [00:00<?, ?it/s]"
      ]
     },
     "metadata": {},
     "output_type": "display_data"
    },
    {
     "data": {
      "application/vnd.jupyter.widget-view+json": {
       "model_id": "c6f94d1c65824f2092822fd63ef6dcc6",
       "version_major": 2,
       "version_minor": 0
      },
      "text/plain": [
       "COLLECTING RESULTS | :   0%|          | 0/1 [00:00<?, ?it/s]"
      ]
     },
     "metadata": {},
     "output_type": "display_data"
    },
    {
     "name": "stdout",
     "output_type": "stream",
     "text": [
      "G:\\ICE\\数据下载测试\\2019\\ATL03\\extent_4\\ATL03_20190517225814_07590302_006_02.h5\n",
      "正在下载 ATL03_20190517225814_07590302_006_02.h5 到 G:\\ICE\\数据下载测试\\2019\\ATL03\\extent_4...\n"
     ]
    },
    {
     "data": {
      "application/vnd.jupyter.widget-view+json": {
       "model_id": "7209b76be3ea424093dd240c090eb5e4",
       "version_major": 2,
       "version_minor": 0
      },
      "text/plain": [
       "QUEUEING TASKS | :   0%|          | 0/1 [00:00<?, ?it/s]"
      ]
     },
     "metadata": {},
     "output_type": "display_data"
    },
    {
     "data": {
      "application/vnd.jupyter.widget-view+json": {
       "model_id": "323262c73979457f9704dd47ccf008c3",
       "version_major": 2,
       "version_minor": 0
      },
      "text/plain": [
       "PROCESSING TASKS | :   0%|          | 0/1 [00:00<?, ?it/s]"
      ]
     },
     "metadata": {},
     "output_type": "display_data"
    },
    {
     "data": {
      "application/vnd.jupyter.widget-view+json": {
       "model_id": "62533536d8a84243a43e6d1fa0786f86",
       "version_major": 2,
       "version_minor": 0
      },
      "text/plain": [
       "COLLECTING RESULTS | :   0%|          | 0/1 [00:00<?, ?it/s]"
      ]
     },
     "metadata": {},
     "output_type": "display_data"
    },
    {
     "name": "stdout",
     "output_type": "stream",
     "text": [
      "G:\\ICE\\数据下载测试\\2019\\ATL03\\extent_4\\ATL03_20190521224251_08200301_006_02.h5\n",
      "正在下载 ATL03_20190521224251_08200301_006_02.h5 到 G:\\ICE\\数据下载测试\\2019\\ATL03\\extent_4...\n"
     ]
    },
    {
     "data": {
      "application/vnd.jupyter.widget-view+json": {
       "model_id": "c561a6daa0ad439fbb26d2ad86aa9cc4",
       "version_major": 2,
       "version_minor": 0
      },
      "text/plain": [
       "QUEUEING TASKS | :   0%|          | 0/1 [00:00<?, ?it/s]"
      ]
     },
     "metadata": {},
     "output_type": "display_data"
    },
    {
     "data": {
      "application/vnd.jupyter.widget-view+json": {
       "model_id": "6d5917fe057947e2a4bff15521ec6a2f",
       "version_major": 2,
       "version_minor": 0
      },
      "text/plain": [
       "PROCESSING TASKS | :   0%|          | 0/1 [00:00<?, ?it/s]"
      ]
     },
     "metadata": {},
     "output_type": "display_data"
    },
    {
     "data": {
      "application/vnd.jupyter.widget-view+json": {
       "model_id": "21c3b203b9e340f5bcd63a7894abef63",
       "version_major": 2,
       "version_minor": 0
      },
      "text/plain": [
       "COLLECTING RESULTS | :   0%|          | 0/1 [00:00<?, ?it/s]"
      ]
     },
     "metadata": {},
     "output_type": "display_data"
    },
    {
     "name": "stdout",
     "output_type": "stream",
     "text": [
      "G:\\ICE\\数据下载测试\\2019\\ATL03\\extent_4\\ATL03_20190529102323_09340306_006_02.h5\n",
      "正在下载 ATL03_20190529102323_09340306_006_02.h5 到 G:\\ICE\\数据下载测试\\2019\\ATL03\\extent_4...\n"
     ]
    },
    {
     "data": {
      "application/vnd.jupyter.widget-view+json": {
       "model_id": "dc5561e359ba460a8879f62976582584",
       "version_major": 2,
       "version_minor": 0
      },
      "text/plain": [
       "QUEUEING TASKS | :   0%|          | 0/1 [00:00<?, ?it/s]"
      ]
     },
     "metadata": {},
     "output_type": "display_data"
    },
    {
     "data": {
      "application/vnd.jupyter.widget-view+json": {
       "model_id": "dba8c72565da4f49924e7e74a6332429",
       "version_major": 2,
       "version_minor": 0
      },
      "text/plain": [
       "PROCESSING TASKS | :   0%|          | 0/1 [00:00<?, ?it/s]"
      ]
     },
     "metadata": {},
     "output_type": "display_data"
    },
    {
     "data": {
      "application/vnd.jupyter.widget-view+json": {
       "model_id": "0ec74c79412947e0a4f37f801c35c864",
       "version_major": 2,
       "version_minor": 0
      },
      "text/plain": [
       "COLLECTING RESULTS | :   0%|          | 0/1 [00:00<?, ?it/s]"
      ]
     },
     "metadata": {},
     "output_type": "display_data"
    },
    {
     "name": "stdout",
     "output_type": "stream",
     "text": [
      "G:\\ICE\\数据下载测试\\2019\\ATL03\\extent_4\\ATL03_20190529103154_09340307_006_02.h5\n",
      "正在下载 ATL03_20190529103154_09340307_006_02.h5 到 G:\\ICE\\数据下载测试\\2019\\ATL03\\extent_4...\n"
     ]
    },
    {
     "data": {
      "application/vnd.jupyter.widget-view+json": {
       "model_id": "6cc18d4cbe904fedbeac2a006033aea9",
       "version_major": 2,
       "version_minor": 0
      },
      "text/plain": [
       "QUEUEING TASKS | :   0%|          | 0/1 [00:00<?, ?it/s]"
      ]
     },
     "metadata": {},
     "output_type": "display_data"
    },
    {
     "data": {
      "application/vnd.jupyter.widget-view+json": {
       "model_id": "79d23aad6bf548ff92bcbe1875c7649f",
       "version_major": 2,
       "version_minor": 0
      },
      "text/plain": [
       "PROCESSING TASKS | :   0%|          | 0/1 [00:00<?, ?it/s]"
      ]
     },
     "metadata": {},
     "output_type": "display_data"
    },
    {
     "data": {
      "application/vnd.jupyter.widget-view+json": {
       "model_id": "c8feef54fcfd4b92b500e211f29d5736",
       "version_major": 2,
       "version_minor": 0
      },
      "text/plain": [
       "COLLECTING RESULTS | :   0%|          | 0/1 [00:00<?, ?it/s]"
      ]
     },
     "metadata": {},
     "output_type": "display_data"
    },
    {
     "name": "stdout",
     "output_type": "stream",
     "text": [
      "G:\\ICE\\数据下载测试\\2019\\ATL03\\extent_4\\ATL03_20190602101503_09950306_006_02.h5\n",
      "正在下载 ATL03_20190602101503_09950306_006_02.h5 到 G:\\ICE\\数据下载测试\\2019\\ATL03\\extent_4...\n"
     ]
    },
    {
     "data": {
      "application/vnd.jupyter.widget-view+json": {
       "model_id": "739567100d4d4d068247ea1f91a4289b",
       "version_major": 2,
       "version_minor": 0
      },
      "text/plain": [
       "QUEUEING TASKS | :   0%|          | 0/1 [00:00<?, ?it/s]"
      ]
     },
     "metadata": {},
     "output_type": "display_data"
    },
    {
     "data": {
      "application/vnd.jupyter.widget-view+json": {
       "model_id": "c7afa68399f74e819631fa18a474902e",
       "version_major": 2,
       "version_minor": 0
      },
      "text/plain": [
       "PROCESSING TASKS | :   0%|          | 0/1 [00:00<?, ?it/s]"
      ]
     },
     "metadata": {},
     "output_type": "display_data"
    },
    {
     "name": "stderr",
     "output_type": "stream",
     "text": [
      "Error while downloading the file ATL03_20190602101503_09950306_006_02.h5\n",
      "Traceback (most recent call last):\n",
      "  File \"c:\\Users\\WINDOWS\\anaconda3\\envs\\ArcpyPro\\lib\\site-packages\\urllib3\\response.py\", line 438, in _error_catcher\n",
      "    yield\n",
      "  File \"c:\\Users\\WINDOWS\\anaconda3\\envs\\ArcpyPro\\lib\\site-packages\\urllib3\\response.py\", line 519, in read\n",
      "    data = self._fp.read(amt) if not fp_closed else b\"\"\n",
      "  File \"c:\\Users\\WINDOWS\\anaconda3\\envs\\ArcpyPro\\lib\\http\\client.py\", line 463, in read\n",
      "    n = self.readinto(b)\n",
      "  File \"c:\\Users\\WINDOWS\\anaconda3\\envs\\ArcpyPro\\lib\\http\\client.py\", line 507, in readinto\n",
      "    n = self.fp.readinto(b)\n",
      "  File \"c:\\Users\\WINDOWS\\anaconda3\\envs\\ArcpyPro\\lib\\socket.py\", line 704, in readinto\n",
      "    return self._sock.recv_into(b)\n",
      "  File \"c:\\Users\\WINDOWS\\anaconda3\\envs\\ArcpyPro\\lib\\ssl.py\", line 1241, in recv_into\n",
      "    return self.read(nbytes, buffer)\n",
      "  File \"c:\\Users\\WINDOWS\\anaconda3\\envs\\ArcpyPro\\lib\\ssl.py\", line 1099, in read\n",
      "    return self._sslobj.read(len, buffer)\n",
      "ConnectionResetError: [WinError 10054] 远程主机强迫关闭了一个现有的连接。\n",
      "\n",
      "During handling of the above exception, another exception occurred:\n",
      "\n",
      "Traceback (most recent call last):\n",
      "  File \"c:\\Users\\WINDOWS\\anaconda3\\envs\\ArcpyPro\\lib\\site-packages\\earthaccess\\store.py\", line 646, in _download_file\n",
      "    shutil.copyfileobj(r.raw, f, length=1024 * 1024)\n",
      "  File \"c:\\Users\\WINDOWS\\anaconda3\\envs\\ArcpyPro\\lib\\shutil.py\", line 205, in copyfileobj\n",
      "    buf = fsrc_read(length)\n",
      "  File \"c:\\Users\\WINDOWS\\anaconda3\\envs\\ArcpyPro\\lib\\site-packages\\urllib3\\response.py\", line 541, in read\n",
      "    raise IncompleteRead(self._fp_bytes_read, self.length_remaining)\n",
      "  File \"c:\\Users\\WINDOWS\\anaconda3\\envs\\ArcpyPro\\lib\\contextlib.py\", line 137, in __exit__\n",
      "    self.gen.throw(typ, value, traceback)\n",
      "  File \"c:\\Users\\WINDOWS\\anaconda3\\envs\\ArcpyPro\\lib\\site-packages\\urllib3\\response.py\", line 455, in _error_catcher\n",
      "    raise ProtocolError(\"Connection broken: %r\" % e, e)\n",
      "urllib3.exceptions.ProtocolError: (\"Connection broken: ConnectionResetError(10054, '远程主机强迫关闭了一个现有的连接。', None, 10054, None)\", ConnectionResetError(10054, '远程主机强迫关闭了一个现有的连接。', None, 10054, None))\n"
     ]
    },
    {
     "data": {
      "application/vnd.jupyter.widget-view+json": {
       "model_id": "2196cd16459d4c7697e9cbf8b601bff4",
       "version_major": 2,
       "version_minor": 0
      },
      "text/plain": [
       "COLLECTING RESULTS | :   0%|          | 0/1 [00:00<?, ?it/s]"
      ]
     },
     "metadata": {},
     "output_type": "display_data"
    },
    {
     "name": "stdout",
     "output_type": "stream",
     "text": [
      "G:\\ICE\\数据下载测试\\2019\\ATL03\\extent_4\\ATL03_20190602102333_09950307_006_02.h5\n",
      "正在下载 ATL03_20190602102333_09950307_006_02.h5 到 G:\\ICE\\数据下载测试\\2019\\ATL03\\extent_4...\n"
     ]
    },
    {
     "data": {
      "application/vnd.jupyter.widget-view+json": {
       "model_id": "e95ae4ab03944380ad92ff6535645d28",
       "version_major": 2,
       "version_minor": 0
      },
      "text/plain": [
       "QUEUEING TASKS | :   0%|          | 0/1 [00:00<?, ?it/s]"
      ]
     },
     "metadata": {},
     "output_type": "display_data"
    },
    {
     "data": {
      "application/vnd.jupyter.widget-view+json": {
       "model_id": "5ce1e6b28c6d4fcfab61fc2a99b47839",
       "version_major": 2,
       "version_minor": 0
      },
      "text/plain": [
       "PROCESSING TASKS | :   0%|          | 0/1 [00:00<?, ?it/s]"
      ]
     },
     "metadata": {},
     "output_type": "display_data"
    },
    {
     "data": {
      "application/vnd.jupyter.widget-view+json": {
       "model_id": "07be7f8c6f2543829ec200f7faa179e7",
       "version_major": 2,
       "version_minor": 0
      },
      "text/plain": [
       "COLLECTING RESULTS | :   0%|          | 0/1 [00:00<?, ?it/s]"
      ]
     },
     "metadata": {},
     "output_type": "display_data"
    },
    {
     "name": "stdout",
     "output_type": "stream",
     "text": [
      "G:\\ICE\\数据下载测试\\2019\\ATL03\\extent_4\\ATL03_20190615212712_12010301_006_02.h5\n",
      "正在下载 ATL03_20190615212712_12010301_006_02.h5 到 G:\\ICE\\数据下载测试\\2019\\ATL03\\extent_4...\n"
     ]
    },
    {
     "data": {
      "application/vnd.jupyter.widget-view+json": {
       "model_id": "d71438fb91594e569c442ac4db4fd0d0",
       "version_major": 2,
       "version_minor": 0
      },
      "text/plain": [
       "QUEUEING TASKS | :   0%|          | 0/1 [00:00<?, ?it/s]"
      ]
     },
     "metadata": {},
     "output_type": "display_data"
    },
    {
     "data": {
      "application/vnd.jupyter.widget-view+json": {
       "model_id": "1f6c2a8d18734b378ccd30cd85644dc7",
       "version_major": 2,
       "version_minor": 0
      },
      "text/plain": [
       "PROCESSING TASKS | :   0%|          | 0/1 [00:00<?, ?it/s]"
      ]
     },
     "metadata": {},
     "output_type": "display_data"
    },
    {
     "data": {
      "application/vnd.jupyter.widget-view+json": {
       "model_id": "53d07a22ad864f819f80484398c3d5b2",
       "version_major": 2,
       "version_minor": 0
      },
      "text/plain": [
       "COLLECTING RESULTS | :   0%|          | 0/1 [00:00<?, ?it/s]"
      ]
     },
     "metadata": {},
     "output_type": "display_data"
    },
    {
     "name": "stdout",
     "output_type": "stream",
     "text": [
      "G:\\ICE\\数据下载测试\\2019\\ATL03\\extent_4\\ATL03_20190615213414_12010302_006_02.h5\n",
      "正在下载 ATL03_20190615213414_12010302_006_02.h5 到 G:\\ICE\\数据下载测试\\2019\\ATL03\\extent_4...\n"
     ]
    },
    {
     "data": {
      "application/vnd.jupyter.widget-view+json": {
       "model_id": "a4fbf408086749a0b14e9e126972ad9f",
       "version_major": 2,
       "version_minor": 0
      },
      "text/plain": [
       "QUEUEING TASKS | :   0%|          | 0/1 [00:00<?, ?it/s]"
      ]
     },
     "metadata": {},
     "output_type": "display_data"
    },
    {
     "data": {
      "application/vnd.jupyter.widget-view+json": {
       "model_id": "61ce42467c2946c69671a21e4d33e436",
       "version_major": 2,
       "version_minor": 0
      },
      "text/plain": [
       "PROCESSING TASKS | :   0%|          | 0/1 [00:00<?, ?it/s]"
      ]
     },
     "metadata": {},
     "output_type": "display_data"
    },
    {
     "data": {
      "application/vnd.jupyter.widget-view+json": {
       "model_id": "e7d53af803ff47a3ba3a1bc92818527e",
       "version_major": 2,
       "version_minor": 0
      },
      "text/plain": [
       "COLLECTING RESULTS | :   0%|          | 0/1 [00:00<?, ?it/s]"
      ]
     },
     "metadata": {},
     "output_type": "display_data"
    },
    {
     "name": "stdout",
     "output_type": "stream",
     "text": [
      "G:\\ICE\\数据下载测试\\2019\\ATL03\\extent_4\\ATL03_20190619211852_12620301_006_02.h5\n",
      "正在下载 ATL03_20190619211852_12620301_006_02.h5 到 G:\\ICE\\数据下载测试\\2019\\ATL03\\extent_4...\n"
     ]
    },
    {
     "data": {
      "application/vnd.jupyter.widget-view+json": {
       "model_id": "9d37efc5ee544019b2df1976635d8b53",
       "version_major": 2,
       "version_minor": 0
      },
      "text/plain": [
       "QUEUEING TASKS | :   0%|          | 0/1 [00:00<?, ?it/s]"
      ]
     },
     "metadata": {},
     "output_type": "display_data"
    },
    {
     "data": {
      "application/vnd.jupyter.widget-view+json": {
       "model_id": "1ebac7379bec4e26bddce42b5b7ee1d3",
       "version_major": 2,
       "version_minor": 0
      },
      "text/plain": [
       "PROCESSING TASKS | :   0%|          | 0/1 [00:00<?, ?it/s]"
      ]
     },
     "metadata": {},
     "output_type": "display_data"
    },
    {
     "data": {
      "application/vnd.jupyter.widget-view+json": {
       "model_id": "2af903db722d4edd93d79b000ec8bfb4",
       "version_major": 2,
       "version_minor": 0
      },
      "text/plain": [
       "COLLECTING RESULTS | :   0%|          | 0/1 [00:00<?, ?it/s]"
      ]
     },
     "metadata": {},
     "output_type": "display_data"
    },
    {
     "name": "stdout",
     "output_type": "stream",
     "text": [
      "G:\\ICE\\数据下载测试\\2019\\ATL03\\extent_4\\ATL03_20190619212554_12620302_006_02.h5\n",
      "正在下载 ATL03_20190619212554_12620302_006_02.h5 到 G:\\ICE\\数据下载测试\\2019\\ATL03\\extent_4...\n"
     ]
    },
    {
     "data": {
      "application/vnd.jupyter.widget-view+json": {
       "model_id": "d0d08b83496d4b37802f9858e04a6c20",
       "version_major": 2,
       "version_minor": 0
      },
      "text/plain": [
       "QUEUEING TASKS | :   0%|          | 0/1 [00:00<?, ?it/s]"
      ]
     },
     "metadata": {},
     "output_type": "display_data"
    },
    {
     "data": {
      "application/vnd.jupyter.widget-view+json": {
       "model_id": "f8d99ef5db4a44d79ad49eede9e5dc03",
       "version_major": 2,
       "version_minor": 0
      },
      "text/plain": [
       "PROCESSING TASKS | :   0%|          | 0/1 [00:00<?, ?it/s]"
      ]
     },
     "metadata": {},
     "output_type": "display_data"
    },
    {
     "data": {
      "application/vnd.jupyter.widget-view+json": {
       "model_id": "74ac69a854044f7890f7cd7c79e1706c",
       "version_major": 2,
       "version_minor": 0
      },
      "text/plain": [
       "COLLECTING RESULTS | :   0%|          | 0/1 [00:00<?, ?it/s]"
      ]
     },
     "metadata": {},
     "output_type": "display_data"
    },
    {
     "name": "stdout",
     "output_type": "stream",
     "text": [
      "G:\\ICE\\数据下载测试\\2019\\ATL03\\extent_4\\ATL03_20190718195445_03170401_006_02.h5\n",
      "正在下载 ATL03_20190718195445_03170401_006_02.h5 到 G:\\ICE\\数据下载测试\\2019\\ATL03\\extent_4...\n"
     ]
    },
    {
     "data": {
      "application/vnd.jupyter.widget-view+json": {
       "model_id": "8d362cff14664f11bf4e5576ce29d581",
       "version_major": 2,
       "version_minor": 0
      },
      "text/plain": [
       "QUEUEING TASKS | :   0%|          | 0/1 [00:00<?, ?it/s]"
      ]
     },
     "metadata": {},
     "output_type": "display_data"
    },
    {
     "data": {
      "application/vnd.jupyter.widget-view+json": {
       "model_id": "c2198a3c71764a8ca88375874baf36a6",
       "version_major": 2,
       "version_minor": 0
      },
      "text/plain": [
       "PROCESSING TASKS | :   0%|          | 0/1 [00:00<?, ?it/s]"
      ]
     },
     "metadata": {},
     "output_type": "display_data"
    },
    {
     "data": {
      "application/vnd.jupyter.widget-view+json": {
       "model_id": "6af701fccff949bf9aeffdacf359ba89",
       "version_major": 2,
       "version_minor": 0
      },
      "text/plain": [
       "COLLECTING RESULTS | :   0%|          | 0/1 [00:00<?, ?it/s]"
      ]
     },
     "metadata": {},
     "output_type": "display_data"
    },
    {
     "name": "stdout",
     "output_type": "stream",
     "text": [
      "G:\\ICE\\数据下载测试\\2019\\ATL03\\extent_4\\ATL03_20190718200147_03170402_006_02.h5\n",
      "正在下载 ATL03_20190718200147_03170402_006_02.h5 到 G:\\ICE\\数据下载测试\\2019\\ATL03\\extent_4...\n"
     ]
    },
    {
     "data": {
      "application/vnd.jupyter.widget-view+json": {
       "model_id": "563fd9ab17f342f3b9b17a0ecb81747e",
       "version_major": 2,
       "version_minor": 0
      },
      "text/plain": [
       "QUEUEING TASKS | :   0%|          | 0/1 [00:00<?, ?it/s]"
      ]
     },
     "metadata": {},
     "output_type": "display_data"
    },
    {
     "data": {
      "application/vnd.jupyter.widget-view+json": {
       "model_id": "4c11fa5e4642422b8c5e2a5e139f9a05",
       "version_major": 2,
       "version_minor": 0
      },
      "text/plain": [
       "PROCESSING TASKS | :   0%|          | 0/1 [00:00<?, ?it/s]"
      ]
     },
     "metadata": {},
     "output_type": "display_data"
    },
    {
     "data": {
      "application/vnd.jupyter.widget-view+json": {
       "model_id": "cee30c290cc4460ebfea64f3009cd45a",
       "version_major": 2,
       "version_minor": 0
      },
      "text/plain": [
       "COLLECTING RESULTS | :   0%|          | 0/1 [00:00<?, ?it/s]"
      ]
     },
     "metadata": {},
     "output_type": "display_data"
    },
    {
     "name": "stdout",
     "output_type": "stream",
     "text": [
      "G:\\ICE\\数据下载测试\\2019\\ATL03\\extent_4\\ATL03_20190730072706_04920406_006_02.h5\n",
      "正在下载 ATL03_20190730072706_04920406_006_02.h5 到 G:\\ICE\\数据下载测试\\2019\\ATL03\\extent_4...\n"
     ]
    },
    {
     "data": {
      "application/vnd.jupyter.widget-view+json": {
       "model_id": "337bb499deb24611826a5406d1489323",
       "version_major": 2,
       "version_minor": 0
      },
      "text/plain": [
       "QUEUEING TASKS | :   0%|          | 0/1 [00:00<?, ?it/s]"
      ]
     },
     "metadata": {},
     "output_type": "display_data"
    },
    {
     "data": {
      "application/vnd.jupyter.widget-view+json": {
       "model_id": "da53bccdfe5f41488209222e393c8800",
       "version_major": 2,
       "version_minor": 0
      },
      "text/plain": [
       "PROCESSING TASKS | :   0%|          | 0/1 [00:00<?, ?it/s]"
      ]
     },
     "metadata": {},
     "output_type": "display_data"
    },
    {
     "data": {
      "application/vnd.jupyter.widget-view+json": {
       "model_id": "f11d9770a6c4498190eab2b12cc5f304",
       "version_major": 2,
       "version_minor": 0
      },
      "text/plain": [
       "COLLECTING RESULTS | :   0%|          | 0/1 [00:00<?, ?it/s]"
      ]
     },
     "metadata": {},
     "output_type": "display_data"
    },
    {
     "name": "stdout",
     "output_type": "stream",
     "text": [
      "G:\\ICE\\数据下载测试\\2019\\ATL03\\extent_4\\ATL03_20190730073536_04920407_006_02.h5\n",
      "正在下载 ATL03_20190730073536_04920407_006_02.h5 到 G:\\ICE\\数据下载测试\\2019\\ATL03\\extent_4...\n"
     ]
    },
    {
     "data": {
      "application/vnd.jupyter.widget-view+json": {
       "model_id": "5879ff362cc24acda6790b3b157a7492",
       "version_major": 2,
       "version_minor": 0
      },
      "text/plain": [
       "QUEUEING TASKS | :   0%|          | 0/1 [00:00<?, ?it/s]"
      ]
     },
     "metadata": {},
     "output_type": "display_data"
    },
    {
     "data": {
      "application/vnd.jupyter.widget-view+json": {
       "model_id": "d10346f5c2824403b2f22e650deed05f",
       "version_major": 2,
       "version_minor": 0
      },
      "text/plain": [
       "PROCESSING TASKS | :   0%|          | 0/1 [00:00<?, ?it/s]"
      ]
     },
     "metadata": {},
     "output_type": "display_data"
    },
    {
     "data": {
      "application/vnd.jupyter.widget-view+json": {
       "model_id": "91d4d8a541114d38aeb87b30c1edd972",
       "version_major": 2,
       "version_minor": 0
      },
      "text/plain": [
       "COLLECTING RESULTS | :   0%|          | 0/1 [00:00<?, ?it/s]"
      ]
     },
     "metadata": {},
     "output_type": "display_data"
    },
    {
     "name": "stdout",
     "output_type": "stream",
     "text": [
      "G:\\ICE\\数据下载测试\\2019\\ATL03\\extent_4\\ATL03_20190816183057_07590401_006_02.h5\n",
      "正在下载 ATL03_20190816183057_07590401_006_02.h5 到 G:\\ICE\\数据下载测试\\2019\\ATL03\\extent_4...\n"
     ]
    },
    {
     "data": {
      "application/vnd.jupyter.widget-view+json": {
       "model_id": "945cdbd3ae494cc39a9efe35e4799a87",
       "version_major": 2,
       "version_minor": 0
      },
      "text/plain": [
       "QUEUEING TASKS | :   0%|          | 0/1 [00:00<?, ?it/s]"
      ]
     },
     "metadata": {},
     "output_type": "display_data"
    },
    {
     "data": {
      "application/vnd.jupyter.widget-view+json": {
       "model_id": "b89da099de38461698209c76549c75a0",
       "version_major": 2,
       "version_minor": 0
      },
      "text/plain": [
       "PROCESSING TASKS | :   0%|          | 0/1 [00:00<?, ?it/s]"
      ]
     },
     "metadata": {},
     "output_type": "display_data"
    },
    {
     "data": {
      "application/vnd.jupyter.widget-view+json": {
       "model_id": "49f23a386ab74593b5938d376326de80",
       "version_major": 2,
       "version_minor": 0
      },
      "text/plain": [
       "COLLECTING RESULTS | :   0%|          | 0/1 [00:00<?, ?it/s]"
      ]
     },
     "metadata": {},
     "output_type": "display_data"
    },
    {
     "name": "stdout",
     "output_type": "stream",
     "text": [
      "G:\\ICE\\数据下载测试\\2019\\ATL03\\extent_4\\ATL03_20190816183759_07590402_006_02.h5\n",
      "正在下载 ATL03_20190816183759_07590402_006_02.h5 到 G:\\ICE\\数据下载测试\\2019\\ATL03\\extent_4...\n"
     ]
    },
    {
     "data": {
      "application/vnd.jupyter.widget-view+json": {
       "model_id": "1a9f7b66ec864b80990c7c1ad42c8f80",
       "version_major": 2,
       "version_minor": 0
      },
      "text/plain": [
       "QUEUEING TASKS | :   0%|          | 0/1 [00:00<?, ?it/s]"
      ]
     },
     "metadata": {},
     "output_type": "display_data"
    },
    {
     "data": {
      "application/vnd.jupyter.widget-view+json": {
       "model_id": "30e6bb1481a6467c9362637642ba3b69",
       "version_major": 2,
       "version_minor": 0
      },
      "text/plain": [
       "PROCESSING TASKS | :   0%|          | 0/1 [00:00<?, ?it/s]"
      ]
     },
     "metadata": {},
     "output_type": "display_data"
    },
    {
     "data": {
      "application/vnd.jupyter.widget-view+json": {
       "model_id": "6149ec9c7ae2498cb12a14380fc6d257",
       "version_major": 2,
       "version_minor": 0
      },
      "text/plain": [
       "COLLECTING RESULTS | :   0%|          | 0/1 [00:00<?, ?it/s]"
      ]
     },
     "metadata": {},
     "output_type": "display_data"
    },
    {
     "name": "stdout",
     "output_type": "stream",
     "text": [
      "G:\\ICE\\数据下载测试\\2019\\ATL03\\extent_4\\ATL03_20190828060312_09340406_006_02.h5\n",
      "正在下载 ATL03_20190828060312_09340406_006_02.h5 到 G:\\ICE\\数据下载测试\\2019\\ATL03\\extent_4...\n"
     ]
    },
    {
     "data": {
      "application/vnd.jupyter.widget-view+json": {
       "model_id": "7d836e52f4764b1dbb971213f3d0fefe",
       "version_major": 2,
       "version_minor": 0
      },
      "text/plain": [
       "QUEUEING TASKS | :   0%|          | 0/1 [00:00<?, ?it/s]"
      ]
     },
     "metadata": {},
     "output_type": "display_data"
    },
    {
     "data": {
      "application/vnd.jupyter.widget-view+json": {
       "model_id": "4f8aa554b8d34484b1cf8133ad8fcec5",
       "version_major": 2,
       "version_minor": 0
      },
      "text/plain": [
       "PROCESSING TASKS | :   0%|          | 0/1 [00:00<?, ?it/s]"
      ]
     },
     "metadata": {},
     "output_type": "display_data"
    },
    {
     "data": {
      "application/vnd.jupyter.widget-view+json": {
       "model_id": "0e0a3636b9484fe5954d3dcf041115e3",
       "version_major": 2,
       "version_minor": 0
      },
      "text/plain": [
       "COLLECTING RESULTS | :   0%|          | 0/1 [00:00<?, ?it/s]"
      ]
     },
     "metadata": {},
     "output_type": "display_data"
    },
    {
     "name": "stdout",
     "output_type": "stream",
     "text": [
      "G:\\ICE\\数据下载测试\\2019\\ATL03\\extent_4\\ATL03_20190828061142_09340407_006_02.h5\n",
      "正在下载 ATL03_20190828061142_09340407_006_02.h5 到 G:\\ICE\\数据下载测试\\2019\\ATL03\\extent_4...\n"
     ]
    },
    {
     "data": {
      "application/vnd.jupyter.widget-view+json": {
       "model_id": "4f19d5cfffdf4e4fa1c1ee237fb9a017",
       "version_major": 2,
       "version_minor": 0
      },
      "text/plain": [
       "QUEUEING TASKS | :   0%|          | 0/1 [00:00<?, ?it/s]"
      ]
     },
     "metadata": {},
     "output_type": "display_data"
    },
    {
     "data": {
      "application/vnd.jupyter.widget-view+json": {
       "model_id": "adb3991a07c047b8832230ba7b07d482",
       "version_major": 2,
       "version_minor": 0
      },
      "text/plain": [
       "PROCESSING TASKS | :   0%|          | 0/1 [00:00<?, ?it/s]"
      ]
     },
     "metadata": {},
     "output_type": "display_data"
    },
    {
     "data": {
      "application/vnd.jupyter.widget-view+json": {
       "model_id": "bbdbdf921a02423ba779201d962c8d15",
       "version_major": 2,
       "version_minor": 0
      },
      "text/plain": [
       "COLLECTING RESULTS | :   0%|          | 0/1 [00:00<?, ?it/s]"
      ]
     },
     "metadata": {},
     "output_type": "display_data"
    },
    {
     "name": "stdout",
     "output_type": "stream",
     "text": [
      "G:\\ICE\\数据下载测试\\2019\\ATL03\\extent_4\\ATL03_20190901055453_09950406_006_02.h5\n",
      "正在下载 ATL03_20190901055453_09950406_006_02.h5 到 G:\\ICE\\数据下载测试\\2019\\ATL03\\extent_4...\n"
     ]
    },
    {
     "data": {
      "application/vnd.jupyter.widget-view+json": {
       "model_id": "a11c43d7d3cf4e1ea40d926af6a2b1b8",
       "version_major": 2,
       "version_minor": 0
      },
      "text/plain": [
       "QUEUEING TASKS | :   0%|          | 0/1 [00:00<?, ?it/s]"
      ]
     },
     "metadata": {},
     "output_type": "display_data"
    },
    {
     "data": {
      "application/vnd.jupyter.widget-view+json": {
       "model_id": "84bb743ba9854345b701305fc4102c6c",
       "version_major": 2,
       "version_minor": 0
      },
      "text/plain": [
       "PROCESSING TASKS | :   0%|          | 0/1 [00:00<?, ?it/s]"
      ]
     },
     "metadata": {},
     "output_type": "display_data"
    },
    {
     "data": {
      "application/vnd.jupyter.widget-view+json": {
       "model_id": "6f828655efb24dae96d080400137c805",
       "version_major": 2,
       "version_minor": 0
      },
      "text/plain": [
       "COLLECTING RESULTS | :   0%|          | 0/1 [00:00<?, ?it/s]"
      ]
     },
     "metadata": {},
     "output_type": "display_data"
    },
    {
     "name": "stdout",
     "output_type": "stream",
     "text": [
      "G:\\ICE\\数据下载测试\\2019\\ATL03\\extent_4\\ATL03_20190901060323_09950407_006_02.h5\n",
      "正在下载 ATL03_20190901060323_09950407_006_02.h5 到 G:\\ICE\\数据下载测试\\2019\\ATL03\\extent_4...\n"
     ]
    },
    {
     "data": {
      "application/vnd.jupyter.widget-view+json": {
       "model_id": "af17d631ce8c4911a046da6cf1de3eee",
       "version_major": 2,
       "version_minor": 0
      },
      "text/plain": [
       "QUEUEING TASKS | :   0%|          | 0/1 [00:00<?, ?it/s]"
      ]
     },
     "metadata": {},
     "output_type": "display_data"
    },
    {
     "data": {
      "application/vnd.jupyter.widget-view+json": {
       "model_id": "c5d540f66ea04dabba73cb1a77137956",
       "version_major": 2,
       "version_minor": 0
      },
      "text/plain": [
       "PROCESSING TASKS | :   0%|          | 0/1 [00:00<?, ?it/s]"
      ]
     },
     "metadata": {},
     "output_type": "display_data"
    },
    {
     "data": {
      "application/vnd.jupyter.widget-view+json": {
       "model_id": "74b2854a09854a7ea7fdbe538021029b",
       "version_major": 2,
       "version_minor": 0
      },
      "text/plain": [
       "COLLECTING RESULTS | :   0%|          | 0/1 [00:00<?, ?it/s]"
      ]
     },
     "metadata": {},
     "output_type": "display_data"
    },
    {
     "name": "stdout",
     "output_type": "stream",
     "text": [
      "G:\\ICE\\数据下载测试\\2019\\ATL03\\extent_4\\ATL03_20190914170702_12010401_006_02.h5\n",
      "正在下载 ATL03_20190914170702_12010401_006_02.h5 到 G:\\ICE\\数据下载测试\\2019\\ATL03\\extent_4...\n"
     ]
    },
    {
     "data": {
      "application/vnd.jupyter.widget-view+json": {
       "model_id": "212e5a185cc54d03aeb47b8a1c8b63ed",
       "version_major": 2,
       "version_minor": 0
      },
      "text/plain": [
       "QUEUEING TASKS | :   0%|          | 0/1 [00:00<?, ?it/s]"
      ]
     },
     "metadata": {},
     "output_type": "display_data"
    },
    {
     "data": {
      "application/vnd.jupyter.widget-view+json": {
       "model_id": "a6ed3c0b2e8d41c6b155e89375ac3666",
       "version_major": 2,
       "version_minor": 0
      },
      "text/plain": [
       "PROCESSING TASKS | :   0%|          | 0/1 [00:00<?, ?it/s]"
      ]
     },
     "metadata": {},
     "output_type": "display_data"
    },
    {
     "data": {
      "application/vnd.jupyter.widget-view+json": {
       "model_id": "bbef69929610484494cebf1711fc649a",
       "version_major": 2,
       "version_minor": 0
      },
      "text/plain": [
       "COLLECTING RESULTS | :   0%|          | 0/1 [00:00<?, ?it/s]"
      ]
     },
     "metadata": {},
     "output_type": "display_data"
    },
    {
     "name": "stdout",
     "output_type": "stream",
     "text": [
      "G:\\ICE\\数据下载测试\\2019\\ATL03\\extent_4\\ATL03_20190914171404_12010402_006_02.h5\n",
      "正在下载 ATL03_20190914171404_12010402_006_02.h5 到 G:\\ICE\\数据下载测试\\2019\\ATL03\\extent_4...\n"
     ]
    },
    {
     "data": {
      "application/vnd.jupyter.widget-view+json": {
       "model_id": "181035dbe7c2465db9c4be5f7a000bd5",
       "version_major": 2,
       "version_minor": 0
      },
      "text/plain": [
       "QUEUEING TASKS | :   0%|          | 0/1 [00:00<?, ?it/s]"
      ]
     },
     "metadata": {},
     "output_type": "display_data"
    },
    {
     "data": {
      "application/vnd.jupyter.widget-view+json": {
       "model_id": "453fad73e4114e6587b10d13d177c653",
       "version_major": 2,
       "version_minor": 0
      },
      "text/plain": [
       "PROCESSING TASKS | :   0%|          | 0/1 [00:00<?, ?it/s]"
      ]
     },
     "metadata": {},
     "output_type": "display_data"
    },
    {
     "data": {
      "application/vnd.jupyter.widget-view+json": {
       "model_id": "c3f0f0275a4448f7ade73c8f885e186c",
       "version_major": 2,
       "version_minor": 0
      },
      "text/plain": [
       "COLLECTING RESULTS | :   0%|          | 0/1 [00:00<?, ?it/s]"
      ]
     },
     "metadata": {},
     "output_type": "display_data"
    },
    {
     "name": "stdout",
     "output_type": "stream",
     "text": [
      "G:\\ICE\\数据下载测试\\2019\\ATL03\\extent_4\\ATL03_20190918165843_12620401_006_02.h5\n",
      "正在下载 ATL03_20190918165843_12620401_006_02.h5 到 G:\\ICE\\数据下载测试\\2019\\ATL03\\extent_4...\n"
     ]
    },
    {
     "data": {
      "application/vnd.jupyter.widget-view+json": {
       "model_id": "045b004e4a464b57a189cfe028fc6af3",
       "version_major": 2,
       "version_minor": 0
      },
      "text/plain": [
       "QUEUEING TASKS | :   0%|          | 0/1 [00:00<?, ?it/s]"
      ]
     },
     "metadata": {},
     "output_type": "display_data"
    },
    {
     "data": {
      "application/vnd.jupyter.widget-view+json": {
       "model_id": "bc8eaab699ad43d3ac9d6f49b11f4b8b",
       "version_major": 2,
       "version_minor": 0
      },
      "text/plain": [
       "PROCESSING TASKS | :   0%|          | 0/1 [00:00<?, ?it/s]"
      ]
     },
     "metadata": {},
     "output_type": "display_data"
    },
    {
     "data": {
      "application/vnd.jupyter.widget-view+json": {
       "model_id": "ef684c4995c2450f89f21be4d5f12212",
       "version_major": 2,
       "version_minor": 0
      },
      "text/plain": [
       "COLLECTING RESULTS | :   0%|          | 0/1 [00:00<?, ?it/s]"
      ]
     },
     "metadata": {},
     "output_type": "display_data"
    },
    {
     "name": "stdout",
     "output_type": "stream",
     "text": [
      "G:\\ICE\\数据下载测试\\2019\\ATL03\\extent_4\\ATL03_20190918170545_12620402_006_02.h5\n",
      "正在下载 ATL03_20190918170545_12620402_006_02.h5 到 G:\\ICE\\数据下载测试\\2019\\ATL03\\extent_4...\n"
     ]
    },
    {
     "data": {
      "application/vnd.jupyter.widget-view+json": {
       "model_id": "04ddc395c8c348d08ba63f7fadf9ee0f",
       "version_major": 2,
       "version_minor": 0
      },
      "text/plain": [
       "QUEUEING TASKS | :   0%|          | 0/1 [00:00<?, ?it/s]"
      ]
     },
     "metadata": {},
     "output_type": "display_data"
    },
    {
     "data": {
      "application/vnd.jupyter.widget-view+json": {
       "model_id": "718523f9c4774c3fbc156053827b4947",
       "version_major": 2,
       "version_minor": 0
      },
      "text/plain": [
       "PROCESSING TASKS | :   0%|          | 0/1 [00:00<?, ?it/s]"
      ]
     },
     "metadata": {},
     "output_type": "display_data"
    },
    {
     "data": {
      "application/vnd.jupyter.widget-view+json": {
       "model_id": "bbc43a6be9a14689acd97a7441832c71",
       "version_major": 2,
       "version_minor": 0
      },
      "text/plain": [
       "COLLECTING RESULTS | :   0%|          | 0/1 [00:00<?, ?it/s]"
      ]
     },
     "metadata": {},
     "output_type": "display_data"
    },
    {
     "name": "stdout",
     "output_type": "stream",
     "text": [
      "G:\\ICE\\数据下载测试\\2019\\ATL03\\extent_4\\ATL03_20190926044748_13760407_006_02.h5\n",
      "正在下载 ATL03_20190926044748_13760407_006_02.h5 到 G:\\ICE\\数据下载测试\\2019\\ATL03\\extent_4...\n"
     ]
    },
    {
     "data": {
      "application/vnd.jupyter.widget-view+json": {
       "model_id": "8ee0fe466c024d5093d18663145f8871",
       "version_major": 2,
       "version_minor": 0
      },
      "text/plain": [
       "QUEUEING TASKS | :   0%|          | 0/1 [00:00<?, ?it/s]"
      ]
     },
     "metadata": {},
     "output_type": "display_data"
    },
    {
     "data": {
      "application/vnd.jupyter.widget-view+json": {
       "model_id": "9a02df09278a46d99b6e9f9376908e30",
       "version_major": 2,
       "version_minor": 0
      },
      "text/plain": [
       "PROCESSING TASKS | :   0%|          | 0/1 [00:00<?, ?it/s]"
      ]
     },
     "metadata": {},
     "output_type": "display_data"
    },
    {
     "data": {
      "application/vnd.jupyter.widget-view+json": {
       "model_id": "eb5238cfbc7a4704a75e5e91c1ef69f1",
       "version_major": 2,
       "version_minor": 0
      },
      "text/plain": [
       "COLLECTING RESULTS | :   0%|          | 0/1 [00:00<?, ?it/s]"
      ]
     },
     "metadata": {},
     "output_type": "display_data"
    },
    {
     "name": "stdout",
     "output_type": "stream",
     "text": [
      "G:\\ICE\\数据下载测试\\2019\\ATL03\\extent_4\\ATL03_20190930043058_00500506_006_02.h5\n",
      "正在下载 ATL03_20190930043058_00500506_006_02.h5 到 G:\\ICE\\数据下载测试\\2019\\ATL03\\extent_4...\n"
     ]
    },
    {
     "data": {
      "application/vnd.jupyter.widget-view+json": {
       "model_id": "bedbe8be4d114363a272be0b528202ae",
       "version_major": 2,
       "version_minor": 0
      },
      "text/plain": [
       "QUEUEING TASKS | :   0%|          | 0/1 [00:00<?, ?it/s]"
      ]
     },
     "metadata": {},
     "output_type": "display_data"
    },
    {
     "data": {
      "application/vnd.jupyter.widget-view+json": {
       "model_id": "5390f1cd71c64055a32315fe1459dc66",
       "version_major": 2,
       "version_minor": 0
      },
      "text/plain": [
       "PROCESSING TASKS | :   0%|          | 0/1 [00:00<?, ?it/s]"
      ]
     },
     "metadata": {},
     "output_type": "display_data"
    },
    {
     "data": {
      "application/vnd.jupyter.widget-view+json": {
       "model_id": "1795b6222c624aae857bf400abeae5ac",
       "version_major": 2,
       "version_minor": 0
      },
      "text/plain": [
       "COLLECTING RESULTS | :   0%|          | 0/1 [00:00<?, ?it/s]"
      ]
     },
     "metadata": {},
     "output_type": "display_data"
    },
    {
     "name": "stdout",
     "output_type": "stream",
     "text": [
      "G:\\ICE\\数据下载测试\\2019\\ATL03\\extent_4\\ATL03_20190930043928_00500507_006_02.h5\n",
      "正在下载 ATL03_20190930043928_00500507_006_02.h5 到 G:\\ICE\\数据下载测试\\2019\\ATL03\\extent_4...\n"
     ]
    },
    {
     "data": {
      "application/vnd.jupyter.widget-view+json": {
       "model_id": "f76850f36b2044c08a799e672e43a062",
       "version_major": 2,
       "version_minor": 0
      },
      "text/plain": [
       "QUEUEING TASKS | :   0%|          | 0/1 [00:00<?, ?it/s]"
      ]
     },
     "metadata": {},
     "output_type": "display_data"
    },
    {
     "data": {
      "application/vnd.jupyter.widget-view+json": {
       "model_id": "e1a2ee0908544eb8a18bc3b96da47455",
       "version_major": 2,
       "version_minor": 0
      },
      "text/plain": [
       "PROCESSING TASKS | :   0%|          | 0/1 [00:00<?, ?it/s]"
      ]
     },
     "metadata": {},
     "output_type": "display_data"
    },
    {
     "data": {
      "application/vnd.jupyter.widget-view+json": {
       "model_id": "46c15020173e4f4694a3954cc33d7197",
       "version_major": 2,
       "version_minor": 0
      },
      "text/plain": [
       "COLLECTING RESULTS | :   0%|          | 0/1 [00:00<?, ?it/s]"
      ]
     },
     "metadata": {},
     "output_type": "display_data"
    },
    {
     "name": "stdout",
     "output_type": "stream",
     "text": [
      "G:\\ICE\\数据下载测试\\2019\\ATL03\\extent_4\\ATL03_20191013154308_02560501_006_02.h5\n",
      "正在下载 ATL03_20191013154308_02560501_006_02.h5 到 G:\\ICE\\数据下载测试\\2019\\ATL03\\extent_4...\n"
     ]
    },
    {
     "data": {
      "application/vnd.jupyter.widget-view+json": {
       "model_id": "15feb3e802f14c11a16302f68bc2edf8",
       "version_major": 2,
       "version_minor": 0
      },
      "text/plain": [
       "QUEUEING TASKS | :   0%|          | 0/1 [00:00<?, ?it/s]"
      ]
     },
     "metadata": {},
     "output_type": "display_data"
    },
    {
     "data": {
      "application/vnd.jupyter.widget-view+json": {
       "model_id": "a3d0e019f4244bf4848546e6c443f7e3",
       "version_major": 2,
       "version_minor": 0
      },
      "text/plain": [
       "PROCESSING TASKS | :   0%|          | 0/1 [00:00<?, ?it/s]"
      ]
     },
     "metadata": {},
     "output_type": "display_data"
    },
    {
     "data": {
      "application/vnd.jupyter.widget-view+json": {
       "model_id": "40e29fc7825841c2a5230c741ad45229",
       "version_major": 2,
       "version_minor": 0
      },
      "text/plain": [
       "COLLECTING RESULTS | :   0%|          | 0/1 [00:00<?, ?it/s]"
      ]
     },
     "metadata": {},
     "output_type": "display_data"
    },
    {
     "name": "stdout",
     "output_type": "stream",
     "text": [
      "G:\\ICE\\数据下载测试\\2019\\ATL03\\extent_4\\ATL03_20191013155010_02560502_006_02.h5\n",
      "正在下载 ATL03_20191013155010_02560502_006_02.h5 到 G:\\ICE\\数据下载测试\\2019\\ATL03\\extent_4...\n"
     ]
    },
    {
     "data": {
      "application/vnd.jupyter.widget-view+json": {
       "model_id": "86f62878738348e7991e6a03f6c9f861",
       "version_major": 2,
       "version_minor": 0
      },
      "text/plain": [
       "QUEUEING TASKS | :   0%|          | 0/1 [00:00<?, ?it/s]"
      ]
     },
     "metadata": {},
     "output_type": "display_data"
    },
    {
     "data": {
      "application/vnd.jupyter.widget-view+json": {
       "model_id": "718488f3bafd4b4ca16e8dbaa262c2b7",
       "version_major": 2,
       "version_minor": 0
      },
      "text/plain": [
       "PROCESSING TASKS | :   0%|          | 0/1 [00:00<?, ?it/s]"
      ]
     },
     "metadata": {},
     "output_type": "display_data"
    },
    {
     "data": {
      "application/vnd.jupyter.widget-view+json": {
       "model_id": "1011f2822432431cb5b40385885baf2d",
       "version_major": 2,
       "version_minor": 0
      },
      "text/plain": [
       "COLLECTING RESULTS | :   0%|          | 0/1 [00:00<?, ?it/s]"
      ]
     },
     "metadata": {},
     "output_type": "display_data"
    },
    {
     "name": "stdout",
     "output_type": "stream",
     "text": [
      "G:\\ICE\\数据下载测试\\2019\\ATL03\\extent_4\\ATL03_20191017153447_03170501_006_02.h5\n",
      "正在下载 ATL03_20191017153447_03170501_006_02.h5 到 G:\\ICE\\数据下载测试\\2019\\ATL03\\extent_4...\n"
     ]
    },
    {
     "data": {
      "application/vnd.jupyter.widget-view+json": {
       "model_id": "cd7008ab8208416e9df74051093b3c5b",
       "version_major": 2,
       "version_minor": 0
      },
      "text/plain": [
       "QUEUEING TASKS | :   0%|          | 0/1 [00:00<?, ?it/s]"
      ]
     },
     "metadata": {},
     "output_type": "display_data"
    },
    {
     "data": {
      "application/vnd.jupyter.widget-view+json": {
       "model_id": "82e94cce16c444d498a59fca13ba4dfc",
       "version_major": 2,
       "version_minor": 0
      },
      "text/plain": [
       "PROCESSING TASKS | :   0%|          | 0/1 [00:00<?, ?it/s]"
      ]
     },
     "metadata": {},
     "output_type": "display_data"
    },
    {
     "data": {
      "application/vnd.jupyter.widget-view+json": {
       "model_id": "b39f8304b5a1473383692340be00bd53",
       "version_major": 2,
       "version_minor": 0
      },
      "text/plain": [
       "COLLECTING RESULTS | :   0%|          | 0/1 [00:00<?, ?it/s]"
      ]
     },
     "metadata": {},
     "output_type": "display_data"
    },
    {
     "name": "stdout",
     "output_type": "stream",
     "text": [
      "G:\\ICE\\数据下载测试\\2019\\ATL03\\extent_4\\ATL03_20191017154149_03170502_006_02.h5\n",
      "正在下载 ATL03_20191017154149_03170502_006_02.h5 到 G:\\ICE\\数据下载测试\\2019\\ATL03\\extent_4...\n"
     ]
    },
    {
     "data": {
      "application/vnd.jupyter.widget-view+json": {
       "model_id": "6d32413919574e3c8ace76eda3014327",
       "version_major": 2,
       "version_minor": 0
      },
      "text/plain": [
       "QUEUEING TASKS | :   0%|          | 0/1 [00:00<?, ?it/s]"
      ]
     },
     "metadata": {},
     "output_type": "display_data"
    },
    {
     "data": {
      "application/vnd.jupyter.widget-view+json": {
       "model_id": "97622e184bb14601840a22d4dad740ad",
       "version_major": 2,
       "version_minor": 0
      },
      "text/plain": [
       "PROCESSING TASKS | :   0%|          | 0/1 [00:00<?, ?it/s]"
      ]
     },
     "metadata": {},
     "output_type": "display_data"
    },
    {
     "data": {
      "application/vnd.jupyter.widget-view+json": {
       "model_id": "3592624cd5c741b7a3521b0e68d467b5",
       "version_major": 2,
       "version_minor": 0
      },
      "text/plain": [
       "COLLECTING RESULTS | :   0%|          | 0/1 [00:00<?, ?it/s]"
      ]
     },
     "metadata": {},
     "output_type": "display_data"
    },
    {
     "name": "stdout",
     "output_type": "stream",
     "text": [
      "G:\\ICE\\数据下载测试\\2019\\ATL03\\extent_4\\ATL03_20191029030702_04920506_006_01.h5\n",
      "正在下载 ATL03_20191029030702_04920506_006_01.h5 到 G:\\ICE\\数据下载测试\\2019\\ATL03\\extent_4...\n"
     ]
    },
    {
     "data": {
      "application/vnd.jupyter.widget-view+json": {
       "model_id": "8a4776384f2d47c4a2a5ba9761026b64",
       "version_major": 2,
       "version_minor": 0
      },
      "text/plain": [
       "QUEUEING TASKS | :   0%|          | 0/1 [00:00<?, ?it/s]"
      ]
     },
     "metadata": {},
     "output_type": "display_data"
    },
    {
     "data": {
      "application/vnd.jupyter.widget-view+json": {
       "model_id": "14fde6878bc74f628d918f91a2af8425",
       "version_major": 2,
       "version_minor": 0
      },
      "text/plain": [
       "PROCESSING TASKS | :   0%|          | 0/1 [00:00<?, ?it/s]"
      ]
     },
     "metadata": {},
     "output_type": "display_data"
    },
    {
     "data": {
      "application/vnd.jupyter.widget-view+json": {
       "model_id": "ce959108e35f4dc2a181f20d16d3a0d5",
       "version_major": 2,
       "version_minor": 0
      },
      "text/plain": [
       "COLLECTING RESULTS | :   0%|          | 0/1 [00:00<?, ?it/s]"
      ]
     },
     "metadata": {},
     "output_type": "display_data"
    },
    {
     "name": "stdout",
     "output_type": "stream",
     "text": [
      "G:\\ICE\\数据下载测试\\2019\\ATL03\\extent_4\\ATL03_20191029031532_04920507_006_01.h5\n",
      "正在下载 ATL03_20191029031532_04920507_006_01.h5 到 G:\\ICE\\数据下载测试\\2019\\ATL03\\extent_4...\n"
     ]
    },
    {
     "data": {
      "application/vnd.jupyter.widget-view+json": {
       "model_id": "bc2d1a06a4e84994974ad30042956473",
       "version_major": 2,
       "version_minor": 0
      },
      "text/plain": [
       "QUEUEING TASKS | :   0%|          | 0/1 [00:00<?, ?it/s]"
      ]
     },
     "metadata": {},
     "output_type": "display_data"
    },
    {
     "data": {
      "application/vnd.jupyter.widget-view+json": {
       "model_id": "848b058cabd849c1b7fe3e8f06944953",
       "version_major": 2,
       "version_minor": 0
      },
      "text/plain": [
       "PROCESSING TASKS | :   0%|          | 0/1 [00:00<?, ?it/s]"
      ]
     },
     "metadata": {},
     "output_type": "display_data"
    },
    {
     "data": {
      "application/vnd.jupyter.widget-view+json": {
       "model_id": "16ec34d1e4a64f7c88aadce5021f3bf4",
       "version_major": 2,
       "version_minor": 0
      },
      "text/plain": [
       "COLLECTING RESULTS | :   0%|          | 0/1 [00:00<?, ?it/s]"
      ]
     },
     "metadata": {},
     "output_type": "display_data"
    },
    {
     "name": "stdout",
     "output_type": "stream",
     "text": [
      "G:\\ICE\\数据下载测试\\2019\\ATL03\\extent_4\\ATL03_20191102025841_05530506_006_01.h5\n",
      "正在下载 ATL03_20191102025841_05530506_006_01.h5 到 G:\\ICE\\数据下载测试\\2019\\ATL03\\extent_4...\n"
     ]
    },
    {
     "data": {
      "application/vnd.jupyter.widget-view+json": {
       "model_id": "834caf526ac34cb49b871c9e9b07ba26",
       "version_major": 2,
       "version_minor": 0
      },
      "text/plain": [
       "QUEUEING TASKS | :   0%|          | 0/1 [00:00<?, ?it/s]"
      ]
     },
     "metadata": {},
     "output_type": "display_data"
    },
    {
     "data": {
      "application/vnd.jupyter.widget-view+json": {
       "model_id": "43d40a5f590a48369f2df9acb98a4da9",
       "version_major": 2,
       "version_minor": 0
      },
      "text/plain": [
       "PROCESSING TASKS | :   0%|          | 0/1 [00:00<?, ?it/s]"
      ]
     },
     "metadata": {},
     "output_type": "display_data"
    },
    {
     "data": {
      "application/vnd.jupyter.widget-view+json": {
       "model_id": "d3e33483e45048208a66e005d835501e",
       "version_major": 2,
       "version_minor": 0
      },
      "text/plain": [
       "COLLECTING RESULTS | :   0%|          | 0/1 [00:00<?, ?it/s]"
      ]
     },
     "metadata": {},
     "output_type": "display_data"
    },
    {
     "name": "stdout",
     "output_type": "stream",
     "text": [
      "G:\\ICE\\数据下载测试\\2019\\ATL03\\extent_4\\ATL03_20191102030711_05530507_006_01.h5\n",
      "正在下载 ATL03_20191102030711_05530507_006_01.h5 到 G:\\ICE\\数据下载测试\\2019\\ATL03\\extent_4...\n"
     ]
    },
    {
     "data": {
      "application/vnd.jupyter.widget-view+json": {
       "model_id": "1fb98d1422d94192b8196bc096db9de8",
       "version_major": 2,
       "version_minor": 0
      },
      "text/plain": [
       "QUEUEING TASKS | :   0%|          | 0/1 [00:00<?, ?it/s]"
      ]
     },
     "metadata": {},
     "output_type": "display_data"
    },
    {
     "data": {
      "application/vnd.jupyter.widget-view+json": {
       "model_id": "349727c6f23b440284a7f686c306e34c",
       "version_major": 2,
       "version_minor": 0
      },
      "text/plain": [
       "PROCESSING TASKS | :   0%|          | 0/1 [00:00<?, ?it/s]"
      ]
     },
     "metadata": {},
     "output_type": "display_data"
    },
    {
     "data": {
      "application/vnd.jupyter.widget-view+json": {
       "model_id": "d197a56c52dc49be917b476245d8fc6c",
       "version_major": 2,
       "version_minor": 0
      },
      "text/plain": [
       "COLLECTING RESULTS | :   0%|          | 0/1 [00:00<?, ?it/s]"
      ]
     },
     "metadata": {},
     "output_type": "display_data"
    },
    {
     "name": "stdout",
     "output_type": "stream",
     "text": [
      "G:\\ICE\\数据下载测试\\2019\\ATL03\\extent_4\\ATL03_20191127015134_09340507_006_01.h5\n",
      "正在下载 ATL03_20191127015134_09340507_006_01.h5 到 G:\\ICE\\数据下载测试\\2019\\ATL03\\extent_4...\n"
     ]
    },
    {
     "data": {
      "application/vnd.jupyter.widget-view+json": {
       "model_id": "029a58f3188f4f4fbf4762f805123c89",
       "version_major": 2,
       "version_minor": 0
      },
      "text/plain": [
       "QUEUEING TASKS | :   0%|          | 0/1 [00:00<?, ?it/s]"
      ]
     },
     "metadata": {},
     "output_type": "display_data"
    },
    {
     "data": {
      "application/vnd.jupyter.widget-view+json": {
       "model_id": "e7ed2b40d955450e993fd23425ab4f5a",
       "version_major": 2,
       "version_minor": 0
      },
      "text/plain": [
       "PROCESSING TASKS | :   0%|          | 0/1 [00:00<?, ?it/s]"
      ]
     },
     "metadata": {},
     "output_type": "display_data"
    },
    {
     "data": {
      "application/vnd.jupyter.widget-view+json": {
       "model_id": "280ba5dc219941619cda73b116afaa59",
       "version_major": 2,
       "version_minor": 0
      },
      "text/plain": [
       "COLLECTING RESULTS | :   0%|          | 0/1 [00:00<?, ?it/s]"
      ]
     },
     "metadata": {},
     "output_type": "display_data"
    },
    {
     "name": "stdout",
     "output_type": "stream",
     "text": [
      "G:\\ICE\\数据下载测试\\2019\\ATL03\\extent_4\\ATL03_20191201013443_09950506_006_01.h5\n",
      "正在下载 ATL03_20191201013443_09950506_006_01.h5 到 G:\\ICE\\数据下载测试\\2019\\ATL03\\extent_4...\n"
     ]
    },
    {
     "data": {
      "application/vnd.jupyter.widget-view+json": {
       "model_id": "dce1ff58912a443eb22d72f64ff918f8",
       "version_major": 2,
       "version_minor": 0
      },
      "text/plain": [
       "QUEUEING TASKS | :   0%|          | 0/1 [00:00<?, ?it/s]"
      ]
     },
     "metadata": {},
     "output_type": "display_data"
    },
    {
     "data": {
      "application/vnd.jupyter.widget-view+json": {
       "model_id": "2ea72675c43f4bef9d2fe55ba552c0d9",
       "version_major": 2,
       "version_minor": 0
      },
      "text/plain": [
       "PROCESSING TASKS | :   0%|          | 0/1 [00:00<?, ?it/s]"
      ]
     },
     "metadata": {},
     "output_type": "display_data"
    },
    {
     "data": {
      "application/vnd.jupyter.widget-view+json": {
       "model_id": "a817ddec12ee4cb8bf367658b81b11c9",
       "version_major": 2,
       "version_minor": 0
      },
      "text/plain": [
       "COLLECTING RESULTS | :   0%|          | 0/1 [00:00<?, ?it/s]"
      ]
     },
     "metadata": {},
     "output_type": "display_data"
    },
    {
     "name": "stdout",
     "output_type": "stream",
     "text": [
      "G:\\ICE\\数据下载测试\\2019\\ATL03\\extent_4\\ATL03_20191201014313_09950507_006_01.h5\n",
      "正在下载 ATL03_20191201014313_09950507_006_01.h5 到 G:\\ICE\\数据下载测试\\2019\\ATL03\\extent_4...\n"
     ]
    },
    {
     "data": {
      "application/vnd.jupyter.widget-view+json": {
       "model_id": "0e71ea91d0dc4efea70836ca29a89dbe",
       "version_major": 2,
       "version_minor": 0
      },
      "text/plain": [
       "QUEUEING TASKS | :   0%|          | 0/1 [00:00<?, ?it/s]"
      ]
     },
     "metadata": {},
     "output_type": "display_data"
    },
    {
     "data": {
      "application/vnd.jupyter.widget-view+json": {
       "model_id": "8f4f47b7b02842a3a4bd4936800768ca",
       "version_major": 2,
       "version_minor": 0
      },
      "text/plain": [
       "PROCESSING TASKS | :   0%|          | 0/1 [00:00<?, ?it/s]"
      ]
     },
     "metadata": {},
     "output_type": "display_data"
    },
    {
     "data": {
      "application/vnd.jupyter.widget-view+json": {
       "model_id": "b0a2e6d5e1fe43d9aa2d887250bf0b98",
       "version_major": 2,
       "version_minor": 0
      },
      "text/plain": [
       "COLLECTING RESULTS | :   0%|          | 0/1 [00:00<?, ?it/s]"
      ]
     },
     "metadata": {},
     "output_type": "display_data"
    },
    {
     "name": "stdout",
     "output_type": "stream",
     "text": [
      "G:\\ICE\\数据下载测试\\2019\\ATL03\\extent_4\\ATL03_20191214124650_12010501_006_01.h5\n",
      "正在下载 ATL03_20191214124650_12010501_006_01.h5 到 G:\\ICE\\数据下载测试\\2019\\ATL03\\extent_4...\n"
     ]
    },
    {
     "data": {
      "application/vnd.jupyter.widget-view+json": {
       "model_id": "83f23eed27534a28aa1e08c17543f839",
       "version_major": 2,
       "version_minor": 0
      },
      "text/plain": [
       "QUEUEING TASKS | :   0%|          | 0/1 [00:00<?, ?it/s]"
      ]
     },
     "metadata": {},
     "output_type": "display_data"
    },
    {
     "data": {
      "application/vnd.jupyter.widget-view+json": {
       "model_id": "c02af1e60fc04e9c8c67dc59be5d65e6",
       "version_major": 2,
       "version_minor": 0
      },
      "text/plain": [
       "PROCESSING TASKS | :   0%|          | 0/1 [00:00<?, ?it/s]"
      ]
     },
     "metadata": {},
     "output_type": "display_data"
    },
    {
     "data": {
      "application/vnd.jupyter.widget-view+json": {
       "model_id": "6b3c2696136843cc965468d3e729d27a",
       "version_major": 2,
       "version_minor": 0
      },
      "text/plain": [
       "COLLECTING RESULTS | :   0%|          | 0/1 [00:00<?, ?it/s]"
      ]
     },
     "metadata": {},
     "output_type": "display_data"
    },
    {
     "name": "stdout",
     "output_type": "stream",
     "text": [
      "G:\\ICE\\数据下载测试\\2019\\ATL03\\extent_4\\ATL03_20191214125352_12010502_006_01.h5\n",
      "正在下载 ATL03_20191214125352_12010502_006_01.h5 到 G:\\ICE\\数据下载测试\\2019\\ATL03\\extent_4...\n"
     ]
    },
    {
     "data": {
      "application/vnd.jupyter.widget-view+json": {
       "model_id": "e775eec9513d4ca7aa1d89bbd8ce8177",
       "version_major": 2,
       "version_minor": 0
      },
      "text/plain": [
       "QUEUEING TASKS | :   0%|          | 0/1 [00:00<?, ?it/s]"
      ]
     },
     "metadata": {},
     "output_type": "display_data"
    },
    {
     "data": {
      "application/vnd.jupyter.widget-view+json": {
       "model_id": "13b61072551642fab685267db38ab920",
       "version_major": 2,
       "version_minor": 0
      },
      "text/plain": [
       "PROCESSING TASKS | :   0%|          | 0/1 [00:00<?, ?it/s]"
      ]
     },
     "metadata": {},
     "output_type": "display_data"
    },
    {
     "data": {
      "application/vnd.jupyter.widget-view+json": {
       "model_id": "6767d71c5f344be2b65eb0c2bcd22c4d",
       "version_major": 2,
       "version_minor": 0
      },
      "text/plain": [
       "COLLECTING RESULTS | :   0%|          | 0/1 [00:00<?, ?it/s]"
      ]
     },
     "metadata": {},
     "output_type": "display_data"
    },
    {
     "name": "stdout",
     "output_type": "stream",
     "text": [
      "G:\\ICE\\数据下载测试\\2019\\ATL03\\extent_4\\ATL03_20191218123832_12620501_006_01.h5\n",
      "正在下载 ATL03_20191218123832_12620501_006_01.h5 到 G:\\ICE\\数据下载测试\\2019\\ATL03\\extent_4...\n"
     ]
    },
    {
     "data": {
      "application/vnd.jupyter.widget-view+json": {
       "model_id": "0a372406b030413f9daec61fe0945473",
       "version_major": 2,
       "version_minor": 0
      },
      "text/plain": [
       "QUEUEING TASKS | :   0%|          | 0/1 [00:00<?, ?it/s]"
      ]
     },
     "metadata": {},
     "output_type": "display_data"
    },
    {
     "data": {
      "application/vnd.jupyter.widget-view+json": {
       "model_id": "00138738e4df43239ddd1f2832928936",
       "version_major": 2,
       "version_minor": 0
      },
      "text/plain": [
       "PROCESSING TASKS | :   0%|          | 0/1 [00:00<?, ?it/s]"
      ]
     },
     "metadata": {},
     "output_type": "display_data"
    },
    {
     "data": {
      "application/vnd.jupyter.widget-view+json": {
       "model_id": "ab5128cb74d3423198fa8c085eed5bbf",
       "version_major": 2,
       "version_minor": 0
      },
      "text/plain": [
       "COLLECTING RESULTS | :   0%|          | 0/1 [00:00<?, ?it/s]"
      ]
     },
     "metadata": {},
     "output_type": "display_data"
    },
    {
     "name": "stdout",
     "output_type": "stream",
     "text": [
      "G:\\ICE\\数据下载测试\\2019\\ATL03\\extent_4\\ATL03_20191218124534_12620502_006_01.h5\n",
      "正在下载 ATL03_20191218124534_12620502_006_01.h5 到 G:\\ICE\\数据下载测试\\2019\\ATL03\\extent_4...\n"
     ]
    },
    {
     "data": {
      "application/vnd.jupyter.widget-view+json": {
       "model_id": "06d558366fee44da82bf4c7be81d9188",
       "version_major": 2,
       "version_minor": 0
      },
      "text/plain": [
       "QUEUEING TASKS | :   0%|          | 0/1 [00:00<?, ?it/s]"
      ]
     },
     "metadata": {},
     "output_type": "display_data"
    },
    {
     "data": {
      "application/vnd.jupyter.widget-view+json": {
       "model_id": "14f3da015b334210930bc61ac1699e7b",
       "version_major": 2,
       "version_minor": 0
      },
      "text/plain": [
       "PROCESSING TASKS | :   0%|          | 0/1 [00:00<?, ?it/s]"
      ]
     },
     "metadata": {},
     "output_type": "display_data"
    },
    {
     "data": {
      "application/vnd.jupyter.widget-view+json": {
       "model_id": "8eacc252db9246dd8cf2f06cd5c97e92",
       "version_major": 2,
       "version_minor": 0
      },
      "text/plain": [
       "COLLECTING RESULTS | :   0%|          | 0/1 [00:00<?, ?it/s]"
      ]
     },
     "metadata": {},
     "output_type": "display_data"
    },
    {
     "name": "stdout",
     "output_type": "stream",
     "text": [
      "G:\\ICE\\数据下载测试\\2019\\ATL03\\extent_4\\ATL03_20191230001045_00500606_006_01.h5\n",
      "正在下载 ATL03_20191230001045_00500606_006_01.h5 到 G:\\ICE\\数据下载测试\\2019\\ATL03\\extent_4...\n"
     ]
    },
    {
     "data": {
      "application/vnd.jupyter.widget-view+json": {
       "model_id": "a6e9cc3f52d24780ab81e3e10a72d12b",
       "version_major": 2,
       "version_minor": 0
      },
      "text/plain": [
       "QUEUEING TASKS | :   0%|          | 0/1 [00:00<?, ?it/s]"
      ]
     },
     "metadata": {},
     "output_type": "display_data"
    },
    {
     "data": {
      "application/vnd.jupyter.widget-view+json": {
       "model_id": "793c261d36c147108204b4526168366c",
       "version_major": 2,
       "version_minor": 0
      },
      "text/plain": [
       "PROCESSING TASKS | :   0%|          | 0/1 [00:00<?, ?it/s]"
      ]
     },
     "metadata": {},
     "output_type": "display_data"
    },
    {
     "data": {
      "application/vnd.jupyter.widget-view+json": {
       "model_id": "5ea99660a4144ddbac3502e89f5a5bb1",
       "version_major": 2,
       "version_minor": 0
      },
      "text/plain": [
       "COLLECTING RESULTS | :   0%|          | 0/1 [00:00<?, ?it/s]"
      ]
     },
     "metadata": {},
     "output_type": "display_data"
    },
    {
     "name": "stdout",
     "output_type": "stream",
     "text": [
      "G:\\ICE\\数据下载测试\\2019\\ATL03\\extent_4\\ATL03_20191230001915_00500607_006_01.h5\n",
      "正在下载 ATL03_20191230001915_00500607_006_01.h5 到 G:\\ICE\\数据下载测试\\2019\\ATL03\\extent_4...\n"
     ]
    },
    {
     "data": {
      "application/vnd.jupyter.widget-view+json": {
       "model_id": "24ff31574ec04e63a777e2fa4de9871e",
       "version_major": 2,
       "version_minor": 0
      },
      "text/plain": [
       "QUEUEING TASKS | :   0%|          | 0/1 [00:00<?, ?it/s]"
      ]
     },
     "metadata": {},
     "output_type": "display_data"
    },
    {
     "data": {
      "application/vnd.jupyter.widget-view+json": {
       "model_id": "97c8e4ed84bf488988304d50a2bffc40",
       "version_major": 2,
       "version_minor": 0
      },
      "text/plain": [
       "PROCESSING TASKS | :   0%|          | 0/1 [00:00<?, ?it/s]"
      ]
     },
     "metadata": {},
     "output_type": "display_data"
    },
    {
     "data": {
      "application/vnd.jupyter.widget-view+json": {
       "model_id": "5f164025e9da4a0fb7e154a00e179074",
       "version_major": 2,
       "version_minor": 0
      },
      "text/plain": [
       "COLLECTING RESULTS | :   0%|          | 0/1 [00:00<?, ?it/s]"
      ]
     },
     "metadata": {},
     "output_type": "display_data"
    },
    {
     "name": "stdout",
     "output_type": "stream",
     "text": [
      "G:\\ICE\\数据下载测试\\2019\\ATL03\\extent_4\\ATL03_20190118043517_03170201_006_02.h5\n",
      "文件 ATL03_20190118043517_03170201_006_02.h5 已存在，大小匹配，跳过下载。\n",
      "G:\\ICE\\数据下载测试\\2019\\ATL03\\extent_4\\ATL03_20190118044219_03170202_006_02.h5\n",
      "文件 ATL03_20190118044219_03170202_006_02.h5 已存在，大小匹配，跳过下载。\n",
      "G:\\ICE\\数据下载测试\\2019\\ATL03\\extent_4\\ATL03_20190129160746_04920206_006_02.h5\n",
      "文件 ATL03_20190129160746_04920206_006_02.h5 已存在，大小匹配，跳过下载。\n",
      "G:\\ICE\\数据下载测试\\2019\\ATL03\\extent_4\\ATL03_20190129161617_04920207_006_02.h5\n",
      "文件 ATL03_20190129161617_04920207_006_02.h5 已存在，大小匹配，跳过下载。\n",
      "G:\\ICE\\数据下载测试\\2019\\ATL03\\extent_4\\ATL03_20190202155929_05530206_006_02.h5\n",
      "文件 ATL03_20190202155929_05530206_006_02.h5 已存在，大小匹配，跳过下载。\n",
      "G:\\ICE\\数据下载测试\\2019\\ATL03\\extent_4\\ATL03_20190202160759_05530207_006_02.h5\n",
      "文件 ATL03_20190202160759_05530207_006_02.h5 已存在，大小匹配，跳过下载。\n",
      "G:\\ICE\\数据下载测试\\2019\\ATL03\\extent_4\\ATL03_20190216031134_07590201_006_02.h5\n",
      "文件 ATL03_20190216031134_07590201_006_02.h5 已存在，大小匹配，跳过下载。\n",
      "G:\\ICE\\数据下载测试\\2019\\ATL03\\extent_4\\ATL03_20190216031836_07590202_006_02.h5\n",
      "文件 ATL03_20190216031836_07590202_006_02.h5 已存在，大小匹配，跳过下载。\n",
      "G:\\ICE\\数据下载测试\\2019\\ATL03\\extent_4\\ATL03_20190220030312_08200201_006_02.h5\n",
      "文件 ATL03_20190220030312_08200201_006_02.h5 已存在，大小匹配，跳过下载。\n",
      "G:\\ICE\\数据下载测试\\2019\\ATL03\\extent_4\\ATL03_20190227145218_09340207_006_02.h5\n",
      "文件 ATL03_20190227145218_09340207_006_02.h5 已存在，大小匹配，跳过下载。\n",
      "G:\\ICE\\数据下载测试\\2019\\ATL03\\extent_4\\ATL03_20190303143529_09950206_006_02.h5\n",
      "文件 ATL03_20190303143529_09950206_006_02.h5 已存在，大小匹配，跳过下载。\n",
      "G:\\ICE\\数据下载测试\\2019\\ATL03\\extent_4\\ATL03_20190303144359_09950207_006_02.h5\n",
      "文件 ATL03_20190303144359_09950207_006_02.h5 已存在，大小匹配，跳过下载。\n",
      "G:\\ICE\\数据下载测试\\2019\\ATL03\\extent_4\\ATL03_20190317014737_12010201_006_02.h5\n",
      "文件 ATL03_20190317014737_12010201_006_02.h5 已存在，大小匹配，跳过下载。\n",
      "G:\\ICE\\数据下载测试\\2019\\ATL03\\extent_4\\ATL03_20190317015439_12010202_006_02.h5\n",
      "文件 ATL03_20190317015439_12010202_006_02.h5 已存在，大小匹配，跳过下载。\n",
      "G:\\ICE\\数据下载测试\\2019\\ATL03\\extent_4\\ATL03_20190321013916_12620201_006_02.h5\n",
      "文件 ATL03_20190321013916_12620201_006_02.h5 已存在，大小匹配，跳过下载。\n",
      "G:\\ICE\\数据下载测试\\2019\\ATL03\\extent_4\\ATL03_20190321014618_12620202_006_02.h5\n",
      "文件 ATL03_20190321014618_12620202_006_02.h5 已存在，大小匹配，跳过下载。\n",
      "G:\\ICE\\数据下载测试\\2019\\ATL03\\extent_4\\ATL03_20190401131128_00500306_006_02.h5\n",
      "文件 ATL03_20190401131128_00500306_006_02.h5 已存在，大小匹配，跳过下载。\n",
      "G:\\ICE\\数据下载测试\\2019\\ATL03\\extent_4\\ATL03_20190401131958_00500307_006_02.h5\n",
      "文件 ATL03_20190401131958_00500307_006_02.h5 已存在，大小匹配，跳过下载。\n",
      "G:\\ICE\\数据下载测试\\2019\\ATL03\\extent_4\\ATL03_20190419001514_03170301_006_02.h5\n",
      "文件 ATL03_20190419001514_03170301_006_02.h5 已存在，大小匹配，跳过下载。\n",
      "G:\\ICE\\数据下载测试\\2019\\ATL03\\extent_4\\ATL03_20190419002216_03170302_006_02.h5\n",
      "文件 ATL03_20190419002216_03170302_006_02.h5 已存在，大小匹配，跳过下载。\n",
      "G:\\ICE\\数据下载测试\\2019\\ATL03\\extent_4\\ATL03_20190430114726_04920306_006_02.h5\n",
      "文件 ATL03_20190430114726_04920306_006_02.h5 已存在，大小匹配，跳过下载。\n",
      "G:\\ICE\\数据下载测试\\2019\\ATL03\\extent_4\\ATL03_20190430115556_04920307_006_02.h5\n",
      "文件 ATL03_20190430115556_04920307_006_02.h5 已存在，大小匹配，跳过下载。\n",
      "G:\\ICE\\数据下载测试\\2019\\ATL03\\extent_4\\ATL03_20190504113906_05530306_006_02.h5\n",
      "文件 ATL03_20190504113906_05530306_006_02.h5 已存在，大小匹配，跳过下载。\n",
      "G:\\ICE\\数据下载测试\\2019\\ATL03\\extent_4\\ATL03_20190504114736_05530307_006_02.h5\n",
      "文件 ATL03_20190504114736_05530307_006_02.h5 已存在，大小匹配，跳过下载。\n",
      "G:\\ICE\\数据下载测试\\2019\\ATL03\\extent_4\\ATL03_20190517225112_07590301_006_02.h5\n",
      "文件 ATL03_20190517225112_07590301_006_02.h5 已存在，大小匹配，跳过下载。\n",
      "G:\\ICE\\数据下载测试\\2019\\ATL03\\extent_4\\ATL03_20190517225814_07590302_006_02.h5\n",
      "文件 ATL03_20190517225814_07590302_006_02.h5 已存在，大小匹配，跳过下载。\n",
      "G:\\ICE\\数据下载测试\\2019\\ATL03\\extent_4\\ATL03_20190521224251_08200301_006_02.h5\n",
      "文件 ATL03_20190521224251_08200301_006_02.h5 已存在，大小匹配，跳过下载。\n",
      "G:\\ICE\\数据下载测试\\2019\\ATL03\\extent_4\\ATL03_20190529102323_09340306_006_02.h5\n",
      "文件 ATL03_20190529102323_09340306_006_02.h5 已存在，大小匹配，跳过下载。\n",
      "G:\\ICE\\数据下载测试\\2019\\ATL03\\extent_4\\ATL03_20190529103154_09340307_006_02.h5\n",
      "文件 ATL03_20190529103154_09340307_006_02.h5 已存在，大小匹配，跳过下载。\n",
      "G:\\ICE\\数据下载测试\\2019\\ATL03\\extent_4\\ATL03_20190602101503_09950306_006_02.h5\n",
      "文件 ATL03_20190602101503_09950306_006_02.h5 大小不匹配，重新下载。\n",
      "正在下载 ATL03_20190602101503_09950306_006_02.h5 到 G:\\ICE\\数据下载测试\\2019\\ATL03\\extent_4...\n"
     ]
    },
    {
     "data": {
      "application/vnd.jupyter.widget-view+json": {
       "model_id": "4d8117af8fbb49f39928c415f5eb82f4",
       "version_major": 2,
       "version_minor": 0
      },
      "text/plain": [
       "QUEUEING TASKS | :   0%|          | 0/1 [00:00<?, ?it/s]"
      ]
     },
     "metadata": {},
     "output_type": "display_data"
    },
    {
     "data": {
      "application/vnd.jupyter.widget-view+json": {
       "model_id": "521d56c97cf3423391d282f839d2aec5",
       "version_major": 2,
       "version_minor": 0
      },
      "text/plain": [
       "PROCESSING TASKS | :   0%|          | 0/1 [00:00<?, ?it/s]"
      ]
     },
     "metadata": {},
     "output_type": "display_data"
    },
    {
     "data": {
      "application/vnd.jupyter.widget-view+json": {
       "model_id": "7213f15fdd624d68b49576af94d6ff95",
       "version_major": 2,
       "version_minor": 0
      },
      "text/plain": [
       "COLLECTING RESULTS | :   0%|          | 0/1 [00:00<?, ?it/s]"
      ]
     },
     "metadata": {},
     "output_type": "display_data"
    },
    {
     "name": "stdout",
     "output_type": "stream",
     "text": [
      "G:\\ICE\\数据下载测试\\2019\\ATL03\\extent_4\\ATL03_20190602102333_09950307_006_02.h5\n",
      "文件 ATL03_20190602102333_09950307_006_02.h5 已存在，大小匹配，跳过下载。\n",
      "G:\\ICE\\数据下载测试\\2019\\ATL03\\extent_4\\ATL03_20190615212712_12010301_006_02.h5\n",
      "文件 ATL03_20190615212712_12010301_006_02.h5 已存在，大小匹配，跳过下载。\n",
      "G:\\ICE\\数据下载测试\\2019\\ATL03\\extent_4\\ATL03_20190615213414_12010302_006_02.h5\n",
      "文件 ATL03_20190615213414_12010302_006_02.h5 已存在，大小匹配，跳过下载。\n",
      "G:\\ICE\\数据下载测试\\2019\\ATL03\\extent_4\\ATL03_20190619211852_12620301_006_02.h5\n",
      "文件 ATL03_20190619211852_12620301_006_02.h5 已存在，大小匹配，跳过下载。\n",
      "G:\\ICE\\数据下载测试\\2019\\ATL03\\extent_4\\ATL03_20190619212554_12620302_006_02.h5\n",
      "文件 ATL03_20190619212554_12620302_006_02.h5 已存在，大小匹配，跳过下载。\n",
      "G:\\ICE\\数据下载测试\\2019\\ATL03\\extent_4\\ATL03_20190718195445_03170401_006_02.h5\n",
      "文件 ATL03_20190718195445_03170401_006_02.h5 已存在，大小匹配，跳过下载。\n",
      "G:\\ICE\\数据下载测试\\2019\\ATL03\\extent_4\\ATL03_20190718200147_03170402_006_02.h5\n",
      "文件 ATL03_20190718200147_03170402_006_02.h5 已存在，大小匹配，跳过下载。\n",
      "G:\\ICE\\数据下载测试\\2019\\ATL03\\extent_4\\ATL03_20190730072706_04920406_006_02.h5\n",
      "文件 ATL03_20190730072706_04920406_006_02.h5 已存在，大小匹配，跳过下载。\n",
      "G:\\ICE\\数据下载测试\\2019\\ATL03\\extent_4\\ATL03_20190730073536_04920407_006_02.h5\n",
      "文件 ATL03_20190730073536_04920407_006_02.h5 已存在，大小匹配，跳过下载。\n",
      "G:\\ICE\\数据下载测试\\2019\\ATL03\\extent_4\\ATL03_20190816183057_07590401_006_02.h5\n",
      "文件 ATL03_20190816183057_07590401_006_02.h5 已存在，大小匹配，跳过下载。\n",
      "G:\\ICE\\数据下载测试\\2019\\ATL03\\extent_4\\ATL03_20190816183759_07590402_006_02.h5\n",
      "文件 ATL03_20190816183759_07590402_006_02.h5 已存在，大小匹配，跳过下载。\n",
      "G:\\ICE\\数据下载测试\\2019\\ATL03\\extent_4\\ATL03_20190828060312_09340406_006_02.h5\n",
      "文件 ATL03_20190828060312_09340406_006_02.h5 已存在，大小匹配，跳过下载。\n",
      "G:\\ICE\\数据下载测试\\2019\\ATL03\\extent_4\\ATL03_20190828061142_09340407_006_02.h5\n",
      "文件 ATL03_20190828061142_09340407_006_02.h5 已存在，大小匹配，跳过下载。\n",
      "G:\\ICE\\数据下载测试\\2019\\ATL03\\extent_4\\ATL03_20190901055453_09950406_006_02.h5\n",
      "文件 ATL03_20190901055453_09950406_006_02.h5 已存在，大小匹配，跳过下载。\n",
      "G:\\ICE\\数据下载测试\\2019\\ATL03\\extent_4\\ATL03_20190901060323_09950407_006_02.h5\n",
      "文件 ATL03_20190901060323_09950407_006_02.h5 已存在，大小匹配，跳过下载。\n",
      "G:\\ICE\\数据下载测试\\2019\\ATL03\\extent_4\\ATL03_20190914170702_12010401_006_02.h5\n",
      "文件 ATL03_20190914170702_12010401_006_02.h5 已存在，大小匹配，跳过下载。\n",
      "G:\\ICE\\数据下载测试\\2019\\ATL03\\extent_4\\ATL03_20190914171404_12010402_006_02.h5\n",
      "文件 ATL03_20190914171404_12010402_006_02.h5 已存在，大小匹配，跳过下载。\n",
      "G:\\ICE\\数据下载测试\\2019\\ATL03\\extent_4\\ATL03_20190918165843_12620401_006_02.h5\n",
      "文件 ATL03_20190918165843_12620401_006_02.h5 已存在，大小匹配，跳过下载。\n",
      "G:\\ICE\\数据下载测试\\2019\\ATL03\\extent_4\\ATL03_20190918170545_12620402_006_02.h5\n",
      "文件 ATL03_20190918170545_12620402_006_02.h5 已存在，大小匹配，跳过下载。\n",
      "G:\\ICE\\数据下载测试\\2019\\ATL03\\extent_4\\ATL03_20190926044748_13760407_006_02.h5\n",
      "文件 ATL03_20190926044748_13760407_006_02.h5 已存在，大小匹配，跳过下载。\n",
      "G:\\ICE\\数据下载测试\\2019\\ATL03\\extent_4\\ATL03_20190930043058_00500506_006_02.h5\n",
      "文件 ATL03_20190930043058_00500506_006_02.h5 已存在，大小匹配，跳过下载。\n",
      "G:\\ICE\\数据下载测试\\2019\\ATL03\\extent_4\\ATL03_20190930043928_00500507_006_02.h5\n",
      "文件 ATL03_20190930043928_00500507_006_02.h5 已存在，大小匹配，跳过下载。\n",
      "G:\\ICE\\数据下载测试\\2019\\ATL03\\extent_4\\ATL03_20191013154308_02560501_006_02.h5\n",
      "文件 ATL03_20191013154308_02560501_006_02.h5 已存在，大小匹配，跳过下载。\n",
      "G:\\ICE\\数据下载测试\\2019\\ATL03\\extent_4\\ATL03_20191013155010_02560502_006_02.h5\n",
      "文件 ATL03_20191013155010_02560502_006_02.h5 已存在，大小匹配，跳过下载。\n",
      "G:\\ICE\\数据下载测试\\2019\\ATL03\\extent_4\\ATL03_20191017153447_03170501_006_02.h5\n",
      "文件 ATL03_20191017153447_03170501_006_02.h5 已存在，大小匹配，跳过下载。\n",
      "G:\\ICE\\数据下载测试\\2019\\ATL03\\extent_4\\ATL03_20191017154149_03170502_006_02.h5\n",
      "文件 ATL03_20191017154149_03170502_006_02.h5 已存在，大小匹配，跳过下载。\n",
      "G:\\ICE\\数据下载测试\\2019\\ATL03\\extent_4\\ATL03_20191029030702_04920506_006_01.h5\n",
      "文件 ATL03_20191029030702_04920506_006_01.h5 已存在，大小匹配，跳过下载。\n",
      "G:\\ICE\\数据下载测试\\2019\\ATL03\\extent_4\\ATL03_20191029031532_04920507_006_01.h5\n",
      "文件 ATL03_20191029031532_04920507_006_01.h5 已存在，大小匹配，跳过下载。\n",
      "G:\\ICE\\数据下载测试\\2019\\ATL03\\extent_4\\ATL03_20191102025841_05530506_006_01.h5\n",
      "文件 ATL03_20191102025841_05530506_006_01.h5 已存在，大小匹配，跳过下载。\n",
      "G:\\ICE\\数据下载测试\\2019\\ATL03\\extent_4\\ATL03_20191102030711_05530507_006_01.h5\n",
      "文件 ATL03_20191102030711_05530507_006_01.h5 已存在，大小匹配，跳过下载。\n",
      "G:\\ICE\\数据下载测试\\2019\\ATL03\\extent_4\\ATL03_20191127015134_09340507_006_01.h5\n",
      "文件 ATL03_20191127015134_09340507_006_01.h5 已存在，大小匹配，跳过下载。\n",
      "G:\\ICE\\数据下载测试\\2019\\ATL03\\extent_4\\ATL03_20191201013443_09950506_006_01.h5\n",
      "文件 ATL03_20191201013443_09950506_006_01.h5 已存在，大小匹配，跳过下载。\n",
      "G:\\ICE\\数据下载测试\\2019\\ATL03\\extent_4\\ATL03_20191201014313_09950507_006_01.h5\n",
      "文件 ATL03_20191201014313_09950507_006_01.h5 已存在，大小匹配，跳过下载。\n",
      "G:\\ICE\\数据下载测试\\2019\\ATL03\\extent_4\\ATL03_20191214124650_12010501_006_01.h5\n",
      "文件 ATL03_20191214124650_12010501_006_01.h5 已存在，大小匹配，跳过下载。\n",
      "G:\\ICE\\数据下载测试\\2019\\ATL03\\extent_4\\ATL03_20191214125352_12010502_006_01.h5\n",
      "文件 ATL03_20191214125352_12010502_006_01.h5 已存在，大小匹配，跳过下载。\n",
      "G:\\ICE\\数据下载测试\\2019\\ATL03\\extent_4\\ATL03_20191218123832_12620501_006_01.h5\n",
      "文件 ATL03_20191218123832_12620501_006_01.h5 已存在，大小匹配，跳过下载。\n",
      "G:\\ICE\\数据下载测试\\2019\\ATL03\\extent_4\\ATL03_20191218124534_12620502_006_01.h5\n",
      "文件 ATL03_20191218124534_12620502_006_01.h5 已存在，大小匹配，跳过下载。\n",
      "G:\\ICE\\数据下载测试\\2019\\ATL03\\extent_4\\ATL03_20191230001045_00500606_006_01.h5\n",
      "文件 ATL03_20191230001045_00500606_006_01.h5 已存在，大小匹配，跳过下载。\n",
      "G:\\ICE\\数据下载测试\\2019\\ATL03\\extent_4\\ATL03_20191230001915_00500607_006_01.h5\n",
      "文件 ATL03_20191230001915_00500607_006_01.h5 已存在，大小匹配，跳过下载。\n",
      "处理ID= 5 的 extent...\n",
      "查询结果的总大小：322.25 GB\n",
      "文件数量为: 138\n",
      "G:\\ICE\\数据下载测试\\2019\\ATL03\\extent_5\\ATL03_20190105165737_01260206_006_02.h5\n",
      "正在下载 ATL03_20190105165737_01260206_006_02.h5 到 G:\\ICE\\数据下载测试\\2019\\ATL03\\extent_5...\n"
     ]
    },
    {
     "data": {
      "application/vnd.jupyter.widget-view+json": {
       "model_id": "e00661f77e954d88a34cc76c8b530601",
       "version_major": 2,
       "version_minor": 0
      },
      "text/plain": [
       "QUEUEING TASKS | :   0%|          | 0/1 [00:00<?, ?it/s]"
      ]
     },
     "metadata": {},
     "output_type": "display_data"
    },
    {
     "data": {
      "application/vnd.jupyter.widget-view+json": {
       "model_id": "666a4cc946174b1ca6a6ef329cb47050",
       "version_major": 2,
       "version_minor": 0
      },
      "text/plain": [
       "PROCESSING TASKS | :   0%|          | 0/1 [00:00<?, ?it/s]"
      ]
     },
     "metadata": {},
     "output_type": "display_data"
    },
    {
     "data": {
      "application/vnd.jupyter.widget-view+json": {
       "model_id": "98e991930f804587b07893bf62b69497",
       "version_major": 2,
       "version_minor": 0
      },
      "text/plain": [
       "COLLECTING RESULTS | :   0%|          | 0/1 [00:00<?, ?it/s]"
      ]
     },
     "metadata": {},
     "output_type": "display_data"
    },
    {
     "name": "stdout",
     "output_type": "stream",
     "text": [
      "G:\\ICE\\数据下载测试\\2019\\ATL03\\extent_5\\ATL03_20190105170607_01260207_006_02.h5\n",
      "正在下载 ATL03_20190105170607_01260207_006_02.h5 到 G:\\ICE\\数据下载测试\\2019\\ATL03\\extent_5...\n"
     ]
    },
    {
     "data": {
      "application/vnd.jupyter.widget-view+json": {
       "model_id": "f0f02220fb784d66a3790f0f8e1a720f",
       "version_major": 2,
       "version_minor": 0
      },
      "text/plain": [
       "QUEUEING TASKS | :   0%|          | 0/1 [00:00<?, ?it/s]"
      ]
     },
     "metadata": {},
     "output_type": "display_data"
    },
    {
     "data": {
      "application/vnd.jupyter.widget-view+json": {
       "model_id": "f446ad3b4f734d5282b5932974884fcd",
       "version_major": 2,
       "version_minor": 0
      },
      "text/plain": [
       "PROCESSING TASKS | :   0%|          | 0/1 [00:00<?, ?it/s]"
      ]
     },
     "metadata": {},
     "output_type": "display_data"
    },
    {
     "data": {
      "application/vnd.jupyter.widget-view+json": {
       "model_id": "84eb3c98fbad4275bc9c7fcc654cb08c",
       "version_major": 2,
       "version_minor": 0
      },
      "text/plain": [
       "COLLECTING RESULTS | :   0%|          | 0/1 [00:00<?, ?it/s]"
      ]
     },
     "metadata": {},
     "output_type": "display_data"
    },
    {
     "name": "stdout",
     "output_type": "stream",
     "text": [
      "G:\\ICE\\数据下载测试\\2019\\ATL03\\extent_5\\ATL03_20190123040127_03930201_006_02.h5\n",
      "正在下载 ATL03_20190123040127_03930201_006_02.h5 到 G:\\ICE\\数据下载测试\\2019\\ATL03\\extent_5...\n"
     ]
    },
    {
     "data": {
      "application/vnd.jupyter.widget-view+json": {
       "model_id": "0aa676bc71514534bdc5d95de8a5f394",
       "version_major": 2,
       "version_minor": 0
      },
      "text/plain": [
       "QUEUEING TASKS | :   0%|          | 0/1 [00:00<?, ?it/s]"
      ]
     },
     "metadata": {},
     "output_type": "display_data"
    },
    {
     "data": {
      "application/vnd.jupyter.widget-view+json": {
       "model_id": "56241db0753e44eaa03472d1d45dd0c8",
       "version_major": 2,
       "version_minor": 0
      },
      "text/plain": [
       "PROCESSING TASKS | :   0%|          | 0/1 [00:00<?, ?it/s]"
      ]
     },
     "metadata": {},
     "output_type": "display_data"
    },
    {
     "data": {
      "application/vnd.jupyter.widget-view+json": {
       "model_id": "ddfae86f7ab44844b7af1bf7731866c1",
       "version_major": 2,
       "version_minor": 0
      },
      "text/plain": [
       "COLLECTING RESULTS | :   0%|          | 0/1 [00:00<?, ?it/s]"
      ]
     },
     "metadata": {},
     "output_type": "display_data"
    },
    {
     "name": "stdout",
     "output_type": "stream",
     "text": [
      "G:\\ICE\\数据下载测试\\2019\\ATL03\\extent_5\\ATL03_20190123040829_03930202_006_02.h5\n",
      "正在下载 ATL03_20190123040829_03930202_006_02.h5 到 G:\\ICE\\数据下载测试\\2019\\ATL03\\extent_5...\n"
     ]
    },
    {
     "data": {
      "application/vnd.jupyter.widget-view+json": {
       "model_id": "16089f8b41614e51bdffd2390c203e70",
       "version_major": 2,
       "version_minor": 0
      },
      "text/plain": [
       "QUEUEING TASKS | :   0%|          | 0/1 [00:00<?, ?it/s]"
      ]
     },
     "metadata": {},
     "output_type": "display_data"
    },
    {
     "data": {
      "application/vnd.jupyter.widget-view+json": {
       "model_id": "bde3d5ca1a284a728adbc9f9787da37f",
       "version_major": 2,
       "version_minor": 0
      },
      "text/plain": [
       "PROCESSING TASKS | :   0%|          | 0/1 [00:00<?, ?it/s]"
      ]
     },
     "metadata": {},
     "output_type": "display_data"
    },
    {
     "data": {
      "application/vnd.jupyter.widget-view+json": {
       "model_id": "002d26b15ea64bc29229ae632624bbf1",
       "version_major": 2,
       "version_minor": 0
      },
      "text/plain": [
       "COLLECTING RESULTS | :   0%|          | 0/1 [00:00<?, ?it/s]"
      ]
     },
     "metadata": {},
     "output_type": "display_data"
    },
    {
     "name": "stdout",
     "output_type": "stream",
     "text": [
      "G:\\ICE\\数据下载测试\\2019\\ATL03\\extent_5\\ATL03_20190203153350_05680206_006_02.h5\n",
      "正在下载 ATL03_20190203153350_05680206_006_02.h5 到 G:\\ICE\\数据下载测试\\2019\\ATL03\\extent_5...\n"
     ]
    },
    {
     "data": {
      "application/vnd.jupyter.widget-view+json": {
       "model_id": "07a2d1024d854bef9c565492828e353c",
       "version_major": 2,
       "version_minor": 0
      },
      "text/plain": [
       "QUEUEING TASKS | :   0%|          | 0/1 [00:00<?, ?it/s]"
      ]
     },
     "metadata": {},
     "output_type": "display_data"
    },
    {
     "data": {
      "application/vnd.jupyter.widget-view+json": {
       "model_id": "d7e8185a07c34e22b413f892a17ca3a8",
       "version_major": 2,
       "version_minor": 0
      },
      "text/plain": [
       "PROCESSING TASKS | :   0%|          | 0/1 [00:00<?, ?it/s]"
      ]
     },
     "metadata": {},
     "output_type": "display_data"
    },
    {
     "data": {
      "application/vnd.jupyter.widget-view+json": {
       "model_id": "273f87b1f2564f70b16d8e8469177734",
       "version_major": 2,
       "version_minor": 0
      },
      "text/plain": [
       "COLLECTING RESULTS | :   0%|          | 0/1 [00:00<?, ?it/s]"
      ]
     },
     "metadata": {},
     "output_type": "display_data"
    },
    {
     "name": "stdout",
     "output_type": "stream",
     "text": [
      "G:\\ICE\\数据下载测试\\2019\\ATL03\\extent_5\\ATL03_20190203154220_05680207_006_02.h5\n",
      "正在下载 ATL03_20190203154220_05680207_006_02.h5 到 G:\\ICE\\数据下载测试\\2019\\ATL03\\extent_5...\n"
     ]
    },
    {
     "data": {
      "application/vnd.jupyter.widget-view+json": {
       "model_id": "16cc2ecafdf64d51beb7b1feb59a624d",
       "version_major": 2,
       "version_minor": 0
      },
      "text/plain": [
       "QUEUEING TASKS | :   0%|          | 0/1 [00:00<?, ?it/s]"
      ]
     },
     "metadata": {},
     "output_type": "display_data"
    },
    {
     "data": {
      "application/vnd.jupyter.widget-view+json": {
       "model_id": "62fc4df3c5d641648084e10e24dc8021",
       "version_major": 2,
       "version_minor": 0
      },
      "text/plain": [
       "PROCESSING TASKS | :   0%|          | 0/1 [00:00<?, ?it/s]"
      ]
     },
     "metadata": {},
     "output_type": "display_data"
    },
    {
     "data": {
      "application/vnd.jupyter.widget-view+json": {
       "model_id": "450573d5c8a44370a6303dbed4452ace",
       "version_major": 2,
       "version_minor": 0
      },
      "text/plain": [
       "COLLECTING RESULTS | :   0%|          | 0/1 [00:00<?, ?it/s]"
      ]
     },
     "metadata": {},
     "output_type": "display_data"
    },
    {
     "name": "stdout",
     "output_type": "stream",
     "text": [
      "G:\\ICE\\数据下载测试\\2019\\ATL03\\extent_5\\ATL03_20190207152529_06290206_006_02.h5\n",
      "正在下载 ATL03_20190207152529_06290206_006_02.h5 到 G:\\ICE\\数据下载测试\\2019\\ATL03\\extent_5...\n"
     ]
    },
    {
     "data": {
      "application/vnd.jupyter.widget-view+json": {
       "model_id": "ae8dd331c04b4cfda197032edb4817a1",
       "version_major": 2,
       "version_minor": 0
      },
      "text/plain": [
       "QUEUEING TASKS | :   0%|          | 0/1 [00:00<?, ?it/s]"
      ]
     },
     "metadata": {},
     "output_type": "display_data"
    },
    {
     "data": {
      "application/vnd.jupyter.widget-view+json": {
       "model_id": "e0418853edd94873bb369ff169623d91",
       "version_major": 2,
       "version_minor": 0
      },
      "text/plain": [
       "PROCESSING TASKS | :   0%|          | 0/1 [00:00<?, ?it/s]"
      ]
     },
     "metadata": {},
     "output_type": "display_data"
    },
    {
     "data": {
      "application/vnd.jupyter.widget-view+json": {
       "model_id": "46e992afb7d64a6a84fa38f52b7eec8c",
       "version_major": 2,
       "version_minor": 0
      },
      "text/plain": [
       "COLLECTING RESULTS | :   0%|          | 0/1 [00:00<?, ?it/s]"
      ]
     },
     "metadata": {},
     "output_type": "display_data"
    },
    {
     "name": "stdout",
     "output_type": "stream",
     "text": [
      "G:\\ICE\\数据下载测试\\2019\\ATL03\\extent_5\\ATL03_20190207153359_06290207_006_02.h5\n",
      "正在下载 ATL03_20190207153359_06290207_006_02.h5 到 G:\\ICE\\数据下载测试\\2019\\ATL03\\extent_5...\n"
     ]
    },
    {
     "data": {
      "application/vnd.jupyter.widget-view+json": {
       "model_id": "e19b041d8bc64431b64d474bc6c1c3cf",
       "version_major": 2,
       "version_minor": 0
      },
      "text/plain": [
       "QUEUEING TASKS | :   0%|          | 0/1 [00:00<?, ?it/s]"
      ]
     },
     "metadata": {},
     "output_type": "display_data"
    },
    {
     "data": {
      "application/vnd.jupyter.widget-view+json": {
       "model_id": "8dd8861974e44176818fd649fe92dc31",
       "version_major": 2,
       "version_minor": 0
      },
      "text/plain": [
       "PROCESSING TASKS | :   0%|          | 0/1 [00:00<?, ?it/s]"
      ]
     },
     "metadata": {},
     "output_type": "display_data"
    },
    {
     "data": {
      "application/vnd.jupyter.widget-view+json": {
       "model_id": "2cce397f14d2454eb18e2d1cc4a10b7b",
       "version_major": 2,
       "version_minor": 0
      },
      "text/plain": [
       "COLLECTING RESULTS | :   0%|          | 0/1 [00:00<?, ?it/s]"
      ]
     },
     "metadata": {},
     "output_type": "display_data"
    },
    {
     "name": "stdout",
     "output_type": "stream",
     "text": [
      "G:\\ICE\\数据下载测试\\2019\\ATL03\\extent_5\\ATL03_20190221023734_08350201_006_02.h5\n",
      "正在下载 ATL03_20190221023734_08350201_006_02.h5 到 G:\\ICE\\数据下载测试\\2019\\ATL03\\extent_5...\n"
     ]
    },
    {
     "data": {
      "application/vnd.jupyter.widget-view+json": {
       "model_id": "87e158d18a0f4f758d5814851ebf604f",
       "version_major": 2,
       "version_minor": 0
      },
      "text/plain": [
       "QUEUEING TASKS | :   0%|          | 0/1 [00:00<?, ?it/s]"
      ]
     },
     "metadata": {},
     "output_type": "display_data"
    },
    {
     "data": {
      "application/vnd.jupyter.widget-view+json": {
       "model_id": "24b01b33539f488fa0f0c04cf307da72",
       "version_major": 2,
       "version_minor": 0
      },
      "text/plain": [
       "PROCESSING TASKS | :   0%|          | 0/1 [00:00<?, ?it/s]"
      ]
     },
     "metadata": {},
     "output_type": "display_data"
    },
    {
     "data": {
      "application/vnd.jupyter.widget-view+json": {
       "model_id": "a6c99e1ab94a4af788a6390294e2ba08",
       "version_major": 2,
       "version_minor": 0
      },
      "text/plain": [
       "COLLECTING RESULTS | :   0%|          | 0/1 [00:00<?, ?it/s]"
      ]
     },
     "metadata": {},
     "output_type": "display_data"
    },
    {
     "name": "stdout",
     "output_type": "stream",
     "text": [
      "G:\\ICE\\数据下载测试\\2019\\ATL03\\extent_5\\ATL03_20190221024436_08350202_006_02.h5\n",
      "正在下载 ATL03_20190221024436_08350202_006_02.h5 到 G:\\ICE\\数据下载测试\\2019\\ATL03\\extent_5...\n"
     ]
    },
    {
     "data": {
      "application/vnd.jupyter.widget-view+json": {
       "model_id": "29549953607147b695b685afe860b342",
       "version_major": 2,
       "version_minor": 0
      },
      "text/plain": [
       "QUEUEING TASKS | :   0%|          | 0/1 [00:00<?, ?it/s]"
      ]
     },
     "metadata": {},
     "output_type": "display_data"
    },
    {
     "data": {
      "application/vnd.jupyter.widget-view+json": {
       "model_id": "d05d20bc70c745a7bdd6274ad63460dd",
       "version_major": 2,
       "version_minor": 0
      },
      "text/plain": [
       "PROCESSING TASKS | :   0%|          | 0/1 [00:00<?, ?it/s]"
      ]
     },
     "metadata": {},
     "output_type": "display_data"
    },
    {
     "data": {
      "application/vnd.jupyter.widget-view+json": {
       "model_id": "a31f82c5a23948b8b3df6e394e63d0a3",
       "version_major": 2,
       "version_minor": 0
      },
      "text/plain": [
       "COLLECTING RESULTS | :   0%|          | 0/1 [00:00<?, ?it/s]"
      ]
     },
     "metadata": {},
     "output_type": "display_data"
    },
    {
     "name": "stdout",
     "output_type": "stream",
     "text": [
      "G:\\ICE\\数据下载测试\\2019\\ATL03\\extent_5\\ATL03_20190304140950_10100206_006_02.h5\n",
      "正在下载 ATL03_20190304140950_10100206_006_02.h5 到 G:\\ICE\\数据下载测试\\2019\\ATL03\\extent_5...\n"
     ]
    },
    {
     "data": {
      "application/vnd.jupyter.widget-view+json": {
       "model_id": "6b15d787d4b84d20b582b0f7b6d39174",
       "version_major": 2,
       "version_minor": 0
      },
      "text/plain": [
       "QUEUEING TASKS | :   0%|          | 0/1 [00:00<?, ?it/s]"
      ]
     },
     "metadata": {},
     "output_type": "display_data"
    },
    {
     "data": {
      "application/vnd.jupyter.widget-view+json": {
       "model_id": "28e7457e961b4794b57d3b0759353db2",
       "version_major": 2,
       "version_minor": 0
      },
      "text/plain": [
       "PROCESSING TASKS | :   0%|          | 0/1 [00:00<?, ?it/s]"
      ]
     },
     "metadata": {},
     "output_type": "display_data"
    },
    {
     "data": {
      "application/vnd.jupyter.widget-view+json": {
       "model_id": "a01bffb4c43e4390b492490cccd721ba",
       "version_major": 2,
       "version_minor": 0
      },
      "text/plain": [
       "COLLECTING RESULTS | :   0%|          | 0/1 [00:00<?, ?it/s]"
      ]
     },
     "metadata": {},
     "output_type": "display_data"
    },
    {
     "name": "stdout",
     "output_type": "stream",
     "text": [
      "G:\\ICE\\数据下载测试\\2019\\ATL03\\extent_5\\ATL03_20190304141820_10100207_006_02.h5\n",
      "正在下载 ATL03_20190304141820_10100207_006_02.h5 到 G:\\ICE\\数据下载测试\\2019\\ATL03\\extent_5...\n"
     ]
    },
    {
     "data": {
      "application/vnd.jupyter.widget-view+json": {
       "model_id": "303a0e8846ea44b9a687bffa09d2ff56",
       "version_major": 2,
       "version_minor": 0
      },
      "text/plain": [
       "QUEUEING TASKS | :   0%|          | 0/1 [00:00<?, ?it/s]"
      ]
     },
     "metadata": {},
     "output_type": "display_data"
    },
    {
     "data": {
      "application/vnd.jupyter.widget-view+json": {
       "model_id": "f2805e3f8b244b3bbaef648071204c0e",
       "version_major": 2,
       "version_minor": 0
      },
      "text/plain": [
       "PROCESSING TASKS | :   0%|          | 0/1 [00:00<?, ?it/s]"
      ]
     },
     "metadata": {},
     "output_type": "display_data"
    },
    {
     "data": {
      "application/vnd.jupyter.widget-view+json": {
       "model_id": "8997db3987d94283b2181a087c7090c7",
       "version_major": 2,
       "version_minor": 0
      },
      "text/plain": [
       "COLLECTING RESULTS | :   0%|          | 0/1 [00:00<?, ?it/s]"
      ]
     },
     "metadata": {},
     "output_type": "display_data"
    },
    {
     "name": "stdout",
     "output_type": "stream",
     "text": [
      "G:\\ICE\\数据下载测试\\2019\\ATL03\\extent_5\\ATL03_20190308140129_10710206_006_02.h5\n",
      "正在下载 ATL03_20190308140129_10710206_006_02.h5 到 G:\\ICE\\数据下载测试\\2019\\ATL03\\extent_5...\n"
     ]
    },
    {
     "data": {
      "application/vnd.jupyter.widget-view+json": {
       "model_id": "74a4019c5d9f4cdb81ca46d9f1c34841",
       "version_major": 2,
       "version_minor": 0
      },
      "text/plain": [
       "QUEUEING TASKS | :   0%|          | 0/1 [00:00<?, ?it/s]"
      ]
     },
     "metadata": {},
     "output_type": "display_data"
    },
    {
     "data": {
      "application/vnd.jupyter.widget-view+json": {
       "model_id": "a35fb1e6432345fabfefb3c1c1667e80",
       "version_major": 2,
       "version_minor": 0
      },
      "text/plain": [
       "PROCESSING TASKS | :   0%|          | 0/1 [00:00<?, ?it/s]"
      ]
     },
     "metadata": {},
     "output_type": "display_data"
    },
    {
     "data": {
      "application/vnd.jupyter.widget-view+json": {
       "model_id": "873dfa3073ee4df3bb773605d0ea8104",
       "version_major": 2,
       "version_minor": 0
      },
      "text/plain": [
       "COLLECTING RESULTS | :   0%|          | 0/1 [00:00<?, ?it/s]"
      ]
     },
     "metadata": {},
     "output_type": "display_data"
    },
    {
     "name": "stdout",
     "output_type": "stream",
     "text": [
      "G:\\ICE\\数据下载测试\\2019\\ATL03\\extent_5\\ATL03_20190308141000_10710207_006_02.h5\n",
      "正在下载 ATL03_20190308141000_10710207_006_02.h5 到 G:\\ICE\\数据下载测试\\2019\\ATL03\\extent_5...\n"
     ]
    },
    {
     "data": {
      "application/vnd.jupyter.widget-view+json": {
       "model_id": "10aec90c35764074b0e83cbbc8021119",
       "version_major": 2,
       "version_minor": 0
      },
      "text/plain": [
       "QUEUEING TASKS | :   0%|          | 0/1 [00:00<?, ?it/s]"
      ]
     },
     "metadata": {},
     "output_type": "display_data"
    },
    {
     "data": {
      "application/vnd.jupyter.widget-view+json": {
       "model_id": "b6e2441b1e254da384c80f783ecc6c18",
       "version_major": 2,
       "version_minor": 0
      },
      "text/plain": [
       "PROCESSING TASKS | :   0%|          | 0/1 [00:00<?, ?it/s]"
      ]
     },
     "metadata": {},
     "output_type": "display_data"
    },
    {
     "data": {
      "application/vnd.jupyter.widget-view+json": {
       "model_id": "17eb6aace3214e7fa1d02e264ba062d6",
       "version_major": 2,
       "version_minor": 0
      },
      "text/plain": [
       "COLLECTING RESULTS | :   0%|          | 0/1 [00:00<?, ?it/s]"
      ]
     },
     "metadata": {},
     "output_type": "display_data"
    },
    {
     "name": "stdout",
     "output_type": "stream",
     "text": [
      "G:\\ICE\\数据下载测试\\2019\\ATL03\\extent_5\\ATL03_20190322011336_12770201_006_02.h5\n",
      "正在下载 ATL03_20190322011336_12770201_006_02.h5 到 G:\\ICE\\数据下载测试\\2019\\ATL03\\extent_5...\n"
     ]
    },
    {
     "data": {
      "application/vnd.jupyter.widget-view+json": {
       "model_id": "a3faa3ee7ecd4bc2ae32ff3126cc0dbc",
       "version_major": 2,
       "version_minor": 0
      },
      "text/plain": [
       "QUEUEING TASKS | :   0%|          | 0/1 [00:00<?, ?it/s]"
      ]
     },
     "metadata": {},
     "output_type": "display_data"
    },
    {
     "data": {
      "application/vnd.jupyter.widget-view+json": {
       "model_id": "f9fb25da5a674fedb66d44e9b00d6d9e",
       "version_major": 2,
       "version_minor": 0
      },
      "text/plain": [
       "PROCESSING TASKS | :   0%|          | 0/1 [00:00<?, ?it/s]"
      ]
     },
     "metadata": {},
     "output_type": "display_data"
    },
    {
     "data": {
      "application/vnd.jupyter.widget-view+json": {
       "model_id": "6153d6958351473e817104913e9cd151",
       "version_major": 2,
       "version_minor": 0
      },
      "text/plain": [
       "COLLECTING RESULTS | :   0%|          | 0/1 [00:00<?, ?it/s]"
      ]
     },
     "metadata": {},
     "output_type": "display_data"
    },
    {
     "name": "stdout",
     "output_type": "stream",
     "text": [
      "G:\\ICE\\数据下载测试\\2019\\ATL03\\extent_5\\ATL03_20190322012038_12770202_006_02.h5\n",
      "正在下载 ATL03_20190322012038_12770202_006_02.h5 到 G:\\ICE\\数据下载测试\\2019\\ATL03\\extent_5...\n"
     ]
    },
    {
     "data": {
      "application/vnd.jupyter.widget-view+json": {
       "model_id": "3edaa5f5c865402590da78fcfcc05d15",
       "version_major": 2,
       "version_minor": 0
      },
      "text/plain": [
       "QUEUEING TASKS | :   0%|          | 0/1 [00:00<?, ?it/s]"
      ]
     },
     "metadata": {},
     "output_type": "display_data"
    },
    {
     "data": {
      "application/vnd.jupyter.widget-view+json": {
       "model_id": "45574eaa8ac040f78d3faa73772e9860",
       "version_major": 2,
       "version_minor": 0
      },
      "text/plain": [
       "PROCESSING TASKS | :   0%|          | 0/1 [00:00<?, ?it/s]"
      ]
     },
     "metadata": {},
     "output_type": "display_data"
    },
    {
     "data": {
      "application/vnd.jupyter.widget-view+json": {
       "model_id": "5a5b3280a4ff4b2fa4a60d2fa186a4c4",
       "version_major": 2,
       "version_minor": 0
      },
      "text/plain": [
       "COLLECTING RESULTS | :   0%|          | 0/1 [00:00<?, ?it/s]"
      ]
     },
     "metadata": {},
     "output_type": "display_data"
    },
    {
     "name": "stdout",
     "output_type": "stream",
     "text": [
      "G:\\ICE\\数据下载测试\\2019\\ATL03\\extent_5\\ATL03_20190326010515_13380201_006_02.h5\n",
      "正在下载 ATL03_20190326010515_13380201_006_02.h5 到 G:\\ICE\\数据下载测试\\2019\\ATL03\\extent_5...\n"
     ]
    },
    {
     "data": {
      "application/vnd.jupyter.widget-view+json": {
       "model_id": "9db6f55e6e164ca290a9025483525d8b",
       "version_major": 2,
       "version_minor": 0
      },
      "text/plain": [
       "QUEUEING TASKS | :   0%|          | 0/1 [00:00<?, ?it/s]"
      ]
     },
     "metadata": {},
     "output_type": "display_data"
    },
    {
     "data": {
      "application/vnd.jupyter.widget-view+json": {
       "model_id": "077b5cbea3194cad9aa0e5520bdb1863",
       "version_major": 2,
       "version_minor": 0
      },
      "text/plain": [
       "PROCESSING TASKS | :   0%|          | 0/1 [00:00<?, ?it/s]"
      ]
     },
     "metadata": {},
     "output_type": "display_data"
    },
    {
     "data": {
      "application/vnd.jupyter.widget-view+json": {
       "model_id": "5ac84a45a166459eab73e28620eeae1b",
       "version_major": 2,
       "version_minor": 0
      },
      "text/plain": [
       "COLLECTING RESULTS | :   0%|          | 0/1 [00:00<?, ?it/s]"
      ]
     },
     "metadata": {},
     "output_type": "display_data"
    },
    {
     "name": "stdout",
     "output_type": "stream",
     "text": [
      "G:\\ICE\\数据下载测试\\2019\\ATL03\\extent_5\\ATL03_20190326011217_13380202_006_02.h5\n",
      "正在下载 ATL03_20190326011217_13380202_006_02.h5 到 G:\\ICE\\数据下载测试\\2019\\ATL03\\extent_5...\n"
     ]
    },
    {
     "data": {
      "application/vnd.jupyter.widget-view+json": {
       "model_id": "17a682ef055f4b38856da63708bc8522",
       "version_major": 2,
       "version_minor": 0
      },
      "text/plain": [
       "QUEUEING TASKS | :   0%|          | 0/1 [00:00<?, ?it/s]"
      ]
     },
     "metadata": {},
     "output_type": "display_data"
    },
    {
     "data": {
      "application/vnd.jupyter.widget-view+json": {
       "model_id": "c4112fdb2540491a9bc1caba1a015904",
       "version_major": 2,
       "version_minor": 0
      },
      "text/plain": [
       "PROCESSING TASKS | :   0%|          | 0/1 [00:00<?, ?it/s]"
      ]
     },
     "metadata": {},
     "output_type": "display_data"
    },
    {
     "data": {
      "application/vnd.jupyter.widget-view+json": {
       "model_id": "e24a31e0adb047d091d444070dfba43c",
       "version_major": 2,
       "version_minor": 0
      },
      "text/plain": [
       "COLLECTING RESULTS | :   0%|          | 0/1 [00:00<?, ?it/s]"
      ]
     },
     "metadata": {},
     "output_type": "display_data"
    },
    {
     "name": "stdout",
     "output_type": "stream",
     "text": [
      "G:\\ICE\\数据下载测试\\2019\\ATL03\\extent_5\\ATL03_20190406123729_01260306_006_02.h5\n",
      "正在下载 ATL03_20190406123729_01260306_006_02.h5 到 G:\\ICE\\数据下载测试\\2019\\ATL03\\extent_5...\n"
     ]
    },
    {
     "data": {
      "application/vnd.jupyter.widget-view+json": {
       "model_id": "41705b8a6560468f8bd52d5122d406f5",
       "version_major": 2,
       "version_minor": 0
      },
      "text/plain": [
       "QUEUEING TASKS | :   0%|          | 0/1 [00:00<?, ?it/s]"
      ]
     },
     "metadata": {},
     "output_type": "display_data"
    },
    {
     "data": {
      "application/vnd.jupyter.widget-view+json": {
       "model_id": "6fd9a135d1aa40c5be10471d50c75277",
       "version_major": 2,
       "version_minor": 0
      },
      "text/plain": [
       "PROCESSING TASKS | :   0%|          | 0/1 [00:00<?, ?it/s]"
      ]
     },
     "metadata": {},
     "output_type": "display_data"
    },
    {
     "data": {
      "application/vnd.jupyter.widget-view+json": {
       "model_id": "8b06c56ee743494e9485f29a2373c8bc",
       "version_major": 2,
       "version_minor": 0
      },
      "text/plain": [
       "COLLECTING RESULTS | :   0%|          | 0/1 [00:00<?, ?it/s]"
      ]
     },
     "metadata": {},
     "output_type": "display_data"
    },
    {
     "name": "stdout",
     "output_type": "stream",
     "text": [
      "G:\\ICE\\数据下载测试\\2019\\ATL03\\extent_5\\ATL03_20190406124559_01260307_006_02.h5\n",
      "正在下载 ATL03_20190406124559_01260307_006_02.h5 到 G:\\ICE\\数据下载测试\\2019\\ATL03\\extent_5...\n"
     ]
    },
    {
     "data": {
      "application/vnd.jupyter.widget-view+json": {
       "model_id": "832c395c94c443218e7ef48e5d150b38",
       "version_major": 2,
       "version_minor": 0
      },
      "text/plain": [
       "QUEUEING TASKS | :   0%|          | 0/1 [00:00<?, ?it/s]"
      ]
     },
     "metadata": {},
     "output_type": "display_data"
    },
    {
     "data": {
      "application/vnd.jupyter.widget-view+json": {
       "model_id": "44e46a8a2b3d4121bc2d02a8b6284f05",
       "version_major": 2,
       "version_minor": 0
      },
      "text/plain": [
       "PROCESSING TASKS | :   0%|          | 0/1 [00:00<?, ?it/s]"
      ]
     },
     "metadata": {},
     "output_type": "display_data"
    },
    {
     "data": {
      "application/vnd.jupyter.widget-view+json": {
       "model_id": "76b12895e2f941688c6a88ab24a21c61",
       "version_major": 2,
       "version_minor": 0
      },
      "text/plain": [
       "COLLECTING RESULTS | :   0%|          | 0/1 [00:00<?, ?it/s]"
      ]
     },
     "metadata": {},
     "output_type": "display_data"
    },
    {
     "name": "stdout",
     "output_type": "stream",
     "text": [
      "G:\\ICE\\数据下载测试\\2019\\ATL03\\extent_5\\ATL03_20190423234115_03930301_006_02.h5\n",
      "正在下载 ATL03_20190423234115_03930301_006_02.h5 到 G:\\ICE\\数据下载测试\\2019\\ATL03\\extent_5...\n"
     ]
    },
    {
     "data": {
      "application/vnd.jupyter.widget-view+json": {
       "model_id": "5a5bbd8a2c894c99b811ac9a8bc97310",
       "version_major": 2,
       "version_minor": 0
      },
      "text/plain": [
       "QUEUEING TASKS | :   0%|          | 0/1 [00:00<?, ?it/s]"
      ]
     },
     "metadata": {},
     "output_type": "display_data"
    },
    {
     "data": {
      "application/vnd.jupyter.widget-view+json": {
       "model_id": "fb46d2995fe44e95a86dc2527bf5f88e",
       "version_major": 2,
       "version_minor": 0
      },
      "text/plain": [
       "PROCESSING TASKS | :   0%|          | 0/1 [00:00<?, ?it/s]"
      ]
     },
     "metadata": {},
     "output_type": "display_data"
    },
    {
     "data": {
      "application/vnd.jupyter.widget-view+json": {
       "model_id": "429d8404c55c4c5095196dc3150ec0c0",
       "version_major": 2,
       "version_minor": 0
      },
      "text/plain": [
       "COLLECTING RESULTS | :   0%|          | 0/1 [00:00<?, ?it/s]"
      ]
     },
     "metadata": {},
     "output_type": "display_data"
    },
    {
     "name": "stdout",
     "output_type": "stream",
     "text": [
      "G:\\ICE\\数据下载测试\\2019\\ATL03\\extent_5\\ATL03_20190423234817_03930302_006_02.h5\n",
      "正在下载 ATL03_20190423234817_03930302_006_02.h5 到 G:\\ICE\\数据下载测试\\2019\\ATL03\\extent_5...\n"
     ]
    },
    {
     "data": {
      "application/vnd.jupyter.widget-view+json": {
       "model_id": "55fb6bc3d9f44c89a8dfdb56b52993eb",
       "version_major": 2,
       "version_minor": 0
      },
      "text/plain": [
       "QUEUEING TASKS | :   0%|          | 0/1 [00:00<?, ?it/s]"
      ]
     },
     "metadata": {},
     "output_type": "display_data"
    },
    {
     "data": {
      "application/vnd.jupyter.widget-view+json": {
       "model_id": "06fd272e70ab49e282b5cdc27a370c0b",
       "version_major": 2,
       "version_minor": 0
      },
      "text/plain": [
       "PROCESSING TASKS | :   0%|          | 0/1 [00:00<?, ?it/s]"
      ]
     },
     "metadata": {},
     "output_type": "display_data"
    },
    {
     "data": {
      "application/vnd.jupyter.widget-view+json": {
       "model_id": "bb0a290a277d4158af47d1b96b8cd71f",
       "version_major": 2,
       "version_minor": 0
      },
      "text/plain": [
       "COLLECTING RESULTS | :   0%|          | 0/1 [00:00<?, ?it/s]"
      ]
     },
     "metadata": {},
     "output_type": "display_data"
    },
    {
     "name": "stdout",
     "output_type": "stream",
     "text": [
      "G:\\ICE\\数据下载测试\\2019\\ATL03\\extent_5\\ATL03_20190505111327_05680306_006_02.h5\n",
      "正在下载 ATL03_20190505111327_05680306_006_02.h5 到 G:\\ICE\\数据下载测试\\2019\\ATL03\\extent_5...\n"
     ]
    },
    {
     "data": {
      "application/vnd.jupyter.widget-view+json": {
       "model_id": "39ea8c8ecb73482f83293ea87bb8d133",
       "version_major": 2,
       "version_minor": 0
      },
      "text/plain": [
       "QUEUEING TASKS | :   0%|          | 0/1 [00:00<?, ?it/s]"
      ]
     },
     "metadata": {},
     "output_type": "display_data"
    },
    {
     "data": {
      "application/vnd.jupyter.widget-view+json": {
       "model_id": "196e7bccb94342739fe56fbcb298cce4",
       "version_major": 2,
       "version_minor": 0
      },
      "text/plain": [
       "PROCESSING TASKS | :   0%|          | 0/1 [00:00<?, ?it/s]"
      ]
     },
     "metadata": {},
     "output_type": "display_data"
    },
    {
     "data": {
      "application/vnd.jupyter.widget-view+json": {
       "model_id": "5d68a9b73d694489bfebeb02398f17b7",
       "version_major": 2,
       "version_minor": 0
      },
      "text/plain": [
       "COLLECTING RESULTS | :   0%|          | 0/1 [00:00<?, ?it/s]"
      ]
     },
     "metadata": {},
     "output_type": "display_data"
    },
    {
     "name": "stdout",
     "output_type": "stream",
     "text": [
      "G:\\ICE\\数据下载测试\\2019\\ATL03\\extent_5\\ATL03_20190505112157_05680307_006_02.h5\n",
      "正在下载 ATL03_20190505112157_05680307_006_02.h5 到 G:\\ICE\\数据下载测试\\2019\\ATL03\\extent_5...\n"
     ]
    },
    {
     "data": {
      "application/vnd.jupyter.widget-view+json": {
       "model_id": "de74ff3e583d4d81b71f067dcdf7ea3c",
       "version_major": 2,
       "version_minor": 0
      },
      "text/plain": [
       "QUEUEING TASKS | :   0%|          | 0/1 [00:00<?, ?it/s]"
      ]
     },
     "metadata": {},
     "output_type": "display_data"
    },
    {
     "data": {
      "application/vnd.jupyter.widget-view+json": {
       "model_id": "5c950a65a1c14be1b2538b8840b2dbb2",
       "version_major": 2,
       "version_minor": 0
      },
      "text/plain": [
       "PROCESSING TASKS | :   0%|          | 0/1 [00:00<?, ?it/s]"
      ]
     },
     "metadata": {},
     "output_type": "display_data"
    },
    {
     "data": {
      "application/vnd.jupyter.widget-view+json": {
       "model_id": "c9724f39a3a64a64ae97b858eb40f53d",
       "version_major": 2,
       "version_minor": 0
      },
      "text/plain": [
       "COLLECTING RESULTS | :   0%|          | 0/1 [00:00<?, ?it/s]"
      ]
     },
     "metadata": {},
     "output_type": "display_data"
    },
    {
     "name": "stdout",
     "output_type": "stream",
     "text": [
      "G:\\ICE\\数据下载测试\\2019\\ATL03\\extent_5\\ATL03_20190522221711_08350301_006_02.h5\n",
      "正在下载 ATL03_20190522221711_08350301_006_02.h5 到 G:\\ICE\\数据下载测试\\2019\\ATL03\\extent_5...\n"
     ]
    },
    {
     "data": {
      "application/vnd.jupyter.widget-view+json": {
       "model_id": "4149e6af711f4251a0021981842b6aff",
       "version_major": 2,
       "version_minor": 0
      },
      "text/plain": [
       "QUEUEING TASKS | :   0%|          | 0/1 [00:00<?, ?it/s]"
      ]
     },
     "metadata": {},
     "output_type": "display_data"
    },
    {
     "data": {
      "application/vnd.jupyter.widget-view+json": {
       "model_id": "4de757161ad74d5b97fa102019357e71",
       "version_major": 2,
       "version_minor": 0
      },
      "text/plain": [
       "PROCESSING TASKS | :   0%|          | 0/1 [00:00<?, ?it/s]"
      ]
     },
     "metadata": {},
     "output_type": "display_data"
    },
    {
     "data": {
      "application/vnd.jupyter.widget-view+json": {
       "model_id": "0bc73330a7a840f2b294fa0595e57e8a",
       "version_major": 2,
       "version_minor": 0
      },
      "text/plain": [
       "COLLECTING RESULTS | :   0%|          | 0/1 [00:00<?, ?it/s]"
      ]
     },
     "metadata": {},
     "output_type": "display_data"
    },
    {
     "name": "stdout",
     "output_type": "stream",
     "text": [
      "G:\\ICE\\数据下载测试\\2019\\ATL03\\extent_5\\ATL03_20190522222413_08350302_006_02.h5\n",
      "正在下载 ATL03_20190522222413_08350302_006_02.h5 到 G:\\ICE\\数据下载测试\\2019\\ATL03\\extent_5...\n"
     ]
    },
    {
     "data": {
      "application/vnd.jupyter.widget-view+json": {
       "model_id": "0cfe49ce08974c0eab3fc7525e899990",
       "version_major": 2,
       "version_minor": 0
      },
      "text/plain": [
       "QUEUEING TASKS | :   0%|          | 0/1 [00:00<?, ?it/s]"
      ]
     },
     "metadata": {},
     "output_type": "display_data"
    },
    {
     "data": {
      "application/vnd.jupyter.widget-view+json": {
       "model_id": "d2123693955544dbaf7d89dab54a2f20",
       "version_major": 2,
       "version_minor": 0
      },
      "text/plain": [
       "PROCESSING TASKS | :   0%|          | 0/1 [00:00<?, ?it/s]"
      ]
     },
     "metadata": {},
     "output_type": "display_data"
    },
    {
     "data": {
      "application/vnd.jupyter.widget-view+json": {
       "model_id": "924fd48c357a4bc09528fff446414bb3",
       "version_major": 2,
       "version_minor": 0
      },
      "text/plain": [
       "COLLECTING RESULTS | :   0%|          | 0/1 [00:00<?, ?it/s]"
      ]
     },
     "metadata": {},
     "output_type": "display_data"
    },
    {
     "name": "stdout",
     "output_type": "stream",
     "text": [
      "G:\\ICE\\数据下载测试\\2019\\ATL03\\extent_5\\ATL03_20190603094923_10100306_006_02.h5\n",
      "正在下载 ATL03_20190603094923_10100306_006_02.h5 到 G:\\ICE\\数据下载测试\\2019\\ATL03\\extent_5...\n"
     ]
    },
    {
     "data": {
      "application/vnd.jupyter.widget-view+json": {
       "model_id": "3dba3355138940efb753ca9273ed553b",
       "version_major": 2,
       "version_minor": 0
      },
      "text/plain": [
       "QUEUEING TASKS | :   0%|          | 0/1 [00:00<?, ?it/s]"
      ]
     },
     "metadata": {},
     "output_type": "display_data"
    },
    {
     "data": {
      "application/vnd.jupyter.widget-view+json": {
       "model_id": "a54c667175c44c9e858ff658621af3b8",
       "version_major": 2,
       "version_minor": 0
      },
      "text/plain": [
       "PROCESSING TASKS | :   0%|          | 0/1 [00:00<?, ?it/s]"
      ]
     },
     "metadata": {},
     "output_type": "display_data"
    },
    {
     "data": {
      "application/vnd.jupyter.widget-view+json": {
       "model_id": "fcde5c8cfbb242d3a8c630f887664981",
       "version_major": 2,
       "version_minor": 0
      },
      "text/plain": [
       "COLLECTING RESULTS | :   0%|          | 0/1 [00:00<?, ?it/s]"
      ]
     },
     "metadata": {},
     "output_type": "display_data"
    },
    {
     "name": "stdout",
     "output_type": "stream",
     "text": [
      "G:\\ICE\\数据下载测试\\2019\\ATL03\\extent_5\\ATL03_20190603095754_10100307_006_02.h5\n",
      "正在下载 ATL03_20190603095754_10100307_006_02.h5 到 G:\\ICE\\数据下载测试\\2019\\ATL03\\extent_5...\n"
     ]
    },
    {
     "data": {
      "application/vnd.jupyter.widget-view+json": {
       "model_id": "f5435fef1eef4725b8ea3c330d9da1eb",
       "version_major": 2,
       "version_minor": 0
      },
      "text/plain": [
       "QUEUEING TASKS | :   0%|          | 0/1 [00:00<?, ?it/s]"
      ]
     },
     "metadata": {},
     "output_type": "display_data"
    },
    {
     "data": {
      "application/vnd.jupyter.widget-view+json": {
       "model_id": "98f52b13eeab414b83bc469694d8ce2b",
       "version_major": 2,
       "version_minor": 0
      },
      "text/plain": [
       "PROCESSING TASKS | :   0%|          | 0/1 [00:00<?, ?it/s]"
      ]
     },
     "metadata": {},
     "output_type": "display_data"
    },
    {
     "data": {
      "application/vnd.jupyter.widget-view+json": {
       "model_id": "2210c05c689048e69ebdc3b3c03a11fd",
       "version_major": 2,
       "version_minor": 0
      },
      "text/plain": [
       "COLLECTING RESULTS | :   0%|          | 0/1 [00:00<?, ?it/s]"
      ]
     },
     "metadata": {},
     "output_type": "display_data"
    },
    {
     "name": "stdout",
     "output_type": "stream",
     "text": [
      "G:\\ICE\\数据下载测试\\2019\\ATL03\\extent_5\\ATL03_20190607094104_10710306_006_02.h5\n",
      "正在下载 ATL03_20190607094104_10710306_006_02.h5 到 G:\\ICE\\数据下载测试\\2019\\ATL03\\extent_5...\n"
     ]
    },
    {
     "data": {
      "application/vnd.jupyter.widget-view+json": {
       "model_id": "104973e8f3784d879993f828cb9b75a0",
       "version_major": 2,
       "version_minor": 0
      },
      "text/plain": [
       "QUEUEING TASKS | :   0%|          | 0/1 [00:00<?, ?it/s]"
      ]
     },
     "metadata": {},
     "output_type": "display_data"
    },
    {
     "data": {
      "application/vnd.jupyter.widget-view+json": {
       "model_id": "e8ebd01ed48340209f18e46806bd61ea",
       "version_major": 2,
       "version_minor": 0
      },
      "text/plain": [
       "PROCESSING TASKS | :   0%|          | 0/1 [00:00<?, ?it/s]"
      ]
     },
     "metadata": {},
     "output_type": "display_data"
    },
    {
     "data": {
      "application/vnd.jupyter.widget-view+json": {
       "model_id": "f46864cfcf4b4d55995604ce1398a3f5",
       "version_major": 2,
       "version_minor": 0
      },
      "text/plain": [
       "COLLECTING RESULTS | :   0%|          | 0/1 [00:00<?, ?it/s]"
      ]
     },
     "metadata": {},
     "output_type": "display_data"
    },
    {
     "name": "stdout",
     "output_type": "stream",
     "text": [
      "G:\\ICE\\数据下载测试\\2019\\ATL03\\extent_5\\ATL03_20190607094934_10710307_006_02.h5\n",
      "正在下载 ATL03_20190607094934_10710307_006_02.h5 到 G:\\ICE\\数据下载测试\\2019\\ATL03\\extent_5...\n"
     ]
    },
    {
     "data": {
      "application/vnd.jupyter.widget-view+json": {
       "model_id": "9f6dd2ec43fd45dcaa42b651c479eab9",
       "version_major": 2,
       "version_minor": 0
      },
      "text/plain": [
       "QUEUEING TASKS | :   0%|          | 0/1 [00:00<?, ?it/s]"
      ]
     },
     "metadata": {},
     "output_type": "display_data"
    },
    {
     "data": {
      "application/vnd.jupyter.widget-view+json": {
       "model_id": "1317fadb7f984e2aad79354a0ff1e708",
       "version_major": 2,
       "version_minor": 0
      },
      "text/plain": [
       "PROCESSING TASKS | :   0%|          | 0/1 [00:00<?, ?it/s]"
      ]
     },
     "metadata": {},
     "output_type": "display_data"
    },
    {
     "data": {
      "application/vnd.jupyter.widget-view+json": {
       "model_id": "70fe23c98fa046a88b6b779f9c71baa7",
       "version_major": 2,
       "version_minor": 0
      },
      "text/plain": [
       "COLLECTING RESULTS | :   0%|          | 0/1 [00:00<?, ?it/s]"
      ]
     },
     "metadata": {},
     "output_type": "display_data"
    },
    {
     "name": "stdout",
     "output_type": "stream",
     "text": [
      "G:\\ICE\\数据下载测试\\2019\\ATL03\\extent_5\\ATL03_20190620205312_12770301_006_02.h5\n",
      "正在下载 ATL03_20190620205312_12770301_006_02.h5 到 G:\\ICE\\数据下载测试\\2019\\ATL03\\extent_5...\n"
     ]
    },
    {
     "data": {
      "application/vnd.jupyter.widget-view+json": {
       "model_id": "88c9af6fe67e45f289d4c9debe07369e",
       "version_major": 2,
       "version_minor": 0
      },
      "text/plain": [
       "QUEUEING TASKS | :   0%|          | 0/1 [00:00<?, ?it/s]"
      ]
     },
     "metadata": {},
     "output_type": "display_data"
    },
    {
     "data": {
      "application/vnd.jupyter.widget-view+json": {
       "model_id": "c1f43c6be73e473abf80d5c47d8316df",
       "version_major": 2,
       "version_minor": 0
      },
      "text/plain": [
       "PROCESSING TASKS | :   0%|          | 0/1 [00:00<?, ?it/s]"
      ]
     },
     "metadata": {},
     "output_type": "display_data"
    },
    {
     "data": {
      "application/vnd.jupyter.widget-view+json": {
       "model_id": "e456626ad10b4d1bad5615ce7e9907d5",
       "version_major": 2,
       "version_minor": 0
      },
      "text/plain": [
       "COLLECTING RESULTS | :   0%|          | 0/1 [00:00<?, ?it/s]"
      ]
     },
     "metadata": {},
     "output_type": "display_data"
    },
    {
     "name": "stdout",
     "output_type": "stream",
     "text": [
      "G:\\ICE\\数据下载测试\\2019\\ATL03\\extent_5\\ATL03_20190620210014_12770302_006_02.h5\n",
      "正在下载 ATL03_20190620210014_12770302_006_02.h5 到 G:\\ICE\\数据下载测试\\2019\\ATL03\\extent_5...\n"
     ]
    },
    {
     "data": {
      "application/vnd.jupyter.widget-view+json": {
       "model_id": "9685abc2bead47c68fe522d485be7000",
       "version_major": 2,
       "version_minor": 0
      },
      "text/plain": [
       "QUEUEING TASKS | :   0%|          | 0/1 [00:00<?, ?it/s]"
      ]
     },
     "metadata": {},
     "output_type": "display_data"
    },
    {
     "data": {
      "application/vnd.jupyter.widget-view+json": {
       "model_id": "f161adf9096641c7895b31223c63b6ad",
       "version_major": 2,
       "version_minor": 0
      },
      "text/plain": [
       "PROCESSING TASKS | :   0%|          | 0/1 [00:00<?, ?it/s]"
      ]
     },
     "metadata": {},
     "output_type": "display_data"
    },
    {
     "data": {
      "application/vnd.jupyter.widget-view+json": {
       "model_id": "46b1bdc633054a7eb1faf10396ba5974",
       "version_major": 2,
       "version_minor": 0
      },
      "text/plain": [
       "COLLECTING RESULTS | :   0%|          | 0/1 [00:00<?, ?it/s]"
      ]
     },
     "metadata": {},
     "output_type": "display_data"
    },
    {
     "name": "stdout",
     "output_type": "stream",
     "text": [
      "G:\\ICE\\数据下载测试\\2019\\ATL03\\extent_5\\ATL03_20190624204452_13380301_006_02.h5\n",
      "正在下载 ATL03_20190624204452_13380301_006_02.h5 到 G:\\ICE\\数据下载测试\\2019\\ATL03\\extent_5...\n"
     ]
    },
    {
     "data": {
      "application/vnd.jupyter.widget-view+json": {
       "model_id": "c91bb7c68b5f41948881be8cfddb7d70",
       "version_major": 2,
       "version_minor": 0
      },
      "text/plain": [
       "QUEUEING TASKS | :   0%|          | 0/1 [00:00<?, ?it/s]"
      ]
     },
     "metadata": {},
     "output_type": "display_data"
    },
    {
     "data": {
      "application/vnd.jupyter.widget-view+json": {
       "model_id": "9c0a28d9651c423381dbcb32ec883c0b",
       "version_major": 2,
       "version_minor": 0
      },
      "text/plain": [
       "PROCESSING TASKS | :   0%|          | 0/1 [00:00<?, ?it/s]"
      ]
     },
     "metadata": {},
     "output_type": "display_data"
    },
    {
     "data": {
      "application/vnd.jupyter.widget-view+json": {
       "model_id": "f12f5f570df249dd879586c08657ab2f",
       "version_major": 2,
       "version_minor": 0
      },
      "text/plain": [
       "COLLECTING RESULTS | :   0%|          | 0/1 [00:00<?, ?it/s]"
      ]
     },
     "metadata": {},
     "output_type": "display_data"
    },
    {
     "name": "stdout",
     "output_type": "stream",
     "text": [
      "G:\\ICE\\数据下载测试\\2019\\ATL03\\extent_5\\ATL03_20190624205154_13380302_006_02.h5\n",
      "正在下载 ATL03_20190624205154_13380302_006_02.h5 到 G:\\ICE\\数据下载测试\\2019\\ATL03\\extent_5...\n"
     ]
    },
    {
     "data": {
      "application/vnd.jupyter.widget-view+json": {
       "model_id": "09d56d585d0b4276940a20c315bd30e3",
       "version_major": 2,
       "version_minor": 0
      },
      "text/plain": [
       "QUEUEING TASKS | :   0%|          | 0/1 [00:00<?, ?it/s]"
      ]
     },
     "metadata": {},
     "output_type": "display_data"
    },
    {
     "data": {
      "application/vnd.jupyter.widget-view+json": {
       "model_id": "4b3b25f1f9d54b1e942f691cf7ba7586",
       "version_major": 2,
       "version_minor": 0
      },
      "text/plain": [
       "PROCESSING TASKS | :   0%|          | 0/1 [00:00<?, ?it/s]"
      ]
     },
     "metadata": {},
     "output_type": "display_data"
    },
    {
     "data": {
      "application/vnd.jupyter.widget-view+json": {
       "model_id": "6647e1bfe0c14004b643b9bd1cddabdc",
       "version_major": 2,
       "version_minor": 0
      },
      "text/plain": [
       "COLLECTING RESULTS | :   0%|          | 0/1 [00:00<?, ?it/s]"
      ]
     },
     "metadata": {},
     "output_type": "display_data"
    },
    {
     "name": "stdout",
     "output_type": "stream",
     "text": [
      "G:\\ICE\\数据下载测试\\2019\\ATL03\\extent_5\\ATL03_20190723192049_03930401_006_02.h5\n",
      "正在下载 ATL03_20190723192049_03930401_006_02.h5 到 G:\\ICE\\数据下载测试\\2019\\ATL03\\extent_5...\n"
     ]
    },
    {
     "data": {
      "application/vnd.jupyter.widget-view+json": {
       "model_id": "7998f20a79dc4edba7277ef4cc711100",
       "version_major": 2,
       "version_minor": 0
      },
      "text/plain": [
       "QUEUEING TASKS | :   0%|          | 0/1 [00:00<?, ?it/s]"
      ]
     },
     "metadata": {},
     "output_type": "display_data"
    },
    {
     "data": {
      "application/vnd.jupyter.widget-view+json": {
       "model_id": "bdf7e555c914436ebb8ae801620d7422",
       "version_major": 2,
       "version_minor": 0
      },
      "text/plain": [
       "PROCESSING TASKS | :   0%|          | 0/1 [00:00<?, ?it/s]"
      ]
     },
     "metadata": {},
     "output_type": "display_data"
    },
    {
     "data": {
      "application/vnd.jupyter.widget-view+json": {
       "model_id": "ad599a91fee44500adec051b7ed1b343",
       "version_major": 2,
       "version_minor": 0
      },
      "text/plain": [
       "COLLECTING RESULTS | :   0%|          | 0/1 [00:00<?, ?it/s]"
      ]
     },
     "metadata": {},
     "output_type": "display_data"
    },
    {
     "name": "stdout",
     "output_type": "stream",
     "text": [
      "G:\\ICE\\数据下载测试\\2019\\ATL03\\extent_5\\ATL03_20190723192751_03930402_006_02.h5\n",
      "正在下载 ATL03_20190723192751_03930402_006_02.h5 到 G:\\ICE\\数据下载测试\\2019\\ATL03\\extent_5...\n"
     ]
    },
    {
     "data": {
      "application/vnd.jupyter.widget-view+json": {
       "model_id": "ef230ae5eeec4653beede84b7394ea0b",
       "version_major": 2,
       "version_minor": 0
      },
      "text/plain": [
       "QUEUEING TASKS | :   0%|          | 0/1 [00:00<?, ?it/s]"
      ]
     },
     "metadata": {},
     "output_type": "display_data"
    },
    {
     "data": {
      "application/vnd.jupyter.widget-view+json": {
       "model_id": "516be43966ce45d5a81eb1cc7d9149d7",
       "version_major": 2,
       "version_minor": 0
      },
      "text/plain": [
       "PROCESSING TASKS | :   0%|          | 0/1 [00:00<?, ?it/s]"
      ]
     },
     "metadata": {},
     "output_type": "display_data"
    },
    {
     "data": {
      "application/vnd.jupyter.widget-view+json": {
       "model_id": "2d11c2bf656c491f8a7b7555583364eb",
       "version_major": 2,
       "version_minor": 0
      },
      "text/plain": [
       "COLLECTING RESULTS | :   0%|          | 0/1 [00:00<?, ?it/s]"
      ]
     },
     "metadata": {},
     "output_type": "display_data"
    },
    {
     "name": "stdout",
     "output_type": "stream",
     "text": [
      "G:\\ICE\\数据下载测试\\2019\\ATL03\\extent_5\\ATL03_20190804065308_05680406_006_02.h5\n",
      "正在下载 ATL03_20190804065308_05680406_006_02.h5 到 G:\\ICE\\数据下载测试\\2019\\ATL03\\extent_5...\n"
     ]
    },
    {
     "data": {
      "application/vnd.jupyter.widget-view+json": {
       "model_id": "71f27f41ecea4436b6225631c242bf81",
       "version_major": 2,
       "version_minor": 0
      },
      "text/plain": [
       "QUEUEING TASKS | :   0%|          | 0/1 [00:00<?, ?it/s]"
      ]
     },
     "metadata": {},
     "output_type": "display_data"
    },
    {
     "data": {
      "application/vnd.jupyter.widget-view+json": {
       "model_id": "16f5cc747fd441eb9f74aca3d0343f41",
       "version_major": 2,
       "version_minor": 0
      },
      "text/plain": [
       "PROCESSING TASKS | :   0%|          | 0/1 [00:00<?, ?it/s]"
      ]
     },
     "metadata": {},
     "output_type": "display_data"
    },
    {
     "data": {
      "application/vnd.jupyter.widget-view+json": {
       "model_id": "13681447b82b4a8db7201e5a030b7199",
       "version_major": 2,
       "version_minor": 0
      },
      "text/plain": [
       "COLLECTING RESULTS | :   0%|          | 0/1 [00:00<?, ?it/s]"
      ]
     },
     "metadata": {},
     "output_type": "display_data"
    },
    {
     "name": "stdout",
     "output_type": "stream",
     "text": [
      "G:\\ICE\\数据下载测试\\2019\\ATL03\\extent_5\\ATL03_20190804070138_05680407_006_02.h5\n",
      "正在下载 ATL03_20190804070138_05680407_006_02.h5 到 G:\\ICE\\数据下载测试\\2019\\ATL03\\extent_5...\n"
     ]
    },
    {
     "data": {
      "application/vnd.jupyter.widget-view+json": {
       "model_id": "bf60a319e51348189c4a09e03599303d",
       "version_major": 2,
       "version_minor": 0
      },
      "text/plain": [
       "QUEUEING TASKS | :   0%|          | 0/1 [00:00<?, ?it/s]"
      ]
     },
     "metadata": {},
     "output_type": "display_data"
    },
    {
     "data": {
      "application/vnd.jupyter.widget-view+json": {
       "model_id": "7d01d8d03baf47efbe0ad327dbfbe0b8",
       "version_major": 2,
       "version_minor": 0
      },
      "text/plain": [
       "PROCESSING TASKS | :   0%|          | 0/1 [00:00<?, ?it/s]"
      ]
     },
     "metadata": {},
     "output_type": "display_data"
    },
    {
     "data": {
      "application/vnd.jupyter.widget-view+json": {
       "model_id": "85f327e853604764bc4e2d8365a1f94a",
       "version_major": 2,
       "version_minor": 0
      },
      "text/plain": [
       "COLLECTING RESULTS | :   0%|          | 0/1 [00:00<?, ?it/s]"
      ]
     },
     "metadata": {},
     "output_type": "display_data"
    },
    {
     "name": "stdout",
     "output_type": "stream",
     "text": [
      "G:\\ICE\\数据下载测试\\2019\\ATL03\\extent_5\\ATL03_20190821175700_08350401_006_02.h5\n",
      "正在下载 ATL03_20190821175700_08350401_006_02.h5 到 G:\\ICE\\数据下载测试\\2019\\ATL03\\extent_5...\n"
     ]
    },
    {
     "data": {
      "application/vnd.jupyter.widget-view+json": {
       "model_id": "a063f6b33bef426fa663cf723a627b03",
       "version_major": 2,
       "version_minor": 0
      },
      "text/plain": [
       "QUEUEING TASKS | :   0%|          | 0/1 [00:00<?, ?it/s]"
      ]
     },
     "metadata": {},
     "output_type": "display_data"
    },
    {
     "data": {
      "application/vnd.jupyter.widget-view+json": {
       "model_id": "1972950f50054dc4856eab19c92f193e",
       "version_major": 2,
       "version_minor": 0
      },
      "text/plain": [
       "PROCESSING TASKS | :   0%|          | 0/1 [00:00<?, ?it/s]"
      ]
     },
     "metadata": {},
     "output_type": "display_data"
    },
    {
     "data": {
      "application/vnd.jupyter.widget-view+json": {
       "model_id": "cdef4b781e7f42c99b3bac005db5bb41",
       "version_major": 2,
       "version_minor": 0
      },
      "text/plain": [
       "COLLECTING RESULTS | :   0%|          | 0/1 [00:00<?, ?it/s]"
      ]
     },
     "metadata": {},
     "output_type": "display_data"
    },
    {
     "name": "stdout",
     "output_type": "stream",
     "text": [
      "G:\\ICE\\数据下载测试\\2019\\ATL03\\extent_5\\ATL03_20190821180402_08350402_006_02.h5\n",
      "正在下载 ATL03_20190821180402_08350402_006_02.h5 到 G:\\ICE\\数据下载测试\\2019\\ATL03\\extent_5...\n"
     ]
    },
    {
     "data": {
      "application/vnd.jupyter.widget-view+json": {
       "model_id": "63f6face06bf4edc99f181d81f231f36",
       "version_major": 2,
       "version_minor": 0
      },
      "text/plain": [
       "QUEUEING TASKS | :   0%|          | 0/1 [00:00<?, ?it/s]"
      ]
     },
     "metadata": {},
     "output_type": "display_data"
    },
    {
     "data": {
      "application/vnd.jupyter.widget-view+json": {
       "model_id": "0e55fcd3b04648039725cc45afa76339",
       "version_major": 2,
       "version_minor": 0
      },
      "text/plain": [
       "PROCESSING TASKS | :   0%|          | 0/1 [00:00<?, ?it/s]"
      ]
     },
     "metadata": {},
     "output_type": "display_data"
    },
    {
     "data": {
      "application/vnd.jupyter.widget-view+json": {
       "model_id": "dc98dc2283c547eaae5b280b0468fcf5",
       "version_major": 2,
       "version_minor": 0
      },
      "text/plain": [
       "COLLECTING RESULTS | :   0%|          | 0/1 [00:00<?, ?it/s]"
      ]
     },
     "metadata": {},
     "output_type": "display_data"
    },
    {
     "name": "stdout",
     "output_type": "stream",
     "text": [
      "G:\\ICE\\数据下载测试\\2019\\ATL03\\extent_5\\ATL03_20190902052913_10100406_006_02.h5\n",
      "正在下载 ATL03_20190902052913_10100406_006_02.h5 到 G:\\ICE\\数据下载测试\\2019\\ATL03\\extent_5...\n"
     ]
    },
    {
     "data": {
      "application/vnd.jupyter.widget-view+json": {
       "model_id": "3e5fb0f1af6143068b86e75b2de91561",
       "version_major": 2,
       "version_minor": 0
      },
      "text/plain": [
       "QUEUEING TASKS | :   0%|          | 0/1 [00:00<?, ?it/s]"
      ]
     },
     "metadata": {},
     "output_type": "display_data"
    },
    {
     "data": {
      "application/vnd.jupyter.widget-view+json": {
       "model_id": "988c2d8f93524826913d8c745fb8af43",
       "version_major": 2,
       "version_minor": 0
      },
      "text/plain": [
       "PROCESSING TASKS | :   0%|          | 0/1 [00:00<?, ?it/s]"
      ]
     },
     "metadata": {},
     "output_type": "display_data"
    },
    {
     "data": {
      "application/vnd.jupyter.widget-view+json": {
       "model_id": "5c9ce6481a894c97ab5242524e9aaa12",
       "version_major": 2,
       "version_minor": 0
      },
      "text/plain": [
       "COLLECTING RESULTS | :   0%|          | 0/1 [00:00<?, ?it/s]"
      ]
     },
     "metadata": {},
     "output_type": "display_data"
    },
    {
     "name": "stdout",
     "output_type": "stream",
     "text": [
      "G:\\ICE\\数据下载测试\\2019\\ATL03\\extent_5\\ATL03_20190902053744_10100407_006_02.h5\n",
      "正在下载 ATL03_20190902053744_10100407_006_02.h5 到 G:\\ICE\\数据下载测试\\2019\\ATL03\\extent_5...\n"
     ]
    },
    {
     "data": {
      "application/vnd.jupyter.widget-view+json": {
       "model_id": "199940b6ae064bcfac8209bf9729256a",
       "version_major": 2,
       "version_minor": 0
      },
      "text/plain": [
       "QUEUEING TASKS | :   0%|          | 0/1 [00:00<?, ?it/s]"
      ]
     },
     "metadata": {},
     "output_type": "display_data"
    },
    {
     "data": {
      "application/vnd.jupyter.widget-view+json": {
       "model_id": "f5131e407741468a97b6dcb522c7c451",
       "version_major": 2,
       "version_minor": 0
      },
      "text/plain": [
       "PROCESSING TASKS | :   0%|          | 0/1 [00:00<?, ?it/s]"
      ]
     },
     "metadata": {},
     "output_type": "display_data"
    },
    {
     "data": {
      "application/vnd.jupyter.widget-view+json": {
       "model_id": "b9d8f9e1607044008440e27b94669bc5",
       "version_major": 2,
       "version_minor": 0
      },
      "text/plain": [
       "COLLECTING RESULTS | :   0%|          | 0/1 [00:00<?, ?it/s]"
      ]
     },
     "metadata": {},
     "output_type": "display_data"
    },
    {
     "name": "stdout",
     "output_type": "stream",
     "text": [
      "G:\\ICE\\数据下载测试\\2019\\ATL03\\extent_5\\ATL03_20190906052053_10710406_006_02.h5\n",
      "正在下载 ATL03_20190906052053_10710406_006_02.h5 到 G:\\ICE\\数据下载测试\\2019\\ATL03\\extent_5...\n"
     ]
    },
    {
     "data": {
      "application/vnd.jupyter.widget-view+json": {
       "model_id": "c4b15041a01d4958805851efa38a86cb",
       "version_major": 2,
       "version_minor": 0
      },
      "text/plain": [
       "QUEUEING TASKS | :   0%|          | 0/1 [00:00<?, ?it/s]"
      ]
     },
     "metadata": {},
     "output_type": "display_data"
    },
    {
     "data": {
      "application/vnd.jupyter.widget-view+json": {
       "model_id": "e0375f233dcd40e88f765d42bdb20dd9",
       "version_major": 2,
       "version_minor": 0
      },
      "text/plain": [
       "PROCESSING TASKS | :   0%|          | 0/1 [00:00<?, ?it/s]"
      ]
     },
     "metadata": {},
     "output_type": "display_data"
    },
    {
     "data": {
      "application/vnd.jupyter.widget-view+json": {
       "model_id": "6339d3b290dd43c0968685e616a83bb6",
       "version_major": 2,
       "version_minor": 0
      },
      "text/plain": [
       "COLLECTING RESULTS | :   0%|          | 0/1 [00:00<?, ?it/s]"
      ]
     },
     "metadata": {},
     "output_type": "display_data"
    },
    {
     "name": "stdout",
     "output_type": "stream",
     "text": [
      "G:\\ICE\\数据下载测试\\2019\\ATL03\\extent_5\\ATL03_20190906052923_10710407_006_02.h5\n",
      "正在下载 ATL03_20190906052923_10710407_006_02.h5 到 G:\\ICE\\数据下载测试\\2019\\ATL03\\extent_5...\n"
     ]
    },
    {
     "data": {
      "application/vnd.jupyter.widget-view+json": {
       "model_id": "ab23be083b134dcf8b7c5fcd9ac4767c",
       "version_major": 2,
       "version_minor": 0
      },
      "text/plain": [
       "QUEUEING TASKS | :   0%|          | 0/1 [00:00<?, ?it/s]"
      ]
     },
     "metadata": {},
     "output_type": "display_data"
    },
    {
     "data": {
      "application/vnd.jupyter.widget-view+json": {
       "model_id": "58eee5c4048e41e5ad3632a31f68ef7e",
       "version_major": 2,
       "version_minor": 0
      },
      "text/plain": [
       "PROCESSING TASKS | :   0%|          | 0/1 [00:00<?, ?it/s]"
      ]
     },
     "metadata": {},
     "output_type": "display_data"
    },
    {
     "data": {
      "application/vnd.jupyter.widget-view+json": {
       "model_id": "b92f98eae44b4c9082e6fd3d7942d402",
       "version_major": 2,
       "version_minor": 0
      },
      "text/plain": [
       "COLLECTING RESULTS | :   0%|          | 0/1 [00:00<?, ?it/s]"
      ]
     },
     "metadata": {},
     "output_type": "display_data"
    },
    {
     "name": "stdout",
     "output_type": "stream",
     "text": [
      "G:\\ICE\\数据下载测试\\2019\\ATL03\\extent_5\\ATL03_20190919163303_12770401_006_02.h5\n",
      "正在下载 ATL03_20190919163303_12770401_006_02.h5 到 G:\\ICE\\数据下载测试\\2019\\ATL03\\extent_5...\n"
     ]
    },
    {
     "data": {
      "application/vnd.jupyter.widget-view+json": {
       "model_id": "d744502f29144afa8ab2ec22c2daf9d1",
       "version_major": 2,
       "version_minor": 0
      },
      "text/plain": [
       "QUEUEING TASKS | :   0%|          | 0/1 [00:00<?, ?it/s]"
      ]
     },
     "metadata": {},
     "output_type": "display_data"
    },
    {
     "data": {
      "application/vnd.jupyter.widget-view+json": {
       "model_id": "e3427844f08641f796e72239de71b2ce",
       "version_major": 2,
       "version_minor": 0
      },
      "text/plain": [
       "PROCESSING TASKS | :   0%|          | 0/1 [00:00<?, ?it/s]"
      ]
     },
     "metadata": {},
     "output_type": "display_data"
    },
    {
     "data": {
      "application/vnd.jupyter.widget-view+json": {
       "model_id": "49fa1f18680d480e93b8fec7d81ed296",
       "version_major": 2,
       "version_minor": 0
      },
      "text/plain": [
       "COLLECTING RESULTS | :   0%|          | 0/1 [00:00<?, ?it/s]"
      ]
     },
     "metadata": {},
     "output_type": "display_data"
    },
    {
     "name": "stdout",
     "output_type": "stream",
     "text": [
      "G:\\ICE\\数据下载测试\\2019\\ATL03\\extent_5\\ATL03_20190919164005_12770402_006_02.h5\n",
      "正在下载 ATL03_20190919164005_12770402_006_02.h5 到 G:\\ICE\\数据下载测试\\2019\\ATL03\\extent_5...\n"
     ]
    },
    {
     "data": {
      "application/vnd.jupyter.widget-view+json": {
       "model_id": "48d09f37939e460dadce87cd9b7fb199",
       "version_major": 2,
       "version_minor": 0
      },
      "text/plain": [
       "QUEUEING TASKS | :   0%|          | 0/1 [00:00<?, ?it/s]"
      ]
     },
     "metadata": {},
     "output_type": "display_data"
    },
    {
     "data": {
      "application/vnd.jupyter.widget-view+json": {
       "model_id": "6fdab417bf75401db32ab8c78d2535fb",
       "version_major": 2,
       "version_minor": 0
      },
      "text/plain": [
       "PROCESSING TASKS | :   0%|          | 0/1 [00:00<?, ?it/s]"
      ]
     },
     "metadata": {},
     "output_type": "display_data"
    },
    {
     "data": {
      "application/vnd.jupyter.widget-view+json": {
       "model_id": "88cd5bfe51214fde842fa0166381c91d",
       "version_major": 2,
       "version_minor": 0
      },
      "text/plain": [
       "COLLECTING RESULTS | :   0%|          | 0/1 [00:00<?, ?it/s]"
      ]
     },
     "metadata": {},
     "output_type": "display_data"
    },
    {
     "name": "stdout",
     "output_type": "stream",
     "text": [
      "G:\\ICE\\数据下载测试\\2019\\ATL03\\extent_5\\ATL03_20190923162446_13380401_006_02.h5\n",
      "正在下载 ATL03_20190923162446_13380401_006_02.h5 到 G:\\ICE\\数据下载测试\\2019\\ATL03\\extent_5...\n"
     ]
    },
    {
     "data": {
      "application/vnd.jupyter.widget-view+json": {
       "model_id": "b6d686cdef7b496c97b2ff8b51cb3e95",
       "version_major": 2,
       "version_minor": 0
      },
      "text/plain": [
       "QUEUEING TASKS | :   0%|          | 0/1 [00:00<?, ?it/s]"
      ]
     },
     "metadata": {},
     "output_type": "display_data"
    },
    {
     "data": {
      "application/vnd.jupyter.widget-view+json": {
       "model_id": "673ef1b34727440f9dc732f74713ef6a",
       "version_major": 2,
       "version_minor": 0
      },
      "text/plain": [
       "PROCESSING TASKS | :   0%|          | 0/1 [00:00<?, ?it/s]"
      ]
     },
     "metadata": {},
     "output_type": "display_data"
    },
    {
     "data": {
      "application/vnd.jupyter.widget-view+json": {
       "model_id": "dce55f1c6a1945deb89fde8d75aa137a",
       "version_major": 2,
       "version_minor": 0
      },
      "text/plain": [
       "COLLECTING RESULTS | :   0%|          | 0/1 [00:00<?, ?it/s]"
      ]
     },
     "metadata": {},
     "output_type": "display_data"
    },
    {
     "name": "stdout",
     "output_type": "stream",
     "text": [
      "G:\\ICE\\数据下载测试\\2019\\ATL03\\extent_5\\ATL03_20190923163148_13380402_006_02.h5\n",
      "正在下载 ATL03_20190923163148_13380402_006_02.h5 到 G:\\ICE\\数据下载测试\\2019\\ATL03\\extent_5...\n"
     ]
    },
    {
     "data": {
      "application/vnd.jupyter.widget-view+json": {
       "model_id": "fa62c1ecc8364435a64d86a4f59b2a05",
       "version_major": 2,
       "version_minor": 0
      },
      "text/plain": [
       "QUEUEING TASKS | :   0%|          | 0/1 [00:00<?, ?it/s]"
      ]
     },
     "metadata": {},
     "output_type": "display_data"
    },
    {
     "data": {
      "application/vnd.jupyter.widget-view+json": {
       "model_id": "194642b1eac74a3292813fb3a703420d",
       "version_major": 2,
       "version_minor": 0
      },
      "text/plain": [
       "PROCESSING TASKS | :   0%|          | 0/1 [00:00<?, ?it/s]"
      ]
     },
     "metadata": {},
     "output_type": "display_data"
    },
    {
     "data": {
      "application/vnd.jupyter.widget-view+json": {
       "model_id": "e6ed7e48619245f0834859f19f41564a",
       "version_major": 2,
       "version_minor": 0
      },
      "text/plain": [
       "COLLECTING RESULTS | :   0%|          | 0/1 [00:00<?, ?it/s]"
      ]
     },
     "metadata": {},
     "output_type": "display_data"
    },
    {
     "name": "stdout",
     "output_type": "stream",
     "text": [
      "G:\\ICE\\数据下载测试\\2019\\ATL03\\extent_5\\ATL03_20191001041349_00650507_006_03.h5\n",
      "正在下载 ATL03_20191001041349_00650507_006_03.h5 到 G:\\ICE\\数据下载测试\\2019\\ATL03\\extent_5...\n"
     ]
    },
    {
     "data": {
      "application/vnd.jupyter.widget-view+json": {
       "model_id": "d109a711ea6e4f6685ee8998b41a6850",
       "version_major": 2,
       "version_minor": 0
      },
      "text/plain": [
       "QUEUEING TASKS | :   0%|          | 0/1 [00:00<?, ?it/s]"
      ]
     },
     "metadata": {},
     "output_type": "display_data"
    },
    {
     "data": {
      "application/vnd.jupyter.widget-view+json": {
       "model_id": "8e085bedcd0d436986bdd58bfeadbae7",
       "version_major": 2,
       "version_minor": 0
      },
      "text/plain": [
       "PROCESSING TASKS | :   0%|          | 0/1 [00:00<?, ?it/s]"
      ]
     },
     "metadata": {},
     "output_type": "display_data"
    },
    {
     "data": {
      "application/vnd.jupyter.widget-view+json": {
       "model_id": "2c558b96b50f4b1daa2370cca80c5703",
       "version_major": 2,
       "version_minor": 0
      },
      "text/plain": [
       "COLLECTING RESULTS | :   0%|          | 0/1 [00:00<?, ?it/s]"
      ]
     },
     "metadata": {},
     "output_type": "display_data"
    },
    {
     "name": "stdout",
     "output_type": "stream",
     "text": [
      "G:\\ICE\\数据下载测试\\2019\\ATL03\\extent_5\\ATL03_20191005035700_01260506_006_02.h5\n",
      "正在下载 ATL03_20191005035700_01260506_006_02.h5 到 G:\\ICE\\数据下载测试\\2019\\ATL03\\extent_5...\n"
     ]
    },
    {
     "data": {
      "application/vnd.jupyter.widget-view+json": {
       "model_id": "5b75e190e0924151b0aea3592671bf12",
       "version_major": 2,
       "version_minor": 0
      },
      "text/plain": [
       "QUEUEING TASKS | :   0%|          | 0/1 [00:00<?, ?it/s]"
      ]
     },
     "metadata": {},
     "output_type": "display_data"
    },
    {
     "data": {
      "application/vnd.jupyter.widget-view+json": {
       "model_id": "84460f88fca046719181e0b79c25b9ae",
       "version_major": 2,
       "version_minor": 0
      },
      "text/plain": [
       "PROCESSING TASKS | :   0%|          | 0/1 [00:00<?, ?it/s]"
      ]
     },
     "metadata": {},
     "output_type": "display_data"
    },
    {
     "data": {
      "application/vnd.jupyter.widget-view+json": {
       "model_id": "6fc0631df26a450384dfa0dbf60eb534",
       "version_major": 2,
       "version_minor": 0
      },
      "text/plain": [
       "COLLECTING RESULTS | :   0%|          | 0/1 [00:00<?, ?it/s]"
      ]
     },
     "metadata": {},
     "output_type": "display_data"
    },
    {
     "name": "stdout",
     "output_type": "stream",
     "text": [
      "G:\\ICE\\数据下载测试\\2019\\ATL03\\extent_5\\ATL03_20191005040530_01260507_006_02.h5\n",
      "正在下载 ATL03_20191005040530_01260507_006_02.h5 到 G:\\ICE\\数据下载测试\\2019\\ATL03\\extent_5...\n"
     ]
    },
    {
     "data": {
      "application/vnd.jupyter.widget-view+json": {
       "model_id": "4cad4ef1eb584147b162f65f53dde21b",
       "version_major": 2,
       "version_minor": 0
      },
      "text/plain": [
       "QUEUEING TASKS | :   0%|          | 0/1 [00:00<?, ?it/s]"
      ]
     },
     "metadata": {},
     "output_type": "display_data"
    },
    {
     "data": {
      "application/vnd.jupyter.widget-view+json": {
       "model_id": "1349efe86c1f4e64bcbadbb128962986",
       "version_major": 2,
       "version_minor": 0
      },
      "text/plain": [
       "PROCESSING TASKS | :   0%|          | 0/1 [00:00<?, ?it/s]"
      ]
     },
     "metadata": {},
     "output_type": "display_data"
    },
    {
     "data": {
      "application/vnd.jupyter.widget-view+json": {
       "model_id": "2d8ae0a1b31b4ec0bf5882bec32d162f",
       "version_major": 2,
       "version_minor": 0
      },
      "text/plain": [
       "COLLECTING RESULTS | :   0%|          | 0/1 [00:00<?, ?it/s]"
      ]
     },
     "metadata": {},
     "output_type": "display_data"
    },
    {
     "name": "stdout",
     "output_type": "stream",
     "text": [
      "G:\\ICE\\数据下载测试\\2019\\ATL03\\extent_5\\ATL03_20191018150908_03320501_006_02.h5\n",
      "正在下载 ATL03_20191018150908_03320501_006_02.h5 到 G:\\ICE\\数据下载测试\\2019\\ATL03\\extent_5...\n"
     ]
    },
    {
     "data": {
      "application/vnd.jupyter.widget-view+json": {
       "model_id": "d7deba07fabc4466bfec10a0c52095cf",
       "version_major": 2,
       "version_minor": 0
      },
      "text/plain": [
       "QUEUEING TASKS | :   0%|          | 0/1 [00:00<?, ?it/s]"
      ]
     },
     "metadata": {},
     "output_type": "display_data"
    },
    {
     "data": {
      "application/vnd.jupyter.widget-view+json": {
       "model_id": "cde8c1a5ad3c41299f33634037270afd",
       "version_major": 2,
       "version_minor": 0
      },
      "text/plain": [
       "PROCESSING TASKS | :   0%|          | 0/1 [00:00<?, ?it/s]"
      ]
     },
     "metadata": {},
     "output_type": "display_data"
    },
    {
     "data": {
      "application/vnd.jupyter.widget-view+json": {
       "model_id": "747c0da1b12042078bd9cf97e8af8187",
       "version_major": 2,
       "version_minor": 0
      },
      "text/plain": [
       "COLLECTING RESULTS | :   0%|          | 0/1 [00:00<?, ?it/s]"
      ]
     },
     "metadata": {},
     "output_type": "display_data"
    },
    {
     "name": "stdout",
     "output_type": "stream",
     "text": [
      "G:\\ICE\\数据下载测试\\2019\\ATL03\\extent_5\\ATL03_20191018151610_03320502_006_02.h5\n",
      "正在下载 ATL03_20191018151610_03320502_006_02.h5 到 G:\\ICE\\数据下载测试\\2019\\ATL03\\extent_5...\n"
     ]
    },
    {
     "data": {
      "application/vnd.jupyter.widget-view+json": {
       "model_id": "cc56329467b74fdbb86b61e4ff1ec24b",
       "version_major": 2,
       "version_minor": 0
      },
      "text/plain": [
       "QUEUEING TASKS | :   0%|          | 0/1 [00:00<?, ?it/s]"
      ]
     },
     "metadata": {},
     "output_type": "display_data"
    },
    {
     "data": {
      "application/vnd.jupyter.widget-view+json": {
       "model_id": "d5e06f9d9103463397caa543bc8ed182",
       "version_major": 2,
       "version_minor": 0
      },
      "text/plain": [
       "PROCESSING TASKS | :   0%|          | 0/1 [00:00<?, ?it/s]"
      ]
     },
     "metadata": {},
     "output_type": "display_data"
    },
    {
     "data": {
      "application/vnd.jupyter.widget-view+json": {
       "model_id": "6304b880feef4a4b8a7f0861bd951821",
       "version_major": 2,
       "version_minor": 0
      },
      "text/plain": [
       "COLLECTING RESULTS | :   0%|          | 0/1 [00:00<?, ?it/s]"
      ]
     },
     "metadata": {},
     "output_type": "display_data"
    },
    {
     "name": "stdout",
     "output_type": "stream",
     "text": [
      "G:\\ICE\\数据下载测试\\2019\\ATL03\\extent_5\\ATL03_20191022150051_03930501_006_02.h5\n",
      "正在下载 ATL03_20191022150051_03930501_006_02.h5 到 G:\\ICE\\数据下载测试\\2019\\ATL03\\extent_5...\n"
     ]
    },
    {
     "data": {
      "application/vnd.jupyter.widget-view+json": {
       "model_id": "aff774802d064917904a3fef42b8444e",
       "version_major": 2,
       "version_minor": 0
      },
      "text/plain": [
       "QUEUEING TASKS | :   0%|          | 0/1 [00:00<?, ?it/s]"
      ]
     },
     "metadata": {},
     "output_type": "display_data"
    },
    {
     "data": {
      "application/vnd.jupyter.widget-view+json": {
       "model_id": "0c1d385e5cd64fa2b89c62ded93fe928",
       "version_major": 2,
       "version_minor": 0
      },
      "text/plain": [
       "PROCESSING TASKS | :   0%|          | 0/1 [00:00<?, ?it/s]"
      ]
     },
     "metadata": {},
     "output_type": "display_data"
    },
    {
     "data": {
      "application/vnd.jupyter.widget-view+json": {
       "model_id": "6ef7f278ff074a6fab8362f35abb1604",
       "version_major": 2,
       "version_minor": 0
      },
      "text/plain": [
       "COLLECTING RESULTS | :   0%|          | 0/1 [00:00<?, ?it/s]"
      ]
     },
     "metadata": {},
     "output_type": "display_data"
    },
    {
     "name": "stdout",
     "output_type": "stream",
     "text": [
      "G:\\ICE\\数据下载测试\\2019\\ATL03\\extent_5\\ATL03_20191022150753_03930502_006_02.h5\n",
      "正在下载 ATL03_20191022150753_03930502_006_02.h5 到 G:\\ICE\\数据下载测试\\2019\\ATL03\\extent_5...\n"
     ]
    },
    {
     "data": {
      "application/vnd.jupyter.widget-view+json": {
       "model_id": "fb0fe7de5331476db2d7c3c08b2a77d4",
       "version_major": 2,
       "version_minor": 0
      },
      "text/plain": [
       "QUEUEING TASKS | :   0%|          | 0/1 [00:00<?, ?it/s]"
      ]
     },
     "metadata": {},
     "output_type": "display_data"
    },
    {
     "data": {
      "application/vnd.jupyter.widget-view+json": {
       "model_id": "c8d8ad45b686483f9751ed036a75c55f",
       "version_major": 2,
       "version_minor": 0
      },
      "text/plain": [
       "PROCESSING TASKS | :   0%|          | 0/1 [00:00<?, ?it/s]"
      ]
     },
     "metadata": {},
     "output_type": "display_data"
    },
    {
     "data": {
      "application/vnd.jupyter.widget-view+json": {
       "model_id": "2a9b47d746134a0da64728bfd6659bbd",
       "version_major": 2,
       "version_minor": 0
      },
      "text/plain": [
       "COLLECTING RESULTS | :   0%|          | 0/1 [00:00<?, ?it/s]"
      ]
     },
     "metadata": {},
     "output_type": "display_data"
    },
    {
     "name": "stdout",
     "output_type": "stream",
     "text": [
      "G:\\ICE\\数据下载测试\\2019\\ATL03\\extent_5\\ATL03_20191103023301_05680506_006_01.h5\n",
      "正在下载 ATL03_20191103023301_05680506_006_01.h5 到 G:\\ICE\\数据下载测试\\2019\\ATL03\\extent_5...\n"
     ]
    },
    {
     "data": {
      "application/vnd.jupyter.widget-view+json": {
       "model_id": "e7dc11d1c4d74b029cfe883d74b1f4a1",
       "version_major": 2,
       "version_minor": 0
      },
      "text/plain": [
       "QUEUEING TASKS | :   0%|          | 0/1 [00:00<?, ?it/s]"
      ]
     },
     "metadata": {},
     "output_type": "display_data"
    },
    {
     "data": {
      "application/vnd.jupyter.widget-view+json": {
       "model_id": "955a2709c56f4900be821fecd4af7fe1",
       "version_major": 2,
       "version_minor": 0
      },
      "text/plain": [
       "PROCESSING TASKS | :   0%|          | 0/1 [00:00<?, ?it/s]"
      ]
     },
     "metadata": {},
     "output_type": "display_data"
    },
    {
     "data": {
      "application/vnd.jupyter.widget-view+json": {
       "model_id": "74ecaadd1cd84a29af974db113392ec9",
       "version_major": 2,
       "version_minor": 0
      },
      "text/plain": [
       "COLLECTING RESULTS | :   0%|          | 0/1 [00:00<?, ?it/s]"
      ]
     },
     "metadata": {},
     "output_type": "display_data"
    },
    {
     "name": "stdout",
     "output_type": "stream",
     "text": [
      "G:\\ICE\\数据下载测试\\2019\\ATL03\\extent_5\\ATL03_20191103024132_05680507_006_01.h5\n",
      "正在下载 ATL03_20191103024132_05680507_006_01.h5 到 G:\\ICE\\数据下载测试\\2019\\ATL03\\extent_5...\n"
     ]
    },
    {
     "data": {
      "application/vnd.jupyter.widget-view+json": {
       "model_id": "21199552f2d649ccb90ebee4dffd5e05",
       "version_major": 2,
       "version_minor": 0
      },
      "text/plain": [
       "QUEUEING TASKS | :   0%|          | 0/1 [00:00<?, ?it/s]"
      ]
     },
     "metadata": {},
     "output_type": "display_data"
    },
    {
     "data": {
      "application/vnd.jupyter.widget-view+json": {
       "model_id": "4c19016859f94e3ab468504792061094",
       "version_major": 2,
       "version_minor": 0
      },
      "text/plain": [
       "PROCESSING TASKS | :   0%|          | 0/1 [00:00<?, ?it/s]"
      ]
     },
     "metadata": {},
     "output_type": "display_data"
    },
    {
     "data": {
      "application/vnd.jupyter.widget-view+json": {
       "model_id": "5e8de52ddeee432bb806ee9a7ef27869",
       "version_major": 2,
       "version_minor": 0
      },
      "text/plain": [
       "COLLECTING RESULTS | :   0%|          | 0/1 [00:00<?, ?it/s]"
      ]
     },
     "metadata": {},
     "output_type": "display_data"
    },
    {
     "name": "stdout",
     "output_type": "stream",
     "text": [
      "G:\\ICE\\数据下载测试\\2019\\ATL03\\extent_5\\ATL03_20191107022442_06290506_006_01.h5\n",
      "正在下载 ATL03_20191107022442_06290506_006_01.h5 到 G:\\ICE\\数据下载测试\\2019\\ATL03\\extent_5...\n"
     ]
    },
    {
     "data": {
      "application/vnd.jupyter.widget-view+json": {
       "model_id": "1beeb4ace73b44be806b9e3436577e63",
       "version_major": 2,
       "version_minor": 0
      },
      "text/plain": [
       "QUEUEING TASKS | :   0%|          | 0/1 [00:00<?, ?it/s]"
      ]
     },
     "metadata": {},
     "output_type": "display_data"
    },
    {
     "data": {
      "application/vnd.jupyter.widget-view+json": {
       "model_id": "d5a2ad5417694046ae0695b6215cb737",
       "version_major": 2,
       "version_minor": 0
      },
      "text/plain": [
       "PROCESSING TASKS | :   0%|          | 0/1 [00:00<?, ?it/s]"
      ]
     },
     "metadata": {},
     "output_type": "display_data"
    },
    {
     "data": {
      "application/vnd.jupyter.widget-view+json": {
       "model_id": "344189c0e390455f9de4fa078913ccd8",
       "version_major": 2,
       "version_minor": 0
      },
      "text/plain": [
       "COLLECTING RESULTS | :   0%|          | 0/1 [00:00<?, ?it/s]"
      ]
     },
     "metadata": {},
     "output_type": "display_data"
    },
    {
     "name": "stdout",
     "output_type": "stream",
     "text": [
      "G:\\ICE\\数据下载测试\\2019\\ATL03\\extent_5\\ATL03_20191107023313_06290507_006_01.h5\n",
      "正在下载 ATL03_20191107023313_06290507_006_01.h5 到 G:\\ICE\\数据下载测试\\2019\\ATL03\\extent_5...\n"
     ]
    },
    {
     "data": {
      "application/vnd.jupyter.widget-view+json": {
       "model_id": "41cf99cf262843f3895b6f0103834429",
       "version_major": 2,
       "version_minor": 0
      },
      "text/plain": [
       "QUEUEING TASKS | :   0%|          | 0/1 [00:00<?, ?it/s]"
      ]
     },
     "metadata": {},
     "output_type": "display_data"
    },
    {
     "data": {
      "application/vnd.jupyter.widget-view+json": {
       "model_id": "636372ceb4f54603b4823deef42ec19f",
       "version_major": 2,
       "version_minor": 0
      },
      "text/plain": [
       "PROCESSING TASKS | :   0%|          | 0/1 [00:00<?, ?it/s]"
      ]
     },
     "metadata": {},
     "output_type": "display_data"
    },
    {
     "data": {
      "application/vnd.jupyter.widget-view+json": {
       "model_id": "1c8757b7ff0a4d5d8b81017fb1013009",
       "version_major": 2,
       "version_minor": 0
      },
      "text/plain": [
       "COLLECTING RESULTS | :   0%|          | 0/1 [00:00<?, ?it/s]"
      ]
     },
     "metadata": {},
     "output_type": "display_data"
    },
    {
     "name": "stdout",
     "output_type": "stream",
     "text": [
      "G:\\ICE\\数据下载测试\\2019\\ATL03\\extent_5\\ATL03_20191120133652_08350501_006_01.h5\n",
      "正在下载 ATL03_20191120133652_08350501_006_01.h5 到 G:\\ICE\\数据下载测试\\2019\\ATL03\\extent_5...\n"
     ]
    },
    {
     "data": {
      "application/vnd.jupyter.widget-view+json": {
       "model_id": "375a352aeb9748fba1a3c7b548c8b4b6",
       "version_major": 2,
       "version_minor": 0
      },
      "text/plain": [
       "QUEUEING TASKS | :   0%|          | 0/1 [00:00<?, ?it/s]"
      ]
     },
     "metadata": {},
     "output_type": "display_data"
    },
    {
     "data": {
      "application/vnd.jupyter.widget-view+json": {
       "model_id": "a2e6389e12d94e63b8294fa9803c7a9d",
       "version_major": 2,
       "version_minor": 0
      },
      "text/plain": [
       "PROCESSING TASKS | :   0%|          | 0/1 [00:00<?, ?it/s]"
      ]
     },
     "metadata": {},
     "output_type": "display_data"
    },
    {
     "data": {
      "application/vnd.jupyter.widget-view+json": {
       "model_id": "3bf2ea023b174c15af80205e940764bc",
       "version_major": 2,
       "version_minor": 0
      },
      "text/plain": [
       "COLLECTING RESULTS | :   0%|          | 0/1 [00:00<?, ?it/s]"
      ]
     },
     "metadata": {},
     "output_type": "display_data"
    },
    {
     "name": "stdout",
     "output_type": "stream",
     "text": [
      "G:\\ICE\\数据下载测试\\2019\\ATL03\\extent_5\\ATL03_20191120134354_08350502_006_01.h5\n",
      "正在下载 ATL03_20191120134354_08350502_006_01.h5 到 G:\\ICE\\数据下载测试\\2019\\ATL03\\extent_5...\n"
     ]
    },
    {
     "data": {
      "application/vnd.jupyter.widget-view+json": {
       "model_id": "44e50e2d0fb749ba90eb33a645ad1c66",
       "version_major": 2,
       "version_minor": 0
      },
      "text/plain": [
       "QUEUEING TASKS | :   0%|          | 0/1 [00:00<?, ?it/s]"
      ]
     },
     "metadata": {},
     "output_type": "display_data"
    },
    {
     "data": {
      "application/vnd.jupyter.widget-view+json": {
       "model_id": "8f7df78701cb4e37b521e1d4413f05dd",
       "version_major": 2,
       "version_minor": 0
      },
      "text/plain": [
       "PROCESSING TASKS | :   0%|          | 0/1 [00:00<?, ?it/s]"
      ]
     },
     "metadata": {},
     "output_type": "display_data"
    },
    {
     "data": {
      "application/vnd.jupyter.widget-view+json": {
       "model_id": "85582ac3e014480c9a075b85b96a10fa",
       "version_major": 2,
       "version_minor": 0
      },
      "text/plain": [
       "COLLECTING RESULTS | :   0%|          | 0/1 [00:00<?, ?it/s]"
      ]
     },
     "metadata": {},
     "output_type": "display_data"
    },
    {
     "name": "stdout",
     "output_type": "stream",
     "text": [
      "G:\\ICE\\数据下载测试\\2019\\ATL03\\extent_5\\ATL03_20191202011733_10100507_006_01.h5\n",
      "正在下载 ATL03_20191202011733_10100507_006_01.h5 到 G:\\ICE\\数据下载测试\\2019\\ATL03\\extent_5...\n"
     ]
    },
    {
     "data": {
      "application/vnd.jupyter.widget-view+json": {
       "model_id": "164b40724a79496c864e8ae812698888",
       "version_major": 2,
       "version_minor": 0
      },
      "text/plain": [
       "QUEUEING TASKS | :   0%|          | 0/1 [00:00<?, ?it/s]"
      ]
     },
     "metadata": {},
     "output_type": "display_data"
    },
    {
     "data": {
      "application/vnd.jupyter.widget-view+json": {
       "model_id": "b279b0eec036449b8d516ef28cb1c3a1",
       "version_major": 2,
       "version_minor": 0
      },
      "text/plain": [
       "PROCESSING TASKS | :   0%|          | 0/1 [00:00<?, ?it/s]"
      ]
     },
     "metadata": {},
     "output_type": "display_data"
    },
    {
     "data": {
      "application/vnd.jupyter.widget-view+json": {
       "model_id": "c93c65c473334408a4a4b7a88b7f3a49",
       "version_major": 2,
       "version_minor": 0
      },
      "text/plain": [
       "COLLECTING RESULTS | :   0%|          | 0/1 [00:00<?, ?it/s]"
      ]
     },
     "metadata": {},
     "output_type": "display_data"
    },
    {
     "name": "stdout",
     "output_type": "stream",
     "text": [
      "G:\\ICE\\数据下载测试\\2019\\ATL03\\extent_5\\ATL03_20191206010043_10710506_006_01.h5\n",
      "正在下载 ATL03_20191206010043_10710506_006_01.h5 到 G:\\ICE\\数据下载测试\\2019\\ATL03\\extent_5...\n"
     ]
    },
    {
     "data": {
      "application/vnd.jupyter.widget-view+json": {
       "model_id": "4d2febbaeb4e4a87be3ff5a968ce8e70",
       "version_major": 2,
       "version_minor": 0
      },
      "text/plain": [
       "QUEUEING TASKS | :   0%|          | 0/1 [00:00<?, ?it/s]"
      ]
     },
     "metadata": {},
     "output_type": "display_data"
    },
    {
     "data": {
      "application/vnd.jupyter.widget-view+json": {
       "model_id": "a3b5c3f61fbb4950a32d210c6f3657b9",
       "version_major": 2,
       "version_minor": 0
      },
      "text/plain": [
       "PROCESSING TASKS | :   0%|          | 0/1 [00:00<?, ?it/s]"
      ]
     },
     "metadata": {},
     "output_type": "display_data"
    },
    {
     "data": {
      "application/vnd.jupyter.widget-view+json": {
       "model_id": "b9aa3e8e9b3a48288bd3926552dde977",
       "version_major": 2,
       "version_minor": 0
      },
      "text/plain": [
       "COLLECTING RESULTS | :   0%|          | 0/1 [00:00<?, ?it/s]"
      ]
     },
     "metadata": {},
     "output_type": "display_data"
    },
    {
     "name": "stdout",
     "output_type": "stream",
     "text": [
      "G:\\ICE\\数据下载测试\\2019\\ATL03\\extent_5\\ATL03_20191206010913_10710507_006_01.h5\n",
      "正在下载 ATL03_20191206010913_10710507_006_01.h5 到 G:\\ICE\\数据下载测试\\2019\\ATL03\\extent_5...\n"
     ]
    },
    {
     "data": {
      "application/vnd.jupyter.widget-view+json": {
       "model_id": "38043bc95e334a89a95e0dd87c116a06",
       "version_major": 2,
       "version_minor": 0
      },
      "text/plain": [
       "QUEUEING TASKS | :   0%|          | 0/1 [00:00<?, ?it/s]"
      ]
     },
     "metadata": {},
     "output_type": "display_data"
    },
    {
     "data": {
      "application/vnd.jupyter.widget-view+json": {
       "model_id": "c29967ef775c4caf97c7f958add510c7",
       "version_major": 2,
       "version_minor": 0
      },
      "text/plain": [
       "PROCESSING TASKS | :   0%|          | 0/1 [00:00<?, ?it/s]"
      ]
     },
     "metadata": {},
     "output_type": "display_data"
    },
    {
     "data": {
      "application/vnd.jupyter.widget-view+json": {
       "model_id": "b731baf4731b4843a5af05a99dd2eaf9",
       "version_major": 2,
       "version_minor": 0
      },
      "text/plain": [
       "COLLECTING RESULTS | :   0%|          | 0/1 [00:00<?, ?it/s]"
      ]
     },
     "metadata": {},
     "output_type": "display_data"
    },
    {
     "name": "stdout",
     "output_type": "stream",
     "text": [
      "G:\\ICE\\数据下载测试\\2019\\ATL03\\extent_5\\ATL03_20191219121252_12770501_006_01.h5\n",
      "正在下载 ATL03_20191219121252_12770501_006_01.h5 到 G:\\ICE\\数据下载测试\\2019\\ATL03\\extent_5...\n"
     ]
    },
    {
     "data": {
      "application/vnd.jupyter.widget-view+json": {
       "model_id": "a491f941f5cb409da528e90f2b8b65a7",
       "version_major": 2,
       "version_minor": 0
      },
      "text/plain": [
       "QUEUEING TASKS | :   0%|          | 0/1 [00:00<?, ?it/s]"
      ]
     },
     "metadata": {},
     "output_type": "display_data"
    },
    {
     "data": {
      "application/vnd.jupyter.widget-view+json": {
       "model_id": "1863b5a7708445eba3ce5c5c6c0ea714",
       "version_major": 2,
       "version_minor": 0
      },
      "text/plain": [
       "PROCESSING TASKS | :   0%|          | 0/1 [00:00<?, ?it/s]"
      ]
     },
     "metadata": {},
     "output_type": "display_data"
    },
    {
     "data": {
      "application/vnd.jupyter.widget-view+json": {
       "model_id": "db9eb7dc61c54249921092adb9e390cb",
       "version_major": 2,
       "version_minor": 0
      },
      "text/plain": [
       "COLLECTING RESULTS | :   0%|          | 0/1 [00:00<?, ?it/s]"
      ]
     },
     "metadata": {},
     "output_type": "display_data"
    },
    {
     "name": "stdout",
     "output_type": "stream",
     "text": [
      "G:\\ICE\\数据下载测试\\2019\\ATL03\\extent_5\\ATL03_20191219121954_12770502_006_01.h5\n",
      "正在下载 ATL03_20191219121954_12770502_006_01.h5 到 G:\\ICE\\数据下载测试\\2019\\ATL03\\extent_5...\n"
     ]
    },
    {
     "data": {
      "application/vnd.jupyter.widget-view+json": {
       "model_id": "96adb4c48b5642e88c26d8d7cb1b3183",
       "version_major": 2,
       "version_minor": 0
      },
      "text/plain": [
       "QUEUEING TASKS | :   0%|          | 0/1 [00:00<?, ?it/s]"
      ]
     },
     "metadata": {},
     "output_type": "display_data"
    },
    {
     "data": {
      "application/vnd.jupyter.widget-view+json": {
       "model_id": "b5dfa7c3ae844e81b6027dc6768938cd",
       "version_major": 2,
       "version_minor": 0
      },
      "text/plain": [
       "PROCESSING TASKS | :   0%|          | 0/1 [00:00<?, ?it/s]"
      ]
     },
     "metadata": {},
     "output_type": "display_data"
    },
    {
     "data": {
      "application/vnd.jupyter.widget-view+json": {
       "model_id": "3fecbf6eb49f43aba7ff6db84eb63cf0",
       "version_major": 2,
       "version_minor": 0
      },
      "text/plain": [
       "COLLECTING RESULTS | :   0%|          | 0/1 [00:00<?, ?it/s]"
      ]
     },
     "metadata": {},
     "output_type": "display_data"
    },
    {
     "name": "stdout",
     "output_type": "stream",
     "text": [
      "G:\\ICE\\数据下载测试\\2019\\ATL03\\extent_5\\ATL03_20191223120433_13380501_006_01.h5\n",
      "正在下载 ATL03_20191223120433_13380501_006_01.h5 到 G:\\ICE\\数据下载测试\\2019\\ATL03\\extent_5...\n"
     ]
    },
    {
     "data": {
      "application/vnd.jupyter.widget-view+json": {
       "model_id": "a0a9308e1fb340d6a58949f7b72c1001",
       "version_major": 2,
       "version_minor": 0
      },
      "text/plain": [
       "QUEUEING TASKS | :   0%|          | 0/1 [00:00<?, ?it/s]"
      ]
     },
     "metadata": {},
     "output_type": "display_data"
    },
    {
     "data": {
      "application/vnd.jupyter.widget-view+json": {
       "model_id": "564c99c6673746549d45947c155af33a",
       "version_major": 2,
       "version_minor": 0
      },
      "text/plain": [
       "PROCESSING TASKS | :   0%|          | 0/1 [00:00<?, ?it/s]"
      ]
     },
     "metadata": {},
     "output_type": "display_data"
    },
    {
     "data": {
      "application/vnd.jupyter.widget-view+json": {
       "model_id": "35a734d479654c4986288454df418a58",
       "version_major": 2,
       "version_minor": 0
      },
      "text/plain": [
       "COLLECTING RESULTS | :   0%|          | 0/1 [00:00<?, ?it/s]"
      ]
     },
     "metadata": {},
     "output_type": "display_data"
    },
    {
     "name": "stdout",
     "output_type": "stream",
     "text": [
      "G:\\ICE\\数据下载测试\\2019\\ATL03\\extent_5\\ATL03_20191223121135_13380502_006_01.h5\n",
      "正在下载 ATL03_20191223121135_13380502_006_01.h5 到 G:\\ICE\\数据下载测试\\2019\\ATL03\\extent_5...\n"
     ]
    },
    {
     "data": {
      "application/vnd.jupyter.widget-view+json": {
       "model_id": "229592b35dbc4103befd41f4171c2362",
       "version_major": 2,
       "version_minor": 0
      },
      "text/plain": [
       "QUEUEING TASKS | :   0%|          | 0/1 [00:00<?, ?it/s]"
      ]
     },
     "metadata": {},
     "output_type": "display_data"
    },
    {
     "data": {
      "application/vnd.jupyter.widget-view+json": {
       "model_id": "acf1b67f38254d20a70c457d01764913",
       "version_major": 2,
       "version_minor": 0
      },
      "text/plain": [
       "PROCESSING TASKS | :   0%|          | 0/1 [00:00<?, ?it/s]"
      ]
     },
     "metadata": {},
     "output_type": "display_data"
    },
    {
     "data": {
      "application/vnd.jupyter.widget-view+json": {
       "model_id": "293581091c4f47a98bdbaf0ed3c43b04",
       "version_major": 2,
       "version_minor": 0
      },
      "text/plain": [
       "COLLECTING RESULTS | :   0%|          | 0/1 [00:00<?, ?it/s]"
      ]
     },
     "metadata": {},
     "output_type": "display_data"
    },
    {
     "name": "stdout",
     "output_type": "stream",
     "text": [
      "G:\\ICE\\数据下载测试\\2019\\ATL03\\extent_5\\ATL03_20191230235335_00650607_006_01.h5\n",
      "正在下载 ATL03_20191230235335_00650607_006_01.h5 到 G:\\ICE\\数据下载测试\\2019\\ATL03\\extent_5...\n"
     ]
    },
    {
     "data": {
      "application/vnd.jupyter.widget-view+json": {
       "model_id": "4f286410e506415e9aedbf9ce2ef2a75",
       "version_major": 2,
       "version_minor": 0
      },
      "text/plain": [
       "QUEUEING TASKS | :   0%|          | 0/1 [00:00<?, ?it/s]"
      ]
     },
     "metadata": {},
     "output_type": "display_data"
    },
    {
     "data": {
      "application/vnd.jupyter.widget-view+json": {
       "model_id": "a9b977100e414dbc9e0d564cd8ecb114",
       "version_major": 2,
       "version_minor": 0
      },
      "text/plain": [
       "PROCESSING TASKS | :   0%|          | 0/1 [00:00<?, ?it/s]"
      ]
     },
     "metadata": {},
     "output_type": "display_data"
    },
    {
     "data": {
      "application/vnd.jupyter.widget-view+json": {
       "model_id": "d09bad16d3ea496f8f760ddfb5682fbf",
       "version_major": 2,
       "version_minor": 0
      },
      "text/plain": [
       "COLLECTING RESULTS | :   0%|          | 0/1 [00:00<?, ?it/s]"
      ]
     },
     "metadata": {},
     "output_type": "display_data"
    },
    {
     "name": "stdout",
     "output_type": "stream",
     "text": [
      "G:\\ICE\\数据下载测试\\2019\\ATL03\\extent_5\\ATL03_20190105165737_01260206_006_02.h5\n",
      "文件 ATL03_20190105165737_01260206_006_02.h5 已存在，大小匹配，跳过下载。\n",
      "G:\\ICE\\数据下载测试\\2019\\ATL03\\extent_5\\ATL03_20190105170607_01260207_006_02.h5\n",
      "文件 ATL03_20190105170607_01260207_006_02.h5 已存在，大小匹配，跳过下载。\n",
      "G:\\ICE\\数据下载测试\\2019\\ATL03\\extent_5\\ATL03_20190123040127_03930201_006_02.h5\n",
      "文件 ATL03_20190123040127_03930201_006_02.h5 已存在，大小匹配，跳过下载。\n",
      "G:\\ICE\\数据下载测试\\2019\\ATL03\\extent_5\\ATL03_20190123040829_03930202_006_02.h5\n",
      "文件 ATL03_20190123040829_03930202_006_02.h5 已存在，大小匹配，跳过下载。\n",
      "G:\\ICE\\数据下载测试\\2019\\ATL03\\extent_5\\ATL03_20190203153350_05680206_006_02.h5\n",
      "文件 ATL03_20190203153350_05680206_006_02.h5 已存在，大小匹配，跳过下载。\n",
      "G:\\ICE\\数据下载测试\\2019\\ATL03\\extent_5\\ATL03_20190203154220_05680207_006_02.h5\n",
      "文件 ATL03_20190203154220_05680207_006_02.h5 已存在，大小匹配，跳过下载。\n",
      "G:\\ICE\\数据下载测试\\2019\\ATL03\\extent_5\\ATL03_20190207152529_06290206_006_02.h5\n",
      "文件 ATL03_20190207152529_06290206_006_02.h5 已存在，大小匹配，跳过下载。\n",
      "G:\\ICE\\数据下载测试\\2019\\ATL03\\extent_5\\ATL03_20190207153359_06290207_006_02.h5\n",
      "文件 ATL03_20190207153359_06290207_006_02.h5 已存在，大小匹配，跳过下载。\n",
      "G:\\ICE\\数据下载测试\\2019\\ATL03\\extent_5\\ATL03_20190221023734_08350201_006_02.h5\n",
      "文件 ATL03_20190221023734_08350201_006_02.h5 已存在，大小匹配，跳过下载。\n",
      "G:\\ICE\\数据下载测试\\2019\\ATL03\\extent_5\\ATL03_20190221024436_08350202_006_02.h5\n",
      "文件 ATL03_20190221024436_08350202_006_02.h5 已存在，大小匹配，跳过下载。\n",
      "G:\\ICE\\数据下载测试\\2019\\ATL03\\extent_5\\ATL03_20190304140950_10100206_006_02.h5\n",
      "文件 ATL03_20190304140950_10100206_006_02.h5 已存在，大小匹配，跳过下载。\n",
      "G:\\ICE\\数据下载测试\\2019\\ATL03\\extent_5\\ATL03_20190304141820_10100207_006_02.h5\n",
      "文件 ATL03_20190304141820_10100207_006_02.h5 已存在，大小匹配，跳过下载。\n",
      "G:\\ICE\\数据下载测试\\2019\\ATL03\\extent_5\\ATL03_20190308140129_10710206_006_02.h5\n",
      "文件 ATL03_20190308140129_10710206_006_02.h5 已存在，大小匹配，跳过下载。\n",
      "G:\\ICE\\数据下载测试\\2019\\ATL03\\extent_5\\ATL03_20190308141000_10710207_006_02.h5\n",
      "文件 ATL03_20190308141000_10710207_006_02.h5 已存在，大小匹配，跳过下载。\n",
      "G:\\ICE\\数据下载测试\\2019\\ATL03\\extent_5\\ATL03_20190322011336_12770201_006_02.h5\n",
      "文件 ATL03_20190322011336_12770201_006_02.h5 已存在，大小匹配，跳过下载。\n",
      "G:\\ICE\\数据下载测试\\2019\\ATL03\\extent_5\\ATL03_20190322012038_12770202_006_02.h5\n",
      "文件 ATL03_20190322012038_12770202_006_02.h5 已存在，大小匹配，跳过下载。\n",
      "G:\\ICE\\数据下载测试\\2019\\ATL03\\extent_5\\ATL03_20190326010515_13380201_006_02.h5\n",
      "文件 ATL03_20190326010515_13380201_006_02.h5 已存在，大小匹配，跳过下载。\n",
      "G:\\ICE\\数据下载测试\\2019\\ATL03\\extent_5\\ATL03_20190326011217_13380202_006_02.h5\n",
      "文件 ATL03_20190326011217_13380202_006_02.h5 已存在，大小匹配，跳过下载。\n",
      "G:\\ICE\\数据下载测试\\2019\\ATL03\\extent_5\\ATL03_20190406123729_01260306_006_02.h5\n",
      "文件 ATL03_20190406123729_01260306_006_02.h5 已存在，大小匹配，跳过下载。\n",
      "G:\\ICE\\数据下载测试\\2019\\ATL03\\extent_5\\ATL03_20190406124559_01260307_006_02.h5\n",
      "文件 ATL03_20190406124559_01260307_006_02.h5 已存在，大小匹配，跳过下载。\n",
      "G:\\ICE\\数据下载测试\\2019\\ATL03\\extent_5\\ATL03_20190423234115_03930301_006_02.h5\n",
      "文件 ATL03_20190423234115_03930301_006_02.h5 已存在，大小匹配，跳过下载。\n",
      "G:\\ICE\\数据下载测试\\2019\\ATL03\\extent_5\\ATL03_20190423234817_03930302_006_02.h5\n",
      "文件 ATL03_20190423234817_03930302_006_02.h5 已存在，大小匹配，跳过下载。\n",
      "G:\\ICE\\数据下载测试\\2019\\ATL03\\extent_5\\ATL03_20190505111327_05680306_006_02.h5\n",
      "文件 ATL03_20190505111327_05680306_006_02.h5 已存在，大小匹配，跳过下载。\n",
      "G:\\ICE\\数据下载测试\\2019\\ATL03\\extent_5\\ATL03_20190505112157_05680307_006_02.h5\n",
      "文件 ATL03_20190505112157_05680307_006_02.h5 已存在，大小匹配，跳过下载。\n",
      "G:\\ICE\\数据下载测试\\2019\\ATL03\\extent_5\\ATL03_20190522221711_08350301_006_02.h5\n",
      "文件 ATL03_20190522221711_08350301_006_02.h5 已存在，大小匹配，跳过下载。\n",
      "G:\\ICE\\数据下载测试\\2019\\ATL03\\extent_5\\ATL03_20190522222413_08350302_006_02.h5\n",
      "文件 ATL03_20190522222413_08350302_006_02.h5 已存在，大小匹配，跳过下载。\n",
      "G:\\ICE\\数据下载测试\\2019\\ATL03\\extent_5\\ATL03_20190603094923_10100306_006_02.h5\n",
      "文件 ATL03_20190603094923_10100306_006_02.h5 已存在，大小匹配，跳过下载。\n",
      "G:\\ICE\\数据下载测试\\2019\\ATL03\\extent_5\\ATL03_20190603095754_10100307_006_02.h5\n",
      "文件 ATL03_20190603095754_10100307_006_02.h5 已存在，大小匹配，跳过下载。\n",
      "G:\\ICE\\数据下载测试\\2019\\ATL03\\extent_5\\ATL03_20190607094104_10710306_006_02.h5\n",
      "文件 ATL03_20190607094104_10710306_006_02.h5 已存在，大小匹配，跳过下载。\n",
      "G:\\ICE\\数据下载测试\\2019\\ATL03\\extent_5\\ATL03_20190607094934_10710307_006_02.h5\n",
      "文件 ATL03_20190607094934_10710307_006_02.h5 已存在，大小匹配，跳过下载。\n",
      "G:\\ICE\\数据下载测试\\2019\\ATL03\\extent_5\\ATL03_20190620205312_12770301_006_02.h5\n",
      "文件 ATL03_20190620205312_12770301_006_02.h5 已存在，大小匹配，跳过下载。\n",
      "G:\\ICE\\数据下载测试\\2019\\ATL03\\extent_5\\ATL03_20190620210014_12770302_006_02.h5\n",
      "文件 ATL03_20190620210014_12770302_006_02.h5 已存在，大小匹配，跳过下载。\n",
      "G:\\ICE\\数据下载测试\\2019\\ATL03\\extent_5\\ATL03_20190624204452_13380301_006_02.h5\n",
      "文件 ATL03_20190624204452_13380301_006_02.h5 已存在，大小匹配，跳过下载。\n",
      "G:\\ICE\\数据下载测试\\2019\\ATL03\\extent_5\\ATL03_20190624205154_13380302_006_02.h5\n",
      "文件 ATL03_20190624205154_13380302_006_02.h5 已存在，大小匹配，跳过下载。\n",
      "G:\\ICE\\数据下载测试\\2019\\ATL03\\extent_5\\ATL03_20190723192049_03930401_006_02.h5\n",
      "文件 ATL03_20190723192049_03930401_006_02.h5 已存在，大小匹配，跳过下载。\n",
      "G:\\ICE\\数据下载测试\\2019\\ATL03\\extent_5\\ATL03_20190723192751_03930402_006_02.h5\n",
      "文件 ATL03_20190723192751_03930402_006_02.h5 已存在，大小匹配，跳过下载。\n",
      "G:\\ICE\\数据下载测试\\2019\\ATL03\\extent_5\\ATL03_20190804065308_05680406_006_02.h5\n",
      "文件 ATL03_20190804065308_05680406_006_02.h5 已存在，大小匹配，跳过下载。\n",
      "G:\\ICE\\数据下载测试\\2019\\ATL03\\extent_5\\ATL03_20190804070138_05680407_006_02.h5\n",
      "文件 ATL03_20190804070138_05680407_006_02.h5 已存在，大小匹配，跳过下载。\n",
      "G:\\ICE\\数据下载测试\\2019\\ATL03\\extent_5\\ATL03_20190821175700_08350401_006_02.h5\n",
      "文件 ATL03_20190821175700_08350401_006_02.h5 已存在，大小匹配，跳过下载。\n",
      "G:\\ICE\\数据下载测试\\2019\\ATL03\\extent_5\\ATL03_20190821180402_08350402_006_02.h5\n",
      "文件 ATL03_20190821180402_08350402_006_02.h5 已存在，大小匹配，跳过下载。\n",
      "G:\\ICE\\数据下载测试\\2019\\ATL03\\extent_5\\ATL03_20190902052913_10100406_006_02.h5\n",
      "文件 ATL03_20190902052913_10100406_006_02.h5 已存在，大小匹配，跳过下载。\n",
      "G:\\ICE\\数据下载测试\\2019\\ATL03\\extent_5\\ATL03_20190902053744_10100407_006_02.h5\n",
      "文件 ATL03_20190902053744_10100407_006_02.h5 已存在，大小匹配，跳过下载。\n",
      "G:\\ICE\\数据下载测试\\2019\\ATL03\\extent_5\\ATL03_20190906052053_10710406_006_02.h5\n",
      "文件 ATL03_20190906052053_10710406_006_02.h5 已存在，大小匹配，跳过下载。\n",
      "G:\\ICE\\数据下载测试\\2019\\ATL03\\extent_5\\ATL03_20190906052923_10710407_006_02.h5\n",
      "文件 ATL03_20190906052923_10710407_006_02.h5 已存在，大小匹配，跳过下载。\n",
      "G:\\ICE\\数据下载测试\\2019\\ATL03\\extent_5\\ATL03_20190919163303_12770401_006_02.h5\n",
      "文件 ATL03_20190919163303_12770401_006_02.h5 已存在，大小匹配，跳过下载。\n",
      "G:\\ICE\\数据下载测试\\2019\\ATL03\\extent_5\\ATL03_20190919164005_12770402_006_02.h5\n",
      "文件 ATL03_20190919164005_12770402_006_02.h5 已存在，大小匹配，跳过下载。\n",
      "G:\\ICE\\数据下载测试\\2019\\ATL03\\extent_5\\ATL03_20190923162446_13380401_006_02.h5\n",
      "文件 ATL03_20190923162446_13380401_006_02.h5 已存在，大小匹配，跳过下载。\n",
      "G:\\ICE\\数据下载测试\\2019\\ATL03\\extent_5\\ATL03_20190923163148_13380402_006_02.h5\n",
      "文件 ATL03_20190923163148_13380402_006_02.h5 已存在，大小匹配，跳过下载。\n",
      "G:\\ICE\\数据下载测试\\2019\\ATL03\\extent_5\\ATL03_20191001041349_00650507_006_03.h5\n",
      "文件 ATL03_20191001041349_00650507_006_03.h5 已存在，大小匹配，跳过下载。\n",
      "G:\\ICE\\数据下载测试\\2019\\ATL03\\extent_5\\ATL03_20191005035700_01260506_006_02.h5\n",
      "文件 ATL03_20191005035700_01260506_006_02.h5 已存在，大小匹配，跳过下载。\n",
      "G:\\ICE\\数据下载测试\\2019\\ATL03\\extent_5\\ATL03_20191005040530_01260507_006_02.h5\n",
      "文件 ATL03_20191005040530_01260507_006_02.h5 已存在，大小匹配，跳过下载。\n",
      "G:\\ICE\\数据下载测试\\2019\\ATL03\\extent_5\\ATL03_20191018150908_03320501_006_02.h5\n",
      "文件 ATL03_20191018150908_03320501_006_02.h5 已存在，大小匹配，跳过下载。\n",
      "G:\\ICE\\数据下载测试\\2019\\ATL03\\extent_5\\ATL03_20191018151610_03320502_006_02.h5\n",
      "文件 ATL03_20191018151610_03320502_006_02.h5 已存在，大小匹配，跳过下载。\n",
      "G:\\ICE\\数据下载测试\\2019\\ATL03\\extent_5\\ATL03_20191022150051_03930501_006_02.h5\n",
      "文件 ATL03_20191022150051_03930501_006_02.h5 已存在，大小匹配，跳过下载。\n",
      "G:\\ICE\\数据下载测试\\2019\\ATL03\\extent_5\\ATL03_20191022150753_03930502_006_02.h5\n",
      "文件 ATL03_20191022150753_03930502_006_02.h5 已存在，大小匹配，跳过下载。\n",
      "G:\\ICE\\数据下载测试\\2019\\ATL03\\extent_5\\ATL03_20191103023301_05680506_006_01.h5\n",
      "文件 ATL03_20191103023301_05680506_006_01.h5 已存在，大小匹配，跳过下载。\n",
      "G:\\ICE\\数据下载测试\\2019\\ATL03\\extent_5\\ATL03_20191103024132_05680507_006_01.h5\n",
      "文件 ATL03_20191103024132_05680507_006_01.h5 已存在，大小匹配，跳过下载。\n",
      "G:\\ICE\\数据下载测试\\2019\\ATL03\\extent_5\\ATL03_20191107022442_06290506_006_01.h5\n",
      "文件 ATL03_20191107022442_06290506_006_01.h5 已存在，大小匹配，跳过下载。\n",
      "G:\\ICE\\数据下载测试\\2019\\ATL03\\extent_5\\ATL03_20191107023313_06290507_006_01.h5\n",
      "文件 ATL03_20191107023313_06290507_006_01.h5 已存在，大小匹配，跳过下载。\n",
      "G:\\ICE\\数据下载测试\\2019\\ATL03\\extent_5\\ATL03_20191120133652_08350501_006_01.h5\n",
      "文件 ATL03_20191120133652_08350501_006_01.h5 已存在，大小匹配，跳过下载。\n",
      "G:\\ICE\\数据下载测试\\2019\\ATL03\\extent_5\\ATL03_20191120134354_08350502_006_01.h5\n",
      "文件 ATL03_20191120134354_08350502_006_01.h5 已存在，大小匹配，跳过下载。\n",
      "G:\\ICE\\数据下载测试\\2019\\ATL03\\extent_5\\ATL03_20191202011733_10100507_006_01.h5\n",
      "文件 ATL03_20191202011733_10100507_006_01.h5 已存在，大小匹配，跳过下载。\n",
      "G:\\ICE\\数据下载测试\\2019\\ATL03\\extent_5\\ATL03_20191206010043_10710506_006_01.h5\n",
      "文件 ATL03_20191206010043_10710506_006_01.h5 已存在，大小匹配，跳过下载。\n",
      "G:\\ICE\\数据下载测试\\2019\\ATL03\\extent_5\\ATL03_20191206010913_10710507_006_01.h5\n",
      "文件 ATL03_20191206010913_10710507_006_01.h5 已存在，大小匹配，跳过下载。\n",
      "G:\\ICE\\数据下载测试\\2019\\ATL03\\extent_5\\ATL03_20191219121252_12770501_006_01.h5\n",
      "文件 ATL03_20191219121252_12770501_006_01.h5 已存在，大小匹配，跳过下载。\n",
      "G:\\ICE\\数据下载测试\\2019\\ATL03\\extent_5\\ATL03_20191219121954_12770502_006_01.h5\n",
      "文件 ATL03_20191219121954_12770502_006_01.h5 已存在，大小匹配，跳过下载。\n",
      "G:\\ICE\\数据下载测试\\2019\\ATL03\\extent_5\\ATL03_20191223120433_13380501_006_01.h5\n",
      "文件 ATL03_20191223120433_13380501_006_01.h5 已存在，大小匹配，跳过下载。\n",
      "G:\\ICE\\数据下载测试\\2019\\ATL03\\extent_5\\ATL03_20191223121135_13380502_006_01.h5\n",
      "文件 ATL03_20191223121135_13380502_006_01.h5 已存在，大小匹配，跳过下载。\n",
      "G:\\ICE\\数据下载测试\\2019\\ATL03\\extent_5\\ATL03_20191230235335_00650607_006_01.h5\n",
      "文件 ATL03_20191230235335_00650607_006_01.h5 已存在，大小匹配，跳过下载。\n",
      "所有数据处理完成。\n"
     ]
    }
   ],
   "source": [
    "\n",
    "\n",
    "def CalculateSize(DataCollection):\n",
    "    \"\"\"计算查询结果的数据总大小\"\"\"\n",
    "    total_size_gb = sum(float(granule.get(\"size\", 0)) / 1024 for granule in DataCollection)\n",
    "    print(f\"查询结果的总大小：{total_size_gb:.2f} GB\")\n",
    "    print(f\"文件数量为: {len(DataCollection)}\")\n",
    "\n",
    "def Query(name, extent, temporal, count=None):\n",
    "    \"\"\"查询数据\"\"\"\n",
    "    results = earthaccess.search_data(\n",
    "        short_name=name,\n",
    "        bounding_box=extent,\n",
    "        temporal=temporal,\n",
    "        count=count\n",
    "    ) if count else earthaccess.search_data(\n",
    "        short_name=name,\n",
    "        bounding_box=extent,\n",
    "        temporal=temporal\n",
    "    )\n",
    "    \n",
    "    CalculateSize(results)\n",
    "    return results\n",
    "\n",
    "def Download(results, base_path, extent_id):\n",
    "    \"\"\"下载文件，并检查大小是否匹配\"\"\"\n",
    "    extent_folder = os.path.join(base_path, f\"extent_{extent_id}\")\n",
    "    os.makedirs(extent_folder, exist_ok=True)\n",
    "\n",
    "    for granule in results:\n",
    "        data_links = granule.data_links()  # 调用方法获取数据链接\n",
    "        if not data_links:\n",
    "            print(\"未找到数据链接，跳过此 granule。\")\n",
    "            continue\n",
    "        \n",
    "        file_url = data_links[0]\n",
    "        filename = os.path.basename(file_url)\n",
    "        local_file_path = os.path.join(extent_folder, filename)\n",
    "        print(local_file_path)\n",
    "\n",
    "        granule_size_mb = float(granule.get(\"size\", 0))  # 服务器上的文件大小（MB）\n",
    "\n",
    "        # 如果文件已存在，则检查大小\n",
    "        if os.path.exists(local_file_path):\n",
    "            local_size_mb = os.path.getsize(local_file_path) / (1024 * 1024)  # 本地文件大小（MB）\n",
    "            if abs(local_size_mb - granule_size_mb) < 1:  # 允许 1MB 的误差\n",
    "                print(f\"文件 {filename} 已存在，大小匹配，跳过下载。\")\n",
    "                continue\n",
    "            else:\n",
    "                print(f\"文件 {filename} 大小不匹配，重新下载。\")\n",
    "                os.remove(local_file_path)\n",
    "\n",
    "        print(f\"正在下载 {filename} 到 {extent_folder}...\")\n",
    "        earthaccess.download([granule], extent_folder)\n",
    "\n",
    "FeatureClasses = r\"G:\\ICE\\数据下载测试\\data\\tibet.shp\"\n",
    "uniqueids, extents = F.get_feature_extents(FeatureClasses)\n",
    "# 运行查询和下载\n",
    "base_path = r\"G:\\ICE\\数据下载测试\\2019\\ATL03\"\n",
    "name = 'ATL03'\n",
    "temporal = (\"2019-01\", \"2019-12\")\n",
    "for i in range(5):\n",
    "    uniqueid = uniqueids[i]\n",
    "    extent = extents[i]\n",
    "    print(f\"处理ID= {uniqueid} 的 extent...\")\n",
    "    results = Query(name, extent, temporal)\n",
    "    Download(results, base_path, uniqueid)\n",
    "print(\"所有数据处理完成。\")"
   ]
  }
 ],
 "metadata": {
  "kernelspec": {
   "display_name": "ArcpyPro",
   "language": "python",
   "name": "python3"
  },
  "language_info": {
   "codemirror_mode": {
    "name": "ipython",
    "version": 3
   },
   "file_extension": ".py",
   "mimetype": "text/x-python",
   "name": "python",
   "nbconvert_exporter": "python",
   "pygments_lexer": "ipython3",
   "version": "3.9.11"
  }
 },
 "nbformat": 4,
 "nbformat_minor": 2
}
